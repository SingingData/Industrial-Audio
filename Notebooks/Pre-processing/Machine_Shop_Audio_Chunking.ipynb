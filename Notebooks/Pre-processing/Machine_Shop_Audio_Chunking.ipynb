{
 "cells": [
  {
   "cell_type": "markdown",
   "metadata": {},
   "source": [
    "# Audio Chunking\n",
    "### Machine Shop Audio Source Data\n",
    "Last Modified November 22, 2019"
   ]
  },
  {
   "cell_type": "code",
   "execution_count": 8,
   "metadata": {},
   "outputs": [],
   "source": [
    "from __future__ import print_function\n",
    "import matplotlib\n",
    "import matplotlib.pyplot as plt\n",
    "from IPython.display import Markdown, display\n",
    "from IPython.display import SVG\n",
    "import scipy.io.wavfile as wavfile\n",
    "import pandas as pd\n",
    "import numpy as np\n",
    "import os\n",
    "import crepe\n",
    "import sklearn\n",
    "from scipy.io import wavfile\n",
    "from sklearn import preprocessing\n",
    "import pickle\n",
    "np.set_printoptions(suppress=True)\n",
    "import librosa\n",
    "import resampy\n",
    "from os import listdir\n",
    "import os.path\n",
    "from os.path import isfile, join\n",
    "import pandas as pd\n",
    "import seaborn as sns\n",
    "import pandas as pd\n",
    "import fnmatch"
   ]
  },
  {
   "cell_type": "code",
   "execution_count": 9,
   "metadata": {},
   "outputs": [
    {
     "data": {
      "text/plain": [
       "'D:\\\\machineshop\\\\original-source'"
      ]
     },
     "execution_count": 9,
     "metadata": {},
     "output_type": "execute_result"
    }
   ],
   "source": [
    "#Define folder paths\n",
    "cwd = \"D:\\\\\"\n",
    "root = os.path.join(cwd, \"machineshop\\original-source\")\n",
    "os.chdir(root)\n",
    "os.getcwd()"
   ]
  },
  {
   "cell_type": "markdown",
   "metadata": {},
   "source": [
    "### Ingest, Resample and Slice Audio Data"
   ]
  },
  {
   "cell_type": "code",
   "execution_count": 10,
   "metadata": {},
   "outputs": [],
   "source": [
    "# # Change from mp3 to wav file\n",
    "# from pydub import AudioSegment\n",
    "# for subdir, dirs, files in os.walk(root):\n",
    "#     for file in files:\n",
    "#         filepath = subdir + os.sep + file\n",
    "#         if filepath.endswith(\".mp3\"):\n",
    "#             sound = AudioSegment.from_mp3(filepath)\n",
    "#             filepath1 = os.path.splitext(filepath)[0] + '.wav'\n",
    "#             sound.export(filepath1, format=\"wav\")"
   ]
  },
  {
   "cell_type": "code",
   "execution_count": 11,
   "metadata": {},
   "outputs": [],
   "source": [
    "# change sample rate to 32000\n",
    "resample_rate = 32000\n",
    "for subdir, dirs, files in os.walk(root):\n",
    "    for file in files:\n",
    "        filepath = subdir + os.sep + file\n",
    "        if filepath.endswith(\".wav\"):\n",
    "            fs, data = wavfile.read(filepath)\n",
    "            y = resampy.resample(data, fs, resample_rate)\n",
    "            wavfile.write(filepath, resample_rate, y)"
   ]
  },
  {
   "cell_type": "code",
   "execution_count": 12,
   "metadata": {},
   "outputs": [
    {
     "name": "stdout",
     "output_type": "stream",
     "text": [
      "MachineShop_2019_9_15_1_toofast.wav\n",
      "['MachineShop_2019_9_15_1_justright.wav', 'MachineShop_2019_9_15_1_toofast.wav', 'MachineShop_2019_9_15_2_toofast.wav']\n"
     ]
    }
   ],
   "source": [
    "# Get list of files at this folder location\n",
    "import glob\n",
    "filelist = glob.glob(\"*.wav\")\n",
    "print(filelist[1])\n",
    "print(filelist)"
   ]
  },
  {
   "cell_type": "code",
   "execution_count": 13,
   "metadata": {},
   "outputs": [
    {
     "name": "stdout",
     "output_type": "stream",
     "text": [
      "MachineShop_2019_9_15_1_toofast.wav\n"
     ]
    },
    {
     "data": {
      "image/png": "[encoded data removed]",
      "text/plain": [
       "<Figure size 432x288 with 1 Axes>"
      ]
     },
     "metadata": {
      "needs_background": "light"
     },
     "output_type": "display_data"
    },
    {
     "name": "stdout",
     "output_type": "stream",
     "text": [
      "32000\n"
     ]
    }
   ],
   "source": [
    "filename = filelist[1]\n",
    "print(filename)\n",
    "fs, data = wavfile.read(filename)\n",
    "plt.plot(data[0:100000,])\n",
    "plt.show()\n",
    "print(fs)"
   ]
  },
  {
   "cell_type": "code",
   "execution_count": 14,
   "metadata": {},
   "outputs": [
    {
     "data": {
      "text/plain": [
       "'D:\\\\machineshop\\\\original-source'"
      ]
     },
     "execution_count": 14,
     "metadata": {},
     "output_type": "execute_result"
    }
   ],
   "source": [
    "#Define folder paths\n",
    "root = \"D:\\\\\"\n",
    "audiotype = \"machineshop\"\n",
    "machineshop_source = os.path.join(root, audiotype,\"original-source\")\n",
    "machineshop_1sec_clips = os.path.join(root, audiotype,\"clips_1_sec\")\n",
    "\n",
    "if not os.path.exists(machineshop_source):\n",
    "    os.makedirs(machineshop_source)\n",
    "if not os.path.exists(machineshop_1sec_clips):\n",
    "    os.makedirs(machineshop_1sec_clips)\n",
    "\n",
    "os.chdir(machineshop_source)\n",
    "os.getcwd()"
   ]
  },
  {
   "cell_type": "markdown",
   "metadata": {},
   "source": [
    "### Slice Audio to Desired Lengths"
   ]
  },
  {
   "cell_type": "code",
   "execution_count": 139,
   "metadata": {},
   "outputs": [],
   "source": [
    "def _slice_audio_data(raw_audio_data, interval_len=1):\n",
    "    accounted_fs = int(32000 * interval_len)\n",
    "    num_slices = int(len(raw_audio_data) / accounted_fs)\n",
    "    audio_data = raw_audio_data[: int(num_slices * accounted_fs)]  # Trims audio array\n",
    "    sliced_audio = np.split(audio_data, num_slices)\n",
    "    return np.array(sliced_audio)"
   ]
  },
  {
   "cell_type": "code",
   "execution_count": 140,
   "metadata": {},
   "outputs": [],
   "source": [
    "audio_source = machineshop_source\n",
    "chunked_1_sec = machineshop_1sec_clips\n",
    "\n",
    "os.chdir(audio_source)\n",
    "for subdir, dirs, files in os.walk(audio_source):\n",
    "    for file in files:\n",
    "        filepath = subdir + os.sep + file\n",
    "        if filepath.endswith(\".wav\"):\n",
    "            fs, data = wavfile.read(filepath)\n",
    "            sliced_audio = _slice_audio_data(data, 1)\n",
    "            sliced_audio = sliced_audio[0:60,:]\n",
    "            os.chdir(chunked_1_sec)\n",
    "            for i in range(sliced_audio.shape[0]):\n",
    "                num = str(i)\n",
    "                wavfile.write(file+\"-\"+num, resample_rate, sliced_audio[i,:])\n"
   ]
  },
  {
   "cell_type": "code",
   "execution_count": 141,
   "metadata": {},
   "outputs": [],
   "source": [
    "# Manual apportioning of enire flights to train and test."
   ]
  },
  {
   "cell_type": "code",
   "execution_count": 16,
   "metadata": {},
   "outputs": [],
   "source": [
    "#Define folder paths\n",
    "cwd = \"D:\\\\\"\n",
    "chunked_1_sec_train = os.path.join(cwd, machineshop_1sec_clips,\"machineshop_1_sec_train\")\n",
    "chunked_1_sec_test = os.path.join(cwd, machineshop_1sec_clips,\"machineshop_1_sec_test\")\n",
    "\n",
    "if not os.path.exists(chunked_1_sec_train):\n",
    "    os.makedirs(chunked_1_sec_train)\n",
    "if not os.path.exists(chunked_1_sec_test):\n",
    "    os.makedirs(chunked_1_sec_test)"
   ]
  },
  {
   "cell_type": "code",
   "execution_count": 34,
   "metadata": {},
   "outputs": [
    {
     "name": "stdout",
     "output_type": "stream",
     "text": [
      "D:\\machineshop\\clips_1_sec\\machineshop_1_sec_train\n",
      "D:\\machineshop\\clips_1_sec\\machineshop_1_sec_test\n"
     ]
    }
   ],
   "source": [
    "# Get list of files at this folder location\n",
    "os.chdir(chunked_1_sec_train)\n",
    "print(os.getcwd())\n",
    "train_filelist = glob.glob(os.path.join(chunked_1_sec_train,\"*\"))\n",
    "\n",
    "os.chdir(chunked_1_sec_test)\n",
    "print(os.getcwd())\n",
    "test_filelist = glob.glob(os.path.join(chunked_1_sec_test,\"*\"))\n"
   ]
  },
  {
   "cell_type": "code",
   "execution_count": 35,
   "metadata": {},
   "outputs": [],
   "source": [
    "toofast_train = []\n",
    "toofast_test = []\n",
    "justright_train = []\n",
    "justright_test = []"
   ]
  },
  {
   "cell_type": "code",
   "execution_count": 30,
   "metadata": {},
   "outputs": [],
   "source": []
  },
  {
   "cell_type": "code",
   "execution_count": 36,
   "metadata": {},
   "outputs": [],
   "source": [
    "os.chdir(root)\n",
    "\n",
    "for file_name in train_filelist:\n",
    "    if fnmatch.fnmatch(file_name, '*toofast*'):    \n",
    "        toofast_train.append(file_name)\n",
    "    else:\n",
    "        justright_train.append(file_name)\n",
    "\n",
    "\n",
    "for file_name in test_filelist:\n",
    "    if fnmatch.fnmatch(file_name, '*toofast*'):    \n",
    "        toofast_test.append(file_name)            \n",
    "    else:\n",
    "        justright_test.append(file_name)\n"
   ]
  },
  {
   "cell_type": "code",
   "execution_count": 37,
   "metadata": {},
   "outputs": [
    {
     "name": "stdout",
     "output_type": "stream",
     "text": [
      "96\n",
      "48\n",
      "24\n",
      "12\n"
     ]
    }
   ],
   "source": [
    "print(len(toofast_train))\n",
    "print(len(justright_train))\n",
    "print(len(toofast_test))\n",
    "print(len(justright_test))\n"
   ]
  },
  {
   "cell_type": "code",
   "execution_count": 42,
   "metadata": {},
   "outputs": [
    {
     "name": "stdout",
     "output_type": "stream",
     "text": [
      "96\n",
      "48\n",
      "24\n",
      "12\n"
     ]
    }
   ],
   "source": [
    "array_currentsample_1_sec_train_toofast = []\n",
    "array_currentsample_1_sec_train_justright = []\n",
    "array_currentsample_1_sec_test_toofast = []\n",
    "array_currentsample_1_sec_test_justright = [] \n",
    "\n",
    "for file in toofast_train:\n",
    "    fs, raw_audio = wavfile.read(file)\n",
    "    array_currentsample_1_sec_train_toofast.append((raw_audio))\n",
    "print(len(array_currentsample_1_sec_train_toofast))\n",
    "\n",
    "for file in justright_train:\n",
    "    fs, raw_audio = wavfile.read(file)\n",
    "    array_currentsample_1_sec_train_justright.append((raw_audio))\n",
    "print(len(array_currentsample_1_sec_train_justright))\n",
    "\n",
    "for file in toofast_test:\n",
    "    fs, raw_audio = wavfile.read(file)\n",
    "    array_currentsample_1_sec_test_toofast.append((raw_audio))\n",
    "print(len(array_currentsample_1_sec_test_toofast))\n",
    "\n",
    "for file in justright_test:\n",
    "    fs, raw_audio = wavfile.read(file)\n",
    "    array_currentsample_1_sec_test_justright.append((raw_audio))\n",
    "print(len(array_currentsample_1_sec_test_justright))"
   ]
  },
  {
   "cell_type": "code",
   "execution_count": 43,
   "metadata": {},
   "outputs": [
    {
     "name": "stdout",
     "output_type": "stream",
     "text": [
      "(96, 32000)\n",
      "(49, 32000)\n",
      "(25, 32000)\n",
      "(13, 32000)\n"
     ]
    }
   ],
   "source": [
    "# Convert from nested list to array\n",
    "train_toofast_count = len(array_currentsample_1_sec_train_toofast)\n",
    "array_currentsample_1_sec_train_toofast = np.asarray(array_currentsample_1_sec_train_toofast)\n",
    "new_array_currentsample_1_sec_train_toofast = np.empty((32000), int)\n",
    "\n",
    "for row in range(1,train_toofast_count,1):\n",
    "    newrow = array_currentsample_1_sec_train_toofast[row]\n",
    "    new_array_currentsample_1_sec_train_toofast = np.vstack([new_array_currentsample_1_sec_train_toofast, newrow])\n",
    "       \n",
    "new_array_currentsample_1_sec_train_toofast = np.array(new_array_currentsample_1_sec_train_toofast)\n",
    "print(new_array_currentsample_1_sec_train_toofast.shape)\n",
    "\n",
    "\n",
    "train_justright_count = len(array_currentsample_1_sec_train_justright)\n",
    "array_currentsample_1_sec_train_justright = np.asarray(array_currentsample_1_sec_train_justright)\n",
    "new_array_currentsample_1_sec_train_justright = np.empty((32000), int)\n",
    "\n",
    "for row in range(1,train_justright_count,1):\n",
    "    newrow = array_currentsample_1_sec_train_justright[row]\n",
    "    new_array_currentsample_1_sec_train_justright = np.vstack([array_currentsample_1_sec_train_justright, newrow])\n",
    "       \n",
    "new_array_currentsample_1_sec_train_justright = np.array(new_array_currentsample_1_sec_train_justright)\n",
    "print(new_array_currentsample_1_sec_train_justright.shape)\n",
    "\n",
    "\n",
    "test_toofast_count = len(array_currentsample_1_sec_test_toofast)\n",
    "array_currentsample_1_sec_test_toofast = np.asarray(array_currentsample_1_sec_test_toofast)\n",
    "new_array_currentsample_1_sec_test_toofast = np.empty((32000), int)\n",
    "\n",
    "for row in range(1,test_toofast_count,1):\n",
    "    newrow = array_currentsample_1_sec_test_toofast[row]\n",
    "    new_array_currentsample_1_sec_test_toofast = np.vstack([array_currentsample_1_sec_test_toofast, newrow])\n",
    "       \n",
    "new_array_currentsample_1_sec_test_toofast = np.array(new_array_currentsample_1_sec_test_toofast)\n",
    "print(new_array_currentsample_1_sec_test_toofast.shape)\n",
    "\n",
    "\n",
    "test_justright_count = len(array_currentsample_1_sec_test_justright)\n",
    "array_currentsample_1_sec_test_justright = np.asarray(array_currentsample_1_sec_test_justright)\n",
    "new_array_currentsample_1_sec_test_justright = np.empty((32000), int)\n",
    "\n",
    "for row in range(1,test_justright_count,1):\n",
    "    newrow = array_currentsample_1_sec_test_justright[row]\n",
    "    new_array_currentsample_1_sec_test_justright = np.vstack([array_currentsample_1_sec_test_justright, newrow])\n",
    "       \n",
    "new_array_currentsample_1_sec_test_justright = np.array(new_array_currentsample_1_sec_test_justright)\n",
    "print(new_array_currentsample_1_sec_test_justright.shape)"
   ]
  },
  {
   "cell_type": "markdown",
   "metadata": {},
   "source": [
    "### Save Chunked Audio Locally"
   ]
  },
  {
   "cell_type": "code",
   "execution_count": 44,
   "metadata": {},
   "outputs": [
    {
     "name": "stdout",
     "output_type": "stream",
     "text": [
      "D:\\machineshop\n"
     ]
    }
   ],
   "source": [
    "os.chdir(\"D:\\\\machineshop\")\n",
    "print(os.getcwd())\n",
    "\n",
    "np.savetxt('new_array_currentsample_1_sec_train_toofast.txt', new_array_currentsample_1_sec_train_toofast, delimiter=',')\n",
    "np.savetxt('new_array_currentsample_1_sec_train_justright.txt', new_array_currentsample_1_sec_train_justright, delimiter=',')\n",
    "np.savetxt('new_array_currentsample_1_sec_test_toofast.txt', new_array_currentsample_1_sec_test_toofast, delimiter=',')\n",
    "np.savetxt('new_array_currentsample_1_sec_test_justright.txt', new_array_currentsample_1_sec_test_justright, delimiter=',')"
   ]
  },
  {
   "cell_type": "markdown",
   "metadata": {},
   "source": [
    "### Inspect Audio"
   ]
  },
  {
   "cell_type": "code",
   "execution_count": 46,
   "metadata": {},
   "outputs": [],
   "source": [
    "new_array_currentsample_1_sec_train_toofast = new_array_currentsample_1_sec_train_toofast.astype(float)\n"
   ]
  },
  {
   "cell_type": "code",
   "execution_count": 47,
   "metadata": {},
   "outputs": [
    {
     "data": {
      "text/plain": [
       "(2, 1025, 59)"
      ]
     },
     "execution_count": 47,
     "metadata": {},
     "output_type": "execute_result"
    }
   ],
   "source": [
    "D_left_new_array_currentsample_1_sec_train_toofast = np.abs(librosa.core.ifgram(new_array_currentsample_1_sec_train_toofast[20,:], center=False))\n",
    "D_left_new_array_currentsample_1_sec_train_toofast.shape"
   ]
  },
  {
   "cell_type": "code",
   "execution_count": 48,
   "metadata": {},
   "outputs": [
    {
     "data": {
      "image/png": "[encoded data removed]",
      "text/plain": [
       "<Figure size 432x288 with 2 Axes>"
      ]
     },
     "metadata": {
      "needs_background": "light"
     },
     "output_type": "display_data"
    }
   ],
   "source": [
    "import librosa.display\n",
    "import matplotlib.pyplot as plt\n",
    "librosa.display.specshow(librosa.amplitude_to_db(D_left_new_array_currentsample_1_sec_train_toofast[1,:,:], ref=np.max),\n",
    "                          y_axis='log', x_axis='time')\n",
    "plt.title('Power spectrogram')\n",
    "plt.colorbar(format='%+2.0f dB')\n",
    "plt.tight_layout()"
   ]
  },
  {
   "cell_type": "code",
   "execution_count": null,
   "metadata": {},
   "outputs": [],
   "source": []
  }
 ],
 "metadata": {
  "kernelspec": {
   "display_name": "Python [conda env:amlrealtimeai] *",
   "language": "python",
   "name": "conda-env-amlrealtimeai-py"
  },
  "language_info": {
   "codemirror_mode": {
    "name": "ipython",
    "version": 3
   },
   "file_extension": ".py",
   "mimetype": "text/x-python",
   "name": "python",
   "nbconvert_exporter": "python",
   "pygments_lexer": "ipython3",
   "version": "3.6.9"
  }
 },
 "nbformat": 4,
 "nbformat_minor": 2
}
