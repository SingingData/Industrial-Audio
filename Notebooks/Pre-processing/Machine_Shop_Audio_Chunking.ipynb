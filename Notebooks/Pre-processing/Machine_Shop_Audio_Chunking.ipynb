{
 "cells": [
  {
   "cell_type": "markdown",
   "metadata": {},
   "source": [
    "# Audio Chunking\n",
    "### Machine Shop Audio Source Data\n",
    "Last Modified November 22, 2019"
   ]
  },
  {
   "cell_type": "code",
   "execution_count": 18,
   "metadata": {},
   "outputs": [],
   "source": [
    "from __future__ import print_function\n",
    "import matplotlib\n",
    "#from IPython.core.interactiveshell import InteractiveShell\n",
    "#InteractiveShell.ast_node_interactivity = \"all\"\n",
    "import matplotlib.pyplot as plt\n",
    "from IPython.display import Markdown, display\n",
    "from IPython.display import SVG\n",
    "import scipy.io.wavfile as wavfile\n",
    "import pandas as pd\n",
    "import numpy as np\n",
    "import os\n",
    "import crepe\n",
    "import sklearn\n",
    "from scipy.io import wavfile\n",
    "from sklearn import preprocessing\n",
    "import pickle\n",
    "np.set_printoptions(suppress=True)\n",
    "import librosa\n",
    "import resampy\n",
    "from os import listdir\n",
    "import os.path\n",
    "from os.path import isfile, join\n",
    "import pandas as pd\n",
    "import seaborn as sns\n",
    "import pandas as pd"
   ]
  },
  {
   "cell_type": "code",
   "execution_count": 19,
   "metadata": {},
   "outputs": [
    {
     "data": {
      "text/plain": [
       "'D:\\\\machineshop'"
      ]
     },
     "execution_count": 19,
     "metadata": {},
     "output_type": "execute_result"
    }
   ],
   "source": [
    "#Define folder paths\n",
    "cwd = \"D:\\\\\"\n",
    "root = os.path.join(cwd, \"machineshop\")\n",
    "os.chdir(root)\n",
    "os.getcwd()"
   ]
  },
  {
   "cell_type": "markdown",
   "metadata": {},
   "source": [
    "### Ingest, Resample and Slice Audio Data"
   ]
  },
  {
   "cell_type": "code",
   "execution_count": 20,
   "metadata": {},
   "outputs": [],
   "source": [
    "# # Change from mp3 to wav file\n",
    "# from pydub import AudioSegment\n",
    "# for subdir, dirs, files in os.walk(root):\n",
    "#     for file in files:\n",
    "#         filepath = subdir + os.sep + file\n",
    "#         if filepath.endswith(\".mp3\"):\n",
    "#             sound = AudioSegment.from_mp3(filepath)\n",
    "#             filepath1 = os.path.splitext(filepath)[0] + '.wav'\n",
    "#             sound.export(filepath1, format=\"wav\")"
   ]
  },
  {
   "cell_type": "code",
   "execution_count": 21,
   "metadata": {},
   "outputs": [],
   "source": [
    "# change sample rate to 32000\n",
    "resample_rate = 32000\n",
    "for subdir, dirs, files in os.walk(root):\n",
    "    for file in files:\n",
    "        filepath = subdir + os.sep + file\n",
    "        if filepath.endswith(\".wav\"):\n",
    "            fs, data = wavfile.read(filepath)\n",
    "            y = resampy.resample(data, fs, resample_rate)\n",
    "            wavfile.write(filepath, resample_rate, y)"
   ]
  },
  {
   "cell_type": "code",
   "execution_count": 22,
   "metadata": {},
   "outputs": [
    {
     "name": "stdout",
     "output_type": "stream",
     "text": [
      "MachineShop_2019_9_fast_191011_132206fast.wav\n"
     ]
    }
   ],
   "source": [
    "# Get list of files at this folder location\n",
    "import glob\n",
    "filelist = glob.glob(\"*.wav\")\n",
    "print(filelist[1])"
   ]
  },
  {
   "cell_type": "code",
   "execution_count": 23,
   "metadata": {},
   "outputs": [
    {
     "name": "stdout",
     "output_type": "stream",
     "text": [
      "MachineShop_2019_9_fast_191011_132206fast.wav\n"
     ]
    },
    {
     "data": {
      "image/png": "[encoded data removed]",
      "text/plain": [
       "<Figure size 432x288 with 1 Axes>"
      ]
     },
     "metadata": {
      "needs_background": "light"
     },
     "output_type": "display_data"
    }
   ],
   "source": [
    "filename = filelist[1]\n",
    "fs, data = wavfile.read(filename)\n",
    "print(filename1)\n",
    "plt.plot(data[0:100000,])\n",
    "plt.show()"
   ]
  },
  {
   "cell_type": "code",
   "execution_count": 32,
   "metadata": {},
   "outputs": [
    {
     "data": {
      "text/plain": [
       "'D:\\\\machineshop\\\\original-source'"
      ]
     },
     "execution_count": 32,
     "metadata": {},
     "output_type": "execute_result"
    }
   ],
   "source": [
    "#Define folder paths\n",
    "cwd = \"D:\\\\\"\n",
    "audiotype = \"machineshop\"\n",
    "machineshop_source = os.path.join(cwd, audiotype,\"original-source\")\n",
    "machineshop_1sec_clips = os.path.join(cwd, audiotype,\"clips_1_sec\")\n",
    "\n",
    "if not os.path.exists(machineshop_source):\n",
    "    os.makedirs(machineshop_source)\n",
    "if not os.path.exists(machineshop_1sec_clips):\n",
    "    os.makedirs(machineshop_1sec_clips)\n",
    "\n",
    "os.chdir(machineshop_source)\n",
    "os.getcwd()"
   ]
  },
  {
   "cell_type": "markdown",
   "metadata": {},
   "source": [
    "### Slice Audio to Desired Lengths"
   ]
  },
  {
   "cell_type": "code",
   "execution_count": 33,
   "metadata": {},
   "outputs": [],
   "source": [
    "def _slice_audio_data(raw_audio_data, interval_len=1):\n",
    "    accounted_fs = int(32000 * interval_len)\n",
    "    num_slices = int(len(raw_audio_data) / accounted_fs)\n",
    "    audio_data = raw_audio_data[: int(num_slices * accounted_fs)]  # Trims audio array\n",
    "    sliced_audio = np.split(audio_data, num_slices)\n",
    "    return np.array(sliced_audio)"
   ]
  },
  {
   "cell_type": "code",
   "execution_count": 34,
   "metadata": {},
   "outputs": [],
   "source": [
    "audio_source = machineshop_source\n",
    "chunked_1_sec = machineshop_1sec_clips\n",
    "\n",
    "os.chdir(audio_source)\n",
    "for subdir, dirs, files in os.walk(audio_source):\n",
    "    for file in files:\n",
    "        filepath = subdir + os.sep + file\n",
    "        if filepath.endswith(\".wav\"):\n",
    "            fs, data = wavfile.read(filepath)\n",
    "            sliced_audio = _slice_audio_data(data, 1)\n",
    "            sliced_audio = sliced_audio[0:60,:]\n",
    "            os.chdir(chunked_1_sec)\n",
    "            for i in range(sliced_audio.shape[0]):\n",
    "                num = str(i)\n",
    "                wavfile.write(file+\"-\"+num, resample_rate, sliced_audio[i,:])\n"
   ]
  },
  {
   "cell_type": "code",
   "execution_count": 35,
   "metadata": {},
   "outputs": [],
   "source": [
    "# Manual apportioning of enire flights to train and test."
   ]
  },
  {
   "cell_type": "code",
   "execution_count": 107,
   "metadata": {},
   "outputs": [],
   "source": [
    "#Define folder paths\n",
    "cwd = \"D:\\\\\"\n",
    "\n",
    "chunked_1_sec_train = os.path.join(cwd, machineshop_1sec_clips,\"machineshop_1_sec_train\")\n",
    "chunked_1_sec_test = os.path.join(cwd, machineshop_1sec_clips,\"machineshop_1_sec_test\")\n",
    "\n",
    "if not os.path.exists(chunked_1_sec_train):\n",
    "    os.makedirs(chunked_1_sec_train)\n",
    "if not os.path.exists(chunked_1_sec_test):\n",
    "    os.makedirs(chunked_1_sec_test)"
   ]
  },
  {
   "cell_type": "code",
   "execution_count": 108,
   "metadata": {},
   "outputs": [
    {
     "name": "stdout",
     "output_type": "stream",
     "text": [
      "D:\\machineshop\\clips_1_sec\\machineshop_1_sec_train\n",
      "D:\\machineshop\\clips_1_sec\\machineshop_1_sec_test\n"
     ]
    }
   ],
   "source": [
    "print(chunked_1_sec_train)\n",
    "print(chunked_1_sec_test)"
   ]
  },
  {
   "cell_type": "code",
   "execution_count": 109,
   "metadata": {},
   "outputs": [
    {
     "data": {
      "text/plain": [
       "[]"
      ]
     },
     "execution_count": 109,
     "metadata": {},
     "output_type": "execute_result"
    }
   ],
   "source": [
    "array_currentsample_1_sec_train = []\n",
    "array_currentsample_1_sec_test = []\n",
    "array_currentsample_1_sec_train "
   ]
  },
  {
   "cell_type": "code",
   "execution_count": 110,
   "metadata": {},
   "outputs": [
    {
     "name": "stdout",
     "output_type": "stream",
     "text": [
      "array_currentsample_1_sec_train 158\n",
      "array_currentsample_1_sec_test 34\n"
     ]
    }
   ],
   "source": [
    "\n",
    "\n",
    "count = 0\n",
    "for subdir, dirs, files in os.walk(chunked_1_sec_train):\n",
    "    for file in files:\n",
    "        filepath = subdir + os.sep + file\n",
    "        fs, raw_audio = wavfile.read(filepath)\n",
    "        count = count +1\n",
    "        array_currentsample_1_sec_train.append((raw_audio))\n",
    "print(\"array_currentsample_1_sec_train\", count)\n",
    "train_row_count = count\n",
    "\n",
    "count = 0\n",
    "for subdir, dirs, files in os.walk(chunked_1_sec_test):\n",
    "    for file in files:\n",
    "        filepath = subdir + os.sep + file\n",
    "        fs, raw_audio = wavfile.read(filepath)\n",
    "        count = count +1\n",
    "        array_currentsample_1_sec_test.append((raw_audio))\n",
    "print(\"array_currentsample_1_sec_test\", count)\n",
    "test_row_count = count"
   ]
  },
  {
   "cell_type": "code",
   "execution_count": 111,
   "metadata": {},
   "outputs": [
    {
     "data": {
      "text/plain": [
       "158"
      ]
     },
     "execution_count": 111,
     "metadata": {},
     "output_type": "execute_result"
    }
   ],
   "source": [
    "train_row_count"
   ]
  },
  {
   "cell_type": "code",
   "execution_count": 120,
   "metadata": {},
   "outputs": [
    {
     "data": {
      "text/plain": [
       "(159, 32000)"
      ]
     },
     "execution_count": 120,
     "metadata": {},
     "output_type": "execute_result"
    }
   ],
   "source": [
    "# Convert from nested list to array\n",
    "array_currentsample_1_sec_train = np.asarray(array_currentsample_1_sec_train)\n",
    "new_array_currentsample_1_sec_train = np.empty((32000), int)\n",
    "\n",
    "for row in range(1,train_row_count,1):\n",
    "    newrow = array_currentsample_1_sec_train[row]\n",
    "    new_array_currentsample_1_sec_train = np.vstack([array_currentsample_1_sec_train, newrow])\n",
    "       \n",
    "new_array_currentsample_1_sec_train = np.array(new_array_currentsample_1_sec_train)\n",
    "new_array_currentsample_1_sec_train.shape"
   ]
  },
  {
   "cell_type": "code",
   "execution_count": 121,
   "metadata": {},
   "outputs": [
    {
     "data": {
      "text/plain": [
       "(35, 32000)"
      ]
     },
     "execution_count": 121,
     "metadata": {},
     "output_type": "execute_result"
    }
   ],
   "source": [
    "# Convert from nested list to array\n",
    "array_currentsample_1_sec_test = np.asarray(array_currentsample_1_sec_test)\n",
    "new_array_currentsample_1_sec_test = np.empty((32000), int)\n",
    "\n",
    "for row in range(1,test_row_count,1):\n",
    "    newrow = array_currentsample_1_sec_test[row]\n",
    "    new_array_currentsample_1_sec_test = np.vstack([array_currentsample_1_sec_test, newrow])\n",
    "       \n",
    "new_array_currentsample_1_sec_test = np.array(new_array_currentsample_1_sec_test)\n",
    "new_array_currentsample_1_sec_test.shape"
   ]
  },
  {
   "cell_type": "markdown",
   "metadata": {},
   "source": [
    "### Save Chunked Audio Locally"
   ]
  },
  {
   "cell_type": "code",
   "execution_count": 122,
   "metadata": {},
   "outputs": [
    {
     "name": "stdout",
     "output_type": "stream",
     "text": [
      "D:\\machineshop\n"
     ]
    }
   ],
   "source": [
    "os.chdir(\"D:\\\\machineshop\")\n",
    "print(os.getcwd())\n",
    "\n",
    "np.savetxt('new_array_currentsample_1_sec_test.txt', new_array_currentsample_1_sec_test, delimiter=',')\n",
    "np.savetxt('new_array_currentsample_1_sec_train.txt', new_array_currentsample_1_sec_train, delimiter=',')"
   ]
  },
  {
   "cell_type": "markdown",
   "metadata": {},
   "source": [
    "### Inspect Audio"
   ]
  },
  {
   "cell_type": "code",
   "execution_count": 123,
   "metadata": {},
   "outputs": [],
   "source": [
    "len(new_array_currentsample_1_sec_test)\n",
    "\n",
    "new_array_currentsample_1_sec_train = new_array_currentsample_1_sec_train.astype(float)\n",
    "new_array_currentsample_1_sec_test = new_array_currentsample_1_sec_test.astype(float)\n"
   ]
  },
  {
   "cell_type": "code",
   "execution_count": 124,
   "metadata": {},
   "outputs": [
    {
     "data": {
      "text/plain": [
       "(2, 1025, 59)"
      ]
     },
     "execution_count": 124,
     "metadata": {},
     "output_type": "execute_result"
    }
   ],
   "source": [
    "D_left_new_array_currentsample_1_sec_train = np.abs(librosa.core.ifgram(new_array_currentsample_1_sec_train[20,:], center=False))\n",
    "D_left_new_array_currentsample_1_sec_train.shape"
   ]
  },
  {
   "cell_type": "code",
   "execution_count": 125,
   "metadata": {},
   "outputs": [
    {
     "data": {
      "image/png": "[encoded data removed]",
      "text/plain": [
       "<Figure size 432x288 with 2 Axes>"
      ]
     },
     "metadata": {
      "needs_background": "light"
     },
     "output_type": "display_data"
    }
   ],
   "source": [
    "import librosa.display\n",
    "import matplotlib.pyplot as plt\n",
    "librosa.display.specshow(librosa.amplitude_to_db(D_left_new_array_currentsample_1_sec_train[1,:,:], ref=np.max),\n",
    "                          y_axis='log', x_axis='time')\n",
    "plt.title('Power spectrogram')\n",
    "plt.colorbar(format='%+2.0f dB')\n",
    "plt.tight_layout()"
   ]
  },
  {
   "cell_type": "code",
   "execution_count": null,
   "metadata": {},
   "outputs": [],
   "source": []
  }
 ],
 "metadata": {
  "kernelspec": {
   "display_name": "Python [conda env:amlrealtimeai] *",
   "language": "python",
   "name": "conda-env-amlrealtimeai-py"
  },
  "language_info": {
   "codemirror_mode": {
    "name": "ipython",
    "version": 3
   },
   "file_extension": ".py",
   "mimetype": "text/x-python",
   "name": "python",
   "nbconvert_exporter": "python",
   "pygments_lexer": "ipython3",
   "version": "3.6.9"
  }
 },
 "nbformat": 4,
 "nbformat_minor": 2
}
