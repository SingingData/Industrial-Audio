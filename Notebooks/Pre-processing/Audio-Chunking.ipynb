{
 "cells": [
  {
   "cell_type": "markdown",
   "metadata": {},
   "source": [
    "# Audio Chunking\n",
    "### Airplane Landing Source Data\n",
    "Last Modified August 6, 2019"
   ]
  },
  {
   "cell_type": "code",
   "execution_count": 52,
   "metadata": {},
   "outputs": [
    {
     "ename": "ImportError",
     "evalue": "cannot import name 'listdir'",
     "output_type": "error",
     "traceback": [
      "\u001b[1;31m---------------------------------------------------------------------------\u001b[0m",
      "\u001b[1;31mImportError\u001b[0m                               Traceback (most recent call last)",
      "\u001b[1;32m<ipython-input-52-d134efa91e84>\u001b[0m in \u001b[0;36m<module>\u001b[1;34m\u001b[0m\n\u001b[0;32m     10\u001b[0m \u001b[1;32mimport\u001b[0m \u001b[0mos\u001b[0m\u001b[1;33m\u001b[0m\u001b[1;33m\u001b[0m\u001b[0m\n\u001b[0;32m     11\u001b[0m \u001b[1;32mimport\u001b[0m \u001b[0mos\u001b[0m\u001b[1;33m.\u001b[0m\u001b[0mpath\u001b[0m\u001b[1;33m\u001b[0m\u001b[1;33m\u001b[0m\u001b[0m\n\u001b[1;32m---> 12\u001b[1;33m \u001b[1;32mfrom\u001b[0m \u001b[0mos\u001b[0m\u001b[1;33m.\u001b[0m\u001b[0mpath\u001b[0m \u001b[1;32mimport\u001b[0m \u001b[0misfile\u001b[0m\u001b[1;33m,\u001b[0m \u001b[0mjoin\u001b[0m\u001b[1;33m,\u001b[0m \u001b[0mlistdir\u001b[0m\u001b[1;33m\u001b[0m\u001b[1;33m\u001b[0m\u001b[0m\n\u001b[0m\u001b[0;32m     13\u001b[0m \u001b[1;32mimport\u001b[0m \u001b[0mseaborn\u001b[0m \u001b[1;32mas\u001b[0m \u001b[0msns\u001b[0m\u001b[1;33m\u001b[0m\u001b[1;33m\u001b[0m\u001b[0m\n\u001b[0;32m     14\u001b[0m \u001b[1;32mimport\u001b[0m \u001b[0mfnmatch\u001b[0m\u001b[1;33m\u001b[0m\u001b[1;33m\u001b[0m\u001b[0m\n",
      "\u001b[1;31mImportError\u001b[0m: cannot import name 'listdir'"
     ]
    }
   ],
   "source": [
    "from __future__ import print_function\n",
    "import matplotlib\n",
    "#from IPython.core.interactiveshell import InteractiveShell\n",
    "#InteractiveShell.ast_node_interactivity = \"all\"\n",
    "import matplotlib.pyplot as plt\n",
    "from IPython.display import Markdown, display\n",
    "from IPython.display import SVG\n",
    "import pandas as pd\n",
    "import numpy as np\n",
    "import os\n",
    "import os.path\n",
    "from os.path import isfile, join, listdir\n",
    "import seaborn as sns\n",
    "import fnmatch\n",
    "import random\n",
    "import sklearn\n",
    "from sklearn import preprocessing\n",
    "import crepe\n",
    "\n",
    "import scipy.io.wavfile as wavfile\n",
    "import pickle\n",
    "np.set_printoptions(suppress=True)\n",
    "import librosa\n",
    "import resampy\n",
    "\n"
   ]
  },
  {
   "cell_type": "code",
   "execution_count": null,
   "metadata": {},
   "outputs": [],
   "source": [
    "#Define folder paths\n",
    "cwd = \"D:\\\\\"\n",
    "\n",
    "root = os.path.join(cwd,\"aircraft-audio\")\n",
    "pip \n",
    "laxroot = os.path.join(cwd, \"aircraft-audio\",\"lax-naming-convention\")\n",
    "searoot = os.path.join(cwd, \"aircraft-audio\",\"sea-naming-convention\")\n",
    "os.chdir(laxroot)\n",
    "os.getcwd()\n",
    "roots = {laxroot,searoot}\n",
    "print(root)"
   ]
  },
  {
   "cell_type": "markdown",
   "metadata": {},
   "source": [
    "### Ingest, Resample, Sort and Slice Audio Data"
   ]
  },
  {
   "cell_type": "code",
   "execution_count": null,
   "metadata": {},
   "outputs": [],
   "source": [
    "# Change from mp3 to wav file\n",
    "from pydub import AudioSegment\n",
    "for root in roots:\n",
    "    for subdir, dirs, files in os.walk(root):\n",
    "        for file in files:\n",
    "            filepath = subdir + os.sep + file\n",
    "            if filepath.endswith(\".mp3\"):\n",
    "                sound = AudioSegment.from_mp3(filepath)\n",
    "                filepath1 = os.path.splitext(filepath)[0] + '.wav'\n",
    "                sound.export(filepath1, format=\"wav\")\n"
   ]
  },
  {
   "cell_type": "code",
   "execution_count": null,
   "metadata": {},
   "outputs": [],
   "source": [
    "# change sample rate to 32000\n",
    "resample_rate = 32000\n",
    "for root in roots:\n",
    "    for subdir, dirs, files in os.walk(root):\n",
    "        for file in files:\n",
    "            filepath = subdir + os.sep + file\n",
    "            if filepath.endswith(\".wav\"):\n",
    "                fs, data = wavfile.read(filepath)\n",
    "                y = resampy.resample(data, fs, resample_rate)\n",
    "                wavfile.write(filepath, resample_rate, y)\n",
    "            "
   ]
  },
  {
   "cell_type": "code",
   "execution_count": null,
   "metadata": {},
   "outputs": [],
   "source": [
    "filename1 = \"2019_07_21_17_07_47-LAX-A321-AAL369-DFW.wav\"\n",
    "fs, data = wavfile.read(filename1)\n",
    "print(filename1)\n",
    "plt.plot(data)\n",
    "plt.show()"
   ]
  },
  {
   "cell_type": "markdown",
   "metadata": {},
   "source": [
    "### Create lists of aircraft classes"
   ]
  },
  {
   "cell_type": "code",
   "execution_count": null,
   "metadata": {},
   "outputs": [],
   "source": [
    "# Initialize vars, create lists of aircraft classes\n",
    "laxentries = os.listdir(laxroot)\n",
    "seaentries = os.listdir(searoot)\n",
    "alllists = [laxentries,seaentries]\n",
    "listnames = [laxroot,searoot]\n",
    "Boeing700series = []\n",
    "Embraer75series = []\n",
    "OtherAircraft = []\n",
    "Boeing700series_path = []\n",
    "Embraer75series_path = []\n",
    "OtherAircraft_path = []\n",
    "iter = 0\n",
    "\n",
    "os.chdir(root)\n",
    "for lists in alllists:\n",
    "    for file_name in lists:\n",
    "        dir_name = os.path.join(listnames[iter]+os.sep+ file_name)\n",
    "        print(dir_name)\n",
    "        if file_name.endswith('.wav'):\n",
    "            if fnmatch.fnmatch(file_name, '*B7*'):\n",
    "                Boeing700series.append(file_name)\n",
    "                Boeing700series_path.append(dir_name)\n",
    "                \n",
    "            elif fnmatch.fnmatch(file_name, '*E75*'):\n",
    "                Embraer75series.append(file_name)\n",
    "                Embraer75series_path.append(dir_name)\n",
    "\n",
    "            else:\n",
    "                OtherAircraft.append(file_name)\n",
    "                OtherAircraft_path.append(dir_name)\n",
    "                \n",
    "    iter = iter+1         "
   ]
  },
  {
   "cell_type": "markdown",
   "metadata": {},
   "source": [
    "### Create train, test split of flights"
   ]
  },
  {
   "cell_type": "code",
   "execution_count": null,
   "metadata": {},
   "outputs": [],
   "source": [
    "#Define folder paths to write out seperated test train samples\n",
    "cwd = \"D:\\\\aircraft-audio\\\\\"\n",
    "Train_Boeing_dir = os.path.join(cwd, \"Train\",\"Train_Boeing\")\n",
    "Train_Embraer_dir = os.path.join(cwd, \"Train\",\"Train_Embraer\")\n",
    "Train_Other_dir = os.path.join(cwd, \"Train\",\"Train_Other\")\n",
    "\n",
    "Test_Boeing_dir = os.path.join(cwd, \"Test\",\"Test_Boeing\")\n",
    "Test_Embraer_dir = os.path.join(cwd, \"Test\",\"Test_Embraer\")\n",
    "Test_Other_dir = os.path.join(cwd, \"Test\",\"Test_Other\")\n",
    "\n",
    "os.chdir(root)\n",
    "os.getcwd()\n",
    "\n",
    "filteredlists_dir = [\n",
    "Train_Boeing_dir,Train_Embraer_dir,Train_Other_dir,\n",
    "Test_Boeing_dir,Test_Embraer_dir,Test_Other_dir\n",
    "]\n",
    "\n",
    "\n",
    "random.shuffle(Boeing700series)\n",
    "random.shuffle(Embraer75series)\n",
    "random.shuffle(OtherAircraft)\n",
    "\n",
    "Boeinglength = len(Boeing700series)\n",
    "Embraerlength = len(Embraer75series)\n",
    "Otherlength = len(OtherAircraft)\n",
    "\n",
    "Boeingsplit = int((Boeinglength/3)*2)\n",
    "Embraersplit = int((Embraerlength/3)*2)\n",
    "Othersplit = int((Otherlength/3)*2)\n",
    "\n",
    "Train_Boeing = Boeing700series[:Boeingsplit]\n",
    "Train_Embraer = Embraer75series[:Embraersplit]\n",
    "Train_Other = OtherAircraft[:Othersplit]\n",
    "\n",
    "Test_Boeing = Boeing700series[(Boeingsplit):]\n",
    "Test_Embraer = Embraer75series[(Embraersplit):]\n",
    "Test_Other = OtherAircraft[(Othersplit):]"
   ]
  },
  {
   "cell_type": "code",
   "execution_count": null,
   "metadata": {},
   "outputs": [],
   "source": [
    "# review full paths for source\n",
    "readpaths = [Boeing700series_path,\n",
    "Embraer75series_path,\n",
    "OtherAircraft_path]\n",
    "len(readpaths)"
   ]
  },
  {
   "cell_type": "code",
   "execution_count": 60,
   "metadata": {},
   "outputs": [],
   "source": [
    "root = \"D:\\\\aircraft-audio\"\n",
    "os.chdir(root)\n",
    "cwd = os.getcwd()"
   ]
  },
  {
   "cell_type": "code",
   "execution_count": 61,
   "metadata": {},
   "outputs": [
    {
     "name": "stdout",
     "output_type": "stream",
     "text": [
      "D:\\aircraft-audio\n"
     ]
    }
   ],
   "source": [
    "print(root)"
   ]
  },
  {
   "cell_type": "code",
   "execution_count": 62,
   "metadata": {},
   "outputs": [],
   "source": [
    "# read sample split files and write files new target test and train directories\n",
    "\n",
    "def _write_audio_to_train_test(Class_paths, Name_list,Class, Split):\n",
    "    iter = 0\n",
    "    for file in Name_list:\n",
    "        if iter < Split:\n",
    "            write_dir_name = os.path.join(cwd+ os.sep+ \"Train\"+os.sep+\"Train_\"+Class+os.sep+file)\n",
    "        else:\n",
    "            write_dir_name = os.path.join(cwd+  os.sep+ \"Test\"+os.sep+\"Test_\"+Class+os.sep+file)\n",
    "        fs, data = wavfile.read(Class_paths[iter])\n",
    "        wavfile.write(write_dir_name, fs, data)\n",
    "        iter = iter+1\n",
    "            \n"
   ]
  },
  {
   "cell_type": "code",
   "execution_count": 63,
   "metadata": {},
   "outputs": [],
   "source": [
    "_write_audio_to_train_test(Boeing700series_path, \n",
    "                           Boeing700series,\n",
    "                           \"Boeing\", \n",
    "                           Boeingsplit )  "
   ]
  },
  {
   "cell_type": "code",
   "execution_count": 64,
   "metadata": {},
   "outputs": [],
   "source": [
    "_write_audio_to_train_test(Embraer75series_path, \n",
    "                           Embraer75series,\n",
    "                           \"Embraer\", \n",
    "                           Embraersplit )"
   ]
  },
  {
   "cell_type": "code",
   "execution_count": 65,
   "metadata": {},
   "outputs": [],
   "source": [
    "_write_audio_to_train_test(OtherAircraft_path, \n",
    "                           OtherAircraft,\n",
    "                           \"Other\", \n",
    "                           Othersplit )  "
   ]
  },
  {
   "cell_type": "markdown",
   "metadata": {},
   "source": [
    "### Slice Audio to Desired Lengths"
   ]
  },
  {
   "cell_type": "code",
   "execution_count": 66,
   "metadata": {},
   "outputs": [],
   "source": [
    "def _slice_audio_data(raw_audio_data, interval_len=1):\n",
    "    accounted_fs = int(resample_rate * interval_len)\n",
    "    num_slices = int(len(raw_audio_data) / accounted_fs)\n",
    "    audio_data = raw_audio_data[: int(num_slices * accounted_fs)]  # Trims audio array\n",
    "    sliced_audio = np.split(audio_data, num_slices)\n",
    "    return np.array(sliced_audio)"
   ]
  },
  {
   "cell_type": "code",
   "execution_count": 67,
   "metadata": {},
   "outputs": [],
   "source": [
    "\n",
    "def _slice_audio(source_dir, target_dir, slice_time):\n",
    "    num = 0\n",
    "    for subdir, dirs, files in os.walk(source_dir):\n",
    "        os.chdir(source_dir)\n",
    "        filepath = \"\" \n",
    "\n",
    "        for file in files:\n",
    "\n",
    "                filepath = subdir + os.sep + file\n",
    "                path_list = filepath.split(os.sep)\n",
    "                path_adder = path_list[-2]\n",
    "                if filepath.endswith(\".wav\"):\n",
    "                    fs, data = wavfile.read(filepath)\n",
    "                    sliced_audio = _slice_audio_data(data, 1)\n",
    "                    sliced_audio = sliced_audio[0:slice_time,:]\n",
    "\n",
    "                    target_dir_specific = os.path.join(target_dir + os.sep+ path_adder)\n",
    "                    os.chdir(target_dir_specific)\n",
    "\n",
    "                    for i in range(sliced_audio.shape[0]):\n",
    "                        filename, file_extension = os.path.splitext(file)\n",
    "                        new_fname = \"{}-{}{}\".format(filename,  i, file_extension)\n",
    "                        if i > 0:\n",
    "                            wavfile.write(new_fname, resample_rate, sliced_audio[i,:])\n",
    "\n"
   ]
  },
  {
   "cell_type": "code",
   "execution_count": 68,
   "metadata": {},
   "outputs": [],
   "source": [
    "_slice_audio(\"D:\\\\aircraft-audio\\\\Train\\\\\",\n",
    "             \"D:\\\\aircraft-audio\\\\Train_Slices\", \n",
    "             60)\n",
    "\n",
    "_slice_audio(\"D:\\\\aircraft-audio\\\\Test\\\\\",\n",
    "             \"D:\\\\aircraft-audio\\\\Test_Slices\", \n",
    "             60)"
   ]
  },
  {
   "cell_type": "code",
   "execution_count": 69,
   "metadata": {},
   "outputs": [],
   "source": [
    "#Define folder paths\n",
    "cwd = \"D:\\\\\"\n",
    "\n",
    "Boeing_slices_train = os.path.join(cwd, \"aircraft-audio\",\"Train_Slices\",\"Train_Boeing\")\n",
    "Boeing_slices_test =os.path.join(cwd, \"aircraft-audio\",\"Test_Slices\",\"Test_Boeing\")\n",
    "\n",
    "Embraer_slices_train = os.path.join(cwd, \"aircraft-audio\",\"Train_Slices\",\"Train_Embraer\")\n",
    "Embraer_slices_test =os.path.join(cwd, \"aircraft-audio\",\"Test_Slices\",\"Test_Embraer\")\n",
    "\n",
    "Other_slices_train = os.path.join(cwd, \"aircraft-audio\",\"Train_Slices\",\"Train_Other\")\n",
    "Other_slices_test =os.path.join(cwd, \"aircraft-audio\",\"Test_Slices\",\"Test_Other\")\n"
   ]
  },
  {
   "cell_type": "code",
   "execution_count": 71,
   "metadata": {},
   "outputs": [],
   "source": [
    "listofdirs = [Boeing_slices_test,Boeing_slices_train,\n",
    "              Embraer_slices_train,Embraer_slices_train,\n",
    "              Other_slices_train,Other_slices_test]\n",
    "Boeing_slices_test_matrix = []\n",
    "Boeing_slices_train_matrix = []\n",
    "Embraer_slices_train_matrix = []\n",
    "Embraer_slices_test_matrix = []\n",
    "Other_slices_train_matrix = []\n",
    "Other_slices_test_matrix = []"
   ]
  },
  {
   "cell_type": "code",
   "execution_count": 89,
   "metadata": {},
   "outputs": [],
   "source": [
    "def _create_numpy_arrays(each_dir, target_numpy):\n",
    "    count = 0\n",
    "\n",
    "    for subdir, dirs, files in os.walk(each_dir):\n",
    "        for file in files:\n",
    "            filepath = subdir + os.sep + file\n",
    "\n",
    "            fs, raw_audio = wavfile.read(filepath)\n",
    "            count = count +1\n",
    "            target_numpy.append((raw_audio))\n",
    "        print(count)   \n",
    "    return(target_numpy)\n"
   ]
  },
  {
   "cell_type": "code",
   "execution_count": 90,
   "metadata": {},
   "outputs": [
    {
     "name": "stdout",
     "output_type": "stream",
     "text": [
      "147\n",
      "121\n",
      "86\n",
      "68\n",
      "58\n",
      "43\n"
     ]
    }
   ],
   "source": [
    "Boeing_slices_train_matrix = _create_numpy_arrays(Boeing_slices_train,Boeing_slices_train_matrix)\n",
    "Boeing_slices_test_matrix = _create_numpy_arrays(Boeing_slices_test,Boeing_slices_test_matrix)\n",
    "\n",
    "Embraer_slices_train_matrix = _create_numpy_arrays(Embraer_slices_train,Embraer_slices_train_matrix)\n",
    "Embraer_slices_test_matrix = _create_numpy_arrays(Embraer_slices_test,Embraer_slices_test_matrix)\n",
    "\n",
    "Other_slices_train_matrix = _create_numpy_arrays(Other_slices_train,Other_slices_train_matrix)\n",
    "Other_slices_test_matrix = _create_numpy_arrays(Other_slices_test,Other_slices_test_matrix)\n"
   ]
  },
  {
   "cell_type": "code",
   "execution_count": 91,
   "metadata": {},
   "outputs": [
    {
     "data": {
      "text/plain": [
       "294"
      ]
     },
     "execution_count": 91,
     "metadata": {},
     "output_type": "execute_result"
    }
   ],
   "source": [
    "len(Boeing_slices_train_matrix)"
   ]
  },
  {
   "cell_type": "code",
   "execution_count": 92,
   "metadata": {},
   "outputs": [],
   "source": [
    "# Convert from nested list to array\n",
    "def _convert_nested_list_to_array(each_dir, target_numpy, size):\n",
    "    target_numpy = np.asarray(target_numpy)\n",
    "    new_target_numpy = np.empty((32000),int)\n",
    "    \n",
    "    for row in range(1,size,1):\n",
    "        newrow = target_numpy[row]\n",
    "        new_target_numpy = np.vstack([new_target_numpy, newrow])\n",
    "    \n",
    "    new_target_numpy - np.array(new_target_numpy)\n",
    "    \n",
    "    return(new_target_numpy)\n"
   ]
  },
  {
   "cell_type": "code",
   "execution_count": 93,
   "metadata": {},
   "outputs": [],
   "source": [
    "Boeing_slices_train_matrix = _convert_nested_list_to_array(Boeing_slices_train,Boeing_slices_train_matrix, 147)\n",
    "Boeing_slices_test_matrix = _convert_nested_list_to_array(Boeing_slices_test,Boeing_slices_test_matrix, 121)\n",
    "\n",
    "Embraer_slices_train_matrix = _convert_nested_list_to_array(Embraer_slices_train,Embraer_slices_train_matrix, 86)\n",
    "Embraer_slices_test_matrix = _convert_nested_list_to_array(Embraer_slices_test,Embraer_slices_test_matrix, 68)\n",
    "\n",
    "Other_slices_train_matrix = _convert_nested_list_to_array(Other_slices_train,Other_slices_train_matrix, 58)\n",
    "Other_slices_test_matrix = _convert_nested_list_to_array(Other_slices_test,Other_slices_test_matrix, 43)\n"
   ]
  },
  {
   "cell_type": "markdown",
   "metadata": {},
   "source": [
    "### Save Array of Chunked Audio Locally"
   ]
  },
  {
   "cell_type": "code",
   "execution_count": 94,
   "metadata": {},
   "outputs": [
    {
     "name": "stdout",
     "output_type": "stream",
     "text": [
      "D:\\aircraft-audio\\local-data\n"
     ]
    }
   ],
   "source": [
    "os.chdir(\"D:\\\\aircraft-audio\\\\local-data\")\n",
    "print(os.getcwd())\n",
    "\n",
    "np.savetxt('Boeing_slices_train_matrix.txt', Boeing_slices_train_matrix, delimiter=',')\n",
    "np.savetxt('Boeing_slices_test_matrix.txt', Boeing_slices_test_matrix, delimiter=',')\n",
    "         \n",
    "np.savetxt('Embraer_slices_train_matrix.txt', Embraer_slices_train_matrix, delimiter=',')\n",
    "np.savetxt('Embraer_slices_test_matrix.txt', Embraer_slices_test_matrix, delimiter=',')\n",
    "         \n",
    "np.savetxt('Other_slices_train_matrix.txt', Other_slices_train_matrix, delimiter=',')\n",
    "np.savetxt('Other_slices_test_matrix.txt', Other_slices_test_matrix, delimiter=',')"
   ]
  },
  {
   "cell_type": "markdown",
   "metadata": {},
   "source": [
    "### Inspect Audio"
   ]
  },
  {
   "cell_type": "code",
   "execution_count": 95,
   "metadata": {},
   "outputs": [],
   "source": [
    "\n",
    "Boeing_slices_train_matrix = Boeing_slices_train_matrix.astype(float)\n",
    "Boeing_slices_test_matrix = Boeing_slices_test_matrix.astype(float)\n",
    "Embraer_slices_train_matrix = Embraer_slices_train_matrix.astype(float)\n",
    "Embraer_slices_test_matrix = Embraer_slices_test_matrix.astype(float)\n",
    "Other_slices_train_matrix = Other_slices_train_matrix.astype(float)\n",
    "Other_slices_test_matrix = Other_slices_test_matrix.astype(float)"
   ]
  },
  {
   "cell_type": "code",
   "execution_count": null,
   "metadata": {},
   "outputs": [],
   "source": [
    "D_left_Boeing_slices_train_matrix = np.abs(librosa.core.ifgram(Boeing_slices_train_matrix[20,:], center=False))\n",
    "D_left_Boeing_slices_train_matrix.shape"
   ]
  },
  {
   "cell_type": "code",
   "execution_count": null,
   "metadata": {},
   "outputs": [],
   "source": [
    "import librosa.display\n",
    "import matplotlib.pyplot as plt\n",
    "librosa.display.specshow(librosa.amplitude_to_db(D_left_Boeing_slices_train_matrix[1,:,:], ref=np.max),\n",
    "                          y_axis='log', x_axis='time')\n",
    "plt.title('Power spectrogram')\n",
    "plt.colorbar(format='%+2.0f dB')\n",
    "plt.tight_layout()"
   ]
  },
  {
   "cell_type": "code",
   "execution_count": null,
   "metadata": {},
   "outputs": [],
   "source": [
    "new_sample = np.abs(librosa.core.ifgram(Boeing_slices_train_matrix[10,:], center=False))"
   ]
  },
  {
   "cell_type": "code",
   "execution_count": null,
   "metadata": {},
   "outputs": [],
   "source": [
    "import librosa.display\n",
    "import matplotlib.pyplot as plt\n",
    "librosa.display.specshow(librosa.amplitude_to_db(new_sample[1,:,:], ref=np.max),\n",
    "                          y_axis='log', x_axis='time')\n",
    "plt.title('Power spectrogram')\n",
    "plt.colorbar(format='%+2.0f dB')\n",
    "plt.tight_layout()"
   ]
  },
  {
   "cell_type": "code",
   "execution_count": null,
   "metadata": {},
   "outputs": [],
   "source": [
    "\n",
    "C = np.abs(librosa.cqt(new_sample[1,2,:], sr=32000))\n",
    "librosa.display.specshow(librosa.amplitude_to_db(C, ref=np.max),\n",
    "                         sr=32000, x_axis='time', y_axis='cqt_note')\n",
    "plt.colorbar(format='%+2.0f dB')\n",
    "plt.title('Constant-Q power spectrum')\n",
    "plt.tight_layout()"
   ]
  },
  {
   "cell_type": "code",
   "execution_count": null,
   "metadata": {},
   "outputs": [],
   "source": []
  }
 ],
 "metadata": {
  "kernelspec": {
   "display_name": "Python [conda env:amlrealtimeai]",
   "language": "python",
   "name": "conda-env-amlrealtimeai-py"
  },
  "language_info": {
   "codemirror_mode": {
    "name": "ipython",
    "version": 3
   },
   "file_extension": ".py",
   "mimetype": "text/x-python",
   "name": "python",
   "nbconvert_exporter": "python",
   "pygments_lexer": "ipython3",
   "version": "3.6.8"
  }
 },
 "nbformat": 4,
 "nbformat_minor": 2
}
