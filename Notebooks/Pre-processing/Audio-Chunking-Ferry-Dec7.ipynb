{
 "cells": [
  {
   "cell_type": "markdown",
   "metadata": {},
   "source": [
    "# Audio Chunking - Ferry\n",
    "### Chunk source audio files to uniform length\n",
    "Last Modified December 7, 2019"
   ]
  },
  {
   "cell_type": "code",
   "execution_count": 1,
   "metadata": {},
   "outputs": [],
   "source": [
    "from __future__ import print_function\n",
    "%matplotlib inline\n",
    "import matplotlib\n",
    "import matplotlib.pyplot as plt\n",
    "plt.style.use('seaborn-white')\n",
    "from IPython.display import Markdown, display\n",
    "from IPython.display import SVG\n",
    "import pandas as pd\n",
    "import numpy as np\n",
    "import os\n",
    "import os.path\n",
    "from os.path import isfile, join\n",
    "from os import listdir\n",
    "import pywt\n",
    "import seaborn as sns\n",
    "import fnmatch\n",
    "import random\n",
    "import sklearn\n",
    "from sklearn import preprocessing\n",
    "import crepe\n",
    "import scipy.io.wavfile as wavfile\n",
    "import pickle\n",
    "np.set_printoptions(suppress=True)\n",
    "import librosa\n",
    "import resampy\n",
    "import argparse\n",
    "from pydub import AudioSegment"
   ]
  },
  {
   "cell_type": "code",
   "execution_count": 2,
   "metadata": {},
   "outputs": [
    {
     "name": "stdout",
     "output_type": "stream",
     "text": [
      "D:\\Ferry\n",
      "['D:\\\\Ferry\\\\original-source\\\\puyallip', 'D:\\\\Ferry\\\\original-source\\\\tacoma']\n"
     ]
    }
   ],
   "source": [
    "#Define folder paths\n",
    "cwd = \"D:\\\\\"\n",
    "\n",
    "cwd = os.path.join(cwd,\"Ferry\")\n",
    "print(cwd)\n",
    "\n",
    "puyallip = os.path.join(cwd, \"original-source\",\"puyallip\")\n",
    "tacoma = os.path.join(cwd, \"original-source\",\"tacoma\")\n",
    "os.chdir(cwd)\n",
    "os.getcwd()\n",
    "roots = [puyallip,tacoma]\n",
    "print(roots)\n"
   ]
  },
  {
   "cell_type": "markdown",
   "metadata": {},
   "source": [
    "### Ingest, Resample, Sort and Slice Audio Data"
   ]
  },
  {
   "cell_type": "code",
   "execution_count": 3,
   "metadata": {},
   "outputs": [],
   "source": [
    "# Change from mp3 to wav file\n",
    "formats_to_convert = '.mp3'\n",
    "\n",
    "for eachroot in roots:\n",
    "    for subdir, dirs, files in os.walk(eachroot):\n",
    "        for file in files:\n",
    "            filepath = subdir + os.sep + file\n",
    "            if filepath.endswith(formats_to_convert):\n",
    "                sound = AudioSegment.from_mp3(filepath)\n",
    "                filepath1 = os.path.splitext(filepath)[0] + '.wav'\n",
    "                sound.export(filepath1, format=\"wav\")\n",
    "                \n"
   ]
  },
  {
   "cell_type": "code",
   "execution_count": 4,
   "metadata": {},
   "outputs": [
    {
     "name": "stdout",
     "output_type": "stream",
     "text": [
      "D:\\Ferry\\original-source\\puyallip\\puyallip-20191206_141847.m4a\n"
     ]
    }
   ],
   "source": [
    "# Change from m4a to wav file\n",
    "formats_to_convert = '.m4a'\n",
    "\n",
    "for eachroot in roots:\n",
    "    for subdir, dirs, files in os.walk(eachroot):\n",
    "        for file in files:\n",
    "            filepath = subdir + os.sep + file\n",
    "\n",
    "            if filepath.endswith(formats_to_convert):\n",
    "                print(filepath)\n",
    "                sound = AudioSegment.from_file(filepath)\n",
    "                filepath1 = os.path.splitext(filepath)[0] + '.wav'\n",
    "                sound.export(filepath1, format=\"wav\")\n",
    "            "
   ]
  },
  {
   "cell_type": "code",
   "execution_count": 5,
   "metadata": {},
   "outputs": [
    {
     "data": {
      "text/plain": [
       "'D:\\\\Ferry'"
      ]
     },
     "execution_count": 5,
     "metadata": {},
     "output_type": "execute_result"
    }
   ],
   "source": [
    "os.getcwd()"
   ]
  },
  {
   "cell_type": "code",
   "execution_count": 6,
   "metadata": {},
   "outputs": [],
   "source": [
    "# change sample rate to 32000\n",
    "resample_rate = 32000\n",
    "for root in roots:\n",
    "    for subdir, dirs, files in os.walk(root):\n",
    "        for file in files:\n",
    "            filepath = subdir + os.sep + file\n",
    "            if filepath.endswith(\".wav\"):\n",
    "                fs, data = wavfile.read(filepath)\n",
    "                y = resampy.resample(data, fs, resample_rate)\n",
    "                wavfile.write(filepath, resample_rate, y)\n",
    "            "
   ]
  },
  {
   "cell_type": "code",
   "execution_count": 32,
   "metadata": {},
   "outputs": [
    {
     "name": "stdout",
     "output_type": "stream",
     "text": [
      "D:\\Ferry\\original-source\\puyallip\\puyallip-20191206_141847.wav\n"
     ]
    },
    {
     "data": {
      "image/png": "[encoded data removed]",
      "text/plain": [
       "<Figure size 432x288 with 1 Axes>"
      ]
     },
     "metadata": {},
     "output_type": "display_data"
    }
   ],
   "source": [
    "filename1 = \"D:\\Ferry\\original-source\\puyallip\\puyallip-20191206_141847.wav\"\n",
    "fs, data = wavfile.read(filename1)\n",
    "print(filename1)\n",
    "plt.plot(data)\n",
    "plt.show()"
   ]
  },
  {
   "cell_type": "markdown",
   "metadata": {},
   "source": [
    "### Create lists audio files from classes"
   ]
  },
  {
   "cell_type": "code",
   "execution_count": 3,
   "metadata": {},
   "outputs": [],
   "source": [
    "# Initialize vars, create lists of aircraft classes\n",
    "puyallipentries = os.listdir(puyallip)\n",
    "tacomaentries = os.listdir(tacoma)\n",
    "alllists = [puyallipentries,tacomaentries]\n",
    "\n",
    "listnames = ['D:\\\\Ferry\\\\original-source\\\\puyallip', 'D:\\\\Ferry\\\\original-source\\\\tacoma']\n",
    "\n",
    "puyallip_audio = []\n",
    "tacoma_audio = []\n",
    "wenatchee_audio = []\n",
    "\n",
    "puyallip_path = []\n",
    "tacoma_path = []\n",
    "wenatchee_path = []\n",
    "\n",
    "iter = 0\n",
    "\n",
    "os.chdir(cwd)\n",
    "for lists in alllists:\n",
    "    for file_name in lists:\n",
    "\n",
    "        dir_name = os.path.join(listnames[iter]+os.sep+ file_name)\n",
    "\n",
    "        if file_name.endswith('.wav'):\n",
    "\n",
    "            if fnmatch.fnmatch(file_name, '*tacoma*'):\n",
    "                tacoma_audio.append(file_name)\n",
    "                tacoma_path.append(dir_name)\n",
    "                \n",
    "            elif fnmatch.fnmatch(file_name, '*wenatchee*'):\n",
    "                wenatchee_audio.append(file_name)\n",
    "                wenatchee_path.append(dir_name)\n",
    "\n",
    "            elif fnmatch.fnmatch(file_name, '*puyallip*'):\n",
    "                puyallip_audio.append(file_name)\n",
    "                puyallip_path.append(dir_name)\n",
    "                \n",
    "    iter = iter+1         "
   ]
  },
  {
   "cell_type": "code",
   "execution_count": 4,
   "metadata": {},
   "outputs": [
    {
     "data": {
      "text/plain": [
       "'D:\\\\Ferry'"
      ]
     },
     "execution_count": 4,
     "metadata": {},
     "output_type": "execute_result"
    }
   ],
   "source": [
    "os.chdir(cwd)\n",
    "cwd"
   ]
  },
  {
   "cell_type": "code",
   "execution_count": 5,
   "metadata": {},
   "outputs": [],
   "source": [
    "random.shuffle(tacoma_audio)\n",
    "random.shuffle(wenatchee_audio)\n",
    "random.shuffle(puyallip_audio)\n"
   ]
  },
  {
   "cell_type": "markdown",
   "metadata": {},
   "source": [
    "### Create train, test split of flights"
   ]
  },
  {
   "cell_type": "code",
   "execution_count": 6,
   "metadata": {},
   "outputs": [],
   "source": [
    "Train_Puyallip_dir = os.path.join(cwd,\"Train\",\"Train_Puyallip\")\n",
    "Train_Wenatchee_dir = os.path.join(cwd,\"Train\",\"Train_Wenatchee\")\n",
    "Train_Tacoma_dir = os.path.join(cwd,\"Train\",\"Train_Tacoma\")\n",
    "\n",
    "Test_Puyallip_dir  = os.path.join(cwd,\"Test\",\"Test_Puyallip\")\n",
    "Test_Wenatchee_dir = os.path.join(cwd,\"Test\",\"Test_Wenatchee\")\n",
    "Test_Tacoma_dir = os.path.join(cwd,\"Test\",\"Test_Tacoma\")\n",
    "\n",
    "Train_Slices = os.path.join(cwd,\"Train_Slices\")\n",
    "Test_Slices = os.path.join(cwd,\"Test_Slices\")\n",
    "\n",
    "Train_Slices_Puyallip_dir = os.path.join(cwd,\"Train_Slices\",\"Train_Puyallip\")\n",
    "Train_Slices_Wenatchee_dir = os.path.join(cwd,\"Train_Slices\",\"Train_Wenatchee\")\n",
    "Train_Slices_Tacoma_dir = os.path.join(cwd,\"Train_Slices\",\"Train_Tacoma\")\n",
    "\n",
    "Test_Slices_Puyallip_dir  = os.path.join(cwd,\"Test_Slices\",\"Test_Puyallip\")\n",
    "Test_Slices_Wenatchee_dir = os.path.join(cwd,\"Test_Slices\",\"Test_Wenatchee\")\n",
    "Test_Slices_Tacoma_dir = os.path.join(cwd,\"Test_Slices\",\"Test_Tacoma\")\n",
    "\n",
    "directory_list = [Train_Puyallip_dir, Train_Wenatchee_dir, Train_Tacoma_dir, \n",
    "                  Test_Puyallip_dir, Test_Wenatchee_dir, Test_Tacoma_dir, Train_Slices, Test_Slices,\n",
    "                 Train_Slices_Puyallip_dir, Train_Slices_Wenatchee_dir,Train_Slices_Tacoma_dir,\n",
    "                 Test_Slices_Puyallip_dir, Test_Slices_Wenatchee_dir, Test_Slices_Tacoma_dir]"
   ]
  },
  {
   "cell_type": "code",
   "execution_count": 7,
   "metadata": {},
   "outputs": [
    {
     "name": "stdout",
     "output_type": "stream",
     "text": [
      "Directory  D:\\Ferry\\Train\\Train_Puyallip  already exists\n",
      "Directory  D:\\Ferry\\Train\\Train_Wenatchee  already exists\n",
      "Directory  D:\\Ferry\\Train\\Train_Tacoma  already exists\n",
      "Directory  D:\\Ferry\\Test\\Test_Puyallip  already exists\n",
      "Directory  D:\\Ferry\\Test\\Test_Wenatchee  already exists\n",
      "Directory  D:\\Ferry\\Test\\Test_Tacoma  already exists\n",
      "Directory  D:\\Ferry\\Train_Slices  Created \n",
      "Directory  D:\\Ferry\\Test_Slices  Created \n",
      "Directory  D:\\Ferry\\Train_Slices\\Train_Puyallip  Created \n",
      "Directory  D:\\Ferry\\Train_Slices\\Train_Wenatchee  Created \n",
      "Directory  D:\\Ferry\\Train_Slices\\Train_Tacoma  Created \n",
      "Directory  D:\\Ferry\\Test_Slices\\Test_Puyallip  Created \n",
      "Directory  D:\\Ferry\\Test_Slices\\Test_Wenatchee  Created \n",
      "Directory  D:\\Ferry\\Test_Slices\\Test_Tacoma  Created \n"
     ]
    }
   ],
   "source": [
    "\n",
    "# Create target directory & all intermediate directories if don't exists\n",
    "for directory in directory_list:\n",
    "    try:\n",
    "        os.makedirs(directory)    \n",
    "        print(\"Directory \" , directory ,  \" Created \")\n",
    "    except FileExistsError:\n",
    "        print(\"Directory \" , directory ,  \" already exists\") "
   ]
  },
  {
   "cell_type": "code",
   "execution_count": 8,
   "metadata": {},
   "outputs": [],
   "source": [
    "Puyallip_length = len(puyallip_audio)\n",
    "Tacoma_length = len(tacoma_audio)\n",
    "Wenatchee_length = len(wenatchee_audio)\n"
   ]
  },
  {
   "cell_type": "code",
   "execution_count": 9,
   "metadata": {},
   "outputs": [],
   "source": [
    "filteredlists_dir = [\n",
    "Train_Boeing_dir,Train_Embraer_dir,Train_Bombardier_dir,Train_Airbus_dir,Train_Other_dir,\n",
    "Test_Boeing_dir,Test_Embraer_dir,Test_Bombardier_dir,Test_Airbus_dir,Test_Other_dir\n",
    "]\n",
    "\n",
    "\n",
    "Boeingsplit = int((Boeinglength/3)*2)\n",
    "Embraersplit = int((Embraerlength/3)*2)\n",
    "Bombardiersplit = int((Bombardierlength/3)*2)\n",
    "Airbussplit = int((Airbuslength/3)*2)\n",
    "Othersplit = int((Otherlength/3)*2)\n",
    "\n",
    "Train_Boeing = Boeing700series[:Boeingsplit]\n",
    "Train_Embraer = Embraer75series[:Embraersplit]\n",
    "Train_Bombardier = Bombardierseries[:Bombardiersplit]\n",
    "Train_Airbus = Airbusseries[:Airbussplit]\n",
    "Train_Other = OtherAircraft[:Othersplit]\n",
    "\n",
    "Test_Boeing = Boeing700series[(Boeingsplit):]\n",
    "Test_Embraer = Embraer75series[(Embraersplit):]\n",
    "Test_Bombardier = Bombardierseries[(Bombardiersplit):]\n",
    "Test_Airbus = Airbusseries[(Airbussplit):]\n",
    "Test_Other = OtherAircraft[(Othersplit):]"
   ]
  },
  {
   "cell_type": "code",
   "execution_count": 10,
   "metadata": {},
   "outputs": [
    {
     "data": {
      "text/plain": [
       "5"
      ]
     },
     "execution_count": 10,
     "metadata": {},
     "output_type": "execute_result"
    }
   ],
   "source": [
    "# review full paths for source\n",
    "readpaths = [Boeing700series_path,\n",
    "Embraer75series_path,Bombardierseries_path,Airbusseries_path,\n",
    "OtherAircraft_path]\n",
    "len(readpaths)"
   ]
  },
  {
   "cell_type": "code",
   "execution_count": 11,
   "metadata": {},
   "outputs": [],
   "source": [
    "root = \"D:\\\\aircraft-audio\"\n",
    "os.chdir(root)\n",
    "cwd = os.getcwd()"
   ]
  },
  {
   "cell_type": "code",
   "execution_count": 12,
   "metadata": {},
   "outputs": [
    {
     "name": "stdout",
     "output_type": "stream",
     "text": [
      "D:\\aircraft-audio\n"
     ]
    }
   ],
   "source": [
    "print(root)"
   ]
  },
  {
   "cell_type": "code",
   "execution_count": 13,
   "metadata": {},
   "outputs": [],
   "source": [
    "# read sample split files and write files new target test and train directories\n",
    "\n",
    "def _write_audio_to_train_test(Class_paths, Name_list,Class, Split):\n",
    "    iter = 0\n",
    "    for file in Name_list:\n",
    "        if iter < Split:\n",
    "            write_dir_name = os.path.join(cwd+ os.sep+ \"Train\"+os.sep+\"Train_\"+Class+os.sep+file)\n",
    "        else:\n",
    "            write_dir_name = os.path.join(cwd+  os.sep+ \"Test\"+os.sep+\"Test_\"+Class+os.sep+file)\n",
    "        fs, data = wavfile.read(Class_paths[iter])\n",
    "        wavfile.write(write_dir_name, fs, data)\n",
    "        iter = iter+1\n",
    "            \n"
   ]
  },
  {
   "cell_type": "code",
   "execution_count": 16,
   "metadata": {},
   "outputs": [],
   "source": [
    "_write_audio_to_train_test(Boeing700series_path, \n",
    "                           Boeing700series,\n",
    "                           \"Boeing\", \n",
    "                           Boeingsplit )  "
   ]
  },
  {
   "cell_type": "code",
   "execution_count": 17,
   "metadata": {},
   "outputs": [],
   "source": [
    "_write_audio_to_train_test(Embraer75series_path, \n",
    "                           Embraer75series,\n",
    "                           \"Embraer\", \n",
    "                           Embraersplit )"
   ]
  },
  {
   "cell_type": "code",
   "execution_count": 18,
   "metadata": {},
   "outputs": [],
   "source": [
    "_write_audio_to_train_test(Bombardierseries_path, \n",
    "                           Bombardierseries,\n",
    "                           \"Bombardier\", \n",
    "                           Bombardiersplit )  "
   ]
  },
  {
   "cell_type": "code",
   "execution_count": 19,
   "metadata": {},
   "outputs": [],
   "source": [
    "_write_audio_to_train_test(Airbusseries_path, \n",
    "                           Airbusseries,\n",
    "                           \"Airbus\", \n",
    "                           Airbussplit )  "
   ]
  },
  {
   "cell_type": "code",
   "execution_count": 20,
   "metadata": {},
   "outputs": [],
   "source": [
    "_write_audio_to_train_test(OtherAircraft_path, \n",
    "                           OtherAircraft,\n",
    "                           \"Other\", \n",
    "                           Othersplit )  "
   ]
  },
  {
   "cell_type": "code",
   "execution_count": null,
   "metadata": {},
   "outputs": [],
   "source": []
  },
  {
   "cell_type": "code",
   "execution_count": 9,
   "metadata": {},
   "outputs": [],
   "source": [
    "import math\n",
    "resample_rate = 32000"
   ]
  },
  {
   "cell_type": "markdown",
   "metadata": {},
   "source": [
    "### Slice Audio to Desired Lengths"
   ]
  },
  {
   "cell_type": "code",
   "execution_count": 10,
   "metadata": {},
   "outputs": [],
   "source": [
    "\n",
    "def _slice_audio(source_dir, target_dir, slice_time):\n",
    "    num = 0\n",
    "    for subdir, dirs, files in os.walk(source_dir):\n",
    "        os.chdir(source_dir)\n",
    "        filepath = \"\" \n",
    "\n",
    "        for file in files:\n",
    "\n",
    "                filepath = subdir + os.sep + file\n",
    "                path_list = filepath.split(os.sep)\n",
    "                path_adder = path_list[-2]\n",
    "                if filepath.endswith(\".wav\"):\n",
    "                    fs, data = wavfile.read(filepath)\n",
    "                    print(filepath)\n",
    "                    accounted_fs = int(resample_rate)\n",
    "    \n",
    "                    num_slices = math.floor(len(data) / accounted_fs)\n",
    "                    print(num_slices)\n",
    "                    desiredlength = math.floor(num_slices * accounted_fs)\n",
    "                    print(desiredlength)\n",
    "                    audio_data = data[: desiredlength]  # Trims audio array\n",
    "                    sliced_audio = np.array(np.split(audio_data, num_slices))\n",
    "                    print(sliced_audio.shape)\n",
    "\n",
    "                    target_dir_specific = os.path.join(target_dir + os.sep+ path_adder)\n",
    "                    os.chdir(target_dir_specific)\n",
    "                    print(sliced_audio.shape)\n",
    "\n",
    "                    for i in range(sliced_audio.shape[0]):\n",
    "                        filename, file_extension = os.path.splitext(file)\n",
    "                        new_fname = \"{}-{}{}\".format(filename,  i, file_extension)\n",
    "                        if i > 0:\n",
    "                            wavfile.write(new_fname, resample_rate, sliced_audio[i,:])\n",
    "\n"
   ]
  },
  {
   "cell_type": "code",
   "execution_count": 11,
   "metadata": {
    "scrolled": true
   },
   "outputs": [
    {
     "name": "stdout",
     "output_type": "stream",
     "text": [
      "D:\\Ferry\\Train\\Train_Puyallip\\puyallip-20191206_141847.wav\n",
      "491\n",
      "15712000\n",
      "(491, 32000)\n",
      "(491, 32000)\n",
      "D:\\Ferry\\Train\\Train_Tacoma\\tacoma-20191206_123441.wav\n",
      "515\n",
      "16480000\n",
      "(515, 32000)\n",
      "(515, 32000)\n",
      "D:\\Ferry\\Train\\Train_Tacoma\\tacoma1.wav\n",
      "60\n",
      "1920000\n",
      "(60, 32000)\n",
      "(60, 32000)\n",
      "D:\\Ferry\\Train\\Train_Tacoma\\tacoma2.wav\n",
      "61\n",
      "1952000\n",
      "(61, 32000)\n",
      "(61, 32000)\n",
      "D:\\Ferry\\Train\\Train_Tacoma\\tacoma3.wav\n",
      "64\n",
      "2048000\n",
      "(64, 32000)\n",
      "(64, 32000)\n",
      "D:\\Ferry\\Train\\Train_Tacoma\\tacoma4.wav\n",
      "61\n",
      "1952000\n",
      "(61, 32000)\n",
      "(61, 32000)\n",
      "D:\\Ferry\\Train\\Train_Wenatchee\\wenatchee1.wav\n",
      "61\n",
      "1952000\n",
      "(61, 32000)\n",
      "(61, 32000)\n",
      "D:\\Ferry\\Train\\Train_Wenatchee\\wenatchee2.wav\n",
      "61\n",
      "1952000\n",
      "(61, 32000)\n",
      "(61, 32000)\n",
      "D:\\Ferry\\Train\\Train_Wenatchee\\wenatchee3.wav\n",
      "61\n",
      "1952000\n",
      "(61, 32000)\n",
      "(61, 32000)\n"
     ]
    }
   ],
   "source": [
    "import math\n",
    "_slice_audio(\"D:\\\\Ferry\\\\Train\\\\\",\n",
    "             \"D:\\\\Ferry\\\\Train_Slices\", \n",
    "             60)"
   ]
  },
  {
   "cell_type": "code",
   "execution_count": 12,
   "metadata": {},
   "outputs": [],
   "source": [
    "# _slice_audio(\"D:\\\\aircraft-audio1\\\\Test\\\\\",\n",
    "#              \"D:\\\\aircraft-audio1\\\\Test_Slices\", \n",
    "#              60)"
   ]
  },
  {
   "cell_type": "code",
   "execution_count": 13,
   "metadata": {},
   "outputs": [],
   "source": [
    "#Define folder paths\n",
    "cwd = \"D:\\\\\"\n",
    "\n",
    "listofdirs = [Train_Slices_Puyallip_dir, Train_Slices_Wenatchee_dir,Train_Slices_Tacoma_dir,\n",
    "                 Test_Slices_Puyallip_dir, Test_Slices_Wenatchee_dir, Test_Slices_Tacoma_dir]"
   ]
  },
  {
   "cell_type": "code",
   "execution_count": 19,
   "metadata": {},
   "outputs": [],
   "source": [
    "Train_Puyallip_matrix = []\n",
    "Train_Wenatchee_matrix= []\n",
    "Train_Tacoma_matrix= []\n",
    "Test_Puyallip_matrix= []\n",
    "Test_Wenatchee_matrix= []\n",
    "Test_Tacoma_matrix= []"
   ]
  },
  {
   "cell_type": "code",
   "execution_count": 20,
   "metadata": {},
   "outputs": [],
   "source": [
    "def _create_numpy_arrays(each_dir, target_numpy):\n",
    "    count = 0\n",
    "\n",
    "    for subdir, dirs, files in os.walk(each_dir):\n",
    "        for file in files:\n",
    "            filepath = subdir + os.sep + file\n",
    "\n",
    "            fs, raw_audio = wavfile.read(filepath)\n",
    "            count = count +1\n",
    "            target_numpy.append((raw_audio))\n",
    "\n",
    "        print(count) \n",
    "    target_numpy = np.delete(target_numpy, (0), axis=0)\n",
    "    return(target_numpy)\n"
   ]
  },
  {
   "cell_type": "code",
   "execution_count": 21,
   "metadata": {},
   "outputs": [
    {
     "name": "stdout",
     "output_type": "stream",
     "text": [
      "399\n",
      "91\n",
      "140\n",
      "40\n",
      "641\n",
      "115\n"
     ]
    }
   ],
   "source": [
    "Train_Puyallip_matrix = _create_numpy_arrays(Train_Slices_Puyallip_dir,Train_Puyallip_matrix)\n",
    "Test_Puyallip_matrix = _create_numpy_arrays(Test_Slices_Puyallip_dir,Test_Puyallip_matrix)\n",
    "\n",
    "Train_Wenatchee_matrix = _create_numpy_arrays(Train_Slices_Wenatchee_dir,Train_Wenatchee_matrix)\n",
    "Test_Wenatchee_matrix = _create_numpy_arrays(Test_Slices_Wenatchee_dir,Test_Wenatchee_matrix)\n",
    "\n",
    "Train_Tacoma_matrix = _create_numpy_arrays(Train_Slices_Tacoma_dir,Train_Tacoma_matrix)\n",
    "Test_Tacoma_matrix = _create_numpy_arrays(Test_Slices_Tacoma_dir,Test_Tacoma_matrix)\n"
   ]
  },
  {
   "cell_type": "code",
   "execution_count": 22,
   "metadata": {},
   "outputs": [],
   "source": [
    "# Convert from nested list to array\n",
    "def _convert_nested_list_to_array(each_dir, target_numpy, size):\n",
    "    target_numpy = np.asarray(target_numpy)\n",
    "    new_target_numpy = np.empty((32000),int)\n",
    "    \n",
    "    for row in range(1,size,1):\n",
    "        newrow = target_numpy[row]\n",
    "        new_target_numpy = np.vstack([new_target_numpy, newrow])\n",
    "    \n",
    "    new_target_numpy - np.array(new_target_numpy)\n",
    "    return(new_target_numpy)"
   ]
  },
  {
   "cell_type": "code",
   "execution_count": 23,
   "metadata": {},
   "outputs": [],
   "source": [
    "Train_Puyallip_matrix = _convert_nested_list_to_array(Train_Puyallip_matrix,Train_Puyallip_matrix, 398)\n",
    "Test_Puyallip_matrix = _convert_nested_list_to_array(Test_Puyallip_matrix,Test_Puyallip_matrix, 90)"
   ]
  },
  {
   "cell_type": "code",
   "execution_count": 24,
   "metadata": {},
   "outputs": [],
   "source": [
    "Train_Wenatchee_matrix = _convert_nested_list_to_array(Train_Wenatchee_matrix,Train_Wenatchee_matrix, 139)\n",
    "Test_Wenatchee_matrix = _convert_nested_list_to_array(Test_Wenatchee_matrix,Test_Wenatchee_matrix, 39)"
   ]
  },
  {
   "cell_type": "code",
   "execution_count": 25,
   "metadata": {},
   "outputs": [],
   "source": [
    "Train_Tacoma_matrix = _convert_nested_list_to_array(Train_Tacoma_matrix,Train_Tacoma_matrix, 640)\n",
    "Test_Tacoma_matrix = _convert_nested_list_to_array(Test_Tacoma_matrix,Test_Tacoma_matrix, 114)"
   ]
  },
  {
   "cell_type": "markdown",
   "metadata": {},
   "source": [
    "### Save Array of Chunked Audio Locally"
   ]
  },
  {
   "cell_type": "code",
   "execution_count": 27,
   "metadata": {},
   "outputs": [
    {
     "name": "stdout",
     "output_type": "stream",
     "text": [
      "D:\\Ferry\\local-data\n"
     ]
    }
   ],
   "source": [
    "os.chdir(\"D:\\\\Ferry\\\\local-data\")\n",
    "print(os.getcwd())\n",
    "\n",
    "np.savetxt('Train_Puyallip_matrix.txt', Train_Puyallip_matrix, delimiter=',')\n",
    "np.savetxt('Test_Puyallip_matrix.txt', Test_Puyallip_matrix, delimiter=',')\n",
    "         \n",
    "np.savetxt('Train_Wenatchee_matrix.txt', Train_Wenatchee_matrix, delimiter=',')\n",
    "np.savetxt('Test_Wenatchee_matrix.txt', Test_Wenatchee_matrix, delimiter=',')\n",
    "         \n",
    "np.savetxt('Train_Tacoma_matrix.txt', Train_Tacoma_matrix, delimiter=',')\n",
    "np.savetxt('Test_Tacoma_matrix.txt', Test_Tacoma_matrix, delimiter=',')\n",
    "         \n"
   ]
  },
  {
   "cell_type": "markdown",
   "metadata": {},
   "source": [
    "### Inspect Audio"
   ]
  },
  {
   "cell_type": "code",
   "execution_count": 28,
   "metadata": {},
   "outputs": [
    {
     "ename": "NameError",
     "evalue": "name 'Boeing_slices_train_matrix' is not defined",
     "output_type": "error",
     "traceback": [
      "\u001b[1;31m---------------------------------------------------------------------------\u001b[0m",
      "\u001b[1;31mNameError\u001b[0m                                 Traceback (most recent call last)",
      "\u001b[1;32m<ipython-input-28-11d5021a9cda>\u001b[0m in \u001b[0;36m<module>\u001b[1;34m\u001b[0m\n\u001b[1;32m----> 1\u001b[1;33m \u001b[0mBoeing_slices_train_matrix\u001b[0m \u001b[1;33m=\u001b[0m \u001b[0mBoeing_slices_train_matrix\u001b[0m\u001b[1;33m.\u001b[0m\u001b[0mastype\u001b[0m\u001b[1;33m(\u001b[0m\u001b[0mfloat\u001b[0m\u001b[1;33m)\u001b[0m\u001b[1;33m\u001b[0m\u001b[1;33m\u001b[0m\u001b[0m\n\u001b[0m\u001b[0;32m      2\u001b[0m \u001b[0mBoeing_slices_test_matrix\u001b[0m \u001b[1;33m=\u001b[0m \u001b[0mBoeing_slices_test_matrix\u001b[0m\u001b[1;33m.\u001b[0m\u001b[0mastype\u001b[0m\u001b[1;33m(\u001b[0m\u001b[0mfloat\u001b[0m\u001b[1;33m)\u001b[0m\u001b[1;33m\u001b[0m\u001b[1;33m\u001b[0m\u001b[0m\n\u001b[0;32m      3\u001b[0m \u001b[0mEmbraer_slices_train_matrix\u001b[0m \u001b[1;33m=\u001b[0m \u001b[0mEmbraer_slices_train_matrix\u001b[0m\u001b[1;33m.\u001b[0m\u001b[0mastype\u001b[0m\u001b[1;33m(\u001b[0m\u001b[0mfloat\u001b[0m\u001b[1;33m)\u001b[0m\u001b[1;33m\u001b[0m\u001b[1;33m\u001b[0m\u001b[0m\n\u001b[0;32m      4\u001b[0m \u001b[0mEmbraer_slices_test_matrix\u001b[0m \u001b[1;33m=\u001b[0m \u001b[0mEmbraer_slices_test_matrix\u001b[0m\u001b[1;33m.\u001b[0m\u001b[0mastype\u001b[0m\u001b[1;33m(\u001b[0m\u001b[0mfloat\u001b[0m\u001b[1;33m)\u001b[0m\u001b[1;33m\u001b[0m\u001b[1;33m\u001b[0m\u001b[0m\n\u001b[0;32m      5\u001b[0m \u001b[1;31m#Other_slices_train_matrix = Other_slices_train_matrix.astype(float)\u001b[0m\u001b[1;33m\u001b[0m\u001b[1;33m\u001b[0m\u001b[1;33m\u001b[0m\u001b[0m\n",
      "\u001b[1;31mNameError\u001b[0m: name 'Boeing_slices_train_matrix' is not defined"
     ]
    }
   ],
   "source": [
    "\n",
    "Boeing_slices_train_matrix = Boeing_slices_train_matrix.astype(float)\n",
    "Boeing_slices_test_matrix = Boeing_slices_test_matrix.astype(float)\n",
    "Embraer_slices_train_matrix = Embraer_slices_train_matrix.astype(float)\n",
    "Embraer_slices_test_matrix = Embraer_slices_test_matrix.astype(float)\n",
    "#Other_slices_train_matrix = Other_slices_train_matrix.astype(float)\n",
    "#Other_slices_test_matrix = Other_slices_test_matrix.astype(float)"
   ]
  },
  {
   "cell_type": "code",
   "execution_count": 35,
   "metadata": {},
   "outputs": [
    {
     "data": {
      "text/plain": [
       "(2, 1025, 59)"
      ]
     },
     "execution_count": 35,
     "metadata": {},
     "output_type": "execute_result"
    }
   ],
   "source": [
    "D_left_Boeing_slices_train_matrix = np.abs(librosa.core.ifgram(Boeing_slices_train_matrix[20,:], center=False))\n",
    "D_left_Boeing_slices_train_matrix.shape"
   ]
  },
  {
   "cell_type": "code",
   "execution_count": 36,
   "metadata": {},
   "outputs": [
    {
     "data": {
      "image/png": "[encoded data removed]",
      "text/plain": [
       "<Figure size 432x288 with 2 Axes>"
      ]
     },
     "metadata": {},
     "output_type": "display_data"
    }
   ],
   "source": [
    "import librosa.display\n",
    "import matplotlib.pyplot as plt\n",
    "librosa.display.specshow(librosa.amplitude_to_db(D_left_Boeing_slices_train_matrix[1,:,:], ref=np.max),\n",
    "                          y_axis='log', x_axis='time')\n",
    "plt.title('Power spectrogram')\n",
    "plt.colorbar(format='%+2.0f dB')\n",
    "plt.tight_layout()"
   ]
  },
  {
   "cell_type": "code",
   "execution_count": 37,
   "metadata": {},
   "outputs": [
    {
     "name": "stdout",
     "output_type": "stream",
     "text": [
      "[ -8104. -12943. -18698. ...      0.      0.   2251.]\n",
      "[    0     1     2 ... 31997 31998 31999]\n"
     ]
    },
    {
     "ename": "NameError",
     "evalue": "name 'sst' is not defined",
     "output_type": "error",
     "traceback": [
      "\u001b[1;31m---------------------------------------------------------------------------\u001b[0m",
      "\u001b[1;31mNameError\u001b[0m                                 Traceback (most recent call last)",
      "\u001b[1;32m<ipython-input-37-4ccda153525b>\u001b[0m in \u001b[0;36m<module>\u001b[1;34m\u001b[0m\n\u001b[0;32m      8\u001b[0m \u001b[0mwavelet\u001b[0m \u001b[1;33m=\u001b[0m \u001b[1;34m'cmor1.5-1.0'\u001b[0m\u001b[1;33m\u001b[0m\u001b[1;33m\u001b[0m\u001b[0m\n\u001b[0;32m      9\u001b[0m \u001b[1;33m\u001b[0m\u001b[0m\n\u001b[1;32m---> 10\u001b[1;33m \u001b[1;33m[\u001b[0m\u001b[0mcfs\u001b[0m\u001b[1;33m,\u001b[0m \u001b[0mfrequencies\u001b[0m\u001b[1;33m]\u001b[0m \u001b[1;33m=\u001b[0m \u001b[0mpywt\u001b[0m\u001b[1;33m.\u001b[0m\u001b[0mcwt\u001b[0m\u001b[1;33m(\u001b[0m\u001b[0msst\u001b[0m\u001b[1;33m,\u001b[0m \u001b[0mscales\u001b[0m\u001b[1;33m,\u001b[0m \u001b[0mwavelet\u001b[0m\u001b[1;33m,\u001b[0m \u001b[0mdt\u001b[0m\u001b[1;33m)\u001b[0m\u001b[1;33m\u001b[0m\u001b[1;33m\u001b[0m\u001b[0m\n\u001b[0m\u001b[0;32m     11\u001b[0m \u001b[0mpower\u001b[0m \u001b[1;33m=\u001b[0m \u001b[1;33m(\u001b[0m\u001b[0mabs\u001b[0m\u001b[1;33m(\u001b[0m\u001b[0mcfs\u001b[0m\u001b[1;33m)\u001b[0m\u001b[1;33m)\u001b[0m \u001b[1;33m**\u001b[0m \u001b[1;36m2\u001b[0m\u001b[1;33m\u001b[0m\u001b[1;33m\u001b[0m\u001b[0m\n\u001b[0;32m     12\u001b[0m \u001b[0mperiod\u001b[0m \u001b[1;33m=\u001b[0m \u001b[1;36m1.\u001b[0m \u001b[1;33m/\u001b[0m \u001b[0mfrequencies\u001b[0m\u001b[1;33m\u001b[0m\u001b[1;33m\u001b[0m\u001b[0m\n",
      "\u001b[1;31mNameError\u001b[0m: name 'sst' is not defined"
     ]
    }
   ],
   "source": [
    "scales = np.arange(1,128)\n",
    "time = np.arange(0,32000)\n",
    "signal = Boeing_slices_train_matrix[1,:]\n",
    "print(signal)\n",
    "print(time)\n",
    "\n",
    "dt = time[1] - time[0]\n",
    "wavelet = 'cmor1.5-1.0'\n",
    "\n",
    "[cfs, frequencies] = pywt.cwt(sst, scales, wavelet, dt)\n",
    "power = (abs(cfs)) ** 2\n",
    "period = 1. / frequencies\n",
    "levels = [0.0625, 0.125, 0.25, 0.5, 1, 2, 4, 8]\n",
    "\n",
    "newpower2 = np.flip(np.log2(power))\n",
    "print(newpower2.shape)\n",
    "time2 = np.arange(0,264)\n",
    "\n",
    "plt.contourf(time2, np.log2(period), np.log2(power), np.log2(levels), extend='both',cmap='terrain')\n",
    "plt.colorbar()\n",
    "plt.axis(aspect='image');"
   ]
  },
  {
   "cell_type": "code",
   "execution_count": 502,
   "metadata": {},
   "outputs": [],
   "source": [
    "new_sample = np.abs(librosa.core.ifgram(Boeing_slices_train_matrix[10,:], center=False))"
   ]
  },
  {
   "cell_type": "code",
   "execution_count": 503,
   "metadata": {},
   "outputs": [
    {
     "data": {
      "image/png": "[encoded data removed]",
      "text/plain": [
       "<Figure size 432x288 with 2 Axes>"
      ]
     },
     "metadata": {
      "needs_background": "light"
     },
     "output_type": "display_data"
    }
   ],
   "source": [
    "import librosa.display\n",
    "import matplotlib.pyplot as plt\n",
    "librosa.display.specshow(librosa.amplitude_to_db(new_sample[1,:,:], ref=np.max),\n",
    "                          y_axis='log', x_axis='time')\n",
    "plt.title('Power spectrogram')\n",
    "plt.colorbar(format='%+2.0f dB')\n",
    "plt.tight_layout()"
   ]
  },
  {
   "cell_type": "code",
   "execution_count": 504,
   "metadata": {},
   "outputs": [
    {
     "data": {
      "image/png": "[encoded data removed]",
      "text/plain": [
       "<Figure size 432x288 with 2 Axes>"
      ]
     },
     "metadata": {
      "needs_background": "light"
     },
     "output_type": "display_data"
    }
   ],
   "source": [
    "\n",
    "C = np.abs(librosa.cqt(new_sample[1,2,:], sr=32000))\n",
    "librosa.display.specshow(librosa.amplitude_to_db(C, ref=np.max),\n",
    "                         sr=32000, x_axis='time', y_axis='cqt_note')\n",
    "plt.colorbar(format='%+2.0f dB')\n",
    "plt.title('Constant-Q power spectrum')\n",
    "plt.tight_layout()"
   ]
  },
  {
   "cell_type": "code",
   "execution_count": null,
   "metadata": {},
   "outputs": [],
   "source": []
  },
  {
   "cell_type": "code",
   "execution_count": null,
   "metadata": {},
   "outputs": [],
   "source": []
  },
  {
   "cell_type": "code",
   "execution_count": null,
   "metadata": {},
   "outputs": [],
   "source": []
  },
  {
   "cell_type": "code",
   "execution_count": null,
   "metadata": {},
   "outputs": [],
   "source": []
  },
  {
   "cell_type": "code",
   "execution_count": null,
   "metadata": {},
   "outputs": [],
   "source": []
  },
  {
   "cell_type": "code",
   "execution_count": null,
   "metadata": {},
   "outputs": [],
   "source": []
  },
  {
   "cell_type": "code",
   "execution_count": null,
   "metadata": {},
   "outputs": [],
   "source": []
  },
  {
   "cell_type": "code",
   "execution_count": null,
   "metadata": {},
   "outputs": [],
   "source": []
  },
  {
   "cell_type": "code",
   "execution_count": null,
   "metadata": {},
   "outputs": [],
   "source": []
  }
 ],
 "metadata": {
  "kernelspec": {
   "display_name": "Python [conda env:amlrealtimeai] *",
   "language": "python",
   "name": "conda-env-amlrealtimeai-py"
  },
  "language_info": {
   "codemirror_mode": {
    "name": "ipython",
    "version": 3
   },
   "file_extension": ".py",
   "mimetype": "text/x-python",
   "name": "python",
   "nbconvert_exporter": "python",
   "pygments_lexer": "ipython3",
   "version": "3.6.9"
  }
 },
 "nbformat": 4,
 "nbformat_minor": 2
}
