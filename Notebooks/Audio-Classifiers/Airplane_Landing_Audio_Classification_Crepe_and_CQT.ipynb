{
 "cells": [
  {
   "cell_type": "markdown",
   "metadata": {},
   "source": [
    "# Industrial Audio - Classification Model\n",
    "#### Illustrated with LAX Airplane Landing - Binary Classifier \n",
    "Last Updated October 14, 2019"
   ]
  },
  {
   "cell_type": "code",
   "execution_count": 1,
   "metadata": {},
   "outputs": [
    {
     "name": "stderr",
     "output_type": "stream",
     "text": [
      "Using TensorFlow backend.\n",
      "C:\\Anaconda\\envs\\amlrealtimeai\\lib\\site-packages\\tensorflow\\python\\framework\\dtypes.py:516: FutureWarning: Passing (type, 1) or '1type' as a synonym of type is deprecated; in a future version of numpy, it will be understood as (type, (1,)) / '(1,)type'.\n",
      "  _np_qint8 = np.dtype([(\"qint8\", np.int8, 1)])\n",
      "C:\\Anaconda\\envs\\amlrealtimeai\\lib\\site-packages\\tensorflow\\python\\framework\\dtypes.py:517: FutureWarning: Passing (type, 1) or '1type' as a synonym of type is deprecated; in a future version of numpy, it will be understood as (type, (1,)) / '(1,)type'.\n",
      "  _np_quint8 = np.dtype([(\"quint8\", np.uint8, 1)])\n",
      "C:\\Anaconda\\envs\\amlrealtimeai\\lib\\site-packages\\tensorflow\\python\\framework\\dtypes.py:518: FutureWarning: Passing (type, 1) or '1type' as a synonym of type is deprecated; in a future version of numpy, it will be understood as (type, (1,)) / '(1,)type'.\n",
      "  _np_qint16 = np.dtype([(\"qint16\", np.int16, 1)])\n",
      "C:\\Anaconda\\envs\\amlrealtimeai\\lib\\site-packages\\tensorflow\\python\\framework\\dtypes.py:519: FutureWarning: Passing (type, 1) or '1type' as a synonym of type is deprecated; in a future version of numpy, it will be understood as (type, (1,)) / '(1,)type'.\n",
      "  _np_quint16 = np.dtype([(\"quint16\", np.uint16, 1)])\n",
      "C:\\Anaconda\\envs\\amlrealtimeai\\lib\\site-packages\\tensorflow\\python\\framework\\dtypes.py:520: FutureWarning: Passing (type, 1) or '1type' as a synonym of type is deprecated; in a future version of numpy, it will be understood as (type, (1,)) / '(1,)type'.\n",
      "  _np_qint32 = np.dtype([(\"qint32\", np.int32, 1)])\n",
      "C:\\Anaconda\\envs\\amlrealtimeai\\lib\\site-packages\\tensorflow\\python\\framework\\dtypes.py:525: FutureWarning: Passing (type, 1) or '1type' as a synonym of type is deprecated; in a future version of numpy, it will be understood as (type, (1,)) / '(1,)type'.\n",
      "  np_resource = np.dtype([(\"resource\", np.ubyte, 1)])\n",
      "C:\\Anaconda\\envs\\amlrealtimeai\\lib\\site-packages\\tensorboard\\compat\\tensorflow_stub\\dtypes.py:541: FutureWarning: Passing (type, 1) or '1type' as a synonym of type is deprecated; in a future version of numpy, it will be understood as (type, (1,)) / '(1,)type'.\n",
      "  _np_qint8 = np.dtype([(\"qint8\", np.int8, 1)])\n",
      "C:\\Anaconda\\envs\\amlrealtimeai\\lib\\site-packages\\tensorboard\\compat\\tensorflow_stub\\dtypes.py:542: FutureWarning: Passing (type, 1) or '1type' as a synonym of type is deprecated; in a future version of numpy, it will be understood as (type, (1,)) / '(1,)type'.\n",
      "  _np_quint8 = np.dtype([(\"quint8\", np.uint8, 1)])\n",
      "C:\\Anaconda\\envs\\amlrealtimeai\\lib\\site-packages\\tensorboard\\compat\\tensorflow_stub\\dtypes.py:543: FutureWarning: Passing (type, 1) or '1type' as a synonym of type is deprecated; in a future version of numpy, it will be understood as (type, (1,)) / '(1,)type'.\n",
      "  _np_qint16 = np.dtype([(\"qint16\", np.int16, 1)])\n",
      "C:\\Anaconda\\envs\\amlrealtimeai\\lib\\site-packages\\tensorboard\\compat\\tensorflow_stub\\dtypes.py:544: FutureWarning: Passing (type, 1) or '1type' as a synonym of type is deprecated; in a future version of numpy, it will be understood as (type, (1,)) / '(1,)type'.\n",
      "  _np_quint16 = np.dtype([(\"quint16\", np.uint16, 1)])\n",
      "C:\\Anaconda\\envs\\amlrealtimeai\\lib\\site-packages\\tensorboard\\compat\\tensorflow_stub\\dtypes.py:545: FutureWarning: Passing (type, 1) or '1type' as a synonym of type is deprecated; in a future version of numpy, it will be understood as (type, (1,)) / '(1,)type'.\n",
      "  _np_qint32 = np.dtype([(\"qint32\", np.int32, 1)])\n",
      "C:\\Anaconda\\envs\\amlrealtimeai\\lib\\site-packages\\tensorboard\\compat\\tensorflow_stub\\dtypes.py:550: FutureWarning: Passing (type, 1) or '1type' as a synonym of type is deprecated; in a future version of numpy, it will be understood as (type, (1,)) / '(1,)type'.\n",
      "  np_resource = np.dtype([(\"resource\", np.ubyte, 1)])\n"
     ]
    }
   ],
   "source": [
    "%matplotlib inline\n",
    "import matplotlib.pyplot as plt\n",
    "plt.style.use('seaborn-white')\n",
    "import pywt\n",
    "from matplotlib.image import imread\n",
    "import numpy as np\n",
    "import os\n",
    "from scipy.io import wavfile\n",
    "from pathlib import Path\n",
    "import pywt\n",
    "import soundfile\n",
    "import random\n",
    "import pickle\n",
    "from glob import iglob\n",
    "import crepe\n",
    "from sklearn.metrics import confusion_matrix, classification_report\n",
    "import pprint\n",
    "import seaborn as sns\n",
    "random.seed(42)\n",
    "import librosa\n",
    "import scipy.signal\n",
    "from keras.layers import MaxPooling2D, Flatten, Conv2D\n",
    "from keras.utils import to_categorical\n",
    "import keras\n",
    "from keras.layers import initializers \n",
    "from keras.layers import regularizers \n",
    "from keras.layers import constraints \n",
    "from keras.layers import Activation\n",
    "from keras.layers.advanced_activations import PReLU\n",
    "from keras.layers.advanced_activations import LeakyReLU\n",
    "from keras.layers.advanced_activations import ELU\n",
    "from keras.constraints import max_norm\n",
    "from keras.layers import LeakyReLU\n",
    "from keras import optimizers, losses, activations, models\n",
    "from keras.callbacks import ModelCheckpoint, EarlyStopping, LearningRateScheduler\n",
    "from keras.layers import Dense, Input, Dropout, Convolution1D, MaxPool1D, GlobalMaxPool1D, GlobalAveragePooling1D, \\\n",
    "    concatenate\n",
    "from keras.layers import MaxPooling3D, Flatten, Conv3D\n",
    "from keras import backend as K\n",
    "from keras.layers import LeakyReLU,PReLU\n",
    "import keras\n",
    "from keras.losses import *\n",
    "def my_init(shape,  dtype=None):\n",
    "    vals=((float(shape[0], float(shape[1]))) * math.sqrt(2./float(shape[1])))\n",
    "    return K.random_normal(vals, dtype=dtype)    \n",
    "import math\n",
    "from pydub import AudioSegment\n",
    "from pydub.playback import play\n",
    "\n",
    "import tkinter\n",
    "from matplotlib.backends.backend_tkagg import (\n",
    "    FigureCanvasTkAgg, NavigationToolbar2Tk)\n",
    "# Implement the default Matplotlib key bindings.\n",
    "from matplotlib.backend_bases import key_press_handler\n",
    "from matplotlib.figure import Figure\n",
    "import nlpaug\n",
    "import nlpaug.augmenter.spectrogram as nas\n",
    "import nlpaug.flow \n",
    "import nlpaug.flow as naf\n",
    "\n",
    "from nlpaug.util.file.load import LoadUtil\n",
    "from nlpaug.util.visual.spectrogram import VisualSpectrogram"
   ]
  },
  {
   "cell_type": "code",
   "execution_count": 2,
   "metadata": {},
   "outputs": [],
   "source": [
    "# os.chdir(\"D:\\\\aircraft-audio\\lax-naming-convention\")\n",
    "# import IPython\n",
    "# from IPython.display import Image, Audio\n",
    "# print(\"Embraer\")\n",
    "# Image(filename='embardier.png',width=300, height=200)"
   ]
  },
  {
   "cell_type": "markdown",
   "metadata": {},
   "source": [
    "### Load and Inspect Data"
   ]
  },
  {
   "cell_type": "code",
   "execution_count": 3,
   "metadata": {},
   "outputs": [
    {
     "name": "stdout",
     "output_type": "stream",
     "text": [
      "D:\\aircraft-audio\\local-data\n"
     ]
    }
   ],
   "source": [
    "# Original audio recordings have already been split to samples of 1 second 32000 at sample rate and stored in numpy array.\n",
    "\n",
    "os.chdir(\"D:\\\\aircraft-audio\\\\local-data\")\n",
    "print(os.getcwd())\n",
    "\n",
    "Boeing_slices_train_matrix = np.loadtxt('Boeing_slices_train_matrix.txt', delimiter=',')\n",
    "Boeing_slices_test_matrix = np.loadtxt('Boeing_slices_test_matrix.txt', delimiter=',')\n",
    "Embraer_slices_train_matrix = np.loadtxt('Embraer_slices_train_matrix.txt', delimiter=',')\n",
    "Embraer_slices_test_matrix = np.loadtxt('Embraer_slices_test_matrix.txt', delimiter=',')\n",
    "Bombardier_slices_train_matrix = np.loadtxt('Bombardier_slices_train_matrix.txt', delimiter=',')\n",
    "Bombardier_slices_test_matrix = np.loadtxt('Bombardier_slices_test_matrix.txt', delimiter=',')\n",
    "Airbus_slices_train_matrix = np.loadtxt('Airbus_slices_train_matrix.txt', delimiter=',')\n",
    "Airbus_slices_test_matrix = np.loadtxt('Airbus_slices_test_matrix.txt', delimiter=',')\n"
   ]
  },
  {
   "cell_type": "code",
   "execution_count": 4,
   "metadata": {},
   "outputs": [
    {
     "name": "stderr",
     "output_type": "stream",
     "text": [
      "C:\\Users\\pattyry\\AppData\\Roaming\\Python\\Python36\\site-packages\\scipy\\sparse\\lil.py:514: FutureWarning: future versions will not create a writeable array from broadcast_array. Set the writable flag explicitly to avoid this warning.\n",
      "  if not j.flags.writeable or j.dtype not in (np.int32, np.int64):\n"
     ]
    },
    {
     "data": {
      "image/png": "[encoded data removed]",
      "text/plain": [
       "<Figure size 432x288 with 2 Axes>"
      ]
     },
     "metadata": {
      "needs_background": "light"
     },
     "output_type": "display_data"
    }
   ],
   "source": [
    "import librosa.display\n",
    "import matplotlib.pyplot as plt\n",
    "C = np.abs(librosa.cqt(Boeing_slices_train_matrix[20,:], sr=32000, fmin=librosa.note_to_hz('C1'), n_bins=80, bins_per_octave=12))\n",
    "librosa.display.specshow(librosa.amplitude_to_db(C, ref=np.max),\n",
    "                         sr=32000, x_axis='time', y_axis='cqt_note')\n",
    "plt.colorbar(format='%+2.0f dB')\n",
    "plt.title('Constant-Q power spectrum')\n",
    "plt.tight_layout()"
   ]
  },
  {
   "cell_type": "code",
   "execution_count": 5,
   "metadata": {},
   "outputs": [
    {
     "name": "stdout",
     "output_type": "stream",
     "text": [
      "[-4501. -4725. -3986. ... -1628. -1210. -1030.]\n"
     ]
    },
    {
     "data": {
      "image/png": "[encoded data removed]",
      "text/plain": [
       "<Figure size 432x288 with 1 Axes>"
      ]
     },
     "metadata": {
      "needs_background": "light"
     },
     "output_type": "display_data"
    }
   ],
   "source": [
    "signal = Boeing_slices_train_matrix[40,:]\n",
    "time = 32000\n",
    "print(signal)\n",
    "plt.plot(signal)\n",
    "plt.show()"
   ]
  },
  {
   "cell_type": "markdown",
   "metadata": {},
   "source": [
    "### Add Augmented Data"
   ]
  },
  {
   "cell_type": "code",
   "execution_count": 6,
   "metadata": {},
   "outputs": [],
   "source": [
    "def _create_augmented_volume_reduction_data_matrix(old_matrix, volume_change):\n",
    "    \n",
    "    old_matrix = np.asarray(old_matrix)\n",
    "    new_target_numpy = np.empty((32000),int)\n",
    "    new_target_numpy = np.asarray(new_target_numpy)    \n",
    "\n",
    "    for i in range(old_matrix.shape[0]):\n",
    "        new_numpy = old_matrix[i,:] + volume_change\n",
    "        new_numpy = np.asarray(new_numpy)\n",
    "        new_target_numpy = np.vstack((new_target_numpy, new_numpy))\n",
    "        new_target_numpy = np.asarray(new_target_numpy)\n",
    "    return(new_target_numpy)"
   ]
  },
  {
   "cell_type": "code",
   "execution_count": 7,
   "metadata": {},
   "outputs": [],
   "source": [
    "# Create Augmented matrices with volume reduction\n",
    "Boeing_augmented_train_matrix= _create_augmented_volume_reduction_data_matrix(Boeing_slices_train_matrix, -5)\n",
    "Embraer_augmented_train_matrix= _create_augmented_volume_reduction_data_matrix(Embraer_slices_train_matrix, -5)\n",
    "Bombardier_augmented_train_matrix= _create_augmented_volume_reduction_data_matrix(Bombardier_slices_train_matrix, -5)\n",
    "Airbus_augmented_train_matrix= _create_augmented_volume_reduction_data_matrix(Airbus_slices_train_matrix, -5)\n"
   ]
  },
  {
   "cell_type": "code",
   "execution_count": 8,
   "metadata": {},
   "outputs": [],
   "source": [
    "Embraer_augmented_train_matrix4 = _create_augmented_volume_reduction_data_matrix(Embraer_slices_train_matrix, -7)"
   ]
  },
  {
   "cell_type": "code",
   "execution_count": 9,
   "metadata": {},
   "outputs": [],
   "source": [
    "def _create_augmented_white_noise_data_matrix(old_matrix, noise_level):\n",
    "    new_target_numpy = np.empty((32000),int)\n",
    "    new_target_numpy = np.asarray(new_target_numpy)   \n",
    "    \n",
    "    for i in range(old_matrix.shape[0]):\n",
    "        wn = np.random.randn(old_matrix.shape[1])\n",
    "        new_numpy = old_matrix[i,:] + noise_level*wn\n",
    "        new_numpy = np.asarray(new_numpy)\n",
    "        new_target_numpy = np.vstack((new_target_numpy, new_numpy))\n",
    "        new_target_numpy = np.asarray(new_target_numpy)\n",
    "    return(new_target_numpy)\n",
    "        "
   ]
  },
  {
   "cell_type": "code",
   "execution_count": null,
   "metadata": {},
   "outputs": [],
   "source": []
  },
  {
   "cell_type": "code",
   "execution_count": 10,
   "metadata": {},
   "outputs": [],
   "source": [
    "# Create Augmented matrices with white noise added\n",
    "Embraer_augmented_train_matrix2= _create_augmented_white_noise_data_matrix(Embraer_slices_train_matrix,0.01)\n",
    "Boeing_augmented_train_matrix2= _create_augmented_white_noise_data_matrix(Boeing_slices_train_matrix,0.01)\n",
    "Bombardier_augmented_train_matrix2= _create_augmented_white_noise_data_matrix(Bombardier_slices_train_matrix,0.01)\n",
    "Airbus_augmented_train_matrix2= _create_augmented_white_noise_data_matrix(Airbus_slices_train_matrix,0.01)\n"
   ]
  },
  {
   "cell_type": "code",
   "execution_count": 11,
   "metadata": {},
   "outputs": [],
   "source": [
    "# Create Augmented matrices with white noise added\n",
    "Embraer_augmented_train_matrix3 = _create_augmented_white_noise_data_matrix(Embraer_slices_train_matrix,0.09)\n",
    "Boeing_augmented_train_matrix3 = _create_augmented_white_noise_data_matrix(Boeing_slices_train_matrix,0.09)\n",
    "Bombardier_augmented_train_matrix3 = _create_augmented_white_noise_data_matrix(Bombardier_slices_train_matrix,0.09)\n",
    "Airbus_augmented_train_matrix3 = _create_augmented_white_noise_data_matrix(Airbus_slices_train_matrix,0.09)"
   ]
  },
  {
   "cell_type": "code",
   "execution_count": 12,
   "metadata": {},
   "outputs": [],
   "source": [
    "# Create Augmented matrices with white noise added\n",
    "Embraer_augmented_train_matrix4 = _create_augmented_white_noise_data_matrix(Embraer_slices_train_matrix,0.01)"
   ]
  },
  {
   "cell_type": "markdown",
   "metadata": {},
   "source": [
    "### Add Labels"
   ]
  },
  {
   "cell_type": "code",
   "execution_count": 13,
   "metadata": {},
   "outputs": [
    {
     "name": "stdout",
     "output_type": "stream",
     "text": [
      "(98, 32001)\n",
      "(46, 32001)\n",
      "(28, 32001)\n",
      "(15, 32001)\n",
      "(10, 32001)\n",
      "(24, 32001)\n",
      "(28, 32001)\n",
      "(12, 32001)\n"
     ]
    }
   ],
   "source": [
    "#Source Data Matrices\n",
    "\n",
    "Boeing_slices_train_matrix = np.c_[ np.ones(len(Boeing_slices_train_matrix)),Boeing_slices_train_matrix] \n",
    "Boeing_slices_train_matrix[:, 0] =  0\n",
    "print(Boeing_slices_train_matrix.shape)\n",
    "\n",
    "Boeing_slices_test_matrix = np.c_[ np.ones(len(Boeing_slices_test_matrix)),Boeing_slices_test_matrix] \n",
    "Boeing_slices_test_matrix[:, 0] =  0\n",
    "print(Boeing_slices_test_matrix.shape)\n",
    "\n",
    "Embraer_slices_train_matrix = np.c_[ np.ones(len(Embraer_slices_train_matrix)),Embraer_slices_train_matrix] \n",
    "Embraer_slices_train_matrix[:, 0] = 1\n",
    "print(Embraer_slices_train_matrix.shape)\n",
    "\n",
    "Embraer_slices_test_matrix = np.c_[ np.ones(len(Embraer_slices_test_matrix)),Embraer_slices_test_matrix] \n",
    "Embraer_slices_test_matrix[:, 0] =  1\n",
    "print(Embraer_slices_test_matrix.shape)\n",
    "\n",
    "Bombardier_slices_train_matrix = np.c_[ np.ones(len(Bombardier_slices_train_matrix)),Bombardier_slices_train_matrix] \n",
    "Bombardier_slices_train_matrix[:, 0] = 0\n",
    "print(Bombardier_slices_train_matrix.shape)\n",
    "\n",
    "Bombardier_slices_test_matrix = np.c_[ np.ones(len(Bombardier_slices_test_matrix)),Bombardier_slices_test_matrix] \n",
    "Bombardier_slices_test_matrix[:, 0] =  0\n",
    "print(Bombardier_slices_test_matrix.shape)\n",
    "\n",
    "Airbus_slices_train_matrix = np.c_[ np.ones(len(Airbus_slices_train_matrix)),Airbus_slices_train_matrix] \n",
    "Airbus_slices_train_matrix[:, 0] = 0\n",
    "print(Embraer_slices_train_matrix.shape)\n",
    "\n",
    "Airbus_slices_test_matrix = np.c_[ np.ones(len(Airbus_slices_test_matrix)),Airbus_slices_test_matrix] \n",
    "Airbus_slices_test_matrix[:, 0] =  0\n",
    "print(Airbus_slices_test_matrix.shape)\n"
   ]
  },
  {
   "cell_type": "code",
   "execution_count": 14,
   "metadata": {},
   "outputs": [
    {
     "name": "stdout",
     "output_type": "stream",
     "text": [
      "(98, 32001)\n",
      "(28, 32001)\n",
      "(10, 32001)\n",
      "(69, 32001)\n",
      "(98, 32001)\n",
      "(28, 32001)\n",
      "(10, 32001)\n",
      "(69, 32001)\n",
      "(98, 32001)\n",
      "(28, 32001)\n",
      "(10, 32001)\n",
      "(69, 32001)\n",
      "(28, 32001)\n"
     ]
    }
   ],
   "source": [
    "#Augmented Matrices\n",
    "\n",
    "Boeing_augmented_train_matrix = np.c_[ np.ones(len(Boeing_augmented_train_matrix)),Boeing_augmented_train_matrix] \n",
    "Boeing_augmented_train_matrix[:, 0] = 0\n",
    "Boeing_augmented_train_matrix = np.delete(Boeing_augmented_train_matrix, (0), axis=0)\n",
    "print(Boeing_augmented_train_matrix.shape)\n",
    "\n",
    "Embraer_augmented_train_matrix = np.c_[ np.ones(len(Embraer_augmented_train_matrix)),Embraer_augmented_train_matrix] \n",
    "Embraer_augmented_train_matrix[:, 0] = 1\n",
    "Embraer_augmented_train_matrix = np.delete(Embraer_augmented_train_matrix, (0), axis=0)\n",
    "print(Embraer_augmented_train_matrix.shape)\n",
    "\n",
    "Bombardier_augmented_train_matrix = np.c_[ np.ones(len(Bombardier_augmented_train_matrix)),Bombardier_augmented_train_matrix] \n",
    "Bombardier_augmented_train_matrix[:, 0] = 0\n",
    "Bombardier_augmented_train_matrix = np.delete(Bombardier_augmented_train_matrix, (0), axis=0)\n",
    "print(Bombardier_augmented_train_matrix.shape)\n",
    "\n",
    "Airbus_augmented_train_matrix = np.c_[ np.ones(len(Airbus_augmented_train_matrix)),Airbus_augmented_train_matrix] \n",
    "Airbus_augmented_train_matrix[:, 0] = 0\n",
    "Airbus_augmented_train_matrix = np.delete(Airbus_augmented_train_matrix, (0), axis=0)\n",
    "print(Airbus_augmented_train_matrix.shape)\n",
    "\n",
    "#Augmented Matrices #2\n",
    "Boeing_augmented_train_matrix2 = np.c_[ np.ones(len(Boeing_augmented_train_matrix2)),Boeing_augmented_train_matrix2] \n",
    "Boeing_augmented_train_matrix2[:, 0] = 0\n",
    "Boeing_augmented_train_matrix2 = np.delete(Boeing_augmented_train_matrix2, (0), axis=0)\n",
    "print(Boeing_augmented_train_matrix2.shape)\n",
    "\n",
    "Embraer_augmented_train_matrix2 = np.c_[ np.ones(len(Embraer_augmented_train_matrix2)),Embraer_augmented_train_matrix2] \n",
    "Embraer_augmented_train_matrix2[:, 0] = 1\n",
    "Embraer_augmented_train_matrix2 = np.delete(Embraer_augmented_train_matrix2, (0), axis=0)\n",
    "print(Embraer_augmented_train_matrix2.shape)\n",
    "\n",
    "Bombardier_augmented_train_matrix2 = np.c_[ np.ones(len(Bombardier_augmented_train_matrix2)),Bombardier_augmented_train_matrix2] \n",
    "Bombardier_augmented_train_matrix2[:, 0] = 0\n",
    "Bombardier_augmented_train_matrix2 = np.delete(Bombardier_augmented_train_matrix2, (0), axis=0)\n",
    "print(Bombardier_augmented_train_matrix2.shape)\n",
    "\n",
    "Airbus_augmented_train_matrix2 = np.c_[ np.ones(len(Airbus_augmented_train_matrix2)),Airbus_augmented_train_matrix2] \n",
    "Airbus_augmented_train_matrix2[:, 0] = 0\n",
    "Airbus_augmented_train_matrix2 = np.delete(Airbus_augmented_train_matrix2, (0), axis=0)\n",
    "print(Airbus_augmented_train_matrix2.shape)\n",
    "\n",
    "\n",
    "#Augmented Matrices #3\n",
    "\n",
    "Boeing_augmented_train_matrix3 = np.c_[ np.ones(len(Boeing_augmented_train_matrix3)),Boeing_augmented_train_matrix3] \n",
    "Boeing_augmented_train_matrix3[:, 0] = 0\n",
    "Boeing_augmented_train_matrix3 = np.delete(Boeing_augmented_train_matrix3, (0), axis=0)\n",
    "print(Boeing_augmented_train_matrix3.shape)\n",
    "\n",
    "Embraer_augmented_train_matrix3 = np.c_[ np.ones(len(Embraer_augmented_train_matrix3)),Embraer_augmented_train_matrix3] \n",
    "Embraer_augmented_train_matrix3[:, 0] = 1\n",
    "Embraer_augmented_train_matrix3 = np.delete(Embraer_augmented_train_matrix3, (0), axis=0)\n",
    "print(Embraer_augmented_train_matrix3.shape)\n",
    "\n",
    "Bombardier_augmented_train_matrix3 = np.c_[ np.ones(len(Bombardier_augmented_train_matrix3)),Bombardier_augmented_train_matrix3] \n",
    "Bombardier_augmented_train_matrix3[:, 0] = 0\n",
    "Bombardier_augmented_train_matrix3 = np.delete(Bombardier_augmented_train_matrix3, (0), axis=0)\n",
    "print(Bombardier_augmented_train_matrix3.shape)\n",
    "\n",
    "Airbus_augmented_train_matrix3 = np.c_[ np.ones(len(Airbus_augmented_train_matrix3)),Airbus_augmented_train_matrix3] \n",
    "Airbus_augmented_train_matrix3[:, 0] = 0\n",
    "Airbus_augmented_train_matrix3 = np.delete(Airbus_augmented_train_matrix3, (0), axis=0)\n",
    "print(Airbus_augmented_train_matrix3.shape)\n",
    "\n",
    "\n",
    "#Augmented Matrices #4\n",
    "\n",
    "Embraer_augmented_train_matrix4 = np.c_[ np.ones(len(Embraer_augmented_train_matrix4)),Embraer_augmented_train_matrix4] \n",
    "Embraer_augmented_train_matrix4[:, 0] = 1\n",
    "Embraer_augmented_train_matrix4 = np.delete(Embraer_augmented_train_matrix4, (0), axis=0)\n",
    "print(Embraer_augmented_train_matrix4.shape)\n",
    "\n"
   ]
  },
  {
   "cell_type": "markdown",
   "metadata": {},
   "source": [
    "### Combine and Shuffle Data"
   ]
  },
  {
   "cell_type": "code",
   "execution_count": 57,
   "metadata": {},
   "outputs": [],
   "source": [
    "all_train_data = []"
   ]
  },
  {
   "cell_type": "code",
   "execution_count": 58,
   "metadata": {},
   "outputs": [
    {
     "name": "stdout",
     "output_type": "stream",
     "text": [
      "(652, 32001)\n"
     ]
    }
   ],
   "source": [
    "all_train_data = np.append(Boeing_slices_train_matrix, Embraer_slices_train_matrix, axis=0)\n",
    "all_train_data = np.append(all_train_data, Bombardier_slices_train_matrix, axis=0)\n",
    "all_train_data = np.append(all_train_data, Airbus_slices_train_matrix, axis=0)\n",
    " \n",
    "# Add augmented data just to training matrix\n",
    "all_train_data = np.append(all_train_data ,Embraer_augmented_train_matrix, axis=0)\n",
    "all_train_data = np.append(all_train_data ,Embraer_augmented_train_matrix2, axis=0)\n",
    "all_train_data = np.append(all_train_data ,Embraer_augmented_train_matrix3, axis=0)\n",
    "all_train_data = np.append(all_train_data ,Embraer_augmented_train_matrix4, axis=0)\n",
    "\n",
    "#all_train_data = np.append(all_train_data ,Boeing_augmented_train_matrix, axis=0)\n",
    "all_train_data = np.append(all_train_data ,Boeing_augmented_train_matrix2, axis=0)\n",
    "#all_train_data = np.append(all_train_data ,Boeing_augmented_train_matrix3, axis=0)\n",
    "\n",
    "all_train_data = np.append(all_train_data ,Bombardier_augmented_train_matrix, axis=0)\n",
    "all_train_data = np.append(all_train_data ,Bombardier_augmented_train_matrix2, axis=0)\n",
    "all_train_data = np.append(all_train_data ,Bombardier_augmented_train_matrix3, axis=0)\n",
    "\n",
    "all_train_data = np.append(all_train_data ,Airbus_augmented_train_matrix, axis=0)\n",
    "all_train_data = np.append(all_train_data ,Airbus_augmented_train_matrix2, axis=0)\n",
    "all_train_data = np.append(all_train_data ,Airbus_augmented_train_matrix3, axis=0)\n",
    "\n",
    "print(all_train_data.shape)\n"
   ]
  },
  {
   "cell_type": "code",
   "execution_count": 59,
   "metadata": {},
   "outputs": [],
   "source": [
    "all_test_data = []"
   ]
  },
  {
   "cell_type": "code",
   "execution_count": 60,
   "metadata": {},
   "outputs": [
    {
     "name": "stdout",
     "output_type": "stream",
     "text": [
      "(97, 32001)\n"
     ]
    }
   ],
   "source": [
    "all_test_data = np.append(Boeing_slices_test_matrix, Embraer_slices_test_matrix, axis=0)\n",
    "all_test_data = np.append(all_test_data, Bombardier_slices_test_matrix, axis=0)\n",
    "all_test_data = np.append(all_test_data , Airbus_slices_test_matrix,axis=0)\n",
    "print(all_test_data.shape)\n",
    "\n",
    "np.random.shuffle(all_train_data)\n",
    "np.random.shuffle(all_test_data)\n",
    "\n",
    "y_train = np.asarray(all_train_data[:,0])\n",
    "X_train = np.asarray(all_train_data[:,1:32001])\n",
    "\n",
    "y_test = np.asarray(all_test_data[:,0])\n",
    "X_test = np.asarray(all_test_data[:,1:32001])"
   ]
  },
  {
   "cell_type": "code",
   "execution_count": 61,
   "metadata": {},
   "outputs": [
    {
     "name": "stdout",
     "output_type": "stream",
     "text": [
      "(652,)\n",
      "(652, 32000)\n",
      "(97,)\n",
      "(97, 32000)\n"
     ]
    }
   ],
   "source": [
    "print(y_train.shape)\n",
    "print(X_train.shape)\n",
    "print(y_test.shape)\n",
    "print(X_test.shape)"
   ]
  },
  {
   "cell_type": "code",
   "execution_count": 62,
   "metadata": {},
   "outputs": [
    {
     "name": "stdout",
     "output_type": "stream",
     "text": [
      "652\n",
      "97\n"
     ]
    }
   ],
   "source": [
    "trainsize = len(y_train)\n",
    "print(trainsize)\n",
    "testsize = len(y_test)\n",
    "print(testsize)"
   ]
  },
  {
   "cell_type": "markdown",
   "metadata": {},
   "source": [
    "### Save Intermediary Files"
   ]
  },
  {
   "cell_type": "code",
   "execution_count": 63,
   "metadata": {},
   "outputs": [],
   "source": [
    "y_train = np.asarray(y_train)\n",
    "X_train = np.asarray(X_train)\n",
    "y_test = np.asarray(y_test)\n",
    "X_test = np.asarray(X_test)"
   ]
  },
  {
   "cell_type": "code",
   "execution_count": 64,
   "metadata": {},
   "outputs": [],
   "source": [
    "# Eliminate any rows that are all nulls\n",
    "X_test_nulls = np.where(~X_test.any(axis=1))[0]\n",
    "X_train_nulls = np.where(~X_test.any(axis=1))[0]"
   ]
  },
  {
   "cell_type": "markdown",
   "metadata": {},
   "source": [
    "### Featurizing"
   ]
  },
  {
   "cell_type": "code",
   "execution_count": 65,
   "metadata": {},
   "outputs": [],
   "source": [
    "# Function to convert audio from integer to float range\n",
    "def convert_audio_i2f(audio):\n",
    "    audio = audio.astype(np.float32, order='C') / 32000.0\n",
    "    return audio"
   ]
  },
  {
   "cell_type": "code",
   "execution_count": 66,
   "metadata": {},
   "outputs": [],
   "source": [
    "# Function to replace outliers\n",
    "def replace_outliers(data_in, para=1.5):\n",
    "    median = np.median(data_in)\n",
    "    for val in range(0, len(data_in)):\n",
    "        if (abs(data_in[val] - median)) >= (\n",
    "                para * np.std(data_in)):  # std dev used of fund frequency for this class\n",
    "            data_in[val] = median\n",
    "\n",
    "    return data_in"
   ]
  },
  {
   "cell_type": "code",
   "execution_count": 67,
   "metadata": {},
   "outputs": [],
   "source": [
    "# Function to generate fundamental frequencies from audio sample\n",
    "def fundamental_freq_gen(y):\n",
    "    y = np.array(y).astype(np.float)\n",
    "    sr = float(32000)\n",
    "    # Predict fundamental frequency based on crepe pre-trained pitch model\n",
    "    _, frequency, _, _ = crepe.predict(y,\n",
    "                                       sr,\n",
    "                                       viterbi=False,\n",
    "                                       verbose=0, step_size=100,\n",
    "                                       model_capacity=\"full\")\n",
    "    frequency = np.array(frequency)    \n",
    "    # Reshape for one prediction\n",
    "    frequency = frequency.reshape(1, -1)\n",
    "    return frequency"
   ]
  },
  {
   "cell_type": "code",
   "execution_count": 68,
   "metadata": {},
   "outputs": [],
   "source": [
    "train_data_masked = 0\n"
   ]
  },
  {
   "cell_type": "code",
   "execution_count": 69,
   "metadata": {},
   "outputs": [
    {
     "name": "stdout",
     "output_type": "stream",
     "text": [
      "652\n",
      "97\n"
     ]
    }
   ],
   "source": [
    "# print(train_data_cwt_array.shape)\n",
    "# print(test_data_cwt_array.shape)\n",
    "print(trainsize)\n",
    "print(testsize)"
   ]
  },
  {
   "cell_type": "code",
   "execution_count": 70,
   "metadata": {},
   "outputs": [],
   "source": [
    "mfcc = []"
   ]
  },
  {
   "cell_type": "code",
   "execution_count": 71,
   "metadata": {},
   "outputs": [],
   "source": [
    "# Function to generate constant q and fundamental frequency features for each audio sample.\n",
    "def _generate_features(data):\n",
    "    allfreqs = []\n",
    "    index = 0\n",
    "    primary_input = []\n",
    "    crepe_input = []\n",
    "    labels = []\n",
    "    data = np.asarray(data)\n",
    "    data = data.astype(float)\n",
    "    row_count = len(data)\n",
    "    print(row_count)\n",
    "    for x in range(0, row_count):\n",
    "        raw_data = np.asarray(data[x,])\n",
    "        crepe_data = np.asarray(data[x,])\n",
    "        # stft_data = librosa.core.stft(convert_audio_i2f(raw_data))\n",
    "        constant_q = np.abs(librosa.cqt(convert_audio_i2f(raw_data), sr=32000, fmin=librosa.note_to_hz('C1'), n_bins=70, bins_per_octave=12))\n",
    "        constant_q_shape_1 = constant_q.shape[1]\n",
    "        constant_q_shape_0 = constant_q.shape[0]\n",
    "        primary_input.append(constant_q)\n",
    "        \n",
    "    primary_input = np.array(primary_input).reshape(-1, constant_q_shape_0, constant_q_shape_1, 1)\n",
    "    print(primary_input.shape)\n",
    "\n",
    "    for rows in range(0,row_count):\n",
    "        freq = fundamental_freq_gen(data[rows,:])\n",
    "        index = index + 1\n",
    "        freq = np.array(freq)\n",
    "        allfreqs.append(freq)\n",
    "        crepe_input = np.array(allfreqs)\n",
    "\n",
    "    print(crepe_input.shape)\n",
    "    print(row_count)\n",
    "    crepe_input= crepe_input.reshape(row_count, 11)\n",
    "    normalized_crepe_input = np.array([replace_outliers(x) for x in crepe_input])\n",
    "    print(normalized_crepe_input.shape)\n",
    "    return primary_input, normalized_crepe_input"
   ]
  },
  {
   "cell_type": "code",
   "execution_count": 72,
   "metadata": {},
   "outputs": [],
   "source": [
    "def _create_masked_spec(data, mask_freq_factor, mask_time_1, mask_time_2):\n",
    "\n",
    "    flow = naf.Sequential([\n",
    "        nas.FrequencyMaskingAug(mask_factor=mask_freq_factor), \n",
    "        nas.TimeMaskingAug(mask_factor=mask_time_1), \n",
    "        nas.TimeMaskingAug(mask_factor=mask_time_2)])\n",
    "    primary_input = []\n",
    "    data = np.asarray(data)\n",
    "    data = data.astype(float)\n",
    "    row_count = len(data)\n",
    "\n",
    "    for x in range(0, row_count):\n",
    "        raw_data = np.asarray(data[x,])\n",
    "        constant_q = np.abs(librosa.cqt(convert_audio_i2f(raw_data), sr=32000, fmin=librosa.note_to_hz('C1'), n_bins=70, bins_per_octave=12))\n",
    "        augmented_spectrogram = flow.augment(constant_q)\n",
    "        \n",
    "        augmented_spectrogram_shape_1 = augmented_spectrogram.shape[1]\n",
    "        caugmented_spectrogram_shape_0 = augmented_spectrogram.shape[0]\n",
    "        primary_input.append(augmented_spectrogram)\n",
    "    primary_input = np.array(primary_input).reshape(-1, caugmented_spectrogram_shape_0, augmented_spectrogram_shape_1, 1)\n",
    "    print(VisualSpectrogram.visual('Frequency Masking', augmented_spectrogram))\n",
    "    \n",
    "    \n",
    "    return primary_input\n",
    "        \n",
    "# VisualSpectrogram.visual('Frequency Masking', augmented_mel_spectrogram)"
   ]
  },
  {
   "cell_type": "code",
   "execution_count": null,
   "metadata": {},
   "outputs": [],
   "source": []
  },
  {
   "cell_type": "code",
   "execution_count": 73,
   "metadata": {},
   "outputs": [
    {
     "name": "stdout",
     "output_type": "stream",
     "text": [
      "652\n"
     ]
    },
    {
     "name": "stderr",
     "output_type": "stream",
     "text": [
      "C:\\Users\\pattyry\\AppData\\Roaming\\Python\\Python36\\site-packages\\scipy\\sparse\\lil.py:514: FutureWarning: future versions will not create a writeable array from broadcast_array. Set the writable flag explicitly to avoid this warning.\n",
      "  if not j.flags.writeable or j.dtype not in (np.int32, np.int64):\n"
     ]
    },
    {
     "name": "stdout",
     "output_type": "stream",
     "text": [
      "(652, 70, 63, 1)\n",
      "(652, 1, 11)\n",
      "652\n",
      "(652, 11)\n"
     ]
    }
   ],
   "source": [
    "# Generate Training Features\n",
    "train_cq_input, train_crepe_input = _generate_features(X_train)"
   ]
  },
  {
   "cell_type": "code",
   "execution_count": 74,
   "metadata": {},
   "outputs": [
    {
     "data": {
      "image/png": "[encoded data removed]",
      "text/plain": [
       "<Figure size 800x400 with 2 Axes>"
      ]
     },
     "metadata": {},
     "output_type": "display_data"
    },
    {
     "name": "stdout",
     "output_type": "stream",
     "text": [
      "None\n"
     ]
    }
   ],
   "source": [
    "# Generate Training Features\n",
    "train_aug_cq_input = _create_masked_spec(X_train, 30, 10, 20)"
   ]
  },
  {
   "cell_type": "code",
   "execution_count": 75,
   "metadata": {},
   "outputs": [
    {
     "name": "stdout",
     "output_type": "stream",
     "text": [
      "97\n",
      "(97, 70, 63, 1)\n",
      "(97, 1, 11)\n",
      "97\n",
      "(97, 11)\n"
     ]
    },
    {
     "data": {
      "image/png": "[encoded data removed]",
      "text/plain": [
       "<Figure size 800x400 with 2 Axes>"
      ]
     },
     "metadata": {},
     "output_type": "display_data"
    },
    {
     "name": "stdout",
     "output_type": "stream",
     "text": [
      "None\n"
     ]
    }
   ],
   "source": [
    "# Generate test features\n",
    "test_cq_input, crepe_test_input = _generate_features(X_test)\n",
    "test_aug_cq_input = _create_masked_spec(X_test, 30, 10, 20)"
   ]
  },
  {
   "cell_type": "code",
   "execution_count": 76,
   "metadata": {},
   "outputs": [
    {
     "name": "stdout",
     "output_type": "stream",
     "text": [
      "train input shapes\n",
      "(652, 70, 63, 1)\n",
      "(652, 11)\n",
      "(652, 70, 63, 1)\n",
      "test input shapes\n",
      "(97, 70, 63, 1)\n",
      "(97, 11)\n",
      "(97, 70, 63, 1)\n"
     ]
    }
   ],
   "source": [
    "print('train input shapes')\n",
    "print(train_cq_input.shape)\n",
    "print(train_crepe_input.shape)\n",
    "print(train_aug_cq_input.shape)\n",
    "print('test input shapes')\n",
    "print(test_cq_input.shape)\n",
    "print(crepe_test_input.shape)\n",
    "print(test_aug_cq_input.shape)"
   ]
  },
  {
   "cell_type": "code",
   "execution_count": 77,
   "metadata": {},
   "outputs": [],
   "source": [
    "#train_cq_input = keras.utils.normalize(train_cq_input, axis=-1, order=2)"
   ]
  },
  {
   "cell_type": "code",
   "execution_count": 78,
   "metadata": {},
   "outputs": [
    {
     "name": "stdout",
     "output_type": "stream",
     "text": [
      "CQT Shape (70, 63, 1)\n",
      "Crepe Input Shape (11,)\n",
      "Aug CQ Input Shape (70, 63, 1)\n"
     ]
    }
   ],
   "source": [
    "#Define Single input shape\n",
    "cq_input_shape = train_cq_input[0].shape\n",
    "print(\"CQT Shape\",cq_input_shape)\n",
    "crepe_input_shape = train_crepe_input[0].shape\n",
    "print(\"Crepe Input Shape\", crepe_input_shape)\n",
    "aug_cq_shape = train_aug_cq_input[0].shape\n",
    "print(\"Aug CQ Input Shape\", aug_cq_shape)"
   ]
  },
  {
   "cell_type": "code",
   "execution_count": 79,
   "metadata": {},
   "outputs": [],
   "source": [
    "# Convert labels to categorical\n",
    "y_test_labels = to_categorical(y_test)\n",
    "y_train_labels = to_categorical(y_train)"
   ]
  },
  {
   "cell_type": "code",
   "execution_count": 80,
   "metadata": {},
   "outputs": [
    {
     "name": "stdout",
     "output_type": "stream",
     "text": [
      "D:\\aircraft-audio\\local-data\n"
     ]
    }
   ],
   "source": [
    "os.chdir(\"D:\\\\aircraft-audio\\\\local-data\")\n",
    "print(os.getcwd())\n",
    "from keras import regularizers"
   ]
  },
  {
   "cell_type": "markdown",
   "metadata": {},
   "source": [
    "### Model Building"
   ]
  },
  {
   "cell_type": "markdown",
   "metadata": {},
   "source": [
    "#### Model Architecture"
   ]
  },
  {
   "cell_type": "code",
   "execution_count": 81,
   "metadata": {},
   "outputs": [],
   "source": [
    "def get_model():\n",
    "    nclass = 2\n",
    "    initializer1 = keras.initializers.RandomNormal\n",
    "    initializer2 = keras.initializers.Zeros()\n",
    "    initializer3 = keras.initializers.glorot_uniform(seed=None)\n",
    "    initializer4 = keras.initializers.lecun_normal(seed=None)\n",
    "\n",
    "   \n",
    "    inp = Input(shape=cq_input_shape)\n",
    "    img_1 = LeakyReLU(alpha=0.2)(inp)\n",
    "    img_1 = Conv2D(128, kernel_size=(3,3),       \n",
    "                   kernel_initializer=initializer4,  kernel_regularizer = regularizers.l2(0.001),         \n",
    "                   use_bias=True, bias_initializer=initializers.Zeros(),padding=\"valid\")(img_1)\n",
    "    img_1 = Dropout(0.3)(img_1)\n",
    "    img_1 = MaxPooling2D(pool_size=(2,2))(img_1)\n",
    "    \n",
    "    img_1 = LeakyReLU(alpha=0.2)(img_1)\n",
    "    img_1 = Conv2D(64, kernel_size=(3,3),       \n",
    "                   kernel_initializer=initializer4, kernel_regularizer = regularizers.l2(0.001),            \n",
    "                   use_bias=True, bias_initializer=initializers.Zeros(),padding=\"valid\")(img_1)\n",
    "    img_1 = LeakyReLU(alpha=0.2)(img_1)\n",
    "    img_1 = Dropout(0.3)(img_1)\n",
    "    img_1 = MaxPooling2D(pool_size=(2,2))(img_1)\n",
    "    \n",
    "    img_1 = Conv2D(64, kernel_size=(3,3),       \n",
    "                   kernel_initializer=initializer4,  kernel_regularizer = regularizers.l2(0.001),             \n",
    "                   use_bias=True, bias_initializer=initializers.Zeros(),padding=\"valid\")(img_1)\n",
    "    img_1 = LeakyReLU(alpha=0.2)(img_1)\n",
    "    img_1 = Dropout(0.3)(img_1)\n",
    "    img_1 = MaxPooling2D(pool_size=(2,2))(img_1)\n",
    "    \n",
    "    img_1 = Conv2D(64, kernel_size=(3,3),       \n",
    "                   kernel_initializer=initializer4,  kernel_regularizer = regularizers.l2(0.001),          \n",
    "                   use_bias=True, bias_initializer=initializers.Zeros(),padding=\"valid\")(img_1)\n",
    "    img_1 = LeakyReLU(alpha=0.2)(img_1)\n",
    "    img_1 = Dropout(0.3)(img_1)\n",
    "    \n",
    "    img_1 = Conv2D(64, kernel_size=(3,3),       \n",
    "                   kernel_initializer=initializer4,  kernel_regularizer = regularizers.l2(0.001),            \n",
    "                   use_bias=True, bias_initializer=initializers.Zeros(),padding=\"valid\")(img_1)\n",
    "    img_1 = LeakyReLU(alpha=0.2)(img_1)\n",
    "    img_1 = Dropout(0.5)(img_1)   \n",
    "    \n",
    "    img_1 = MaxPooling2D(pool_size=(2,2))(img_1)\n",
    "    img_1 = Dropout(0.5)(img_1)\n",
    "    img_1 = Flatten()(img_1)\n",
    "    img_1 = Dense(512, kernel_regularizer = regularizers.l2(0.001))(img_1)\n",
    "    img_1 = Dropout(0.5)(img_1)\n",
    "    img_1 = Dense(256, kernel_regularizer = regularizers.l2(0.001))(img_1)\n",
    "    img_1 = Dropout(0.5)(img_1) \n",
    "\n",
    "    inp2 = Input(shape=aug_cq_shape)\n",
    "    img_2 = LeakyReLU(alpha=0.2)(inp2)\n",
    "    img_2 = Conv2D(128, kernel_size=(3,3),       \n",
    "                   kernel_initializer=initializer4, kernel_regularizer = regularizers.l2(0.001),           \n",
    "                   use_bias=True, bias_initializer=initializers.Zeros(),padding=\"valid\")(img_2)\n",
    "    img_2 = Dropout(0.5)(img_2)\n",
    "    img_2 = MaxPooling2D(pool_size=(2,2))(img_2)\n",
    "    \n",
    "    img_2 = LeakyReLU(alpha=0.2)(img_2)\n",
    "    img_2 = Conv2D(128, kernel_size=(3,3),       \n",
    "                   kernel_initializer=initializer4, kernel_regularizer = regularizers.l2(0.001),           \n",
    "                   use_bias=True, bias_initializer=initializers.Zeros(),padding=\"valid\")(img_2)\n",
    "    img_2 = LeakyReLU(alpha=0.2)(img_2)\n",
    "    img_2 = Dropout(0.5)(img_2)\n",
    "    img_2 = MaxPooling2D(pool_size=(2,2))(img_2)\n",
    "    \n",
    "    img_2 = Conv2D(128, kernel_size=(3,3),       \n",
    "                   kernel_initializer=initializer4, kernel_regularizer = regularizers.l2(0.001),           \n",
    "                   use_bias=True, bias_initializer=initializers.Zeros(),padding=\"valid\")(img_2)\n",
    "    img_2 = LeakyReLU(alpha=0.2)(img_2)\n",
    "    img_2 = Dropout(0.5)(img_2)\n",
    "    img_2 = MaxPooling2D(pool_size=(2,2))(img_2)\n",
    "    \n",
    "    img_2 = Conv2D(128, kernel_size=(3,3),       \n",
    "                   kernel_initializer=initializer4, kernel_regularizer = regularizers.l2(0.001),           \n",
    "                   use_bias=True, bias_initializer=initializers.Zeros(),padding=\"valid\")(img_2)\n",
    "    img_2 = LeakyReLU(alpha=0.2)(img_2)\n",
    "    img_2 = Dropout(0.5)(img_2)\n",
    "    \n",
    "    img_2 = Conv2D(128, kernel_size=(3,3),       \n",
    "                   kernel_initializer=initializer4, kernel_regularizer = regularizers.l2(0.001),           \n",
    "                   use_bias=True, bias_initializer=initializers.Zeros(),padding=\"valid\")(img_2)\n",
    "    img_2 = LeakyReLU(alpha=0.2)(img_2)\n",
    "    img_2 = Dropout(0.5)(img_2)  \n",
    "    \n",
    "    img_2 = MaxPooling2D(pool_size=(2,2))(img_2)\n",
    "    img_2 = Dropout(0.5)(img_2)\n",
    "    img_2 = Flatten()(img_2)\n",
    "    img_2 = Dense(512, kernel_regularizer = regularizers.l2(0.001))(img_2)\n",
    "    img_2 = Dropout(0.5)(img_2)\n",
    "    img_2 = Dense(256, kernel_regularizer = regularizers.l2(0.001))(img_2)\n",
    "    img_2 = Dropout(0.5)(img_2)  \n",
    "    \n",
    "    \n",
    "    crepe_inp = Input(shape=crepe_input_shape)\n",
    "    crepe_dense = LeakyReLU(alpha=0.2)(crepe_inp)\n",
    "    \n",
    "    crepe_dense = Dense(24,  kernel_initializer=initializer4, kernel_regularizer = regularizers.l2(0.001),\n",
    "                    bias_initializer=initializers.Zeros(),use_bias=True)(crepe_dense)\n",
    "    crepe_dense = Dropout(0.1)(crepe_dense)   \n",
    "    \n",
    "    concat_layer = keras.layers.concatenate([img_1, img_2, crepe_dense])\n",
    "    concat_dense = LeakyReLU(alpha=0.2)(concat_layer)\n",
    "    concat_dense = Dense(16, kernel_initializer=initializer4, kernel_regularizer = regularizers.l2(0.001),\n",
    "                         bias_initializer=initializers.Zeros(),use_bias=True)(concat_dense)\n",
    "    concat_dense = Dropout(0.4)(concat_dense)\n",
    "    concat_dense = Dense(12, kernel_regularizer = regularizers.l2(0.001))(concat_dense)\n",
    "    \n",
    "    output_layer = Dense(2,activation=activations.sigmoid)(concat_dense)\n",
    "    model = models.Model(inputs=[inp, inp2, crepe_inp], outputs=[output_layer])\n",
    "    opt = optimizers.Adam(lr=0.00003, beta_1=0.9, beta_2=0.999, epsilon=1e-5, decay=0.00, amsgrad=True)\n",
    "    model.compile(optimizer=opt, loss=losses.binary_crossentropy, metrics=['acc'])\n",
    "    model.summary()\n",
    "    from keras.utils import plot_model\n",
    "    plot_model(model, to_file='model.png')\n",
    "    \n",
    "    return model"
   ]
  },
  {
   "cell_type": "code",
   "execution_count": 82,
   "metadata": {},
   "outputs": [],
   "source": [
    "# If wanted, add class weighting\n",
    "total_len = len(y_train)\n",
    "class_weight = {0: total_len/len([x for x in y_train==0 if x]),\n",
    "                1: total_len/len([x for x in y_train==1 if x])}"
   ]
  },
  {
   "cell_type": "code",
   "execution_count": 83,
   "metadata": {},
   "outputs": [],
   "source": [
    "reduce_lr = keras.callbacks.ReduceLROnPlateau(monitor='val_loss', factor=0.1,\n",
    "                              patience=5, min_lr=0.000001)\n"
   ]
  },
  {
   "cell_type": "code",
   "execution_count": 84,
   "metadata": {},
   "outputs": [
    {
     "name": "stdout",
     "output_type": "stream",
     "text": [
      "__________________________________________________________________________________________________\n",
      "Layer (type)                    Output Shape         Param #     Connected to                     \n",
      "==================================================================================================\n",
      "input_4 (InputLayer)            (None, 70, 63, 1)    0                                            \n",
      "__________________________________________________________________________________________________\n",
      "input_5 (InputLayer)            (None, 70, 63, 1)    0                                            \n",
      "__________________________________________________________________________________________________\n",
      "leaky_re_lu_15 (LeakyReLU)      (None, 70, 63, 1)    0           input_4[0][0]                    \n",
      "__________________________________________________________________________________________________\n",
      "leaky_re_lu_21 (LeakyReLU)      (None, 70, 63, 1)    0           input_5[0][0]                    \n",
      "__________________________________________________________________________________________________\n",
      "conv2d_11 (Conv2D)              (None, 68, 61, 128)  1280        leaky_re_lu_15[0][0]             \n",
      "__________________________________________________________________________________________________\n",
      "conv2d_16 (Conv2D)              (None, 68, 61, 128)  1280        leaky_re_lu_21[0][0]             \n",
      "__________________________________________________________________________________________________\n",
      "dropout_19 (Dropout)            (None, 68, 61, 128)  0           conv2d_11[0][0]                  \n",
      "__________________________________________________________________________________________________\n",
      "dropout_27 (Dropout)            (None, 68, 61, 128)  0           conv2d_16[0][0]                  \n",
      "__________________________________________________________________________________________________\n",
      "max_pooling2d_9 (MaxPooling2D)  (None, 34, 30, 128)  0           dropout_19[0][0]                 \n",
      "__________________________________________________________________________________________________\n",
      "max_pooling2d_13 (MaxPooling2D) (None, 34, 30, 128)  0           dropout_27[0][0]                 \n",
      "__________________________________________________________________________________________________\n",
      "leaky_re_lu_16 (LeakyReLU)      (None, 34, 30, 128)  0           max_pooling2d_9[0][0]            \n",
      "__________________________________________________________________________________________________\n",
      "leaky_re_lu_22 (LeakyReLU)      (None, 34, 30, 128)  0           max_pooling2d_13[0][0]           \n",
      "__________________________________________________________________________________________________\n",
      "conv2d_12 (Conv2D)              (None, 32, 28, 64)   73792       leaky_re_lu_16[0][0]             \n",
      "__________________________________________________________________________________________________\n",
      "conv2d_17 (Conv2D)              (None, 32, 28, 128)  147584      leaky_re_lu_22[0][0]             \n",
      "__________________________________________________________________________________________________\n",
      "leaky_re_lu_17 (LeakyReLU)      (None, 32, 28, 64)   0           conv2d_12[0][0]                  \n",
      "__________________________________________________________________________________________________\n",
      "leaky_re_lu_23 (LeakyReLU)      (None, 32, 28, 128)  0           conv2d_17[0][0]                  \n",
      "__________________________________________________________________________________________________\n",
      "dropout_20 (Dropout)            (None, 32, 28, 64)   0           leaky_re_lu_17[0][0]             \n",
      "__________________________________________________________________________________________________\n",
      "dropout_28 (Dropout)            (None, 32, 28, 128)  0           leaky_re_lu_23[0][0]             \n",
      "__________________________________________________________________________________________________\n",
      "max_pooling2d_10 (MaxPooling2D) (None, 16, 14, 64)   0           dropout_20[0][0]                 \n",
      "__________________________________________________________________________________________________\n",
      "max_pooling2d_14 (MaxPooling2D) (None, 16, 14, 128)  0           dropout_28[0][0]                 \n",
      "__________________________________________________________________________________________________\n",
      "conv2d_13 (Conv2D)              (None, 14, 12, 64)   36928       max_pooling2d_10[0][0]           \n",
      "__________________________________________________________________________________________________\n",
      "conv2d_18 (Conv2D)              (None, 14, 12, 128)  147584      max_pooling2d_14[0][0]           \n",
      "__________________________________________________________________________________________________\n",
      "leaky_re_lu_18 (LeakyReLU)      (None, 14, 12, 64)   0           conv2d_13[0][0]                  \n",
      "__________________________________________________________________________________________________\n",
      "leaky_re_lu_24 (LeakyReLU)      (None, 14, 12, 128)  0           conv2d_18[0][0]                  \n",
      "__________________________________________________________________________________________________\n",
      "dropout_21 (Dropout)            (None, 14, 12, 64)   0           leaky_re_lu_18[0][0]             \n",
      "__________________________________________________________________________________________________\n",
      "dropout_29 (Dropout)            (None, 14, 12, 128)  0           leaky_re_lu_24[0][0]             \n",
      "__________________________________________________________________________________________________\n",
      "max_pooling2d_11 (MaxPooling2D) (None, 7, 6, 64)     0           dropout_21[0][0]                 \n",
      "__________________________________________________________________________________________________\n",
      "max_pooling2d_15 (MaxPooling2D) (None, 7, 6, 128)    0           dropout_29[0][0]                 \n",
      "__________________________________________________________________________________________________\n",
      "conv2d_14 (Conv2D)              (None, 5, 4, 64)     36928       max_pooling2d_11[0][0]           \n",
      "__________________________________________________________________________________________________\n",
      "conv2d_19 (Conv2D)              (None, 5, 4, 128)    147584      max_pooling2d_15[0][0]           \n",
      "__________________________________________________________________________________________________\n",
      "leaky_re_lu_19 (LeakyReLU)      (None, 5, 4, 64)     0           conv2d_14[0][0]                  \n",
      "__________________________________________________________________________________________________\n",
      "leaky_re_lu_25 (LeakyReLU)      (None, 5, 4, 128)    0           conv2d_19[0][0]                  \n",
      "__________________________________________________________________________________________________\n",
      "dropout_22 (Dropout)            (None, 5, 4, 64)     0           leaky_re_lu_19[0][0]             \n",
      "__________________________________________________________________________________________________\n",
      "dropout_30 (Dropout)            (None, 5, 4, 128)    0           leaky_re_lu_25[0][0]             \n",
      "__________________________________________________________________________________________________\n",
      "conv2d_15 (Conv2D)              (None, 3, 2, 64)     36928       dropout_22[0][0]                 \n",
      "__________________________________________________________________________________________________\n",
      "conv2d_20 (Conv2D)              (None, 3, 2, 128)    147584      dropout_30[0][0]                 \n",
      "__________________________________________________________________________________________________\n",
      "leaky_re_lu_20 (LeakyReLU)      (None, 3, 2, 64)     0           conv2d_15[0][0]                  \n",
      "__________________________________________________________________________________________________\n",
      "leaky_re_lu_26 (LeakyReLU)      (None, 3, 2, 128)    0           conv2d_20[0][0]                  \n",
      "__________________________________________________________________________________________________\n",
      "dropout_23 (Dropout)            (None, 3, 2, 64)     0           leaky_re_lu_20[0][0]             \n",
      "__________________________________________________________________________________________________\n",
      "dropout_31 (Dropout)            (None, 3, 2, 128)    0           leaky_re_lu_26[0][0]             \n",
      "__________________________________________________________________________________________________\n",
      "max_pooling2d_12 (MaxPooling2D) (None, 1, 1, 64)     0           dropout_23[0][0]                 \n",
      "__________________________________________________________________________________________________\n",
      "max_pooling2d_16 (MaxPooling2D) (None, 1, 1, 128)    0           dropout_31[0][0]                 \n",
      "__________________________________________________________________________________________________\n",
      "dropout_24 (Dropout)            (None, 1, 1, 64)     0           max_pooling2d_12[0][0]           \n",
      "__________________________________________________________________________________________________\n",
      "dropout_32 (Dropout)            (None, 1, 1, 128)    0           max_pooling2d_16[0][0]           \n",
      "__________________________________________________________________________________________________\n",
      "flatten_3 (Flatten)             (None, 64)           0           dropout_24[0][0]                 \n",
      "__________________________________________________________________________________________________\n",
      "flatten_4 (Flatten)             (None, 128)          0           dropout_32[0][0]                 \n",
      "__________________________________________________________________________________________________\n",
      "dense_9 (Dense)                 (None, 512)          33280       flatten_3[0][0]                  \n",
      "__________________________________________________________________________________________________\n",
      "dense_11 (Dense)                (None, 512)          66048       flatten_4[0][0]                  \n",
      "__________________________________________________________________________________________________\n",
      "input_6 (InputLayer)            (None, 11)           0                                            \n",
      "__________________________________________________________________________________________________\n",
      "dropout_25 (Dropout)            (None, 512)          0           dense_9[0][0]                    \n",
      "__________________________________________________________________________________________________\n",
      "dropout_33 (Dropout)            (None, 512)          0           dense_11[0][0]                   \n",
      "__________________________________________________________________________________________________\n",
      "leaky_re_lu_27 (LeakyReLU)      (None, 11)           0           input_6[0][0]                    \n",
      "__________________________________________________________________________________________________\n",
      "dense_10 (Dense)                (None, 256)          131328      dropout_25[0][0]                 \n",
      "__________________________________________________________________________________________________\n",
      "dense_12 (Dense)                (None, 256)          131328      dropout_33[0][0]                 \n",
      "__________________________________________________________________________________________________\n",
      "dense_13 (Dense)                (None, 24)           288         leaky_re_lu_27[0][0]             \n",
      "__________________________________________________________________________________________________\n",
      "dropout_26 (Dropout)            (None, 256)          0           dense_10[0][0]                   \n",
      "__________________________________________________________________________________________________\n",
      "dropout_34 (Dropout)            (None, 256)          0           dense_12[0][0]                   \n",
      "__________________________________________________________________________________________________\n",
      "dropout_35 (Dropout)            (None, 24)           0           dense_13[0][0]                   \n",
      "__________________________________________________________________________________________________\n",
      "concatenate_2 (Concatenate)     (None, 536)          0           dropout_26[0][0]                 \n",
      "                                                                 dropout_34[0][0]                 \n",
      "                                                                 dropout_35[0][0]                 \n",
      "__________________________________________________________________________________________________\n",
      "leaky_re_lu_28 (LeakyReLU)      (None, 536)          0           concatenate_2[0][0]              \n",
      "__________________________________________________________________________________________________\n",
      "dense_14 (Dense)                (None, 16)           8592        leaky_re_lu_28[0][0]             \n",
      "__________________________________________________________________________________________________\n",
      "dropout_36 (Dropout)            (None, 16)           0           dense_14[0][0]                   \n",
      "__________________________________________________________________________________________________\n",
      "dense_15 (Dense)                (None, 12)           204         dropout_36[0][0]                 \n",
      "__________________________________________________________________________________________________\n",
      "dense_16 (Dense)                (None, 2)            26          dense_15[0][0]                   \n",
      "==================================================================================================\n",
      "Total params: 1,148,566\n",
      "Trainable params: 1,148,566\n",
      "Non-trainable params: 0\n",
      "__________________________________________________________________________________________________\n"
     ]
    }
   ],
   "source": [
    "cq_crepe_model = get_model()"
   ]
  },
  {
   "cell_type": "code",
   "execution_count": 85,
   "metadata": {},
   "outputs": [],
   "source": [
    "mcp_save = ModelCheckpoint('best_airplane_landing_12_2.hdf5', save_best_only=True, monitor='val_acc', mode='max')\n"
   ]
  },
  {
   "cell_type": "code",
   "execution_count": 145,
   "metadata": {},
   "outputs": [
    {
     "name": "stdout",
     "output_type": "stream",
     "text": [
      "Train on 652 samples, validate on 97 samples\n",
      "Epoch 1/200\n",
      "652/652 [==============================] - 5s 7ms/step - loss: 5.9488 - acc: 0.6089 - val_loss: 3.1585 - val_acc: 0.7577\n",
      "Epoch 2/200\n",
      "652/652 [==============================] - 5s 7ms/step - loss: 6.6194 - acc: 0.5560 - val_loss: 3.1594 - val_acc: 0.7526\n",
      "Epoch 3/200\n",
      "652/652 [==============================] - 5s 7ms/step - loss: 6.3100 - acc: 0.5468 - val_loss: 3.1602 - val_acc: 0.7526\n",
      "Epoch 4/200\n",
      "652/652 [==============================] - 5s 7ms/step - loss: 5.9644 - acc: 0.5537 - val_loss: 3.1592 - val_acc: 0.7526\n",
      "Epoch 5/200\n",
      "652/652 [==============================] - 5s 7ms/step - loss: 6.4299 - acc: 0.5713 - val_loss: 3.1607 - val_acc: 0.7526\n",
      "Epoch 6/200\n",
      "652/652 [==============================] - 5s 7ms/step - loss: 5.8370 - acc: 0.5821 - val_loss: 3.1605 - val_acc: 0.7526\n",
      "Epoch 7/200\n",
      "652/652 [==============================] - 5s 7ms/step - loss: 6.1416 - acc: 0.5637 - val_loss: 3.1610 - val_acc: 0.7474\n",
      "Epoch 8/200\n",
      "652/652 [==============================] - 5s 7ms/step - loss: 6.1557 - acc: 0.5775 - val_loss: 3.1611 - val_acc: 0.7474\n",
      "Epoch 9/200\n",
      "652/652 [==============================] - 5s 7ms/step - loss: 6.6055 - acc: 0.5506 - val_loss: 3.1616 - val_acc: 0.7474\n",
      "Epoch 10/200\n",
      "652/652 [==============================] - 5s 7ms/step - loss: 6.2373 - acc: 0.5660 - val_loss: 3.1613 - val_acc: 0.7474\n",
      "Epoch 11/200\n",
      "652/652 [==============================] - 5s 7ms/step - loss: 6.2659 - acc: 0.5590 - val_loss: 3.1602 - val_acc: 0.7474\n",
      "Epoch 12/200\n",
      "652/652 [==============================] - 5s 7ms/step - loss: 5.6282 - acc: 0.5813 - val_loss: 3.1609 - val_acc: 0.7474\n",
      "Epoch 13/200\n",
      "652/652 [==============================] - 5s 7ms/step - loss: 5.8961 - acc: 0.5721 - val_loss: 3.1604 - val_acc: 0.7474\n",
      "Epoch 14/200\n",
      "652/652 [==============================] - 5s 7ms/step - loss: 6.2199 - acc: 0.5590 - val_loss: 3.1598 - val_acc: 0.7474\n",
      "Epoch 15/200\n",
      "652/652 [==============================] - 5s 7ms/step - loss: 6.1308 - acc: 0.5590 - val_loss: 3.1596 - val_acc: 0.7474\n",
      "Epoch 16/200\n",
      "652/652 [==============================] - 5s 7ms/step - loss: 5.8620 - acc: 0.5644 - val_loss: 3.1593 - val_acc: 0.7474\n",
      "Epoch 17/200\n",
      "652/652 [==============================] - 5s 7ms/step - loss: 6.1393 - acc: 0.5629 - val_loss: 3.1601 - val_acc: 0.7474\n",
      "Epoch 18/200\n",
      "652/652 [==============================] - 5s 7ms/step - loss: 5.4398 - acc: 0.5997 - val_loss: 3.1613 - val_acc: 0.7474\n",
      "Epoch 19/200\n",
      "652/652 [==============================] - 5s 7ms/step - loss: 5.7552 - acc: 0.5905 - val_loss: 3.1611 - val_acc: 0.7474\n",
      "Epoch 20/200\n",
      "652/652 [==============================] - 5s 7ms/step - loss: 5.7727 - acc: 0.5897 - val_loss: 3.1605 - val_acc: 0.7474\n",
      "Epoch 21/200\n",
      "652/652 [==============================] - 5s 7ms/step - loss: 5.4036 - acc: 0.5951 - val_loss: 3.1587 - val_acc: 0.7474\n",
      "Epoch 22/200\n",
      "652/652 [==============================] - 5s 7ms/step - loss: 5.8859 - acc: 0.5905 - val_loss: 3.1592 - val_acc: 0.7474\n",
      "Epoch 23/200\n",
      "652/652 [==============================] - 5s 7ms/step - loss: 6.0860 - acc: 0.5736 - val_loss: 3.1593 - val_acc: 0.7474\n",
      "Epoch 24/200\n",
      "652/652 [==============================] - 5s 7ms/step - loss: 6.5178 - acc: 0.5460 - val_loss: 3.1606 - val_acc: 0.7474\n",
      "Epoch 25/200\n",
      "652/652 [==============================] - 5s 7ms/step - loss: 6.0608 - acc: 0.5698 - val_loss: 3.1598 - val_acc: 0.7474\n",
      "Epoch 26/200\n",
      "652/652 [==============================] - 5s 7ms/step - loss: 5.7799 - acc: 0.5989 - val_loss: 3.1598 - val_acc: 0.7474\n",
      "Epoch 27/200\n",
      "652/652 [==============================] - 5s 7ms/step - loss: 5.8789 - acc: 0.5874 - val_loss: 3.1577 - val_acc: 0.7526\n",
      "Epoch 28/200\n",
      "652/652 [==============================] - 5s 7ms/step - loss: 6.0642 - acc: 0.5652 - val_loss: 3.1574 - val_acc: 0.7526\n",
      "Epoch 29/200\n",
      "652/652 [==============================] - 5s 7ms/step - loss: 5.9477 - acc: 0.5667 - val_loss: 3.1562 - val_acc: 0.7526\n",
      "Epoch 30/200\n",
      "652/652 [==============================] - 5s 7ms/step - loss: 6.0856 - acc: 0.5713 - val_loss: 3.1565 - val_acc: 0.7526\n",
      "Epoch 31/200\n",
      "652/652 [==============================] - 5s 7ms/step - loss: 6.3546 - acc: 0.5729 - val_loss: 3.1562 - val_acc: 0.7526\n",
      "Epoch 32/200\n",
      "652/652 [==============================] - 5s 7ms/step - loss: 6.5635 - acc: 0.5698 - val_loss: 3.1562 - val_acc: 0.7577\n",
      "Epoch 33/200\n",
      "652/652 [==============================] - 5s 7ms/step - loss: 6.0990 - acc: 0.5613 - val_loss: 3.1551 - val_acc: 0.7629\n",
      "Epoch 34/200\n",
      "652/652 [==============================] - 5s 7ms/step - loss: 6.2509 - acc: 0.5851 - val_loss: 3.1551 - val_acc: 0.7629\n",
      "Epoch 35/200\n",
      "652/652 [==============================] - 5s 7ms/step - loss: 6.2390 - acc: 0.5514 - val_loss: 3.1560 - val_acc: 0.7629\n",
      "Epoch 36/200\n",
      "652/652 [==============================] - 5s 7ms/step - loss: 5.9509 - acc: 0.5790 - val_loss: 3.1544 - val_acc: 0.7629\n",
      "Epoch 37/200\n",
      "652/652 [==============================] - 5s 7ms/step - loss: 5.9966 - acc: 0.5790 - val_loss: 3.1543 - val_acc: 0.7629\n",
      "Epoch 38/200\n",
      "652/652 [==============================] - 5s 7ms/step - loss: 5.9101 - acc: 0.6051 - val_loss: 3.1538 - val_acc: 0.7629\n",
      "Epoch 39/200\n",
      "652/652 [==============================] - 5s 7ms/step - loss: 6.5261 - acc: 0.5353 - val_loss: 3.1543 - val_acc: 0.7629\n",
      "Epoch 40/200\n",
      "652/652 [==============================] - 5s 7ms/step - loss: 6.2076 - acc: 0.5690 - val_loss: 3.1539 - val_acc: 0.7629\n",
      "Epoch 41/200\n",
      "652/652 [==============================] - 5s 7ms/step - loss: 6.0088 - acc: 0.5560 - val_loss: 3.1543 - val_acc: 0.7629\n",
      "Epoch 42/200\n",
      "652/652 [==============================] - 5s 7ms/step - loss: 5.9907 - acc: 0.5943 - val_loss: 3.1547 - val_acc: 0.7629\n",
      "Epoch 43/200\n",
      "652/652 [==============================] - 5s 7ms/step - loss: 5.8988 - acc: 0.5828 - val_loss: 3.1550 - val_acc: 0.7629\n",
      "Epoch 44/200\n",
      "652/652 [==============================] - 5s 7ms/step - loss: 6.2231 - acc: 0.5767 - val_loss: 3.1545 - val_acc: 0.7629\n",
      "Epoch 45/200\n",
      "652/652 [==============================] - 5s 7ms/step - loss: 6.2229 - acc: 0.5644 - val_loss: 3.1546 - val_acc: 0.7629\n",
      "Epoch 46/200\n",
      "652/652 [==============================] - 5s 7ms/step - loss: 6.4059 - acc: 0.5890 - val_loss: 3.1560 - val_acc: 0.7629\n",
      "Epoch 47/200\n",
      "652/652 [==============================] - 5s 7ms/step - loss: 5.7006 - acc: 0.5744 - val_loss: 3.1554 - val_acc: 0.7629\n",
      "Epoch 48/200\n",
      "652/652 [==============================] - 5s 7ms/step - loss: 6.2052 - acc: 0.5759 - val_loss: 3.1557 - val_acc: 0.7629\n",
      "Epoch 49/200\n",
      "652/652 [==============================] - 5s 7ms/step - loss: 5.8529 - acc: 0.5890 - val_loss: 3.1551 - val_acc: 0.7629\n",
      "Epoch 50/200\n",
      "652/652 [==============================] - 5s 7ms/step - loss: 5.8893 - acc: 0.5851 - val_loss: 3.1552 - val_acc: 0.7526\n",
      "Epoch 51/200\n",
      "652/652 [==============================] - 5s 7ms/step - loss: 5.9392 - acc: 0.5644 - val_loss: 3.1559 - val_acc: 0.7526\n",
      "Epoch 52/200\n",
      "652/652 [==============================] - 5s 7ms/step - loss: 6.1591 - acc: 0.5506 - val_loss: 3.1555 - val_acc: 0.7526\n",
      "Epoch 53/200\n",
      "652/652 [==============================] - 5s 7ms/step - loss: 6.0761 - acc: 0.5544 - val_loss: 3.1563 - val_acc: 0.7526\n",
      "Epoch 54/200\n",
      "652/652 [==============================] - 5s 7ms/step - loss: 5.8486 - acc: 0.5821 - val_loss: 3.1554 - val_acc: 0.7526\n",
      "Epoch 55/200\n",
      "652/652 [==============================] - 5s 7ms/step - loss: 6.1733 - acc: 0.5468 - val_loss: 3.1562 - val_acc: 0.7526\n",
      "Epoch 56/200\n",
      "652/652 [==============================] - 5s 7ms/step - loss: 6.3250 - acc: 0.5598 - val_loss: 3.1571 - val_acc: 0.7474\n",
      "Epoch 57/200\n",
      "652/652 [==============================] - 5s 7ms/step - loss: 6.6468 - acc: 0.5376 - val_loss: 3.1574 - val_acc: 0.7474\n",
      "Epoch 58/200\n",
      "652/652 [==============================] - 5s 7ms/step - loss: 6.0921 - acc: 0.5575 - val_loss: 3.1579 - val_acc: 0.7474\n",
      "Epoch 59/200\n",
      "652/652 [==============================] - 5s 7ms/step - loss: 6.1493 - acc: 0.5613 - val_loss: 3.1580 - val_acc: 0.7474\n",
      "Epoch 60/200\n",
      "652/652 [==============================] - 5s 7ms/step - loss: 5.8119 - acc: 0.5844 - val_loss: 3.1565 - val_acc: 0.7474\n",
      "Epoch 61/200\n",
      "652/652 [==============================] - 5s 7ms/step - loss: 5.9224 - acc: 0.5836 - val_loss: 3.1559 - val_acc: 0.7474\n"
     ]
    },
    {
     "name": "stdout",
     "output_type": "stream",
     "text": [
      "Epoch 62/200\n",
      "652/652 [==============================] - 5s 7ms/step - loss: 5.8784 - acc: 0.5828 - val_loss: 3.1573 - val_acc: 0.7474\n",
      "Epoch 63/200\n",
      "652/652 [==============================] - 5s 7ms/step - loss: 5.8942 - acc: 0.5752 - val_loss: 3.1583 - val_acc: 0.7474\n",
      "Epoch 64/200\n",
      "652/652 [==============================] - 5s 7ms/step - loss: 6.0531 - acc: 0.5706 - val_loss: 3.1574 - val_acc: 0.7474\n",
      "Epoch 65/200\n",
      "652/652 [==============================] - 5s 7ms/step - loss: 5.6945 - acc: 0.5683 - val_loss: 3.1557 - val_acc: 0.7423\n",
      "Epoch 66/200\n",
      "652/652 [==============================] - 5s 7ms/step - loss: 5.7662 - acc: 0.5882 - val_loss: 3.1569 - val_acc: 0.7474\n",
      "Epoch 67/200\n",
      "652/652 [==============================] - 5s 7ms/step - loss: 5.9667 - acc: 0.5890 - val_loss: 3.1564 - val_acc: 0.7474\n",
      "Epoch 68/200\n",
      "652/652 [==============================] - 5s 7ms/step - loss: 5.9198 - acc: 0.5767 - val_loss: 3.1559 - val_acc: 0.7474\n",
      "Epoch 69/200\n",
      "652/652 [==============================] - 5s 7ms/step - loss: 5.8472 - acc: 0.5683 - val_loss: 3.1560 - val_acc: 0.7474\n",
      "Epoch 70/200\n",
      "652/652 [==============================] - 5s 7ms/step - loss: 6.1264 - acc: 0.5782 - val_loss: 3.1567 - val_acc: 0.7474\n",
      "Epoch 71/200\n",
      "652/652 [==============================] - 5s 7ms/step - loss: 5.7478 - acc: 0.5721 - val_loss: 3.1566 - val_acc: 0.7474\n",
      "Epoch 72/200\n",
      "652/652 [==============================] - 5s 7ms/step - loss: 5.8921 - acc: 0.5897 - val_loss: 3.1560 - val_acc: 0.7474\n",
      "Epoch 73/200\n",
      "652/652 [==============================] - 5s 7ms/step - loss: 6.1704 - acc: 0.5951 - val_loss: 3.1575 - val_acc: 0.7474\n",
      "Epoch 74/200\n",
      "652/652 [==============================] - 5s 7ms/step - loss: 5.8777 - acc: 0.5706 - val_loss: 3.1565 - val_acc: 0.7474\n",
      "Epoch 75/200\n",
      "652/652 [==============================] - 5s 7ms/step - loss: 5.6225 - acc: 0.5982 - val_loss: 3.1560 - val_acc: 0.7474\n",
      "Epoch 76/200\n",
      "652/652 [==============================] - 5s 7ms/step - loss: 6.1469 - acc: 0.5736 - val_loss: 3.1547 - val_acc: 0.7526\n",
      "Epoch 77/200\n",
      "652/652 [==============================] - 5s 7ms/step - loss: 6.1478 - acc: 0.5706 - val_loss: 3.1546 - val_acc: 0.7474\n",
      "Epoch 78/200\n",
      "652/652 [==============================] - 5s 7ms/step - loss: 5.8831 - acc: 0.5644 - val_loss: 3.1543 - val_acc: 0.7526\n",
      "Epoch 79/200\n",
      "652/652 [==============================] - 5s 7ms/step - loss: 6.2564 - acc: 0.5529 - val_loss: 3.1547 - val_acc: 0.7423\n",
      "Epoch 80/200\n",
      "652/652 [==============================] - 5s 7ms/step - loss: 6.2353 - acc: 0.5675 - val_loss: 3.1536 - val_acc: 0.7474\n",
      "Epoch 81/200\n",
      "652/652 [==============================] - 5s 7ms/step - loss: 5.7493 - acc: 0.5828 - val_loss: 3.1528 - val_acc: 0.7474\n",
      "Epoch 82/200\n",
      "652/652 [==============================] - 5s 7ms/step - loss: 5.8012 - acc: 0.5821 - val_loss: 3.1533 - val_acc: 0.7474\n",
      "Epoch 83/200\n",
      "652/652 [==============================] - 5s 7ms/step - loss: 5.8899 - acc: 0.5729 - val_loss: 3.1532 - val_acc: 0.7474\n",
      "Epoch 84/200\n",
      "652/652 [==============================] - 5s 7ms/step - loss: 6.1298 - acc: 0.5452 - val_loss: 3.1538 - val_acc: 0.7423\n",
      "Epoch 85/200\n",
      "652/652 [==============================] - 5s 7ms/step - loss: 6.0922 - acc: 0.5468 - val_loss: 3.1522 - val_acc: 0.7474\n",
      "Epoch 86/200\n",
      "652/652 [==============================] - 5s 7ms/step - loss: 6.0043 - acc: 0.5844 - val_loss: 3.1516 - val_acc: 0.7577\n",
      "Epoch 87/200\n",
      "652/652 [==============================] - 5s 7ms/step - loss: 6.9331 - acc: 0.5383 - val_loss: 3.1540 - val_acc: 0.7474\n",
      "Epoch 88/200\n",
      "652/652 [==============================] - 5s 7ms/step - loss: 6.3812 - acc: 0.5590 - val_loss: 3.1553 - val_acc: 0.7423\n",
      "Epoch 89/200\n",
      "652/652 [==============================] - 5s 7ms/step - loss: 5.6395 - acc: 0.5867 - val_loss: 3.1556 - val_acc: 0.7474\n",
      "Epoch 90/200\n",
      "652/652 [==============================] - 5s 7ms/step - loss: 6.1199 - acc: 0.5851 - val_loss: 3.1567 - val_acc: 0.7474\n",
      "Epoch 91/200\n",
      "652/652 [==============================] - 5s 7ms/step - loss: 6.2295 - acc: 0.5706 - val_loss: 3.1562 - val_acc: 0.7474\n",
      "Epoch 92/200\n",
      "652/652 [==============================] - 5s 7ms/step - loss: 5.8823 - acc: 0.5821 - val_loss: 3.1564 - val_acc: 0.7474\n",
      "Epoch 93/200\n",
      "652/652 [==============================] - 5s 7ms/step - loss: 5.5383 - acc: 0.5951 - val_loss: 3.1563 - val_acc: 0.7474\n",
      "Epoch 94/200\n",
      "652/652 [==============================] - 5s 7ms/step - loss: 6.3637 - acc: 0.5460 - val_loss: 3.1553 - val_acc: 0.7474\n",
      "Epoch 95/200\n",
      "652/652 [==============================] - 5s 7ms/step - loss: 6.0331 - acc: 0.5729 - val_loss: 3.1559 - val_acc: 0.7474\n",
      "Epoch 96/200\n",
      "652/652 [==============================] - 5s 7ms/step - loss: 5.9106 - acc: 0.5782 - val_loss: 3.1574 - val_acc: 0.7474\n",
      "Epoch 97/200\n",
      "652/652 [==============================] - 5s 7ms/step - loss: 5.8679 - acc: 0.5660 - val_loss: 3.1568 - val_acc: 0.7474\n",
      "Epoch 98/200\n",
      "652/652 [==============================] - 5s 7ms/step - loss: 6.3539 - acc: 0.5514 - val_loss: 3.1570 - val_acc: 0.7474\n",
      "Epoch 99/200\n",
      "652/652 [==============================] - 5s 7ms/step - loss: 6.3576 - acc: 0.5644 - val_loss: 3.1575 - val_acc: 0.7474\n",
      "Epoch 100/200\n",
      "652/652 [==============================] - 5s 7ms/step - loss: 5.6847 - acc: 0.5660 - val_loss: 3.1559 - val_acc: 0.7474\n",
      "Epoch 101/200\n",
      "652/652 [==============================] - 5s 7ms/step - loss: 6.3808 - acc: 0.5698 - val_loss: 3.1575 - val_acc: 0.7474\n",
      "Epoch 102/200\n",
      "652/652 [==============================] - 5s 7ms/step - loss: 6.5340 - acc: 0.5521 - val_loss: 3.1589 - val_acc: 0.7474\n",
      "Epoch 103/200\n",
      "652/652 [==============================] - 5s 7ms/step - loss: 5.5829 - acc: 0.5989 - val_loss: 3.1585 - val_acc: 0.7474\n",
      "Epoch 104/200\n",
      "652/652 [==============================] - 5s 7ms/step - loss: 5.8794 - acc: 0.5775 - val_loss: 3.1580 - val_acc: 0.7474\n",
      "Epoch 105/200\n",
      "652/652 [==============================] - 5s 7ms/step - loss: 5.9119 - acc: 0.5537 - val_loss: 3.1588 - val_acc: 0.7474\n",
      "Epoch 106/200\n",
      "652/652 [==============================] - 5s 7ms/step - loss: 5.7545 - acc: 0.5905 - val_loss: 3.1570 - val_acc: 0.7474\n",
      "Epoch 107/200\n",
      "652/652 [==============================] - 5s 7ms/step - loss: 5.8786 - acc: 0.5859 - val_loss: 3.1582 - val_acc: 0.7474\n",
      "Epoch 108/200\n",
      "652/652 [==============================] - 5s 7ms/step - loss: 5.8521 - acc: 0.5920 - val_loss: 3.1609 - val_acc: 0.7474\n",
      "Epoch 109/200\n",
      "652/652 [==============================] - 5s 7ms/step - loss: 5.7855 - acc: 0.5775 - val_loss: 3.1602 - val_acc: 0.7474\n",
      "Epoch 110/200\n",
      "652/652 [==============================] - 5s 7ms/step - loss: 5.8454 - acc: 0.5675 - val_loss: 3.1595 - val_acc: 0.7474\n",
      "Epoch 111/200\n",
      "652/652 [==============================] - 5s 7ms/step - loss: 6.3622 - acc: 0.5706 - val_loss: 3.1585 - val_acc: 0.7474\n",
      "Epoch 112/200\n",
      "652/652 [==============================] - ETA: 0s - loss: 6.2312 - acc: 0.549 - 5s 7ms/step - loss: 6.2137 - acc: 0.5506 - val_loss: 3.1566 - val_acc: 0.7474\n",
      "Epoch 113/200\n",
      "652/652 [==============================] - 5s 7ms/step - loss: 6.0739 - acc: 0.5583 - val_loss: 3.1571 - val_acc: 0.7474\n",
      "Epoch 114/200\n",
      "652/652 [==============================] - 5s 7ms/step - loss: 5.5752 - acc: 0.5874 - val_loss: 3.1561 - val_acc: 0.7474\n",
      "Epoch 115/200\n",
      "652/652 [==============================] - 5s 7ms/step - loss: 5.9168 - acc: 0.5552 - val_loss: 3.1547 - val_acc: 0.7526\n",
      "Epoch 116/200\n",
      "652/652 [==============================] - 5s 7ms/step - loss: 6.0855 - acc: 0.5544 - val_loss: 3.1546 - val_acc: 0.7474\n",
      "Epoch 117/200\n",
      "652/652 [==============================] - 5s 7ms/step - loss: 6.0427 - acc: 0.5859 - val_loss: 3.1544 - val_acc: 0.7526\n",
      "Epoch 118/200\n",
      "652/652 [==============================] - 5s 7ms/step - loss: 5.9325 - acc: 0.5621 - val_loss: 3.1560 - val_acc: 0.7474\n",
      "Epoch 119/200\n",
      "652/652 [==============================] - 5s 7ms/step - loss: 6.0936 - acc: 0.5452 - val_loss: 3.1569 - val_acc: 0.7526\n",
      "Epoch 120/200\n",
      "652/652 [==============================] - 5s 7ms/step - loss: 5.9053 - acc: 0.5767 - val_loss: 3.1576 - val_acc: 0.7474\n",
      "Epoch 121/200\n",
      "652/652 [==============================] - 5s 7ms/step - loss: 5.8105 - acc: 0.5943 - val_loss: 3.1579 - val_acc: 0.7526\n",
      "Epoch 122/200\n"
     ]
    },
    {
     "name": "stdout",
     "output_type": "stream",
     "text": [
      "652/652 [==============================] - 5s 7ms/step - loss: 5.4937 - acc: 0.5989 - val_loss: 3.1577 - val_acc: 0.7474\n",
      "Epoch 123/200\n",
      "652/652 [==============================] - 5s 7ms/step - loss: 5.7798 - acc: 0.5851 - val_loss: 3.1581 - val_acc: 0.7474\n",
      "Epoch 124/200\n",
      "652/652 [==============================] - 5s 7ms/step - loss: 6.5343 - acc: 0.5437 - val_loss: 3.1581 - val_acc: 0.7474\n",
      "Epoch 125/200\n",
      "652/652 [==============================] - 5s 7ms/step - loss: 5.9297 - acc: 0.5706 - val_loss: 3.1562 - val_acc: 0.7474\n",
      "Epoch 126/200\n",
      "652/652 [==============================] - 5s 7ms/step - loss: 6.0202 - acc: 0.6020 - val_loss: 3.1553 - val_acc: 0.7526\n",
      "Epoch 127/200\n",
      "652/652 [==============================] - 5s 7ms/step - loss: 5.8041 - acc: 0.5736 - val_loss: 3.1540 - val_acc: 0.7526\n",
      "Epoch 128/200\n",
      "652/652 [==============================] - 5s 7ms/step - loss: 5.7764 - acc: 0.5790 - val_loss: 3.1536 - val_acc: 0.7526\n",
      "Epoch 129/200\n",
      "652/652 [==============================] - 5s 7ms/step - loss: 5.7083 - acc: 0.5951 - val_loss: 3.1527 - val_acc: 0.7526\n",
      "Epoch 130/200\n",
      "652/652 [==============================] - 5s 7ms/step - loss: 6.1603 - acc: 0.5782 - val_loss: 3.1531 - val_acc: 0.7526\n",
      "Epoch 131/200\n",
      "652/652 [==============================] - 5s 7ms/step - loss: 5.7137 - acc: 0.5897 - val_loss: 3.1537 - val_acc: 0.7526\n",
      "Epoch 132/200\n",
      "652/652 [==============================] - 5s 7ms/step - loss: 5.8147 - acc: 0.5836 - val_loss: 3.1536 - val_acc: 0.7526\n",
      "Epoch 133/200\n",
      "652/652 [==============================] - 5s 7ms/step - loss: 5.9534 - acc: 0.5928 - val_loss: 3.1543 - val_acc: 0.7526\n",
      "Epoch 134/200\n",
      "652/652 [==============================] - 5s 7ms/step - loss: 6.1104 - acc: 0.5621 - val_loss: 3.1529 - val_acc: 0.7526\n",
      "Epoch 135/200\n",
      "652/652 [==============================] - 5s 7ms/step - loss: 5.8490 - acc: 0.5836 - val_loss: 3.1528 - val_acc: 0.7526\n",
      "Epoch 136/200\n",
      "652/652 [==============================] - 5s 7ms/step - loss: 5.9263 - acc: 0.5529 - val_loss: 3.1533 - val_acc: 0.7526\n",
      "Epoch 137/200\n",
      "652/652 [==============================] - 5s 7ms/step - loss: 5.7102 - acc: 0.5660 - val_loss: 3.1512 - val_acc: 0.7526\n",
      "Epoch 138/200\n",
      "652/652 [==============================] - 5s 7ms/step - loss: 5.7441 - acc: 0.5637 - val_loss: 3.1510 - val_acc: 0.7526\n",
      "Epoch 139/200\n",
      "652/652 [==============================] - 5s 7ms/step - loss: 5.6257 - acc: 0.5867 - val_loss: 3.1518 - val_acc: 0.7526\n",
      "Epoch 140/200\n",
      "652/652 [==============================] - 5s 7ms/step - loss: 6.0256 - acc: 0.5583 - val_loss: 3.1505 - val_acc: 0.7577\n",
      "Epoch 141/200\n",
      "652/652 [==============================] - 5s 7ms/step - loss: 5.7935 - acc: 0.5629 - val_loss: 3.1500 - val_acc: 0.7577\n",
      "Epoch 142/200\n",
      "652/652 [==============================] - 5s 7ms/step - loss: 6.0410 - acc: 0.5537 - val_loss: 3.1482 - val_acc: 0.7526\n",
      "Epoch 143/200\n",
      "652/652 [==============================] - 5s 7ms/step - loss: 6.0101 - acc: 0.5483 - val_loss: 3.1477 - val_acc: 0.7526\n",
      "Epoch 144/200\n",
      "652/652 [==============================] - 5s 7ms/step - loss: 6.2240 - acc: 0.5483 - val_loss: 3.1481 - val_acc: 0.7526\n",
      "Epoch 145/200\n",
      "652/652 [==============================] - 5s 7ms/step - loss: 5.5707 - acc: 0.5974 - val_loss: 3.1478 - val_acc: 0.7526\n",
      "Epoch 146/200\n",
      "652/652 [==============================] - 5s 7ms/step - loss: 5.9713 - acc: 0.5790 - val_loss: 3.1489 - val_acc: 0.7577\n",
      "Epoch 147/200\n",
      "652/652 [==============================] - 5s 7ms/step - loss: 5.8744 - acc: 0.5974 - val_loss: 3.1485 - val_acc: 0.7526\n",
      "Epoch 148/200\n",
      "652/652 [==============================] - 5s 7ms/step - loss: 5.8946 - acc: 0.5713 - val_loss: 3.1489 - val_acc: 0.7577\n",
      "Epoch 149/200\n",
      "652/652 [==============================] - 5s 7ms/step - loss: 5.9725 - acc: 0.5583 - val_loss: 3.1488 - val_acc: 0.7577\n",
      "Epoch 150/200\n",
      "652/652 [==============================] - 5s 7ms/step - loss: 5.6515 - acc: 0.5590 - val_loss: 3.1478 - val_acc: 0.7526\n",
      "Epoch 151/200\n",
      "652/652 [==============================] - 5s 7ms/step - loss: 5.7690 - acc: 0.5928 - val_loss: 3.1462 - val_acc: 0.7577\n",
      "Epoch 152/200\n",
      "652/652 [==============================] - 5s 7ms/step - loss: 5.8264 - acc: 0.5943 - val_loss: 3.1460 - val_acc: 0.7577\n",
      "Epoch 153/200\n",
      "652/652 [==============================] - 5s 7ms/step - loss: 5.8793 - acc: 0.5759 - val_loss: 3.1444 - val_acc: 0.7577\n",
      "Epoch 154/200\n",
      "652/652 [==============================] - 5s 7ms/step - loss: 5.7049 - acc: 0.5943 - val_loss: 3.1444 - val_acc: 0.7577\n",
      "Epoch 155/200\n",
      "652/652 [==============================] - 5s 7ms/step - loss: 5.9146 - acc: 0.5744 - val_loss: 3.1433 - val_acc: 0.7577\n",
      "Epoch 156/200\n",
      "652/652 [==============================] - 5s 7ms/step - loss: 6.0205 - acc: 0.5660 - val_loss: 3.1424 - val_acc: 0.7577\n",
      "Epoch 157/200\n",
      "652/652 [==============================] - 5s 7ms/step - loss: 5.8281 - acc: 0.5736 - val_loss: 3.1419 - val_acc: 0.7577\n",
      "Epoch 158/200\n",
      "652/652 [==============================] - 5s 7ms/step - loss: 6.1008 - acc: 0.5767 - val_loss: 3.1443 - val_acc: 0.7577\n",
      "Epoch 159/200\n",
      "652/652 [==============================] - 5s 7ms/step - loss: 6.1539 - acc: 0.5675 - val_loss: 3.1463 - val_acc: 0.7526\n",
      "Epoch 160/200\n",
      "652/652 [==============================] - 5s 7ms/step - loss: 5.9651 - acc: 0.5905 - val_loss: 3.1455 - val_acc: 0.7526\n",
      "Epoch 161/200\n",
      "652/652 [==============================] - 5s 7ms/step - loss: 6.5090 - acc: 0.5683 - val_loss: 3.1458 - val_acc: 0.7526\n",
      "Epoch 162/200\n",
      "652/652 [==============================] - 5s 7ms/step - loss: 5.8109 - acc: 0.5629 - val_loss: 3.1463 - val_acc: 0.7526\n",
      "Epoch 163/200\n",
      "652/652 [==============================] - 5s 7ms/step - loss: 5.8663 - acc: 0.5637 - val_loss: 3.1466 - val_acc: 0.7526\n",
      "Epoch 164/200\n",
      "652/652 [==============================] - 5s 7ms/step - loss: 6.1448 - acc: 0.5606 - val_loss: 3.1451 - val_acc: 0.7577\n",
      "Epoch 165/200\n",
      "652/652 [==============================] - 5s 7ms/step - loss: 5.6096 - acc: 0.5821 - val_loss: 3.1459 - val_acc: 0.7577\n",
      "Epoch 166/200\n",
      "652/652 [==============================] - 5s 7ms/step - loss: 6.1611 - acc: 0.5851 - val_loss: 3.1464 - val_acc: 0.7629\n",
      "Epoch 167/200\n",
      "652/652 [==============================] - 5s 7ms/step - loss: 6.0667 - acc: 0.5452 - val_loss: 3.1458 - val_acc: 0.7577\n",
      "Epoch 168/200\n",
      "652/652 [==============================] - 5s 7ms/step - loss: 5.8265 - acc: 0.6028 - val_loss: 3.1465 - val_acc: 0.7577\n",
      "Epoch 169/200\n",
      "652/652 [==============================] - 5s 7ms/step - loss: 6.1044 - acc: 0.5660 - val_loss: 3.1470 - val_acc: 0.7577\n",
      "Epoch 170/200\n",
      "652/652 [==============================] - 5s 7ms/step - loss: 6.0832 - acc: 0.5667 - val_loss: 3.1472 - val_acc: 0.7526\n",
      "Epoch 171/200\n",
      "652/652 [==============================] - 5s 7ms/step - loss: 6.0917 - acc: 0.5775 - val_loss: 3.1484 - val_acc: 0.7526\n",
      "Epoch 172/200\n",
      "652/652 [==============================] - 5s 7ms/step - loss: 5.7429 - acc: 0.5828 - val_loss: 3.1493 - val_acc: 0.7526\n",
      "Epoch 173/200\n",
      "652/652 [==============================] - 5s 7ms/step - loss: 5.9277 - acc: 0.5644 - val_loss: 3.1495 - val_acc: 0.7526\n",
      "Epoch 174/200\n",
      "652/652 [==============================] - 5s 7ms/step - loss: 6.1516 - acc: 0.5368 - val_loss: 3.1486 - val_acc: 0.7526\n",
      "Epoch 175/200\n",
      "652/652 [==============================] - 5s 7ms/step - loss: 5.8111 - acc: 0.5560 - val_loss: 3.1463 - val_acc: 0.7577\n",
      "Epoch 176/200\n",
      "652/652 [==============================] - 5s 7ms/step - loss: 6.1050 - acc: 0.5567 - val_loss: 3.1460 - val_acc: 0.7526\n",
      "Epoch 177/200\n",
      "652/652 [==============================] - 5s 7ms/step - loss: 6.1088 - acc: 0.5713 - val_loss: 3.1452 - val_acc: 0.7629\n",
      "Epoch 178/200\n",
      "652/652 [==============================] - 5s 7ms/step - loss: 5.6692 - acc: 0.5943 - val_loss: 3.1462 - val_acc: 0.7526\n",
      "Epoch 179/200\n",
      "652/652 [==============================] - 5s 7ms/step - loss: 6.0010 - acc: 0.5690 - val_loss: 3.1464 - val_acc: 0.7526\n",
      "Epoch 180/200\n",
      "652/652 [==============================] - 5s 7ms/step - loss: 6.1788 - acc: 0.5690 - val_loss: 3.1474 - val_acc: 0.7526\n",
      "Epoch 181/200\n",
      "652/652 [==============================] - 5s 7ms/step - loss: 6.0361 - acc: 0.5667 - val_loss: 3.1490 - val_acc: 0.7577\n",
      "Epoch 182/200\n",
      "652/652 [==============================] - 5s 7ms/step - loss: 5.7086 - acc: 0.5675 - val_loss: 3.1489 - val_acc: 0.7577\n"
     ]
    },
    {
     "name": "stdout",
     "output_type": "stream",
     "text": [
      "Epoch 183/200\n",
      "652/652 [==============================] - 5s 7ms/step - loss: 5.8588 - acc: 0.5874 - val_loss: 3.1488 - val_acc: 0.7577\n",
      "Epoch 184/200\n",
      "652/652 [==============================] - 5s 7ms/step - loss: 5.6787 - acc: 0.5721 - val_loss: 3.1499 - val_acc: 0.7577\n",
      "Epoch 185/200\n",
      "652/652 [==============================] - 5s 7ms/step - loss: 5.5507 - acc: 0.6043 - val_loss: 3.1498 - val_acc: 0.7577\n",
      "Epoch 186/200\n",
      "652/652 [==============================] - 5s 7ms/step - loss: 5.7814 - acc: 0.5805 - val_loss: 3.1490 - val_acc: 0.7577\n",
      "Epoch 187/200\n",
      "652/652 [==============================] - 5s 7ms/step - loss: 6.1323 - acc: 0.5468 - val_loss: 3.1489 - val_acc: 0.7577\n",
      "Epoch 188/200\n",
      "652/652 [==============================] - 5s 7ms/step - loss: 5.7506 - acc: 0.5759 - val_loss: 3.1494 - val_acc: 0.7577\n",
      "Epoch 189/200\n",
      "652/652 [==============================] - 5s 7ms/step - loss: 6.2353 - acc: 0.5552 - val_loss: 3.1498 - val_acc: 0.7577\n",
      "Epoch 190/200\n",
      "652/652 [==============================] - 5s 7ms/step - loss: 6.0073 - acc: 0.5775 - val_loss: 3.1501 - val_acc: 0.7577\n",
      "Epoch 191/200\n",
      "652/652 [==============================] - 5s 7ms/step - loss: 5.6315 - acc: 0.5713 - val_loss: 3.1499 - val_acc: 0.7577\n",
      "Epoch 192/200\n",
      "652/652 [==============================] - 5s 7ms/step - loss: 5.7644 - acc: 0.5736 - val_loss: 3.1498 - val_acc: 0.7577\n",
      "Epoch 193/200\n",
      "652/652 [==============================] - 5s 7ms/step - loss: 5.8822 - acc: 0.5736 - val_loss: 3.1508 - val_acc: 0.7577\n",
      "Epoch 194/200\n",
      "652/652 [==============================] - 5s 7ms/step - loss: 5.9742 - acc: 0.5644 - val_loss: 3.1502 - val_acc: 0.7577\n",
      "Epoch 195/200\n",
      "652/652 [==============================] - 5s 7ms/step - loss: 5.9992 - acc: 0.5713 - val_loss: 3.1503 - val_acc: 0.7526\n",
      "Epoch 196/200\n",
      "652/652 [==============================] - 5s 7ms/step - loss: 5.9496 - acc: 0.5521 - val_loss: 3.1496 - val_acc: 0.7526\n",
      "Epoch 197/200\n",
      "652/652 [==============================] - 5s 7ms/step - loss: 5.7820 - acc: 0.5867 - val_loss: 3.1479 - val_acc: 0.7577\n",
      "Epoch 198/200\n",
      "652/652 [==============================] - 5s 7ms/step - loss: 5.6047 - acc: 0.5905 - val_loss: 3.1482 - val_acc: 0.7577\n",
      "Epoch 199/200\n",
      "652/652 [==============================] - 5s 7ms/step - loss: 6.3793 - acc: 0.5399 - val_loss: 3.1468 - val_acc: 0.7577\n",
      "Epoch 200/200\n",
      "652/652 [==============================] - 5s 7ms/step - loss: 6.0311 - acc: 0.5729 - val_loss: 3.1487 - val_acc: 0.7526\n"
     ]
    }
   ],
   "source": [
    "\n",
    "history = cq_crepe_model.fit([train_cq_input, train_aug_cq_input, train_crepe_input],[to_categorical(y_train)], \n",
    "                         epochs=200,verbose=1, batch_size=4,\n",
    "                         validation_data=([test_cq_input, test_aug_cq_input,crepe_test_input], to_categorical(y_test)), \n",
    "                         callbacks=[reduce_lr], shuffle=True,\n",
    "                         class_weight=class_weight, \n",
    "                         sample_weight=None)\n"
   ]
  },
  {
   "cell_type": "code",
   "execution_count": 146,
   "metadata": {},
   "outputs": [],
   "source": [
    "# Save Model\n",
    "cq_crepe_model.save('_Model_Airline_12_2.h5')"
   ]
  },
  {
   "cell_type": "markdown",
   "metadata": {},
   "source": [
    "#### Graph the results"
   ]
  },
  {
   "cell_type": "code",
   "execution_count": 147,
   "metadata": {},
   "outputs": [
    {
     "data": {
      "image/png": "[encoded data removed]",
      "text/plain": [
       "<Figure size 640x480 with 1 Axes>"
      ]
     },
     "metadata": {},
     "output_type": "display_data"
    },
    {
     "data": {
      "image/png": "[encoded data removed]",
      "text/plain": [
       "<Figure size 640x480 with 1 Axes>"
      ]
     },
     "metadata": {},
     "output_type": "display_data"
    }
   ],
   "source": [
    "import matplotlib.pyplot as plt\n",
    "#Accuracy\n",
    "plt.plot(history.history['acc'])\n",
    "plt.plot(history.history['val_acc'])\n",
    "plt.title('model accuracy')\n",
    "plt.ylabel('accuracy')\n",
    "plt.xlabel('epoch')\n",
    "plt.legend(['train', 'validation'], loc='upper left')\n",
    "plt.show()\n",
    "# \"Loss\"\n",
    "plt.plot(history.history['loss'])\n",
    "plt.plot(history.history['val_loss'])\n",
    "plt.title('model loss')\n",
    "plt.ylabel('loss')\n",
    "plt.xlabel('epoch')\n",
    "plt.legend(['train', 'validation'], loc='upper left')\n",
    "plt.show()"
   ]
  },
  {
   "cell_type": "code",
   "execution_count": 148,
   "metadata": {},
   "outputs": [
    {
     "name": "stdout",
     "output_type": "stream",
     "text": [
      "97/97 [==============================] - 0s 825us/step\n"
     ]
    },
    {
     "data": {
      "text/plain": [
       "[3.148704172409687, 0.7525773195876289]"
      ]
     },
     "execution_count": 148,
     "metadata": {},
     "output_type": "execute_result"
    }
   ],
   "source": [
    "cq_crepe_model.evaluate([test_cq_input, test_aug_cq_input, crepe_test_input],y_test_labels)"
   ]
  },
  {
   "cell_type": "markdown",
   "metadata": {},
   "source": [
    "#### Confusion Matrix"
   ]
  },
  {
   "cell_type": "code",
   "execution_count": 149,
   "metadata": {},
   "outputs": [
    {
     "data": {
      "image/png": "[encoded data removed]",
      "text/plain": [
       "<Figure size 640x480 with 2 Axes>"
      ]
     },
     "metadata": {},
     "output_type": "display_data"
    },
    {
     "name": "stdout",
     "output_type": "stream",
     "text": [
      "             precision    recall  f1-score   support\n",
      "\n",
      "        0.0       0.86      0.84      0.85        82\n",
      "        1.0       0.24      0.27      0.25        15\n",
      "\n",
      "avg / total       0.77      0.75      0.76        97\n",
      "\n"
     ]
    }
   ],
   "source": [
    "plt.style.use('default')\n",
    "plt.margins(1)\n",
    "import importlib\n",
    "import matplotlib\n",
    "importlib.reload(matplotlib); importlib.reload(plt); importlib.reload(sns)\n",
    "\n",
    "                    \n",
    "preds =np.argmax(cq_crepe_model.predict([test_cq_input, test_aug_cq_input,crepe_test_input]), axis=1)\n",
    "cm = confusion_matrix(y_test.tolist(), preds.tolist())\n",
    "\n",
    "ax = sns.heatmap(cm, annot=True, fmt='g')\n",
    "ax.set_title('Confusion Matrix on LAX Airplane Landing Recordings')\n",
    "ax.xaxis.set_ticklabels(['Other', 'Embardier 75L'])\n",
    "ax.yaxis.set_ticklabels(['Other', 'Embardier 75L'])\n",
    "ax.set(xlabel='Predicted Class', ylabel='True Class')\n",
    "plt.show()\n",
    "print(classification_report(y_test.tolist(), preds.tolist()))"
   ]
  },
  {
   "cell_type": "code",
   "execution_count": 150,
   "metadata": {},
   "outputs": [
    {
     "data": {
      "text/plain": [
       "array([[69, 13],\n",
       "       [11,  4]], dtype=int64)"
      ]
     },
     "execution_count": 150,
     "metadata": {},
     "output_type": "execute_result"
    }
   ],
   "source": [
    "cm"
   ]
  },
  {
   "cell_type": "markdown",
   "metadata": {},
   "source": [
    "# The End"
   ]
  },
  {
   "cell_type": "code",
   "execution_count": null,
   "metadata": {},
   "outputs": [],
   "source": []
  },
  {
   "cell_type": "code",
   "execution_count": null,
   "metadata": {},
   "outputs": [],
   "source": []
  },
  {
   "cell_type": "code",
   "execution_count": null,
   "metadata": {},
   "outputs": [],
   "source": []
  },
  {
   "cell_type": "code",
   "execution_count": null,
   "metadata": {},
   "outputs": [],
   "source": []
  },
  {
   "cell_type": "code",
   "execution_count": null,
   "metadata": {},
   "outputs": [],
   "source": []
  }
 ],
 "metadata": {
  "kernelspec": {
   "display_name": "Python [conda env:amlrealtimeai] *",
   "language": "python",
   "name": "conda-env-amlrealtimeai-py"
  },
  "language_info": {
   "codemirror_mode": {
    "name": "ipython",
    "version": 3
   },
   "file_extension": ".py",
   "mimetype": "text/x-python",
   "name": "python",
   "nbconvert_exporter": "python",
   "pygments_lexer": "ipython3",
   "version": "3.6.9"
  }
 },
 "nbformat": 4,
 "nbformat_minor": 2
}
