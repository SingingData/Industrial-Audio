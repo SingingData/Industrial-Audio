{
 "cells": [
  {
   "cell_type": "markdown",
   "metadata": {},
   "source": [
    "# Aircraft Model - Classification Model (Crepe)\n",
    "#### Binary Classifier \n",
    "Last Updated December 5, 2019"
   ]
  },
  {
   "cell_type": "code",
   "execution_count": 1,
   "metadata": {},
   "outputs": [],
   "source": [
    "%matplotlib inline\n",
    "import matplotlib.pyplot as plt\n",
    "plt.style.use('seaborn-white')\n",
    "import pywt\n",
    "from matplotlib.image import imread\n",
    "import numpy as np\n",
    "import os\n",
    "from scipy.io import wavfile\n",
    "from pathlib import Path\n",
    "import pywt\n",
    "import soundfile\n",
    "import random\n",
    "import pickle\n",
    "from glob import iglob\n",
    "import crepe\n",
    "from sklearn.metrics import confusion_matrix, classification_report\n",
    "from sklearn.preprocessing import StandardScaler\n",
    "from sklearn.model_selection import KFold, train_test_split\n",
    "from sklearn import svm\n",
    "from sklearn.model_selection import GridSearchCV\n",
    "import pprint\n",
    "random.seed(42)\n",
    "import librosa\n",
    "import scipy.signal\n",
    "from scipy.signal import resample\n",
    "import glob"
   ]
  },
  {
   "cell_type": "code",
   "execution_count": 2,
   "metadata": {},
   "outputs": [
    {
     "name": "stderr",
     "output_type": "stream",
     "text": [
      "Using TensorFlow backend.\n",
      "C:\\Anaconda\\envs\\amlrealtimeai\\lib\\site-packages\\tensorflow\\python\\framework\\dtypes.py:516: FutureWarning: Passing (type, 1) or '1type' as a synonym of type is deprecated; in a future version of numpy, it will be understood as (type, (1,)) / '(1,)type'.\n",
      "  _np_qint8 = np.dtype([(\"qint8\", np.int8, 1)])\n",
      "C:\\Anaconda\\envs\\amlrealtimeai\\lib\\site-packages\\tensorflow\\python\\framework\\dtypes.py:517: FutureWarning: Passing (type, 1) or '1type' as a synonym of type is deprecated; in a future version of numpy, it will be understood as (type, (1,)) / '(1,)type'.\n",
      "  _np_quint8 = np.dtype([(\"quint8\", np.uint8, 1)])\n",
      "C:\\Anaconda\\envs\\amlrealtimeai\\lib\\site-packages\\tensorflow\\python\\framework\\dtypes.py:518: FutureWarning: Passing (type, 1) or '1type' as a synonym of type is deprecated; in a future version of numpy, it will be understood as (type, (1,)) / '(1,)type'.\n",
      "  _np_qint16 = np.dtype([(\"qint16\", np.int16, 1)])\n",
      "C:\\Anaconda\\envs\\amlrealtimeai\\lib\\site-packages\\tensorflow\\python\\framework\\dtypes.py:519: FutureWarning: Passing (type, 1) or '1type' as a synonym of type is deprecated; in a future version of numpy, it will be understood as (type, (1,)) / '(1,)type'.\n",
      "  _np_quint16 = np.dtype([(\"quint16\", np.uint16, 1)])\n",
      "C:\\Anaconda\\envs\\amlrealtimeai\\lib\\site-packages\\tensorflow\\python\\framework\\dtypes.py:520: FutureWarning: Passing (type, 1) or '1type' as a synonym of type is deprecated; in a future version of numpy, it will be understood as (type, (1,)) / '(1,)type'.\n",
      "  _np_qint32 = np.dtype([(\"qint32\", np.int32, 1)])\n",
      "C:\\Anaconda\\envs\\amlrealtimeai\\lib\\site-packages\\tensorflow\\python\\framework\\dtypes.py:525: FutureWarning: Passing (type, 1) or '1type' as a synonym of type is deprecated; in a future version of numpy, it will be understood as (type, (1,)) / '(1,)type'.\n",
      "  np_resource = np.dtype([(\"resource\", np.ubyte, 1)])\n",
      "C:\\Anaconda\\envs\\amlrealtimeai\\lib\\site-packages\\tensorboard\\compat\\tensorflow_stub\\dtypes.py:541: FutureWarning: Passing (type, 1) or '1type' as a synonym of type is deprecated; in a future version of numpy, it will be understood as (type, (1,)) / '(1,)type'.\n",
      "  _np_qint8 = np.dtype([(\"qint8\", np.int8, 1)])\n",
      "C:\\Anaconda\\envs\\amlrealtimeai\\lib\\site-packages\\tensorboard\\compat\\tensorflow_stub\\dtypes.py:542: FutureWarning: Passing (type, 1) or '1type' as a synonym of type is deprecated; in a future version of numpy, it will be understood as (type, (1,)) / '(1,)type'.\n",
      "  _np_quint8 = np.dtype([(\"quint8\", np.uint8, 1)])\n",
      "C:\\Anaconda\\envs\\amlrealtimeai\\lib\\site-packages\\tensorboard\\compat\\tensorflow_stub\\dtypes.py:543: FutureWarning: Passing (type, 1) or '1type' as a synonym of type is deprecated; in a future version of numpy, it will be understood as (type, (1,)) / '(1,)type'.\n",
      "  _np_qint16 = np.dtype([(\"qint16\", np.int16, 1)])\n",
      "C:\\Anaconda\\envs\\amlrealtimeai\\lib\\site-packages\\tensorboard\\compat\\tensorflow_stub\\dtypes.py:544: FutureWarning: Passing (type, 1) or '1type' as a synonym of type is deprecated; in a future version of numpy, it will be understood as (type, (1,)) / '(1,)type'.\n",
      "  _np_quint16 = np.dtype([(\"quint16\", np.uint16, 1)])\n",
      "C:\\Anaconda\\envs\\amlrealtimeai\\lib\\site-packages\\tensorboard\\compat\\tensorflow_stub\\dtypes.py:545: FutureWarning: Passing (type, 1) or '1type' as a synonym of type is deprecated; in a future version of numpy, it will be understood as (type, (1,)) / '(1,)type'.\n",
      "  _np_qint32 = np.dtype([(\"qint32\", np.int32, 1)])\n",
      "C:\\Anaconda\\envs\\amlrealtimeai\\lib\\site-packages\\tensorboard\\compat\\tensorflow_stub\\dtypes.py:550: FutureWarning: Passing (type, 1) or '1type' as a synonym of type is deprecated; in a future version of numpy, it will be understood as (type, (1,)) / '(1,)type'.\n",
      "  np_resource = np.dtype([(\"resource\", np.ubyte, 1)])\n"
     ]
    }
   ],
   "source": [
    "\n",
    "from glob import iglob\n",
    "import crepe\n",
    "from sklearn.metrics import confusion_matrix, classification_report\n",
    "import pprint\n",
    "import seaborn as sns\n",
    "random.seed(42)\n",
    "import librosa\n",
    "import scipy.signal\n",
    "from keras.layers import MaxPooling2D, Flatten, Conv2D\n",
    "from keras.utils import to_categorical\n",
    "import keras\n",
    "from keras.layers import initializers \n",
    "from keras.layers import regularizers \n",
    "from keras.layers import constraints \n",
    "from keras.layers import Activation\n",
    "from keras.layers.advanced_activations import PReLU\n",
    "from keras.layers.advanced_activations import LeakyReLU\n",
    "from keras.layers.advanced_activations import ELU\n",
    "from keras.constraints import max_norm\n",
    "from keras.layers import LeakyReLU\n",
    "from keras import optimizers, losses, activations, models\n",
    "from keras.callbacks import ModelCheckpoint, EarlyStopping, LearningRateScheduler\n",
    "from keras.layers import Dense, Input, Dropout, Convolution1D, MaxPool1D, GlobalMaxPool1D, GlobalAveragePooling1D, \\\n",
    "    concatenate\n",
    "from keras.layers import MaxPooling3D, Flatten, Conv3D\n",
    "from keras import backend as K\n",
    "from keras.layers import LeakyReLU,PReLU\n",
    "import keras\n",
    "from keras.losses import *\n",
    "def my_init(shape,  dtype=None):\n",
    "    vals=((float(shape[0], float(shape[1]))) * math.sqrt(2./float(shape[1])))\n",
    "    return K.random_normal(vals, dtype=dtype)    \n",
    "import math\n",
    "\n"
   ]
  },
  {
   "cell_type": "markdown",
   "metadata": {},
   "source": [
    "### Load and Inspect Data"
   ]
  },
  {
   "cell_type": "code",
   "execution_count": 3,
   "metadata": {},
   "outputs": [
    {
     "name": "stdout",
     "output_type": "stream",
     "text": [
      "D:\\aircraft-audio\\local-data\n"
     ]
    }
   ],
   "source": [
    "# Original audio recordings have already been split to samples of 1 second 32000 at sample rate and stored in numpy array.\n",
    "\n",
    "os.chdir(\"D:\\\\aircraft-audio\\\\local-data\")\n",
    "print(os.getcwd())\n",
    "\n",
    "Boeing_slices_train_matrix = np.loadtxt('Boeing_slices_train_matrix.txt', delimiter=',')\n",
    "Boeing_slices_test_matrix = np.loadtxt('Boeing_slices_test_matrix.txt', delimiter=',')\n",
    "Embraer_slices_train_matrix = np.loadtxt('Embraer_slices_train_matrix.txt', delimiter=',')\n",
    "Embraer_slices_test_matrix = np.loadtxt('Embraer_slices_test_matrix.txt', delimiter=',')\n",
    "Bombardier_slices_train_matrix = np.loadtxt('Bombardier_slices_train_matrix.txt', delimiter=',')\n",
    "Bombardier_slices_test_matrix = np.loadtxt('Bombardier_slices_test_matrix.txt', delimiter=',')\n",
    "Airbus_slices_train_matrix = np.loadtxt('Airbus_slices_train_matrix.txt', delimiter=',')\n",
    "Airbus_slices_test_matrix = np.loadtxt('Airbus_slices_test_matrix.txt', delimiter=',')"
   ]
  },
  {
   "cell_type": "code",
   "execution_count": 4,
   "metadata": {},
   "outputs": [
    {
     "name": "stdout",
     "output_type": "stream",
     "text": [
      "[-4501. -4725. -3986. ... -1628. -1210. -1030.]\n"
     ]
    },
    {
     "data": {
      "image/png": "[encoded data removed]",
      "text/plain": [
       "<Figure size 432x288 with 1 Axes>"
      ]
     },
     "metadata": {
      "needs_background": "light"
     },
     "output_type": "display_data"
    }
   ],
   "source": [
    "signal = Boeing_slices_train_matrix[40,:]\n",
    "time = 32000\n",
    "print(signal)\n",
    "plt.plot(signal)\n",
    "plt.show()"
   ]
  },
  {
   "cell_type": "markdown",
   "metadata": {},
   "source": [
    "### Add Augmented Data"
   ]
  },
  {
   "cell_type": "code",
   "execution_count": 5,
   "metadata": {},
   "outputs": [],
   "source": [
    "def _create_augmented_volume_reduction_data_matrix(old_matrix, volume_change):\n",
    "    \n",
    "    old_matrix = np.asarray(old_matrix)\n",
    "    new_target_numpy = np.empty((32000),int)\n",
    "    new_target_numpy = np.asarray(new_target_numpy)    \n",
    "\n",
    "    for i in range(old_matrix.shape[0]):\n",
    "        new_numpy = old_matrix[i,:] + volume_change\n",
    "        new_numpy = np.asarray(new_numpy)\n",
    "        new_target_numpy = np.vstack((new_target_numpy, new_numpy))\n",
    "        new_target_numpy = np.asarray(new_target_numpy)\n",
    "    return(new_target_numpy)"
   ]
  },
  {
   "cell_type": "code",
   "execution_count": 6,
   "metadata": {},
   "outputs": [],
   "source": [
    "# Create Augmented matrices with volume reduction\n",
    "Boeing_augmented_train_matrix= _create_augmented_volume_reduction_data_matrix(Boeing_slices_train_matrix, -5)\n",
    "Embraer_augmented_train_matrix= _create_augmented_volume_reduction_data_matrix(Embraer_slices_train_matrix, -5)\n",
    "Bombardier_augmented_train_matrix= _create_augmented_volume_reduction_data_matrix(Bombardier_slices_train_matrix, -5)\n",
    "Airbus_augmented_train_matrix= _create_augmented_volume_reduction_data_matrix(Airbus_slices_train_matrix, -5)\n"
   ]
  },
  {
   "cell_type": "code",
   "execution_count": 7,
   "metadata": {},
   "outputs": [],
   "source": [
    "def _create_augmented_white_noise_data_matrix(old_matrix, noise_level):\n",
    "    new_target_numpy = np.empty((32000),int)\n",
    "    new_target_numpy = np.asarray(new_target_numpy)   \n",
    "    \n",
    "    for i in range(old_matrix.shape[0]):\n",
    "        wn = np.random.randn(old_matrix.shape[1])\n",
    "        new_numpy = old_matrix[i,:] + noise_level*wn\n",
    "        new_numpy = np.asarray(new_numpy)\n",
    "        new_target_numpy = np.vstack((new_target_numpy, new_numpy))\n",
    "        new_target_numpy = np.asarray(new_target_numpy)\n",
    "    return(new_target_numpy)\n",
    "        "
   ]
  },
  {
   "cell_type": "code",
   "execution_count": 8,
   "metadata": {},
   "outputs": [],
   "source": [
    "# Create Augmented matrices with white noise added\n",
    "Embraer_augmented_train_matrix2= _create_augmented_white_noise_data_matrix(Embraer_slices_train_matrix,0.01)\n",
    "Boeing_augmented_train_matrix2= _create_augmented_white_noise_data_matrix(Boeing_slices_train_matrix,0.01)\n",
    "Bombardier_augmented_train_matrix2= _create_augmented_white_noise_data_matrix(Bombardier_slices_train_matrix,0.01)\n",
    "Airbus_augmented_train_matrix2= _create_augmented_white_noise_data_matrix(Airbus_slices_train_matrix,0.01)\n",
    "\n",
    "# Create Augmented matrices with white noise added\n",
    "Embraer_augmented_train_matrix3 = _create_augmented_white_noise_data_matrix(Embraer_slices_train_matrix,0.09)\n",
    "Boeing_augmented_train_matrix3 = _create_augmented_white_noise_data_matrix(Boeing_slices_train_matrix,0.09)\n",
    "Bombardier_augmented_train_matrix3 = _create_augmented_white_noise_data_matrix(Bombardier_slices_train_matrix,0.09)\n",
    "Airbus_augmented_train_matrix3 = _create_augmented_white_noise_data_matrix(Airbus_slices_train_matrix,0.09)\n"
   ]
  },
  {
   "cell_type": "markdown",
   "metadata": {},
   "source": [
    "### Add Labels"
   ]
  },
  {
   "cell_type": "code",
   "execution_count": 9,
   "metadata": {},
   "outputs": [
    {
     "name": "stdout",
     "output_type": "stream",
     "text": [
      "(98, 32001)\n",
      "(46, 32001)\n",
      "(28, 32001)\n",
      "(15, 32001)\n",
      "(10, 32001)\n",
      "(24, 32001)\n",
      "(28, 32001)\n",
      "(12, 32001)\n"
     ]
    }
   ],
   "source": [
    "#Source Data Matrices\n",
    "\n",
    "Boeing_slices_train_matrix = np.c_[ np.ones(len(Boeing_slices_train_matrix)),Boeing_slices_train_matrix] \n",
    "Boeing_slices_train_matrix[:, 0] =  0\n",
    "print(Boeing_slices_train_matrix.shape)\n",
    "\n",
    "Boeing_slices_test_matrix = np.c_[ np.ones(len(Boeing_slices_test_matrix)),Boeing_slices_test_matrix] \n",
    "Boeing_slices_test_matrix[:, 0] =  0\n",
    "print(Boeing_slices_test_matrix.shape)\n",
    "\n",
    "Embraer_slices_train_matrix = np.c_[ np.ones(len(Embraer_slices_train_matrix)),Embraer_slices_train_matrix] \n",
    "Embraer_slices_train_matrix[:, 0] = 1\n",
    "print(Embraer_slices_train_matrix.shape)\n",
    "\n",
    "Embraer_slices_test_matrix = np.c_[ np.ones(len(Embraer_slices_test_matrix)),Embraer_slices_test_matrix] \n",
    "Embraer_slices_test_matrix[:, 0] =  1\n",
    "print(Embraer_slices_test_matrix.shape)\n",
    "\n",
    "Bombardier_slices_train_matrix = np.c_[ np.ones(len(Bombardier_slices_train_matrix)),Bombardier_slices_train_matrix] \n",
    "Bombardier_slices_train_matrix[:, 0] = 0\n",
    "print(Bombardier_slices_train_matrix.shape)\n",
    "\n",
    "Bombardier_slices_test_matrix = np.c_[ np.ones(len(Bombardier_slices_test_matrix)),Bombardier_slices_test_matrix] \n",
    "Bombardier_slices_test_matrix[:, 0] =  0\n",
    "print(Bombardier_slices_test_matrix.shape)\n",
    "\n",
    "Airbus_slices_train_matrix = np.c_[ np.ones(len(Airbus_slices_train_matrix)),Airbus_slices_train_matrix] \n",
    "Airbus_slices_train_matrix[:, 0] = 0\n",
    "print(Embraer_slices_train_matrix.shape)\n",
    "\n",
    "Airbus_slices_test_matrix = np.c_[ np.ones(len(Airbus_slices_test_matrix)),Airbus_slices_test_matrix] \n",
    "Airbus_slices_test_matrix[:, 0] =  0\n",
    "print(Airbus_slices_test_matrix.shape)"
   ]
  },
  {
   "cell_type": "code",
   "execution_count": 10,
   "metadata": {},
   "outputs": [
    {
     "name": "stdout",
     "output_type": "stream",
     "text": [
      "(98, 32001)\n",
      "(28, 32001)\n",
      "(10, 32001)\n",
      "(69, 32001)\n",
      "(98, 32001)\n",
      "(28, 32001)\n",
      "(10, 32001)\n",
      "(69, 32001)\n",
      "(98, 32001)\n",
      "(28, 32001)\n",
      "(10, 32001)\n",
      "(69, 32001)\n"
     ]
    }
   ],
   "source": [
    "#Augmented Matrices\n",
    "\n",
    "Boeing_augmented_train_matrix = np.c_[ np.ones(len(Boeing_augmented_train_matrix)),Boeing_augmented_train_matrix] \n",
    "Boeing_augmented_train_matrix[:, 0] = 0\n",
    "Boeing_augmented_train_matrix = np.delete(Boeing_augmented_train_matrix, (0), axis=0)\n",
    "print(Boeing_augmented_train_matrix.shape)\n",
    "\n",
    "Embraer_augmented_train_matrix = np.c_[ np.ones(len(Embraer_augmented_train_matrix)),Embraer_augmented_train_matrix] \n",
    "Embraer_augmented_train_matrix[:, 0] = 1\n",
    "Embraer_augmented_train_matrix = np.delete(Embraer_augmented_train_matrix, (0), axis=0)\n",
    "print(Embraer_augmented_train_matrix.shape)\n",
    "\n",
    "Bombardier_augmented_train_matrix = np.c_[ np.ones(len(Bombardier_augmented_train_matrix)),Bombardier_augmented_train_matrix] \n",
    "Bombardier_augmented_train_matrix[:, 0] = 0\n",
    "Bombardier_augmented_train_matrix = np.delete(Bombardier_augmented_train_matrix, (0), axis=0)\n",
    "print(Bombardier_augmented_train_matrix.shape)\n",
    "\n",
    "Airbus_augmented_train_matrix = np.c_[ np.ones(len(Airbus_augmented_train_matrix)),Airbus_augmented_train_matrix] \n",
    "Airbus_augmented_train_matrix[:, 0] = 0\n",
    "Airbus_augmented_train_matrix = np.delete(Airbus_augmented_train_matrix, (0), axis=0)\n",
    "print(Airbus_augmented_train_matrix.shape)\n",
    "\n",
    "#Augmented Matrices #2\n",
    "Boeing_augmented_train_matrix2 = np.c_[ np.ones(len(Boeing_augmented_train_matrix2)),Boeing_augmented_train_matrix2] \n",
    "Boeing_augmented_train_matrix2[:, 0] = 0\n",
    "Boeing_augmented_train_matrix2 = np.delete(Boeing_augmented_train_matrix2, (0), axis=0)\n",
    "print(Boeing_augmented_train_matrix2.shape)\n",
    "\n",
    "Embraer_augmented_train_matrix2 = np.c_[ np.ones(len(Embraer_augmented_train_matrix2)),Embraer_augmented_train_matrix2] \n",
    "Embraer_augmented_train_matrix2[:, 0] = 1\n",
    "Embraer_augmented_train_matrix2 = np.delete(Embraer_augmented_train_matrix2, (0), axis=0)\n",
    "print(Embraer_augmented_train_matrix2.shape)\n",
    "\n",
    "Bombardier_augmented_train_matrix2 = np.c_[ np.ones(len(Bombardier_augmented_train_matrix2)),Bombardier_augmented_train_matrix2] \n",
    "Bombardier_augmented_train_matrix2[:, 0] = 0\n",
    "Bombardier_augmented_train_matrix2 = np.delete(Bombardier_augmented_train_matrix2, (0), axis=0)\n",
    "print(Bombardier_augmented_train_matrix2.shape)\n",
    "\n",
    "Airbus_augmented_train_matrix2 = np.c_[ np.ones(len(Airbus_augmented_train_matrix2)),Airbus_augmented_train_matrix2] \n",
    "Airbus_augmented_train_matrix2[:, 0] = 0\n",
    "Airbus_augmented_train_matrix2 = np.delete(Airbus_augmented_train_matrix2, (0), axis=0)\n",
    "print(Airbus_augmented_train_matrix2.shape)\n",
    "\n",
    "\n",
    "#Augmented Matrices #3\n",
    "\n",
    "Boeing_augmented_train_matrix3 = np.c_[ np.ones(len(Boeing_augmented_train_matrix3)),Boeing_augmented_train_matrix3] \n",
    "Boeing_augmented_train_matrix3[:, 0] = 0\n",
    "Boeing_augmented_train_matrix3 = np.delete(Boeing_augmented_train_matrix3, (0), axis=0)\n",
    "print(Boeing_augmented_train_matrix3.shape)\n",
    "\n",
    "Embraer_augmented_train_matrix3 = np.c_[ np.ones(len(Embraer_augmented_train_matrix3)),Embraer_augmented_train_matrix3] \n",
    "Embraer_augmented_train_matrix3[:, 0] = 1\n",
    "Embraer_augmented_train_matrix3 = np.delete(Embraer_augmented_train_matrix3, (0), axis=0)\n",
    "print(Embraer_augmented_train_matrix3.shape)\n",
    "\n",
    "Bombardier_augmented_train_matrix3 = np.c_[ np.ones(len(Bombardier_augmented_train_matrix3)),Bombardier_augmented_train_matrix3] \n",
    "Bombardier_augmented_train_matrix3[:, 0] = 0\n",
    "Bombardier_augmented_train_matrix3 = np.delete(Bombardier_augmented_train_matrix3, (0), axis=0)\n",
    "print(Bombardier_augmented_train_matrix3.shape)\n",
    "\n",
    "Airbus_augmented_train_matrix3 = np.c_[ np.ones(len(Airbus_augmented_train_matrix3)),Airbus_augmented_train_matrix3] \n",
    "Airbus_augmented_train_matrix3[:, 0] = 0\n",
    "Airbus_augmented_train_matrix3 = np.delete(Airbus_augmented_train_matrix3, (0), axis=0)\n",
    "print(Airbus_augmented_train_matrix3.shape)"
   ]
  },
  {
   "cell_type": "markdown",
   "metadata": {},
   "source": [
    "### Split and Shuffle Data"
   ]
  },
  {
   "cell_type": "code",
   "execution_count": 11,
   "metadata": {},
   "outputs": [],
   "source": [
    "all_train_data = []"
   ]
  },
  {
   "cell_type": "code",
   "execution_count": 12,
   "metadata": {},
   "outputs": [
    {
     "name": "stdout",
     "output_type": "stream",
     "text": [
      "(820, 32001)\n"
     ]
    }
   ],
   "source": [
    "all_train_data = np.append(Boeing_slices_train_matrix, Embraer_slices_train_matrix, axis=0)\n",
    "all_train_data = np.append(all_train_data, Bombardier_slices_train_matrix, axis=0)\n",
    "all_train_data = np.append(all_train_data, Airbus_slices_train_matrix, axis=0)\n",
    " \n",
    "# Add augmented data just to training matrix\n",
    "all_train_data = np.append(all_train_data ,Embraer_augmented_train_matrix, axis=0)\n",
    "all_train_data = np.append(all_train_data ,Embraer_augmented_train_matrix2, axis=0)\n",
    "all_train_data = np.append(all_train_data ,Embraer_augmented_train_matrix3, axis=0)\n",
    "\n",
    "all_train_data = np.append(all_train_data ,Boeing_augmented_train_matrix, axis=0)\n",
    "all_train_data = np.append(all_train_data ,Boeing_augmented_train_matrix2, axis=0)\n",
    "all_train_data = np.append(all_train_data ,Boeing_augmented_train_matrix3, axis=0)\n",
    "\n",
    "all_train_data = np.append(all_train_data ,Bombardier_augmented_train_matrix, axis=0)\n",
    "all_train_data = np.append(all_train_data ,Bombardier_augmented_train_matrix2, axis=0)\n",
    "all_train_data = np.append(all_train_data ,Bombardier_augmented_train_matrix3, axis=0)\n",
    "\n",
    "all_train_data = np.append(all_train_data ,Airbus_augmented_train_matrix, axis=0)\n",
    "all_train_data = np.append(all_train_data ,Airbus_augmented_train_matrix2, axis=0)\n",
    "all_train_data = np.append(all_train_data ,Airbus_augmented_train_matrix3, axis=0)\n",
    "print(all_train_data.shape)\n"
   ]
  },
  {
   "cell_type": "code",
   "execution_count": 13,
   "metadata": {},
   "outputs": [],
   "source": [
    "all_test_data = []"
   ]
  },
  {
   "cell_type": "code",
   "execution_count": 14,
   "metadata": {},
   "outputs": [
    {
     "name": "stdout",
     "output_type": "stream",
     "text": [
      "(97, 32001)\n"
     ]
    }
   ],
   "source": [
    "all_test_data = np.append(Boeing_slices_test_matrix, Embraer_slices_test_matrix, axis=0)\n",
    "all_test_data = np.append(all_test_data, Bombardier_slices_test_matrix, axis=0)\n",
    "all_test_data = np.append(all_test_data , Airbus_slices_test_matrix,axis=0)\n",
    "print(all_test_data.shape)\n",
    "\n",
    "np.random.shuffle(all_train_data)\n",
    "np.random.shuffle(all_test_data)\n",
    "\n",
    "y_train = np.asarray(all_train_data[:,0])\n",
    "X_train = np.asarray(all_train_data[:,1:32001])\n",
    "\n",
    "y_test = np.asarray(all_test_data[:,0])\n",
    "X_test = np.asarray(all_test_data[:,1:32001])"
   ]
  },
  {
   "cell_type": "code",
   "execution_count": 15,
   "metadata": {},
   "outputs": [
    {
     "name": "stdout",
     "output_type": "stream",
     "text": [
      "(820,)\n",
      "(820, 32000)\n",
      "(97,)\n",
      "(97, 32000)\n"
     ]
    }
   ],
   "source": [
    "print(y_train.shape)\n",
    "print(X_train.shape)\n",
    "print(y_test.shape)\n",
    "print(X_test.shape)"
   ]
  },
  {
   "cell_type": "code",
   "execution_count": 16,
   "metadata": {},
   "outputs": [
    {
     "name": "stdout",
     "output_type": "stream",
     "text": [
      "820\n",
      "97\n"
     ]
    }
   ],
   "source": [
    "trainsize = len(y_train)\n",
    "print(trainsize)\n",
    "testsize = len(y_test)\n",
    "print(testsize)"
   ]
  },
  {
   "cell_type": "code",
   "execution_count": 17,
   "metadata": {},
   "outputs": [],
   "source": [
    "y_train = np.asarray(y_train)\n",
    "X_train = np.asarray(X_train)\n",
    "y_test = np.asarray(y_test)\n",
    "X_test = np.asarray(X_test)"
   ]
  },
  {
   "cell_type": "code",
   "execution_count": 18,
   "metadata": {},
   "outputs": [
    {
     "name": "stdout",
     "output_type": "stream",
     "text": [
      "(0,)\n"
     ]
    },
    {
     "data": {
      "text/plain": [
       "(0,)"
      ]
     },
     "execution_count": 18,
     "metadata": {},
     "output_type": "execute_result"
    }
   ],
   "source": [
    "# Eliminate any rows that are all nulls\n",
    "X_test_nulls = np.where(~X_test.any(axis=1))[0]\n",
    "X_train_nulls = np.where(~X_test.any(axis=1))[0]\n",
    "print(X_train_nulls.shape)\n",
    "X_test_nulls.shape"
   ]
  },
  {
   "cell_type": "markdown",
   "metadata": {},
   "source": [
    "### Featurizing"
   ]
  },
  {
   "cell_type": "code",
   "execution_count": 19,
   "metadata": {},
   "outputs": [],
   "source": [
    "# Function to convert audio from integer to float range\n",
    "def convert_audio_i2f(audio):\n",
    "    audio = audio.astype(np.float32, order='C') / 32000.0\n",
    "    return audio"
   ]
  },
  {
   "cell_type": "code",
   "execution_count": 20,
   "metadata": {},
   "outputs": [],
   "source": [
    "# Function to replace outliers\n",
    "def replace_outliers(data_in, para=1.5):\n",
    "    median = np.median(data_in)\n",
    "    for val in range(0, len(data_in)):\n",
    "        if (abs(data_in[val] - median)) >= (\n",
    "                para * np.std(data_in)):  # std dev used of fund frequency for this class\n",
    "            data_in[val] = median\n",
    "\n",
    "    return data_in"
   ]
  },
  {
   "cell_type": "code",
   "execution_count": 21,
   "metadata": {},
   "outputs": [],
   "source": [
    "# Function to generate fundamental frequencies from audio sample\n",
    "def fundamental_freq_gen(y):\n",
    "    y = np.array(y).astype(np.float)\n",
    "    sr = float(32000)\n",
    "    # Predict fundamental frequency based on crepe pre-trained pitch model\n",
    "    _, frequency, _, _ = crepe.predict(y,\n",
    "                                       sr,\n",
    "                                       viterbi=False,\n",
    "                                       verbose=0, step_size=100,\n",
    "                                       model_capacity=\"full\")\n",
    "    frequency = np.array(frequency)    \n",
    "    # Reshape for one prediction\n",
    "    frequency = frequency.reshape(1, -1)\n",
    "    return frequency"
   ]
  },
  {
   "cell_type": "code",
   "execution_count": 22,
   "metadata": {},
   "outputs": [],
   "source": [
    "# Function to generate constant q and fundamental frequency features for each audio sample.\n",
    "def _generate_features(data):\n",
    "    allfreqs = []\n",
    "    crepe_input = []\n",
    "    labels = []\n",
    "    data = np.asarray(data)\n",
    "    data = data.astype(float)\n",
    "    row_count = len(data)\n",
    "    print('row_count: ' + str(row_count))\n",
    "\n",
    "    for row in range(0,row_count):\n",
    "        freq = fundamental_freq_gen(data[row,:])\n",
    "        freq = np.array(freq)\n",
    "        allfreqs.append(freq)\n",
    "        crepe_input = np.array(allfreqs)\n",
    "\n",
    "    print('crepe_input.shape:' + str(crepe_input.shape))\n",
    "\n",
    "    crepe_input= crepe_input.reshape(row_count, crepe_input.shape[2])\n",
    "    normalized_crepe_input = np.array([replace_outliers(x) for x in crepe_input])\n",
    "    print('normalized_crepe_input.shape' + str(normalized_crepe_input.shape))\n",
    "    return normalized_crepe_input"
   ]
  },
  {
   "cell_type": "code",
   "execution_count": 23,
   "metadata": {},
   "outputs": [
    {
     "name": "stdout",
     "output_type": "stream",
     "text": [
      "row_count: 820\n",
      "WARNING:tensorflow:From C:\\Anaconda\\envs\\amlrealtimeai\\lib\\site-packages\\keras\\backend\\tensorflow_backend.py:517: The name tf.placeholder is deprecated. Please use tf.compat.v1.placeholder instead.\n",
      "\n",
      "WARNING:tensorflow:From C:\\Anaconda\\envs\\amlrealtimeai\\lib\\site-packages\\keras\\backend\\tensorflow_backend.py:4138: The name tf.random_uniform is deprecated. Please use tf.random.uniform instead.\n",
      "\n",
      "WARNING:tensorflow:From C:\\Anaconda\\envs\\amlrealtimeai\\lib\\site-packages\\keras\\backend\\tensorflow_backend.py:245: The name tf.get_default_graph is deprecated. Please use tf.compat.v1.get_default_graph instead.\n",
      "\n",
      "WARNING:tensorflow:From C:\\Anaconda\\envs\\amlrealtimeai\\lib\\site-packages\\keras\\backend\\tensorflow_backend.py:174: The name tf.get_default_session is deprecated. Please use tf.compat.v1.get_default_session instead.\n",
      "\n",
      "WARNING:tensorflow:From C:\\Anaconda\\envs\\amlrealtimeai\\lib\\site-packages\\keras\\backend\\tensorflow_backend.py:181: The name tf.ConfigProto is deprecated. Please use tf.compat.v1.ConfigProto instead.\n",
      "\n",
      "WARNING:tensorflow:From C:\\Anaconda\\envs\\amlrealtimeai\\lib\\site-packages\\keras\\backend\\tensorflow_backend.py:1834: The name tf.nn.fused_batch_norm is deprecated. Please use tf.compat.v1.nn.fused_batch_norm instead.\n",
      "\n",
      "WARNING:tensorflow:From C:\\Anaconda\\envs\\amlrealtimeai\\lib\\site-packages\\keras\\backend\\tensorflow_backend.py:3976: The name tf.nn.max_pool is deprecated. Please use tf.nn.max_pool2d instead.\n",
      "\n",
      "WARNING:tensorflow:From C:\\Anaconda\\envs\\amlrealtimeai\\lib\\site-packages\\keras\\backend\\tensorflow_backend.py:3445: calling dropout (from tensorflow.python.ops.nn_ops) with keep_prob is deprecated and will be removed in a future version.\n",
      "Instructions for updating:\n",
      "Please use `rate` instead of `keep_prob`. Rate should be set to `rate = 1 - keep_prob`.\n",
      "WARNING:tensorflow:From C:\\Anaconda\\envs\\amlrealtimeai\\lib\\site-packages\\keras\\optimizers.py:790: The name tf.train.Optimizer is deprecated. Please use tf.compat.v1.train.Optimizer instead.\n",
      "\n",
      "WARNING:tensorflow:From C:\\Anaconda\\envs\\amlrealtimeai\\lib\\site-packages\\tensorflow\\python\\ops\\nn_impl.py:180: add_dispatch_support.<locals>.wrapper (from tensorflow.python.ops.array_ops) is deprecated and will be removed in a future version.\n",
      "Instructions for updating:\n",
      "Use tf.where in 2.0, which has the same broadcast rule as np.where\n",
      "crepe_input.shape:(820, 1, 11)\n",
      "normalized_crepe_input.shape(820, 11)\n",
      "row_count: 97\n",
      "crepe_input.shape:(97, 1, 11)\n",
      "normalized_crepe_input.shape(97, 11)\n"
     ]
    }
   ],
   "source": [
    "# Generate train and test features\n",
    "crepe_train_input = _generate_features(X_train)\n",
    "crepe_test_input = _generate_features(X_test)"
   ]
  },
  {
   "cell_type": "code",
   "execution_count": 24,
   "metadata": {},
   "outputs": [
    {
     "name": "stdout",
     "output_type": "stream",
     "text": [
      "input shapes\n",
      "(820, 11)\n",
      "(97, 11)\n"
     ]
    }
   ],
   "source": [
    "print('input shapes')\n",
    "print(crepe_train_input.shape)\n",
    "print(crepe_test_input.shape)"
   ]
  },
  {
   "cell_type": "markdown",
   "metadata": {},
   "source": [
    "### Model Building\n",
    "Because we are just using values from CREPE, let's stick with simple machine learning"
   ]
  },
  {
   "cell_type": "code",
   "execution_count": 25,
   "metadata": {},
   "outputs": [],
   "source": [
    "# Scale data [-1, 1]\n",
    "X_train = StandardScaler().fit_transform(crepe_train_input)\n",
    "X_test = StandardScaler().fit_transform(crepe_test_input)\n",
    "y_train = y_train\n",
    "y_test = y_test"
   ]
  },
  {
   "cell_type": "code",
   "execution_count": 26,
   "metadata": {},
   "outputs": [],
   "source": [
    "# Set up parameter grid search\n",
    "Cs = [0.01, 0.1, 1, 2, 5]\n",
    "kernels = ['linear', 'rbf']\n",
    "degrees = [1, 2, 3]\n",
    "parameters = {'C': Cs, 'degrees': degrees}\n",
    "parameters = {'kernel':kernels, 'C':Cs, 'degree': degrees}\n",
    "\n",
    "svc = svm.SVC(gamma='auto', class_weight='balanced')\n",
    "grid = GridSearchCV(svc, param_grid=parameters, cv=10, verbose=True)"
   ]
  },
  {
   "cell_type": "code",
   "execution_count": 27,
   "metadata": {},
   "outputs": [
    {
     "name": "stdout",
     "output_type": "stream",
     "text": [
      "Fitting 10 folds for each of 30 candidates, totalling 300 fits\n"
     ]
    },
    {
     "name": "stderr",
     "output_type": "stream",
     "text": [
      "[Parallel(n_jobs=1)]: Done 300 out of 300 | elapsed:    8.9s finished\n"
     ]
    }
   ],
   "source": [
    "# Fit the grid\n",
    "grid.fit(X_train, y_train)\n",
    "clf = grid.best_estimator_"
   ]
  },
  {
   "cell_type": "code",
   "execution_count": 28,
   "metadata": {},
   "outputs": [
    {
     "data": {
      "text/plain": [
       "SVC(C=5, cache_size=200, class_weight='balanced', coef0=0.0,\n",
       "  decision_function_shape='ovr', degree=1, gamma='auto', kernel='rbf',\n",
       "  max_iter=-1, probability=False, random_state=None, shrinking=True,\n",
       "  tol=0.001, verbose=False)"
      ]
     },
     "execution_count": 28,
     "metadata": {},
     "output_type": "execute_result"
    }
   ],
   "source": [
    "# Fit the model to the data\n",
    "clf.fit(X_train, y_train)"
   ]
  },
  {
   "cell_type": "markdown",
   "metadata": {},
   "source": [
    "#### Results"
   ]
  },
  {
   "cell_type": "code",
   "execution_count": 29,
   "metadata": {},
   "outputs": [
    {
     "name": "stdout",
     "output_type": "stream",
     "text": [
      "accuracy: 0.5154639175257731\n",
      "Confusion matrix:\n",
      "[[39 43]\n",
      " [ 4 11]]\n"
     ]
    }
   ],
   "source": [
    "from sklearn.metrics import confusion_matrix\n",
    "print('accuracy: ' + str(clf.score(X_test, y_test)))\n",
    "print('Confusion matrix:')\n",
    "print(confusion_matrix(y_test, clf.predict(X_test)))"
   ]
  },
  {
   "cell_type": "markdown",
   "metadata": {},
   "source": [
    "#### Confusion Matrix"
   ]
  },
  {
   "cell_type": "code",
   "execution_count": 30,
   "metadata": {},
   "outputs": [],
   "source": [
    "def plot_confusion_matrix(y_true, y_pred, classes,\n",
    "                          normalize=False,\n",
    "                          title=None,\n",
    "                          cmap=plt.cm.Blues):\n",
    "    \"\"\"\n",
    "    This function prints and plots the confusion matrix.\n",
    "    Normalization can be applied by setting `normalize=True`.\n",
    "    \"\"\"\n",
    "    if not title:\n",
    "        if normalize:\n",
    "            title = 'Normalized confusion matrix'\n",
    "        else:\n",
    "            title = 'Confusion matrix, without normalization'\n",
    "\n",
    "    # Compute confusion matrix\n",
    "    cm = confusion_matrix(y_true, y_pred)\n",
    "\n",
    "    if normalize:\n",
    "        cm = cm.astype('float') / cm.sum(axis=1)[:, np.newaxis]\n",
    "        print(\"Normalized confusion matrix\")\n",
    "    else:\n",
    "        print('Confusion matrix, without normalization')\n",
    "\n",
    "    print(cm)\n",
    "\n",
    "    fig, ax = plt.subplots()\n",
    "    im = ax.imshow(cm, interpolation='nearest', cmap=cmap)\n",
    "    ax.figure.colorbar(im, ax=ax)\n",
    "    # We want to show all ticks...\n",
    "    ax.set(xticks=np.arange(cm.shape[1]),\n",
    "           yticks=np.arange(cm.shape[0]),\n",
    "           # ... and label them with the respective list entries\n",
    "           xticklabels=classes, yticklabels=classes,\n",
    "           title=title,\n",
    "           ylabel='True label',\n",
    "           xlabel='Predicted label')\n",
    "\n",
    "    # Rotate the tick labels and set their alignment.\n",
    "    plt.setp(ax.get_xticklabels(), rotation=45, ha=\"right\",\n",
    "             rotation_mode=\"anchor\")\n",
    "\n",
    "    # Loop over data dimensions and create text annotations.\n",
    "    fmt = '.2f' if normalize else 'd'\n",
    "    thresh = cm.max() / 2.\n",
    "    for i in range(cm.shape[0]):\n",
    "        for j in range(cm.shape[1]):\n",
    "            if j > 0:\n",
    "                if i > 0:\n",
    "                    j_pos = j\n",
    "                    i_pos = i-0.25\n",
    "                else:\n",
    "                    j_pos = j\n",
    "                    i_pos = i+0.25\n",
    "            else:\n",
    "                if i > 0:\n",
    "                    j_pos = j\n",
    "                    i_pos = i-0.25\n",
    "                else:\n",
    "                    j_pos = j\n",
    "                    i_pos = i+0.25\n",
    "            ax.text(j_pos, i_pos, format(cm[i, j], fmt),\n",
    "                    ha=\"center\", va=\"center\",\n",
    "                    color=\"white\" if cm[i, j] > thresh else \"black\", fontsize=16)\n",
    "    fig.tight_layout()\n",
    "    return ax"
   ]
  },
  {
   "cell_type": "code",
   "execution_count": 32,
   "metadata": {
    "scrolled": false
   },
   "outputs": [
    {
     "name": "stdout",
     "output_type": "stream",
     "text": [
      "Confusion matrix, without normalization\n",
      "[[39 43]\n",
      " [ 4 11]]\n",
      "Normalized confusion matrix\n",
      "[[0.48 0.52]\n",
      " [0.27 0.73]]\n"
     ]
    },
    {
     "data": {
      "text/plain": [
       "<matplotlib.axes._subplots.AxesSubplot at 0x20619d301d0>"
      ]
     },
     "execution_count": 32,
     "metadata": {},
     "output_type": "execute_result"
    },
    {
     "data": {
      "image/png": "[encoded data removed]",
      "text/plain": [
       "<Figure size 432x288 with 2 Axes>"
      ]
     },
     "metadata": {
      "needs_background": "light"
     },
     "output_type": "display_data"
    },
    {
     "data": {
      "image/png": "[encoded data removed]",
      "text/plain": [
       "<Figure size 432x288 with 2 Axes>"
      ]
     },
     "metadata": {
      "needs_background": "light"
     },
     "output_type": "display_data"
    }
   ],
   "source": [
    "np.set_printoptions(precision=2)\n",
    "\n",
    "# Plot non-normalized confusion matrix\n",
    "plot_confusion_matrix(y_test, clf.predict(X_test), classes=['Other Aircraft (0)','Embraer (1)'],\n",
    "                      title='Confusion matrix, without normalization')\n",
    "# Plot normalized confusion matrix\n",
    "plot_confusion_matrix(y_test, clf.predict(X_test), classes=['Other Aircraft (0)','Embraer (1)'], normalize=True,\n",
    "                                          title='Normalized confusion matrix')"
   ]
  },
  {
   "cell_type": "markdown",
   "metadata": {},
   "source": [
    "# The End"
   ]
  },
  {
   "cell_type": "code",
   "execution_count": null,
   "metadata": {},
   "outputs": [],
   "source": []
  }
 ],
 "metadata": {
  "kernelspec": {
   "display_name": "Python [conda env:amlrealtimeai] *",
   "language": "python",
   "name": "conda-env-amlrealtimeai-py"
  },
  "language_info": {
   "codemirror_mode": {
    "name": "ipython",
    "version": 3
   },
   "file_extension": ".py",
   "mimetype": "text/x-python",
   "name": "python",
   "nbconvert_exporter": "python",
   "pygments_lexer": "ipython3",
   "version": "3.6.9"
  }
 },
 "nbformat": 4,
 "nbformat_minor": 2
}
