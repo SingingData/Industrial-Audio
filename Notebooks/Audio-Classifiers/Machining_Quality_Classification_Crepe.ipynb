{
 "cells": [
  {
   "cell_type": "markdown",
   "metadata": {},
   "source": [
    "# Machining Quality - Classification Model (Crepe)\n",
    "#### Binary Classifier \n",
    "Last Updated November 26, 2019"
   ]
  },
  {
   "cell_type": "code",
   "execution_count": 1,
   "metadata": {},
   "outputs": [],
   "source": [
    "%matplotlib inline\n",
    "import matplotlib.pyplot as plt\n",
    "plt.style.use('seaborn-white')\n",
    "import pywt\n",
    "from matplotlib.image import imread\n",
    "import numpy as np\n",
    "import os\n",
    "from scipy.io import wavfile\n",
    "from pathlib import Path\n",
    "import pywt\n",
    "import soundfile\n",
    "import random\n",
    "import pickle\n",
    "from glob import iglob\n",
    "import crepe\n",
    "from sklearn.metrics import confusion_matrix, classification_report\n",
    "from sklearn.preprocessing import StandardScaler\n",
    "from sklearn.model_selection import KFold, train_test_split\n",
    "from sklearn import svm\n",
    "from sklearn.model_selection import GridSearchCV\n",
    "import pprint\n",
    "random.seed(42)\n",
    "import librosa\n",
    "import scipy.signal\n",
    "from scipy.signal import resample"
   ]
  },
  {
   "cell_type": "code",
   "execution_count": 2,
   "metadata": {},
   "outputs": [
    {
     "name": "stdout",
     "output_type": "stream",
     "text": [
      "/home/niwilso/neurips/Industrial-Audio-Classification/Data/arrays-audio-by-type\n",
      "['new_array_currentsample_1_sec_test_toofast.txt', 'new_array_currentsample_1_sec_train_toofast.txt', 'new_array_currentsample_1_sec_test_justright.txt', 'new_array_currentsample_1_sec_train_justright.txt']\n"
     ]
    }
   ],
   "source": [
    "# Change working directory to local lcoation for this file.\n",
    "os.chdir('/home/niwilso/neurips/Industrial-Audio-Classification/Data/arrays-audio-by-type/')\n",
    "base_dir = '/home/niwilso/neurips/Industrial-Audio-Classification/Data/arrays-audio-by-type/'\n",
    "WorkingDir = os.path.join(base_dir)\n",
    "print(os.getcwd())\n",
    "\n",
    "# Check files at this folder location\n",
    "import glob\n",
    "filelist = glob.glob(\"*.txt\")\n",
    "print(filelist)"
   ]
  },
  {
   "cell_type": "code",
   "execution_count": 3,
   "metadata": {},
   "outputs": [
    {
     "data": {
      "text/plain": [
       "'new_array_currentsample_1_sec_test_toofast.txt'"
      ]
     },
     "execution_count": 3,
     "metadata": {},
     "output_type": "execute_result"
    }
   ],
   "source": [
    "filelist[0]"
   ]
  },
  {
   "cell_type": "markdown",
   "metadata": {},
   "source": [
    "### Load and Inspect Data"
   ]
  },
  {
   "cell_type": "code",
   "execution_count": 4,
   "metadata": {},
   "outputs": [
    {
     "name": "stdout",
     "output_type": "stream",
     "text": [
      "/home/niwilso/neurips/Industrial-Audio-Classification/Data/arrays-audio-by-type\n"
     ]
    }
   ],
   "source": [
    "# Original audio recordings have already been split to samples of 1 second 32000 at sample rate and stored in numpy array.\n",
    "print(os.getcwd())\n",
    "\n",
    "Train_matrix_justright = np.loadtxt('new_array_currentsample_1_sec_train_justright.txt', delimiter=',')\n",
    "Test_matrix_justright = np.loadtxt('new_array_currentsample_1_sec_test_justright.txt', delimiter=',')\n",
    "Train_matrix_toofast = np.loadtxt('new_array_currentsample_1_sec_train_toofast.txt', delimiter=',')\n",
    "Test_matrix_toofast = np.loadtxt('new_array_currentsample_1_sec_test_toofast.txt', delimiter=',')"
   ]
  },
  {
   "cell_type": "code",
   "execution_count": 5,
   "metadata": {},
   "outputs": [
    {
     "name": "stdout",
     "output_type": "stream",
     "text": [
      "[ 831. -682.    0. ...  135. 1692. 2983.]\n"
     ]
    },
    {
     "data": {
      "image/png": "[encoded data removed]",
      "text/plain": [
       "<Figure size 432x288 with 1 Axes>"
      ]
     },
     "metadata": {
      "needs_background": "light"
     },
     "output_type": "display_data"
    }
   ],
   "source": [
    "signal = Train_matrix_justright[40,:]\n",
    "time = 32000\n",
    "print(signal)\n",
    "plt.plot(signal)\n",
    "plt.show()"
   ]
  },
  {
   "cell_type": "markdown",
   "metadata": {},
   "source": [
    "### Add Augmented Data"
   ]
  },
  {
   "cell_type": "code",
   "execution_count": 6,
   "metadata": {},
   "outputs": [],
   "source": [
    "def _create_augmented_volume_reduction_data_matrix(old_matrix, volume_change):\n",
    "    \n",
    "    old_matrix = np.asarray(old_matrix)\n",
    "    new_target_numpy = np.empty((32000),int)\n",
    "    new_target_numpy = np.asarray(new_target_numpy)    \n",
    "\n",
    "    for i in range(old_matrix.shape[0]):\n",
    "        new_numpy = old_matrix[i,:] + volume_change\n",
    "        new_numpy = np.asarray(new_numpy)\n",
    "        new_target_numpy = np.vstack((new_target_numpy, new_numpy))\n",
    "        new_target_numpy = np.asarray(new_target_numpy)\n",
    "    return(new_target_numpy)"
   ]
  },
  {
   "cell_type": "code",
   "execution_count": 7,
   "metadata": {},
   "outputs": [],
   "source": [
    "# Create Augmented matrices with volume reduction\n",
    "Augmented_Train_matrix_justright = _create_augmented_volume_reduction_data_matrix(Train_matrix_justright, -5)\n",
    "Augmented_Test_matrix_justright = _create_augmented_volume_reduction_data_matrix(Test_matrix_justright, -5)\n",
    "Augmented_Train_matrix_toofast = _create_augmented_volume_reduction_data_matrix(Train_matrix_toofast, -5)\n",
    "Augmented_Test_matrix_toofast = _create_augmented_volume_reduction_data_matrix(Test_matrix_toofast, -5)"
   ]
  },
  {
   "cell_type": "code",
   "execution_count": 8,
   "metadata": {},
   "outputs": [],
   "source": [
    "def _create_augmented_white_noise_data_matrix(old_matrix, noise_level):\n",
    "    new_target_numpy = np.empty((32000),int)\n",
    "    new_target_numpy = np.asarray(new_target_numpy)   \n",
    "    \n",
    "    for i in range(old_matrix.shape[0]):\n",
    "        wn = np.random.randn(old_matrix.shape[1])\n",
    "        new_numpy = old_matrix[i,:] + noise_level*wn\n",
    "        new_numpy = np.asarray(new_numpy)\n",
    "        new_target_numpy = np.vstack((new_target_numpy, new_numpy))\n",
    "        new_target_numpy = np.asarray(new_target_numpy)\n",
    "    return(new_target_numpy)\n",
    "        "
   ]
  },
  {
   "cell_type": "code",
   "execution_count": 9,
   "metadata": {},
   "outputs": [],
   "source": [
    "# Create Augmented matrices with white noise added\n",
    "Augmented_Train_matrix_justright_2= _create_augmented_white_noise_data_matrix(Train_matrix_justright,0.01)\n",
    "Augmented_Test_matrix_justright_2 = _create_augmented_white_noise_data_matrix(Test_matrix_justright,0.01)\n",
    "Augmented_Train_matrix_toofast_2 = _create_augmented_white_noise_data_matrix(Train_matrix_toofast,0.01)\n",
    "Augmented_Test_matrix_toofast_2 = _create_augmented_white_noise_data_matrix(Test_matrix_toofast,0.01)\n"
   ]
  },
  {
   "cell_type": "markdown",
   "metadata": {},
   "source": [
    "### Add Labels"
   ]
  },
  {
   "cell_type": "code",
   "execution_count": 10,
   "metadata": {},
   "outputs": [
    {
     "name": "stdout",
     "output_type": "stream",
     "text": [
      "(49, 32001)\n",
      "(13, 32001)\n",
      "(96, 32001)\n",
      "(25, 32001)\n"
     ]
    }
   ],
   "source": [
    "# Add labels to source matrices\n",
    "\n",
    "Train_matrix_justright = np.c_[ np.ones(len(Train_matrix_justright)),Train_matrix_justright] \n",
    "Train_matrix_justright[:, 0] =  0\n",
    "print(Train_matrix_justright.shape)\n",
    "\n",
    "Test_matrix_justright = np.c_[ np.ones(len(Test_matrix_justright)),Test_matrix_justright] \n",
    "Test_matrix_justright[:, 0] =  0\n",
    "print(Test_matrix_justright.shape)\n",
    "\n",
    "Train_matrix_toofast = np.c_[ np.ones(len(Train_matrix_toofast)),Train_matrix_toofast] \n",
    "Train_matrix_toofast[:, 0] = 1\n",
    "print(Train_matrix_toofast.shape)\n",
    "\n",
    "Test_matrix_toofast = np.c_[ np.ones(len(Test_matrix_toofast)),Test_matrix_toofast] \n",
    "Test_matrix_toofast[:, 0] =  1\n",
    "print(Test_matrix_toofast.shape)\n"
   ]
  },
  {
   "cell_type": "code",
   "execution_count": 11,
   "metadata": {},
   "outputs": [
    {
     "name": "stdout",
     "output_type": "stream",
     "text": [
      "(49, 32001)\n",
      "(13, 32001)\n",
      "(96, 32001)\n",
      "(25, 32001)\n",
      "(49, 32001)\n",
      "(13, 32001)\n",
      "(96, 32001)\n",
      "(25, 32001)\n"
     ]
    }
   ],
   "source": [
    "#Add labels to augmented Matrices\n",
    "# Volume reduction\n",
    "Augmented_Train_matrix_justright = np.c_[ np.ones(len(Augmented_Train_matrix_justright)),Augmented_Train_matrix_justright] \n",
    "Augmented_Train_matrix_justright[:, 0] = 0\n",
    "Augmented_Train_matrix_justright = np.delete(Augmented_Train_matrix_justright, (0), axis=0)\n",
    "print(Augmented_Train_matrix_justright.shape)\n",
    "\n",
    "Augmented_Test_matrix_justright = np.c_[ np.ones(len(Augmented_Test_matrix_justright)),Augmented_Test_matrix_justright] \n",
    "Augmented_Test_matrix_justright[:, 0] = 0\n",
    "Augmented_Test_matrix_justright = np.delete(Augmented_Test_matrix_justright, (0), axis=0)\n",
    "print(Augmented_Test_matrix_justright.shape)\n",
    "\n",
    "Augmented_Train_matrix_toofast = np.c_[ np.ones(len(Augmented_Train_matrix_toofast)),Augmented_Train_matrix_toofast] \n",
    "Augmented_Train_matrix_toofast[:, 0] =1\n",
    "Augmented_Train_matrix_toofast = np.delete(Augmented_Train_matrix_toofast, (0), axis=0)\n",
    "print(Augmented_Train_matrix_toofast.shape)\n",
    "\n",
    "Augmented_Test_matrix_toofast = np.c_[ np.ones(len(Augmented_Test_matrix_toofast)),Augmented_Test_matrix_toofast] \n",
    "Augmented_Test_matrix_toofast[:, 0] = 1\n",
    "Augmented_Test_matrix_toofast = np.delete(Augmented_Test_matrix_toofast, (0), axis=0)\n",
    "print(Augmented_Test_matrix_toofast.shape)\n",
    "\n",
    "\n",
    "# Noise addition\n",
    "Augmented_Train_matrix_justright_2 = np.c_[ np.ones(len(Augmented_Train_matrix_justright_2)),Augmented_Train_matrix_justright_2] \n",
    "Augmented_Train_matrix_justright_2[:, 0] = 0\n",
    "Augmented_Train_matrix_justright_2 = np.delete(Augmented_Train_matrix_justright_2, (0), axis=0)\n",
    "print(Augmented_Train_matrix_justright_2.shape)\n",
    "\n",
    "Augmented_Test_matrix_justright_2 = np.c_[ np.ones(len(Augmented_Test_matrix_justright_2)),Augmented_Test_matrix_justright_2] \n",
    "Augmented_Test_matrix_justright_2[:, 0] = 0\n",
    "Augmented_Test_matrix_justright_2 = np.delete(Augmented_Test_matrix_justright_2, (0), axis=0)\n",
    "print(Augmented_Test_matrix_justright_2.shape)\n",
    "\n",
    "Augmented_Train_matrix_toofast_2 = np.c_[ np.ones(len(Augmented_Train_matrix_toofast_2)),Augmented_Train_matrix_toofast_2] \n",
    "Augmented_Train_matrix_toofast_2[:, 0] =1\n",
    "Augmented_Train_matrix_toofast_2 = np.delete(Augmented_Train_matrix_toofast_2, (0), axis=0)\n",
    "print(Augmented_Train_matrix_toofast_2.shape)\n",
    "\n",
    "Augmented_Test_matrix_toofast_2 = np.c_[ np.ones(len(Augmented_Test_matrix_toofast_2)),Augmented_Test_matrix_toofast_2] \n",
    "Augmented_Test_matrix_toofast_2[:, 0] = 1\n",
    "Augmented_Test_matrix_toofast_2 = np.delete(Augmented_Test_matrix_toofast_2, (0), axis=0)\n",
    "print(Augmented_Test_matrix_toofast_2.shape)"
   ]
  },
  {
   "cell_type": "markdown",
   "metadata": {},
   "source": [
    "### Split and Shuffle Data"
   ]
  },
  {
   "cell_type": "code",
   "execution_count": 12,
   "metadata": {},
   "outputs": [],
   "source": [
    "all_train_data = []\n",
    "all_test_data = []"
   ]
  },
  {
   "cell_type": "code",
   "execution_count": 13,
   "metadata": {},
   "outputs": [
    {
     "name": "stdout",
     "output_type": "stream",
     "text": [
      "(145, 32001)\n",
      "(194, 32001)\n",
      "(290, 32001)\n",
      "(339, 32001)\n",
      "(435, 32001)\n"
     ]
    }
   ],
   "source": [
    "all_train_data = np.append(Train_matrix_justright, Train_matrix_toofast, axis=0)\n",
    "print(all_train_data.shape)\n",
    "all_train_data = np.append(all_train_data, Augmented_Train_matrix_justright, axis=0)\n",
    "print(all_train_data.shape)\n",
    "all_train_data = np.append(all_train_data, Augmented_Train_matrix_toofast, axis=0)\n",
    "print(all_train_data.shape)\n",
    "all_train_data = np.append(all_train_data, Augmented_Train_matrix_justright_2, axis=0)\n",
    "print(all_train_data.shape)\n",
    "all_train_data = np.append(all_train_data, Augmented_Train_matrix_toofast_2, axis=0)\n",
    "print(all_train_data.shape)"
   ]
  },
  {
   "cell_type": "code",
   "execution_count": 14,
   "metadata": {},
   "outputs": [
    {
     "name": "stdout",
     "output_type": "stream",
     "text": [
      "(38, 32001)\n",
      "(51, 32001)\n",
      "(76, 32001)\n",
      "(89, 32001)\n",
      "(114, 32001)\n"
     ]
    }
   ],
   "source": [
    "all_test_data = np.append(Test_matrix_justright, Test_matrix_toofast, axis=0)\n",
    "print(all_test_data.shape)\n",
    "all_test_data = np.append(all_test_data, Augmented_Test_matrix_justright, axis=0)\n",
    "print(all_test_data.shape)\n",
    "all_test_data = np.append(all_test_data, Augmented_Test_matrix_toofast, axis=0)\n",
    "print(all_test_data.shape)\n",
    "all_test_data = np.append(all_test_data, Augmented_Test_matrix_justright_2, axis=0)\n",
    "print(all_test_data.shape)\n",
    "all_test_data = np.append(all_test_data, Augmented_Test_matrix_toofast_2, axis=0)\n",
    "print(all_test_data.shape)"
   ]
  },
  {
   "cell_type": "code",
   "execution_count": 15,
   "metadata": {},
   "outputs": [
    {
     "data": {
      "text/plain": [
       "numpy.ndarray"
      ]
     },
     "execution_count": 15,
     "metadata": {},
     "output_type": "execute_result"
    }
   ],
   "source": [
    "type(all_train_data)"
   ]
  },
  {
   "cell_type": "code",
   "execution_count": 16,
   "metadata": {},
   "outputs": [],
   "source": [
    "# Shuffle rows\n",
    "np.random.shuffle(all_train_data)\n",
    "np.random.shuffle(all_test_data)\n",
    "\n",
    "# Seperate Labelinto y\n",
    "y_train = np.asarray(all_train_data[:,0])\n",
    "y_test = np.asarray(all_test_data[:,0])\n",
    "\n",
    "#Seperate data into x\n",
    "X_train = np.asarray(all_train_data[:,1:32001])\n",
    "X_test = np.asarray(all_test_data[:,1:32001])"
   ]
  },
  {
   "cell_type": "code",
   "execution_count": 17,
   "metadata": {},
   "outputs": [
    {
     "name": "stdout",
     "output_type": "stream",
     "text": [
      "(435,)\n",
      "(435, 32000)\n",
      "(114,)\n",
      "(114, 32000)\n"
     ]
    }
   ],
   "source": [
    "print(y_train.shape)\n",
    "print(X_train.shape)\n",
    "print(y_test.shape)\n",
    "print(X_test.shape)"
   ]
  },
  {
   "cell_type": "markdown",
   "metadata": {},
   "source": [
    "### Save Intermediary Files"
   ]
  },
  {
   "cell_type": "code",
   "execution_count": 18,
   "metadata": {},
   "outputs": [],
   "source": [
    "y_train = np.asarray(y_train)\n",
    "X_train = np.asarray(X_train)\n",
    "y_test = np.asarray(y_test)\n",
    "X_test = np.asarray(X_test)"
   ]
  },
  {
   "cell_type": "code",
   "execution_count": 19,
   "metadata": {},
   "outputs": [],
   "source": [
    "# Eliminate any rows that are all nulls\n",
    "X_test_nulls = np.where(~X_test.any(axis=1))[0]\n",
    "X_train_nulls = np.where(~X_train.any(axis=1))[0]"
   ]
  },
  {
   "cell_type": "markdown",
   "metadata": {},
   "source": [
    "### Featurizing"
   ]
  },
  {
   "cell_type": "code",
   "execution_count": 20,
   "metadata": {},
   "outputs": [],
   "source": [
    "# Function to convert audio from integer to float range\n",
    "def convert_audio_i2f(audio):\n",
    "    audio = audio.astype(np.float32, order='C') / 32000.0\n",
    "    return audio"
   ]
  },
  {
   "cell_type": "code",
   "execution_count": 21,
   "metadata": {},
   "outputs": [],
   "source": [
    "# Function to replace outliers\n",
    "def replace_outliers(data_in, para=1.5):\n",
    "    median = np.median(data_in)\n",
    "    for val in range(0, len(data_in)):\n",
    "        if (abs(data_in[val] - median)) >= (\n",
    "                para * np.std(data_in)):  # std dev used of fund frequency for this class\n",
    "            data_in[val] = median\n",
    "\n",
    "    return data_in"
   ]
  },
  {
   "cell_type": "code",
   "execution_count": 22,
   "metadata": {},
   "outputs": [],
   "source": [
    "# Function to generate fundamental frequencies from audio sample\n",
    "def fundamental_freq_gen(y):\n",
    "    y = np.array(y).astype(np.float)\n",
    "    sr = float(32000)\n",
    "    # Predict fundamental frequency based on crepe pre-trained pitch model\n",
    "    _, frequency, _, _ = crepe.predict(y,\n",
    "                                       sr,\n",
    "                                       viterbi=False,\n",
    "                                       verbose=0, step_size=100,\n",
    "                                       model_capacity=\"full\")\n",
    "    frequency = np.array(frequency)    \n",
    "    # Reshape for one prediction\n",
    "    frequency = frequency.reshape(1, -1)\n",
    "    return frequency"
   ]
  },
  {
   "cell_type": "code",
   "execution_count": 23,
   "metadata": {},
   "outputs": [],
   "source": [
    "# Function to generate constant q and fundamental frequency features for each audio sample.\n",
    "def _generate_features(data):\n",
    "    allfreqs = []\n",
    "    crepe_input = []\n",
    "    labels = []\n",
    "    data = np.asarray(data)\n",
    "    data = data.astype(float)\n",
    "    row_count = len(data)\n",
    "    print('row_count: ' + str(row_count))\n",
    "\n",
    "    for row in range(0,row_count):\n",
    "        freq = fundamental_freq_gen(data[row,:])\n",
    "        freq = np.array(freq)\n",
    "        allfreqs.append(freq)\n",
    "        crepe_input = np.array(allfreqs)\n",
    "\n",
    "    print('crepe_input.shape:' + str(crepe_input.shape))\n",
    "\n",
    "    crepe_input= crepe_input.reshape(row_count, crepe_input.shape[2])\n",
    "    normalized_crepe_input = np.array([replace_outliers(x) for x in crepe_input])\n",
    "    print('normalized_crepe_input.shape' + str(normalized_crepe_input.shape))\n",
    "    return normalized_crepe_input"
   ]
  },
  {
   "cell_type": "code",
   "execution_count": 24,
   "metadata": {},
   "outputs": [
    {
     "name": "stdout",
     "output_type": "stream",
     "text": [
      "row_count: 435\n",
      "crepe_input.shape:(435, 1, 11)\n",
      "normalized_crepe_input.shape(435, 11)\n",
      "row_count: 114\n",
      "crepe_input.shape:(114, 1, 11)\n",
      "normalized_crepe_input.shape(114, 11)\n"
     ]
    }
   ],
   "source": [
    "# Generate train and test features\n",
    "crepe_train_input = _generate_features(X_train)\n",
    "crepe_test_input = _generate_features(X_test)"
   ]
  },
  {
   "cell_type": "code",
   "execution_count": 25,
   "metadata": {},
   "outputs": [
    {
     "name": "stdout",
     "output_type": "stream",
     "text": [
      "input shapes\n",
      "(435, 11)\n",
      "(114, 11)\n"
     ]
    }
   ],
   "source": [
    "print('input shapes')\n",
    "print(crepe_train_input.shape)\n",
    "print(crepe_test_input.shape)"
   ]
  },
  {
   "cell_type": "markdown",
   "metadata": {},
   "source": [
    "### Model Building\n",
    "Because we are just using values from CREPE, let's stick with simple machine learning"
   ]
  },
  {
   "cell_type": "code",
   "execution_count": 26,
   "metadata": {},
   "outputs": [],
   "source": [
    "# Scale data [-1, 1]\n",
    "X_train = StandardScaler().fit_transform(crepe_train_input)\n",
    "X_test = StandardScaler().fit_transform(crepe_test_input)\n",
    "y_train = y_train\n",
    "y_test = y_test"
   ]
  },
  {
   "cell_type": "code",
   "execution_count": 27,
   "metadata": {},
   "outputs": [],
   "source": [
    "# Set up parameter grid search\n",
    "Cs = [0.001, 0.01, 0.1, 1, 1.5, 2, 5, 10]\n",
    "kernels = ['linear', 'rbf']\n",
    "degrees = [1, 2, 3, 4, 5]\n",
    "parameters = {'C': Cs, 'degrees': degrees}\n",
    "parameters = {'kernel':kernels, 'C':Cs, 'degree': degrees}\n",
    "\n",
    "svc = svm.SVC(gamma='auto', class_weight='balanced')\n",
    "grid = GridSearchCV(svc, param_grid=parameters, cv=10, verbose=True)"
   ]
  },
  {
   "cell_type": "code",
   "execution_count": 28,
   "metadata": {},
   "outputs": [
    {
     "name": "stdout",
     "output_type": "stream",
     "text": [
      "Fitting 10 folds for each of 80 candidates, totalling 800 fits\n"
     ]
    },
    {
     "name": "stderr",
     "output_type": "stream",
     "text": [
      "[Parallel(n_jobs=1)]: Using backend SequentialBackend with 1 concurrent workers.\n",
      "[Parallel(n_jobs=1)]: Done 800 out of 800 | elapsed:    4.9s finished\n",
      "/home/niwilso/.conda/envs/seg/lib/python3.7/site-packages/sklearn/model_selection/_search.py:814: DeprecationWarning: The default of the `iid` parameter will change from True to False in version 0.22 and will be removed in 0.24. This will change numeric results when test-set sizes are unequal.\n",
      "  DeprecationWarning)\n"
     ]
    }
   ],
   "source": [
    "# Fit the grid\n",
    "grid.fit(X_train, y_train)\n",
    "clf = grid.best_estimator_"
   ]
  },
  {
   "cell_type": "code",
   "execution_count": 29,
   "metadata": {},
   "outputs": [
    {
     "data": {
      "text/plain": [
       "SVC(C=10, cache_size=200, class_weight='balanced', coef0=0.0,\n",
       "    decision_function_shape='ovr', degree=1, gamma='auto', kernel='rbf',\n",
       "    max_iter=-1, probability=False, random_state=None, shrinking=True,\n",
       "    tol=0.001, verbose=False)"
      ]
     },
     "execution_count": 29,
     "metadata": {},
     "output_type": "execute_result"
    }
   ],
   "source": [
    "# Fit the model to the data\n",
    "clf.fit(X_train, y_train)"
   ]
  },
  {
   "cell_type": "markdown",
   "metadata": {},
   "source": [
    "#### Results"
   ]
  },
  {
   "cell_type": "code",
   "execution_count": 30,
   "metadata": {},
   "outputs": [
    {
     "name": "stdout",
     "output_type": "stream",
     "text": [
      "accuracy: 0.9473684210526315\n",
      "Confusion matrix:\n",
      "[[36  3]\n",
      " [ 3 72]]\n"
     ]
    }
   ],
   "source": [
    "from sklearn.metrics import confusion_matrix\n",
    "print('accuracy: ' + str(clf.score(X_test, y_test)))\n",
    "print('Confusion matrix:')\n",
    "print(confusion_matrix(y_test, clf.predict(X_test)))"
   ]
  },
  {
   "cell_type": "markdown",
   "metadata": {},
   "source": [
    "#### Confusion Matrix"
   ]
  },
  {
   "cell_type": "code",
   "execution_count": 31,
   "metadata": {},
   "outputs": [],
   "source": [
    "def plot_confusion_matrix(y_true, y_pred, classes,\n",
    "                          normalize=False,\n",
    "                          title=None,\n",
    "                          cmap=plt.cm.Blues):\n",
    "    \"\"\"\n",
    "    This function prints and plots the confusion matrix.\n",
    "    Normalization can be applied by setting `normalize=True`.\n",
    "    \"\"\"\n",
    "    if not title:\n",
    "        if normalize:\n",
    "            title = 'Normalized confusion matrix'\n",
    "        else:\n",
    "            title = 'Confusion matrix, without normalization'\n",
    "\n",
    "    # Compute confusion matrix\n",
    "    cm = confusion_matrix(y_true, y_pred)\n",
    "\n",
    "    if normalize:\n",
    "        cm = cm.astype('float') / cm.sum(axis=1)[:, np.newaxis]\n",
    "        print(\"Normalized confusion matrix\")\n",
    "    else:\n",
    "        print('Confusion matrix, without normalization')\n",
    "\n",
    "    print(cm)\n",
    "\n",
    "    fig, ax = plt.subplots()\n",
    "    im = ax.imshow(cm, interpolation='nearest', cmap=cmap)\n",
    "    ax.figure.colorbar(im, ax=ax)\n",
    "    # We want to show all ticks...\n",
    "    ax.set(xticks=np.arange(cm.shape[1]),\n",
    "           yticks=np.arange(cm.shape[0]),\n",
    "           # ... and label them with the respective list entries\n",
    "           xticklabels=classes, yticklabels=classes,\n",
    "           title=title,\n",
    "           ylabel='True label',\n",
    "           xlabel='Predicted label')\n",
    "\n",
    "    # Rotate the tick labels and set their alignment.\n",
    "    plt.setp(ax.get_xticklabels(), rotation=45, ha=\"right\",\n",
    "             rotation_mode=\"anchor\")\n",
    "\n",
    "    # Loop over data dimensions and create text annotations.\n",
    "    fmt = '.2f' if normalize else 'd'\n",
    "    thresh = cm.max() / 2.\n",
    "    for i in range(cm.shape[0]):\n",
    "        for j in range(cm.shape[1]):\n",
    "            if j > 0:\n",
    "                if i > 0:\n",
    "                    j_pos = j\n",
    "                    i_pos = i-0.25\n",
    "                else:\n",
    "                    j_pos = j\n",
    "                    i_pos = i+0.25\n",
    "            else:\n",
    "                if i > 0:\n",
    "                    j_pos = j\n",
    "                    i_pos = i-0.25\n",
    "                else:\n",
    "                    j_pos = j\n",
    "                    i_pos = i+0.25\n",
    "            ax.text(j_pos, i_pos, format(cm[i, j], fmt),\n",
    "                    ha=\"center\", va=\"center\",\n",
    "                    color=\"white\" if cm[i, j] > thresh else \"black\", fontsize=16)\n",
    "    fig.tight_layout()\n",
    "    return ax"
   ]
  },
  {
   "cell_type": "code",
   "execution_count": 32,
   "metadata": {
    "scrolled": false
   },
   "outputs": [
    {
     "name": "stdout",
     "output_type": "stream",
     "text": [
      "Confusion matrix, without normalization\n",
      "[[36  3]\n",
      " [ 3 72]]\n",
      "Normalized confusion matrix\n",
      "[[0.92 0.08]\n",
      " [0.04 0.96]]\n"
     ]
    },
    {
     "data": {
      "text/plain": [
       "<matplotlib.axes._subplots.AxesSubplot at 0x7f6beb3f3a90>"
      ]
     },
     "execution_count": 32,
     "metadata": {},
     "output_type": "execute_result"
    },
    {
     "data": {
      "image/png": "[encoded data removed]",
      "text/plain": [
       "<Figure size 432x288 with 2 Axes>"
      ]
     },
     "metadata": {
      "needs_background": "light"
     },
     "output_type": "display_data"
    },
    {
     "data": {
      "image/png": "[encoded data removed]",
      "text/plain": [
       "<Figure size 432x288 with 2 Axes>"
      ]
     },
     "metadata": {
      "needs_background": "light"
     },
     "output_type": "display_data"
    }
   ],
   "source": [
    "np.set_printoptions(precision=2)\n",
    "\n",
    "# Plot non-normalized confusion matrix\n",
    "plot_confusion_matrix(y_test, clf.predict(X_test), classes=['just right (0)','too fast (1)'],\n",
    "                      title='Confusion matrix, without normalization')\n",
    "# Plot normalized confusion matrix\n",
    "plot_confusion_matrix(y_test, clf.predict(X_test), classes=['just right (0)','too fast (1)'], normalize=True,\n",
    "                                          title='Normalized confusion matrix')"
   ]
  },
  {
   "cell_type": "markdown",
   "metadata": {},
   "source": [
    "# The End"
   ]
  },
  {
   "cell_type": "code",
   "execution_count": null,
   "metadata": {},
   "outputs": [],
   "source": []
  }
 ],
 "metadata": {
  "kernelspec": {
   "display_name": "Python (seg)",
   "language": "python",
   "name": "seg"
  },
  "language_info": {
   "codemirror_mode": {
    "name": "ipython",
    "version": 3
   },
   "file_extension": ".py",
   "mimetype": "text/x-python",
   "name": "python",
   "nbconvert_exporter": "python",
   "pygments_lexer": "ipython3",
   "version": "3.7.4"
  }
 },
 "nbformat": 4,
 "nbformat_minor": 2
}
