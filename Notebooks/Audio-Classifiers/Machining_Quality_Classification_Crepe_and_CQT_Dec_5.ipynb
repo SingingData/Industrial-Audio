{
 "cells": [
  {
   "cell_type": "markdown",
   "metadata": {},
   "source": [
    "# Machining Quality - Classification Model\n",
    "#### Binary Classifier \n",
    "Last Updated Dec5. 2019"
   ]
  },
  {
   "cell_type": "code",
   "execution_count": 1,
   "metadata": {},
   "outputs": [
    {
     "name": "stderr",
     "output_type": "stream",
     "text": [
      "Using TensorFlow backend.\n",
      "C:\\Anaconda\\envs\\amlrealtimeai\\lib\\site-packages\\tensorflow\\python\\framework\\dtypes.py:516: FutureWarning: Passing (type, 1) or '1type' as a synonym of type is deprecated; in a future version of numpy, it will be understood as (type, (1,)) / '(1,)type'.\n",
      "  _np_qint8 = np.dtype([(\"qint8\", np.int8, 1)])\n",
      "C:\\Anaconda\\envs\\amlrealtimeai\\lib\\site-packages\\tensorflow\\python\\framework\\dtypes.py:517: FutureWarning: Passing (type, 1) or '1type' as a synonym of type is deprecated; in a future version of numpy, it will be understood as (type, (1,)) / '(1,)type'.\n",
      "  _np_quint8 = np.dtype([(\"quint8\", np.uint8, 1)])\n",
      "C:\\Anaconda\\envs\\amlrealtimeai\\lib\\site-packages\\tensorflow\\python\\framework\\dtypes.py:518: FutureWarning: Passing (type, 1) or '1type' as a synonym of type is deprecated; in a future version of numpy, it will be understood as (type, (1,)) / '(1,)type'.\n",
      "  _np_qint16 = np.dtype([(\"qint16\", np.int16, 1)])\n",
      "C:\\Anaconda\\envs\\amlrealtimeai\\lib\\site-packages\\tensorflow\\python\\framework\\dtypes.py:519: FutureWarning: Passing (type, 1) or '1type' as a synonym of type is deprecated; in a future version of numpy, it will be understood as (type, (1,)) / '(1,)type'.\n",
      "  _np_quint16 = np.dtype([(\"quint16\", np.uint16, 1)])\n",
      "C:\\Anaconda\\envs\\amlrealtimeai\\lib\\site-packages\\tensorflow\\python\\framework\\dtypes.py:520: FutureWarning: Passing (type, 1) or '1type' as a synonym of type is deprecated; in a future version of numpy, it will be understood as (type, (1,)) / '(1,)type'.\n",
      "  _np_qint32 = np.dtype([(\"qint32\", np.int32, 1)])\n",
      "C:\\Anaconda\\envs\\amlrealtimeai\\lib\\site-packages\\tensorflow\\python\\framework\\dtypes.py:525: FutureWarning: Passing (type, 1) or '1type' as a synonym of type is deprecated; in a future version of numpy, it will be understood as (type, (1,)) / '(1,)type'.\n",
      "  np_resource = np.dtype([(\"resource\", np.ubyte, 1)])\n",
      "C:\\Anaconda\\envs\\amlrealtimeai\\lib\\site-packages\\tensorboard\\compat\\tensorflow_stub\\dtypes.py:541: FutureWarning: Passing (type, 1) or '1type' as a synonym of type is deprecated; in a future version of numpy, it will be understood as (type, (1,)) / '(1,)type'.\n",
      "  _np_qint8 = np.dtype([(\"qint8\", np.int8, 1)])\n",
      "C:\\Anaconda\\envs\\amlrealtimeai\\lib\\site-packages\\tensorboard\\compat\\tensorflow_stub\\dtypes.py:542: FutureWarning: Passing (type, 1) or '1type' as a synonym of type is deprecated; in a future version of numpy, it will be understood as (type, (1,)) / '(1,)type'.\n",
      "  _np_quint8 = np.dtype([(\"quint8\", np.uint8, 1)])\n",
      "C:\\Anaconda\\envs\\amlrealtimeai\\lib\\site-packages\\tensorboard\\compat\\tensorflow_stub\\dtypes.py:543: FutureWarning: Passing (type, 1) or '1type' as a synonym of type is deprecated; in a future version of numpy, it will be understood as (type, (1,)) / '(1,)type'.\n",
      "  _np_qint16 = np.dtype([(\"qint16\", np.int16, 1)])\n",
      "C:\\Anaconda\\envs\\amlrealtimeai\\lib\\site-packages\\tensorboard\\compat\\tensorflow_stub\\dtypes.py:544: FutureWarning: Passing (type, 1) or '1type' as a synonym of type is deprecated; in a future version of numpy, it will be understood as (type, (1,)) / '(1,)type'.\n",
      "  _np_quint16 = np.dtype([(\"quint16\", np.uint16, 1)])\n",
      "C:\\Anaconda\\envs\\amlrealtimeai\\lib\\site-packages\\tensorboard\\compat\\tensorflow_stub\\dtypes.py:545: FutureWarning: Passing (type, 1) or '1type' as a synonym of type is deprecated; in a future version of numpy, it will be understood as (type, (1,)) / '(1,)type'.\n",
      "  _np_qint32 = np.dtype([(\"qint32\", np.int32, 1)])\n",
      "C:\\Anaconda\\envs\\amlrealtimeai\\lib\\site-packages\\tensorboard\\compat\\tensorflow_stub\\dtypes.py:550: FutureWarning: Passing (type, 1) or '1type' as a synonym of type is deprecated; in a future version of numpy, it will be understood as (type, (1,)) / '(1,)type'.\n",
      "  np_resource = np.dtype([(\"resource\", np.ubyte, 1)])\n"
     ]
    }
   ],
   "source": [
    "%matplotlib inline\n",
    "import matplotlib.pyplot as plt\n",
    "plt.style.use('seaborn-white')\n",
    "import pywt\n",
    "from matplotlib.image import imread\n",
    "import numpy as np\n",
    "import os\n",
    "from scipy.io import wavfile\n",
    "from pathlib import Path\n",
    "import pywt\n",
    "import soundfile\n",
    "import random\n",
    "import pickle\n",
    "from glob import iglob\n",
    "import crepe\n",
    "from sklearn.metrics import confusion_matrix, classification_report\n",
    "import pprint\n",
    "random.seed(42)\n",
    "import librosa\n",
    "import scipy.signal\n",
    "from keras.layers import MaxPooling2D, Flatten, Conv2D\n",
    "from keras.utils import to_categorical\n",
    "import keras\n",
    "from keras.layers import initializers \n",
    "from keras.layers import regularizers \n",
    "from keras.layers import constraints \n",
    "from keras.layers import Activation\n",
    "from keras.layers.advanced_activations import PReLU\n",
    "from keras.layers.advanced_activations import LeakyReLU\n",
    "from keras.layers.advanced_activations import ELU\n",
    "from keras.constraints import max_norm\n",
    "from keras.layers import LeakyReLU\n",
    "from keras import optimizers, losses, activations, models\n",
    "from keras.callbacks import ModelCheckpoint, EarlyStopping, LearningRateScheduler\n",
    "from keras.layers import Dense, Input, Dropout, Convolution1D, MaxPool1D, GlobalMaxPool1D, GlobalAveragePooling1D, \\\n",
    "    concatenate\n",
    "from keras.layers import MaxPooling3D, Flatten, Conv3D\n",
    "from keras import backend as K\n",
    "from keras.layers import LeakyReLU,PReLU\n",
    "import keras\n",
    "from keras.losses import *\n",
    "def my_init(shape,  dtype=None):\n",
    "    vals=((float(shape[0], float(shape[1]))) * math.sqrt(2./float(shape[1])))\n",
    "    return K.random_normal(vals, dtype=dtype)    \n",
    "import math\n",
    "from pydub import AudioSegment\n",
    "from pydub.playback import play\n",
    "import specAugment\n",
    "# from specAugment import spec_augment_tensorflow"
   ]
  },
  {
   "cell_type": "code",
   "execution_count": 2,
   "metadata": {},
   "outputs": [],
   "source": [
    "# os.chdir(\"D:\\\\aircraft-audio\\lax-naming-convention\")\n",
    "# import IPython\n",
    "# from IPython.display import Image, Audio\n",
    "# print(\"Embraer\")\n",
    "# Image(filename='embardier.png',width=300, height=200)"
   ]
  },
  {
   "cell_type": "code",
   "execution_count": 3,
   "metadata": {},
   "outputs": [
    {
     "name": "stdout",
     "output_type": "stream",
     "text": [
      "D:\\machineshop\n",
      "['new_array_currentsample_1_sec_test_justright.txt', 'new_array_currentsample_1_sec_test_toofast.txt', 'new_array_currentsample_1_sec_train_justright.txt', 'new_array_currentsample_1_sec_train_toofast.txt']\n"
     ]
    }
   ],
   "source": [
    "# Change working directory to local lcoation for this file.\n",
    "os.chdir('D://machineshop')\n",
    "base_dir = 'D://machineshop'\n",
    "WorkingDir = os.path.join(base_dir)\n",
    "print(os.getcwd())\n",
    "\n",
    "# Check files at this folder location\n",
    "import glob\n",
    "filelist = glob.glob(\"*.txt\")\n",
    "print(filelist)"
   ]
  },
  {
   "cell_type": "code",
   "execution_count": 4,
   "metadata": {},
   "outputs": [
    {
     "data": {
      "text/plain": [
       "'new_array_currentsample_1_sec_test_justright.txt'"
      ]
     },
     "execution_count": 4,
     "metadata": {},
     "output_type": "execute_result"
    }
   ],
   "source": [
    "filelist[0]"
   ]
  },
  {
   "cell_type": "markdown",
   "metadata": {},
   "source": [
    "### Load and Inspect Data"
   ]
  },
  {
   "cell_type": "code",
   "execution_count": 5,
   "metadata": {},
   "outputs": [
    {
     "name": "stdout",
     "output_type": "stream",
     "text": [
      "D:\\machineshop\n"
     ]
    }
   ],
   "source": [
    "# Original audio recordings have already been split to samples of 1 second 32000 at sample rate and stored in numpy array.\n",
    "print(os.getcwd())\n",
    "\n",
    "Train_matrix_justright = np.loadtxt('new_array_currentsample_1_sec_train_justright.txt', delimiter=',')\n",
    "Test_matrix_justright = np.loadtxt('new_array_currentsample_1_sec_test_justright.txt', delimiter=',')\n",
    "Train_matrix_toofast = np.loadtxt('new_array_currentsample_1_sec_train_toofast.txt', delimiter=',')\n",
    "Test_matrix_toofast = np.loadtxt('new_array_currentsample_1_sec_test_toofast.txt', delimiter=',')\n"
   ]
  },
  {
   "cell_type": "code",
   "execution_count": 6,
   "metadata": {},
   "outputs": [
    {
     "name": "stderr",
     "output_type": "stream",
     "text": [
      "C:\\Users\\pattyry\\AppData\\Roaming\\Python\\Python36\\site-packages\\scipy\\sparse\\lil.py:514: FutureWarning: future versions will not create a writeable array from broadcast_array. Set the writable flag explicitly to avoid this warning.\n",
      "  if not j.flags.writeable or j.dtype not in (np.int32, np.int64):\n"
     ]
    },
    {
     "data": {
      "image/png": "[encoded data removed]",
      "text/plain": [
       "<Figure size 432x288 with 2 Axes>"
      ]
     },
     "metadata": {
      "needs_background": "light"
     },
     "output_type": "display_data"
    }
   ],
   "source": [
    "import librosa.display\n",
    "import matplotlib.pyplot as plt\n",
    "C = np.abs(librosa.cqt(Train_matrix_justright[20,:], sr=32000, fmin=librosa.note_to_hz('C1'), n_bins=80, bins_per_octave=12))\n",
    "librosa.display.specshow(librosa.amplitude_to_db(C, ref=np.max),\n",
    "                         sr=32000, x_axis='time', y_axis='cqt_note')\n",
    "plt.colorbar(format='%+2.0f dB')\n",
    "plt.title('Constant-Q power spectrum')\n",
    "plt.tight_layout()"
   ]
  },
  {
   "cell_type": "code",
   "execution_count": 7,
   "metadata": {},
   "outputs": [
    {
     "name": "stdout",
     "output_type": "stream",
     "text": [
      "[ 831. -682.    0. ...  135. 1692. 2983.]\n"
     ]
    },
    {
     "data": {
      "image/png": "[encoded data removed]",
      "text/plain": [
       "<Figure size 432x288 with 1 Axes>"
      ]
     },
     "metadata": {
      "needs_background": "light"
     },
     "output_type": "display_data"
    }
   ],
   "source": [
    "signal = Train_matrix_justright[40,:]\n",
    "time = 32000\n",
    "print(signal)\n",
    "plt.plot(signal)\n",
    "plt.show()"
   ]
  },
  {
   "cell_type": "code",
   "execution_count": 8,
   "metadata": {},
   "outputs": [],
   "source": [
    "# Sample Continuous Waveleet Spectrogram\n",
    "# scales = np.arange(1,128)\n",
    "# time = np.arange(0,32000)\n",
    "# dt = time[1] - time[0]\n",
    "# wavelet = 'cmor1.5-1.0'\n",
    "\n",
    "# # Generate coefficients and frequencies\n",
    "# [cfs, frequencies] = pywt.cwt(signal, scales, wavelet, dt)\n",
    "\n",
    "# # Manipulate for spectrogram\n",
    "# power = (abs(cfs)) ** 2\n",
    "# period = 1. / frequencies\n",
    "# #levels = \n",
    "# levels = [0.0625, 0.125, 0.25, 0.5, 1, 2, 4, 8]\n",
    "# NewLevels = np.log2(levels)\n",
    "\n",
    "# X = time\n",
    "# Y = np.log2(period)\n",
    "# Z = np.log2(power)\n",
    "\n",
    "# plt.contourf(X, Y, Z, extend = 'both',cmap='terrain')\n",
    "# #plt.colorbar();\n"
   ]
  },
  {
   "cell_type": "markdown",
   "metadata": {},
   "source": [
    "### Add Augmented Data"
   ]
  },
  {
   "cell_type": "code",
   "execution_count": 9,
   "metadata": {},
   "outputs": [],
   "source": [
    "def _create_augmented_volume_reduction_data_matrix(old_matrix, volume_change):\n",
    "    \n",
    "    old_matrix = np.asarray(old_matrix)\n",
    "    new_target_numpy = np.empty((32000),int)\n",
    "    new_target_numpy = np.asarray(new_target_numpy)    \n",
    "\n",
    "    for i in range(old_matrix.shape[0]):\n",
    "        new_numpy = old_matrix[i,:] + volume_change\n",
    "        new_numpy = np.asarray(new_numpy)\n",
    "        new_target_numpy = np.vstack((new_target_numpy, new_numpy))\n",
    "        new_target_numpy = np.asarray(new_target_numpy)\n",
    "    return(new_target_numpy)"
   ]
  },
  {
   "cell_type": "code",
   "execution_count": 10,
   "metadata": {},
   "outputs": [],
   "source": [
    "# Create Augmented matrices with volume reduction\n",
    "Augmented_Train_matrix_justright = _create_augmented_volume_reduction_data_matrix(Train_matrix_justright, -5)\n",
    "Augmented_Test_matrix_justright = _create_augmented_volume_reduction_data_matrix(Test_matrix_justright, -5)\n",
    "Augmented_Train_matrix_toofast = _create_augmented_volume_reduction_data_matrix(Train_matrix_toofast, -5)\n",
    "Augmented_Test_matrix_toofast = _create_augmented_volume_reduction_data_matrix(Test_matrix_toofast, -5)"
   ]
  },
  {
   "cell_type": "code",
   "execution_count": 11,
   "metadata": {},
   "outputs": [],
   "source": [
    "def _create_augmented_white_noise_data_matrix(old_matrix, noise_level):\n",
    "    new_target_numpy = np.empty((32000),int)\n",
    "    new_target_numpy = np.asarray(new_target_numpy)   \n",
    "    \n",
    "    for i in range(old_matrix.shape[0]):\n",
    "        wn = np.random.randn(old_matrix.shape[1])\n",
    "        new_numpy = old_matrix[i,:] + noise_level*wn\n",
    "        new_numpy = np.asarray(new_numpy)\n",
    "        new_target_numpy = np.vstack((new_target_numpy, new_numpy))\n",
    "        new_target_numpy = np.asarray(new_target_numpy)\n",
    "    return(new_target_numpy)\n",
    "        "
   ]
  },
  {
   "cell_type": "code",
   "execution_count": 12,
   "metadata": {},
   "outputs": [],
   "source": [
    "# Create Augmented matrices with white noise added\n",
    "Augmented_Train_matrix_justright_2= _create_augmented_white_noise_data_matrix(Train_matrix_justright,0.01)\n",
    "Augmented_Test_matrix_justright_2 = _create_augmented_white_noise_data_matrix(Test_matrix_justright,0.01)\n",
    "Augmented_Train_matrix_toofast_2 = _create_augmented_white_noise_data_matrix(Train_matrix_toofast,0.01)\n",
    "Augmented_Test_matrix_toofast_2 = _create_augmented_white_noise_data_matrix(Test_matrix_toofast,0.01)\n"
   ]
  },
  {
   "cell_type": "markdown",
   "metadata": {},
   "source": [
    "### Add Labels"
   ]
  },
  {
   "cell_type": "code",
   "execution_count": 13,
   "metadata": {},
   "outputs": [
    {
     "name": "stdout",
     "output_type": "stream",
     "text": [
      "(49, 32001)\n",
      "(13, 32001)\n",
      "(96, 32001)\n",
      "(25, 32001)\n"
     ]
    }
   ],
   "source": [
    "# Add labels to source matrices\n",
    "\n",
    "Train_matrix_justright = np.c_[ np.ones(len(Train_matrix_justright)),Train_matrix_justright] \n",
    "Train_matrix_justright[:, 0] =  0\n",
    "print(Train_matrix_justright.shape)\n",
    "\n",
    "Test_matrix_justright = np.c_[ np.ones(len(Test_matrix_justright)),Test_matrix_justright] \n",
    "Test_matrix_justright[:, 0] =  0\n",
    "print(Test_matrix_justright.shape)\n",
    "\n",
    "Train_matrix_toofast = np.c_[ np.ones(len(Train_matrix_toofast)),Train_matrix_toofast] \n",
    "Train_matrix_toofast[:, 0] = 1\n",
    "print(Train_matrix_toofast.shape)\n",
    "\n",
    "Test_matrix_toofast = np.c_[ np.ones(len(Test_matrix_toofast)),Test_matrix_toofast] \n",
    "Test_matrix_toofast[:, 0] =  1\n",
    "print(Test_matrix_toofast.shape)\n"
   ]
  },
  {
   "cell_type": "code",
   "execution_count": 14,
   "metadata": {},
   "outputs": [
    {
     "name": "stdout",
     "output_type": "stream",
     "text": [
      "(49, 32001)\n",
      "(13, 32001)\n",
      "(96, 32001)\n",
      "(25, 32001)\n",
      "(49, 32001)\n",
      "(13, 32001)\n",
      "(96, 32001)\n",
      "(25, 32001)\n"
     ]
    }
   ],
   "source": [
    "#Add labels to augmented Matrices\n",
    "\n",
    "Augmented_Train_matrix_justright = np.c_[ np.ones(len(Augmented_Train_matrix_justright)),Augmented_Train_matrix_justright] \n",
    "Augmented_Train_matrix_justright[:, 0] = 0\n",
    "Augmented_Train_matrix_justright = np.delete(Augmented_Train_matrix_justright, (0), axis=0)\n",
    "print(Augmented_Train_matrix_justright.shape)\n",
    "\n",
    "Augmented_Test_matrix_justright = np.c_[ np.ones(len(Augmented_Test_matrix_justright)),Augmented_Test_matrix_justright] \n",
    "Augmented_Test_matrix_justright[:, 0] = 0\n",
    "Augmented_Test_matrix_justright = np.delete(Augmented_Test_matrix_justright, (0), axis=0)\n",
    "print(Augmented_Test_matrix_justright.shape)\n",
    "\n",
    "Augmented_Train_matrix_toofast = np.c_[ np.ones(len(Augmented_Train_matrix_toofast)),Augmented_Train_matrix_toofast] \n",
    "Augmented_Train_matrix_toofast[:, 0] =1\n",
    "Augmented_Train_matrix_toofast = np.delete(Augmented_Train_matrix_toofast, (0), axis=0)\n",
    "print(Augmented_Train_matrix_toofast.shape)\n",
    "\n",
    "Augmented_Test_matrix_toofast = np.c_[ np.ones(len(Augmented_Test_matrix_toofast)),Augmented_Test_matrix_toofast] \n",
    "Augmented_Test_matrix_toofast[:, 0] = 1\n",
    "Augmented_Test_matrix_toofast = np.delete(Augmented_Test_matrix_toofast, (0), axis=0)\n",
    "print(Augmented_Test_matrix_toofast.shape)\n",
    "\n",
    "\n",
    "\n",
    "Augmented_Train_matrix_justright_2 = np.c_[ np.ones(len(Augmented_Train_matrix_justright_2)),Augmented_Train_matrix_justright_2] \n",
    "Augmented_Train_matrix_justright_2[:, 0] = 0\n",
    "Augmented_Train_matrix_justright_2 = np.delete(Augmented_Train_matrix_justright_2, (0), axis=0)\n",
    "print(Augmented_Train_matrix_justright_2.shape)\n",
    "\n",
    "Augmented_Test_matrix_justright_2 = np.c_[ np.ones(len(Augmented_Test_matrix_justright_2)),Augmented_Test_matrix_justright_2] \n",
    "Augmented_Test_matrix_justright_2[:, 0] = 0\n",
    "Augmented_Test_matrix_justright_2 = np.delete(Augmented_Test_matrix_justright_2, (0), axis=0)\n",
    "print(Augmented_Test_matrix_justright_2.shape)\n",
    "\n",
    "Augmented_Train_matrix_toofast_2 = np.c_[ np.ones(len(Augmented_Train_matrix_toofast_2)),Augmented_Train_matrix_toofast_2] \n",
    "Augmented_Train_matrix_toofast_2[:, 0] =1\n",
    "Augmented_Train_matrix_toofast_2 = np.delete(Augmented_Train_matrix_toofast_2, (0), axis=0)\n",
    "print(Augmented_Train_matrix_toofast_2.shape)\n",
    "\n",
    "Augmented_Test_matrix_toofast_2 = np.c_[ np.ones(len(Augmented_Test_matrix_toofast_2)),Augmented_Test_matrix_toofast_2] \n",
    "Augmented_Test_matrix_toofast_2[:, 0] = 1\n",
    "Augmented_Test_matrix_toofast_2 = np.delete(Augmented_Test_matrix_toofast_2, (0), axis=0)\n",
    "print(Augmented_Test_matrix_toofast_2.shape)\n"
   ]
  },
  {
   "cell_type": "markdown",
   "metadata": {},
   "source": [
    "### Split and Shuffle Data"
   ]
  },
  {
   "cell_type": "code",
   "execution_count": 15,
   "metadata": {},
   "outputs": [],
   "source": [
    "all_train_data = []\n",
    "all_test_data = []"
   ]
  },
  {
   "cell_type": "code",
   "execution_count": 16,
   "metadata": {},
   "outputs": [
    {
     "name": "stdout",
     "output_type": "stream",
     "text": [
      "(145, 32001)\n",
      "(194, 32001)\n",
      "(290, 32001)\n",
      "(339, 32001)\n",
      "(435, 32001)\n"
     ]
    }
   ],
   "source": [
    "all_train_data = np.append(Train_matrix_justright, Train_matrix_toofast, axis=0)\n",
    "print(all_train_data.shape)\n",
    "all_train_data = np.append(all_train_data, Augmented_Train_matrix_justright, axis=0)\n",
    "print(all_train_data.shape)\n",
    "all_train_data = np.append(all_train_data, Augmented_Train_matrix_toofast, axis=0)\n",
    "print(all_train_data.shape)\n",
    "all_train_data = np.append(all_train_data, Augmented_Train_matrix_justright_2, axis=0)\n",
    "print(all_train_data.shape)\n",
    "all_train_data = np.append(all_train_data, Augmented_Train_matrix_toofast_2, axis=0)\n",
    "print(all_train_data.shape)"
   ]
  },
  {
   "cell_type": "code",
   "execution_count": 17,
   "metadata": {},
   "outputs": [
    {
     "name": "stdout",
     "output_type": "stream",
     "text": [
      "(38, 32001)\n",
      "(51, 32001)\n",
      "(76, 32001)\n",
      "(89, 32001)\n",
      "(114, 32001)\n"
     ]
    }
   ],
   "source": [
    "all_test_data = np.append(Test_matrix_justright, Test_matrix_toofast, axis=0)\n",
    "print(all_test_data.shape)\n",
    "all_test_data = np.append(all_test_data, Augmented_Test_matrix_justright, axis=0)\n",
    "print(all_test_data.shape)\n",
    "all_test_data = np.append(all_test_data, Augmented_Test_matrix_toofast, axis=0)\n",
    "print(all_test_data.shape)\n",
    "all_test_data = np.append(all_test_data, Augmented_Test_matrix_justright_2, axis=0)\n",
    "print(all_test_data.shape)\n",
    "all_test_data = np.append(all_test_data, Augmented_Test_matrix_toofast_2, axis=0)\n",
    "print(all_test_data.shape)\n"
   ]
  },
  {
   "cell_type": "code",
   "execution_count": 18,
   "metadata": {},
   "outputs": [
    {
     "data": {
      "text/plain": [
       "numpy.ndarray"
      ]
     },
     "execution_count": 18,
     "metadata": {},
     "output_type": "execute_result"
    }
   ],
   "source": [
    "type(all_train_data)"
   ]
  },
  {
   "cell_type": "code",
   "execution_count": 19,
   "metadata": {},
   "outputs": [],
   "source": [
    "# Shuffle rows\n",
    "np.random.shuffle(all_train_data)\n",
    "np.random.shuffle(all_test_data)\n",
    "\n",
    "# Seperate Labelinto y\n",
    "y_train = np.asarray(all_train_data[:,0])\n",
    "y_test = np.asarray(all_test_data[:,0])\n",
    "\n",
    "#Seperate data into x\n",
    "X_train = np.asarray(all_train_data[:,1:32001])\n",
    "X_test = np.asarray(all_test_data[:,1:32001])"
   ]
  },
  {
   "cell_type": "code",
   "execution_count": 20,
   "metadata": {},
   "outputs": [
    {
     "name": "stdout",
     "output_type": "stream",
     "text": [
      "(435,)\n",
      "(435, 32000)\n",
      "(114,)\n",
      "(114, 32000)\n"
     ]
    }
   ],
   "source": [
    "print(y_train.shape)\n",
    "print(X_train.shape)\n",
    "print(y_test.shape)\n",
    "print(X_test.shape)"
   ]
  },
  {
   "cell_type": "markdown",
   "metadata": {},
   "source": [
    "### Save Intermediary Files"
   ]
  },
  {
   "cell_type": "code",
   "execution_count": 21,
   "metadata": {},
   "outputs": [],
   "source": [
    "y_train = np.asarray(y_train)\n",
    "X_train = np.asarray(X_train)\n",
    "y_test = np.asarray(y_test)\n",
    "X_test = np.asarray(X_test)"
   ]
  },
  {
   "cell_type": "code",
   "execution_count": 22,
   "metadata": {},
   "outputs": [],
   "source": [
    "# Eliminate any rows that are all nulls\n",
    "X_test_nulls = np.where(~X_test.any(axis=1))[0]\n",
    "X_train_nulls = np.where(~X_test.any(axis=1))[0]"
   ]
  },
  {
   "cell_type": "markdown",
   "metadata": {},
   "source": [
    "### Slicing and Featurizing"
   ]
  },
  {
   "cell_type": "code",
   "execution_count": 23,
   "metadata": {},
   "outputs": [],
   "source": [
    "mfcc_data = []"
   ]
  },
  {
   "cell_type": "code",
   "execution_count": 24,
   "metadata": {},
   "outputs": [],
   "source": [
    "# Function to convert audio from integer to float range\n",
    "def convert_audio_i2f(audio):\n",
    "    audio = audio.astype(np.float32, order='C') / 32000.0\n",
    "    return audio"
   ]
  },
  {
   "cell_type": "code",
   "execution_count": 25,
   "metadata": {},
   "outputs": [],
   "source": [
    "# Function to replace outliers\n",
    "def replace_outliers(data_in, para=1.5):\n",
    "    median = np.median(data_in)\n",
    "    for val in range(0, len(data_in)):\n",
    "        if (abs(data_in[val] - median)) >= (\n",
    "                para * np.std(data_in)):  # std dev used of fund frequency for this class\n",
    "            data_in[val] = median\n",
    "\n",
    "    return data_in"
   ]
  },
  {
   "cell_type": "code",
   "execution_count": 26,
   "metadata": {},
   "outputs": [],
   "source": [
    "# Function to generate fundamental frequencies from audio sample\n",
    "def fundamental_freq_gen(y):\n",
    "    y = np.array(y).astype(np.float)\n",
    "    sr = float(32000)\n",
    "    # Predict fundamental frequency based on crepe pre-trained pitch model\n",
    "    _, frequency, _, _ = crepe.predict(y,\n",
    "                                       sr,\n",
    "                                       viterbi=False,\n",
    "                                       verbose=0, step_size=100,\n",
    "                                       model_capacity=\"full\")\n",
    "    frequency = np.array(frequency)    \n",
    "    # Reshape for one prediction\n",
    "    frequency = frequency.reshape(1, -1)\n",
    "    return frequency"
   ]
  },
  {
   "cell_type": "code",
   "execution_count": null,
   "metadata": {},
   "outputs": [],
   "source": [
    "\n",
    "        "
   ]
  },
  {
   "cell_type": "code",
   "execution_count": 27,
   "metadata": {},
   "outputs": [],
   "source": [
    "# plot_wavelet(time,signal)"
   ]
  },
  {
   "cell_type": "code",
   "execution_count": 28,
   "metadata": {},
   "outputs": [],
   "source": [
    "train_data_cwt = 0\n",
    "import tkinter\n",
    "from matplotlib.backends.backend_tkagg import (\n",
    "    FigureCanvasTkAgg, NavigationToolbar2Tk)\n",
    "# Implement the default Matplotlib key bindings.\n",
    "from matplotlib.backend_bases import key_press_handler\n",
    "from matplotlib.figure import Figure\n"
   ]
  },
  {
   "cell_type": "code",
   "execution_count": 29,
   "metadata": {},
   "outputs": [],
   "source": [
    "# Function to generate constant q and fundamental frequency features for each audio sample.\n",
    "def _generate_features(data):\n",
    "    allfreqs = []\n",
    "    index = 0\n",
    "    primary_input = []\n",
    "    crepe_input = []\n",
    "    labels = []\n",
    "    data = np.asarray(data)\n",
    "    data = data.astype(float)\n",
    "    row_count = len(data)\n",
    "    print(row_count)\n",
    "    for x in range(0, row_count):\n",
    "        raw_data = np.asarray(data[x,])\n",
    "        crepe_data = np.asarray(data[x,])\n",
    "        # stft_data = librosa.core.stft(convert_audio_i2f(raw_data))\n",
    "        constant_q = np.abs(librosa.cqt(convert_audio_i2f(raw_data), sr=32000, fmin=librosa.note_to_hz('C1'), n_bins=70, bins_per_octave=12))\n",
    "        constant_q_shape_1 = constant_q.shape[1]\n",
    "        constant_q_shape_0 = constant_q.shape[0]\n",
    "        primary_input.append(constant_q)\n",
    "        \n",
    "    primary_input = np.array(primary_input).reshape(-1, constant_q_shape_0, constant_q_shape_1, 1)\n",
    "    print(primary_input.shape)\n",
    "\n",
    "    for rows in range(0,row_count):\n",
    "        freq = fundamental_freq_gen(data[rows,:])\n",
    "        index = index + 1\n",
    "        freq = np.array(freq)\n",
    "        allfreqs.append(freq)\n",
    "        crepe_input = np.array(allfreqs)\n",
    "\n",
    "    print(crepe_input.shape)\n",
    "    print(row_count)\n",
    "    crepe_input= crepe_input.reshape(row_count, 11)\n",
    "    normalized_crepe_input = np.array([replace_outliers(x) for x in crepe_input])\n",
    "    print(normalized_crepe_input.shape)\n",
    "    return primary_input, normalized_crepe_input"
   ]
  },
  {
   "cell_type": "code",
   "execution_count": 30,
   "metadata": {},
   "outputs": [],
   "source": [
    "def _create_masked_spec(data, mask_freq_factor, mask_time_1, mask_time_2):\n",
    "\n",
    "    flow = naf.Sequential([\n",
    "        nas.FrequencyMaskingAug(mask_factor=mask_freq_factor), \n",
    "        nas.TimeMaskingAug(mask_factor=mask_time_1), \n",
    "        nas.TimeMaskingAug(mask_factor=mask_time_2)])\n",
    "    primary_input = []\n",
    "    data = np.asarray(data)\n",
    "    data = data.astype(float)\n",
    "    row_count = len(data)\n",
    "\n",
    "    for x in range(0, row_count):\n",
    "        raw_data = np.asarray(data[x,])\n",
    "        constant_q = np.abs(librosa.cqt(convert_audio_i2f(raw_data), sr=32000, fmin=librosa.note_to_hz('C1'), n_bins=70, bins_per_octave=12))\n",
    "        augmented_spectrogram = flow.augment(constant_q)\n",
    "        \n",
    "        augmented_spectrogram_shape_1 = augmented_spectrogram.shape[1]\n",
    "        caugmented_spectrogram_shape_0 = augmented_spectrogram.shape[0]\n",
    "        primary_input.append(augmented_spectrogram)\n",
    "        \n",
    "    primary_input = np.array(primary_input).reshape(-1, caugmented_spectrogram_shape_0, augmented_spectrogram_shape_1, 1)\n",
    "    print(VisualSpectrogram.visual('Frequency Masking', augmented_spectrogram))\n",
    "    \n",
    "    \n",
    "    return primary_input\n",
    "        \n",
    "# VisualSpectrogram.visual('Frequency Masking', augmented_mel_spectrogram)"
   ]
  },
  {
   "cell_type": "code",
   "execution_count": 31,
   "metadata": {},
   "outputs": [],
   "source": [
    "import tkinter\n",
    "from matplotlib.backends.backend_tkagg import (\n",
    "    FigureCanvasTkAgg, NavigationToolbar2Tk)\n",
    "# Implement the default Matplotlib key bindings.\n",
    "from matplotlib.backend_bases import key_press_handler\n",
    "from matplotlib.figure import Figure\n",
    "import nlpaug\n",
    "import nlpaug.augmenter.spectrogram as nas\n",
    "import nlpaug.flow \n",
    "import nlpaug.flow as naf\n",
    "\n",
    "from nlpaug.util.file.load import LoadUtil\n",
    "from nlpaug.util.visual.spectrogram import VisualSpectrogram"
   ]
  },
  {
   "cell_type": "code",
   "execution_count": 32,
   "metadata": {},
   "outputs": [
    {
     "name": "stdout",
     "output_type": "stream",
     "text": [
      "435\n"
     ]
    },
    {
     "name": "stderr",
     "output_type": "stream",
     "text": [
      "C:\\Users\\pattyry\\AppData\\Roaming\\Python\\Python36\\site-packages\\scipy\\sparse\\lil.py:514: FutureWarning: future versions will not create a writeable array from broadcast_array. Set the writable flag explicitly to avoid this warning.\n",
      "  if not j.flags.writeable or j.dtype not in (np.int32, np.int64):\n"
     ]
    },
    {
     "name": "stdout",
     "output_type": "stream",
     "text": [
      "(435, 70, 63, 1)\n",
      "WARNING:tensorflow:From C:\\Anaconda\\envs\\amlrealtimeai\\lib\\site-packages\\keras\\backend\\tensorflow_backend.py:517: The name tf.placeholder is deprecated. Please use tf.compat.v1.placeholder instead.\n",
      "\n",
      "WARNING:tensorflow:From C:\\Anaconda\\envs\\amlrealtimeai\\lib\\site-packages\\keras\\backend\\tensorflow_backend.py:4138: The name tf.random_uniform is deprecated. Please use tf.random.uniform instead.\n",
      "\n",
      "WARNING:tensorflow:From C:\\Anaconda\\envs\\amlrealtimeai\\lib\\site-packages\\keras\\backend\\tensorflow_backend.py:245: The name tf.get_default_graph is deprecated. Please use tf.compat.v1.get_default_graph instead.\n",
      "\n",
      "WARNING:tensorflow:From C:\\Anaconda\\envs\\amlrealtimeai\\lib\\site-packages\\keras\\backend\\tensorflow_backend.py:174: The name tf.get_default_session is deprecated. Please use tf.compat.v1.get_default_session instead.\n",
      "\n",
      "WARNING:tensorflow:From C:\\Anaconda\\envs\\amlrealtimeai\\lib\\site-packages\\keras\\backend\\tensorflow_backend.py:181: The name tf.ConfigProto is deprecated. Please use tf.compat.v1.ConfigProto instead.\n",
      "\n",
      "WARNING:tensorflow:From C:\\Anaconda\\envs\\amlrealtimeai\\lib\\site-packages\\keras\\backend\\tensorflow_backend.py:1834: The name tf.nn.fused_batch_norm is deprecated. Please use tf.compat.v1.nn.fused_batch_norm instead.\n",
      "\n",
      "WARNING:tensorflow:From C:\\Anaconda\\envs\\amlrealtimeai\\lib\\site-packages\\keras\\backend\\tensorflow_backend.py:3976: The name tf.nn.max_pool is deprecated. Please use tf.nn.max_pool2d instead.\n",
      "\n",
      "WARNING:tensorflow:From C:\\Anaconda\\envs\\amlrealtimeai\\lib\\site-packages\\keras\\backend\\tensorflow_backend.py:3445: calling dropout (from tensorflow.python.ops.nn_ops) with keep_prob is deprecated and will be removed in a future version.\n",
      "Instructions for updating:\n",
      "Please use `rate` instead of `keep_prob`. Rate should be set to `rate = 1 - keep_prob`.\n",
      "WARNING:tensorflow:From C:\\Anaconda\\envs\\amlrealtimeai\\lib\\site-packages\\keras\\optimizers.py:790: The name tf.train.Optimizer is deprecated. Please use tf.compat.v1.train.Optimizer instead.\n",
      "\n",
      "WARNING:tensorflow:From C:\\Anaconda\\envs\\amlrealtimeai\\lib\\site-packages\\tensorflow\\python\\ops\\nn_impl.py:180: add_dispatch_support.<locals>.wrapper (from tensorflow.python.ops.array_ops) is deprecated and will be removed in a future version.\n",
      "Instructions for updating:\n",
      "Use tf.where in 2.0, which has the same broadcast rule as np.where\n",
      "(435, 1, 11)\n",
      "435\n",
      "(435, 11)\n"
     ]
    },
    {
     "data": {
      "image/png": "[encoded data removed]",
      "text/plain": [
       "<Figure size 576x288 with 2 Axes>"
      ]
     },
     "metadata": {
      "needs_background": "light"
     },
     "output_type": "display_data"
    },
    {
     "name": "stdout",
     "output_type": "stream",
     "text": [
      "None\n"
     ]
    }
   ],
   "source": [
    "# Generate Training Features\n",
    "train_cq_input, train_crepe_input = _generate_features(X_train)\n",
    "train_aug_cq_input = _create_masked_spec(X_train, 30, 10, 20)"
   ]
  },
  {
   "cell_type": "code",
   "execution_count": 33,
   "metadata": {},
   "outputs": [
    {
     "name": "stdout",
     "output_type": "stream",
     "text": [
      "114\n",
      "(114, 70, 63, 1)\n",
      "(114, 1, 11)\n",
      "114\n",
      "(114, 11)\n"
     ]
    },
    {
     "data": {
      "image/png": "[encoded data removed]",
      "text/plain": [
       "<Figure size 576x288 with 2 Axes>"
      ]
     },
     "metadata": {
      "needs_background": "light"
     },
     "output_type": "display_data"
    },
    {
     "name": "stdout",
     "output_type": "stream",
     "text": [
      "None\n"
     ]
    }
   ],
   "source": [
    "# Generate test features\n",
    "test_cq_input, crepe_test_input = _generate_features(X_test)\n",
    "test_aug_cq_input = _create_masked_spec(X_test, 30, 10, 20)"
   ]
  },
  {
   "cell_type": "code",
   "execution_count": 34,
   "metadata": {},
   "outputs": [
    {
     "name": "stdout",
     "output_type": "stream",
     "text": [
      "train input shapes\n",
      "(435, 70, 63, 1)\n",
      "(435, 11)\n",
      "(435, 70, 63, 1)\n",
      "test input shapes\n",
      "(114, 70, 63, 1)\n",
      "(114, 11)\n",
      "(114, 70, 63, 1)\n"
     ]
    }
   ],
   "source": [
    "print('train input shapes')\n",
    "print(train_cq_input.shape)\n",
    "print(train_crepe_input.shape)\n",
    "print(train_aug_cq_input.shape)\n",
    "print('test input shapes')\n",
    "print(test_cq_input.shape)\n",
    "print(crepe_test_input.shape)\n",
    "print(test_aug_cq_input.shape)"
   ]
  },
  {
   "cell_type": "code",
   "execution_count": 35,
   "metadata": {},
   "outputs": [
    {
     "name": "stdout",
     "output_type": "stream",
     "text": [
      "CQT Shape (70, 63, 1)\n",
      "Crepe Input Shape (11,)\n",
      "Aug CQ Input Shape (70, 63, 1)\n"
     ]
    }
   ],
   "source": [
    "#Define Single input shape\n",
    "cq_input_shape = train_cq_input[0].shape\n",
    "print(\"CQT Shape\",cq_input_shape)\n",
    "crepe_input_shape = train_crepe_input[0].shape\n",
    "print(\"Crepe Input Shape\", crepe_input_shape)\n",
    "aug_cq_shape = train_aug_cq_input[0].shape\n",
    "print(\"Aug CQ Input Shape\", aug_cq_shape)\n"
   ]
  },
  {
   "cell_type": "code",
   "execution_count": 36,
   "metadata": {},
   "outputs": [],
   "source": [
    "# Convert labels to categorical\n",
    "y_test_labels = to_categorical(y_test)\n",
    "y_train_labels = to_categorical(y_train)"
   ]
  },
  {
   "cell_type": "code",
   "execution_count": 37,
   "metadata": {},
   "outputs": [
    {
     "name": "stdout",
     "output_type": "stream",
     "text": [
      "D:\\machineshop\n"
     ]
    }
   ],
   "source": [
    "os.chdir(base_dir)\n",
    "print(os.getcwd())"
   ]
  },
  {
   "cell_type": "markdown",
   "metadata": {},
   "source": [
    "### Model Building"
   ]
  },
  {
   "cell_type": "markdown",
   "metadata": {},
   "source": [
    "#### Model Architecture"
   ]
  },
  {
   "cell_type": "code",
   "execution_count": 461,
   "metadata": {},
   "outputs": [],
   "source": [
    "def get_model():\n",
    "    nclass = 2\n",
    "    initializer1 = keras.initializers.RandomNormal\n",
    "    initializer2 = keras.initializers.Zeros()\n",
    "    initializer3 = keras.initializers.glorot_uniform(seed=None)\n",
    "    initializer4 = keras.initializers.lecun_normal(seed=None)\n",
    "\n",
    "   \n",
    "    inp = Input(shape=cq_input_shape)\n",
    "    img_1 = LeakyReLU(alpha=0.2)(inp)\n",
    "    img_1 = Conv2D(64, kernel_size=(3,3),       \n",
    "                   kernel_initializer=initializer4,  kernel_regularizer = regularizers.l2(0.001),         \n",
    "                   use_bias=True, bias_initializer=initializers.Zeros(),padding=\"valid\")(img_1)\n",
    "    img_1 = Dropout(0.1)(img_1)\n",
    "    img_1 = MaxPooling2D(pool_size=(2,2))(img_1)\n",
    "    \n",
    "    img_1 = LeakyReLU(alpha=0.2)(img_1)\n",
    "    img_1 = Conv2D(64, kernel_size=(3,3),       \n",
    "                   kernel_initializer=initializer4, kernel_regularizer = regularizers.l2(0.001),            \n",
    "                   use_bias=True, bias_initializer=initializers.Zeros(),padding=\"valid\")(img_1)\n",
    "    img_1 = LeakyReLU(alpha=0.2)(img_1)\n",
    "    img_1 = Dropout(0.1)(img_1)\n",
    "    img_1 = MaxPooling2D(pool_size=(2,2))(img_1)\n",
    "    \n",
    "    img_1 = Conv2D(64, kernel_size=(3,3),       \n",
    "                   kernel_initializer=initializer4,  kernel_regularizer = regularizers.l2(0.001),             \n",
    "                   use_bias=True, bias_initializer=initializers.Zeros(),padding=\"valid\")(img_1)\n",
    "    img_1 = LeakyReLU(alpha=0.2)(img_1)\n",
    "    img_1 = Dropout(0.1)(img_1)\n",
    "    img_1 = MaxPooling2D(pool_size=(2,2))(img_1)\n",
    "    \n",
    "    img_1 = Conv2D(64, kernel_size=(3,3),       \n",
    "                   kernel_initializer=initializer4,  kernel_regularizer = regularizers.l2(0.001),          \n",
    "                   use_bias=True, bias_initializer=initializers.Zeros(),padding=\"valid\")(img_1)\n",
    "    img_1 = LeakyReLU(alpha=0.2)(img_1)\n",
    "    img_1 = Dropout(0.1)(img_1)\n",
    "    \n",
    "    img_1 = Conv2D(64, kernel_size=(3,3),       \n",
    "                   kernel_initializer=initializer4,  kernel_regularizer = regularizers.l2(0.001),            \n",
    "                   use_bias=True, bias_initializer=initializers.Zeros(),padding=\"valid\")(img_1)\n",
    "    img_1 = LeakyReLU(alpha=0.2)(img_1)\n",
    "    img_1 = Dropout(0.3)(img_1)   \n",
    "    \n",
    "    img_1 = MaxPooling2D(pool_size=(2,2))(img_1)\n",
    "    img_1 = Dropout(0.3)(img_1)\n",
    "    img_1 = Flatten()(img_1)\n",
    "    img_1 = Dense(256, kernel_regularizer = regularizers.l2(0.001))(img_1)\n",
    "    img_1 = Dropout(0.3)(img_1)\n",
    "    img_1 = Dense(128, kernel_regularizer = regularizers.l2(0.001))(img_1)\n",
    "    img_1 = Dropout(0.3)(img_1) \n",
    "\n",
    "    inp2 = Input(shape=aug_cq_shape)\n",
    "    img_2 = LeakyReLU(alpha=0.2)(inp2)\n",
    "    img_2 = Conv2D(32, kernel_size=(3,3),       \n",
    "                   kernel_initializer=initializer4, kernel_regularizer = regularizers.l2(0.001),           \n",
    "                   use_bias=True, bias_initializer=initializers.Zeros(),padding=\"valid\")(img_2)\n",
    "    img_2 = Dropout(0.5)(img_2)\n",
    "    img_2 = MaxPooling2D(pool_size=(2,2))(img_2)\n",
    "    \n",
    "    img_2 = LeakyReLU(alpha=0.2)(img_2)\n",
    "    img_2 = Conv2D(32, kernel_size=(3,3),       \n",
    "                   kernel_initializer=initializer4, kernel_regularizer = regularizers.l2(0.001),           \n",
    "                   use_bias=True, bias_initializer=initializers.Zeros(),padding=\"valid\")(img_2)\n",
    "    img_2 = LeakyReLU(alpha=0.2)(img_2)\n",
    "    img_2 = Dropout(0.5)(img_2)\n",
    "    img_2 = MaxPooling2D(pool_size=(2,2))(img_2)\n",
    "\n",
    "    \n",
    "    img_2 = Conv2D(32, kernel_size=(3,3),       \n",
    "                    kernel_initializer=initializer4, kernel_regularizer = regularizers.l2(0.001),           \n",
    "                    use_bias=True, bias_initializer=initializers.Zeros(),padding=\"valid\")(img_2)\n",
    "        \n",
    "    img_2 = LeakyReLU(alpha=0.2)(img_2)\n",
    "    img_2 = Dropout(0.5)(img_2)\n",
    "    img_2 = MaxPooling2D(pool_size=(2,2))(img_2)\n",
    "    \n",
    "    img_2 = Conv2D(32, kernel_size=(3,3),       \n",
    "                   kernel_initializer=initializer4, kernel_regularizer = regularizers.l2(0.001),           \n",
    "                   use_bias=True, bias_initializer=initializers.Zeros(),padding=\"valid\")(img_2)\n",
    "    img_2 = LeakyReLU(alpha=0.2)(img_2)\n",
    "    img_2 = Dropout(0.5)(img_2)\n",
    "    \n",
    "    img_2 = Conv2D(32, kernel_size=(3,3),       \n",
    "                   kernel_initializer=initializer4,          \n",
    "                   use_bias=True, bias_initializer=initializers.Zeros(),padding=\"valid\")(img_2)\n",
    "    img_2 = LeakyReLU(alpha=0.2)(img_2)\n",
    "    img_2 = Dropout(0.5)(img_2)  \n",
    "    \n",
    "    img_2 = MaxPooling2D(pool_size=(2,2))(img_2)\n",
    "    img_2 = Dropout(0.5)(img_2)\n",
    "    img_2 = Flatten()(img_2)\n",
    "    img_2 = Dense(256)(img_2)\n",
    "    img_2 = Dropout(0.5)(img_2)\n",
    "    img_2 = Dense(34)(img_2)\n",
    "    img_2 = Dropout(0.5)(img_2)  \n",
    "    \n",
    "    \n",
    "    crepe_inp = Input(shape=crepe_input_shape)\n",
    "    crepe_dense = LeakyReLU(alpha=0.2)(crepe_inp)\n",
    "    \n",
    "    crepe_dense = Dense(24,  kernel_initializer=initializer4, \n",
    "                    bias_initializer=initializers.Zeros(),use_bias=True)(crepe_dense)\n",
    "    crepe_dense = Dropout(0.1)(crepe_dense)   \n",
    "    \n",
    "    concat_layer = keras.layers.concatenate([img_1, img_2, crepe_dense])\n",
    "    concat_dense = LeakyReLU(alpha=0.2)(concat_layer)\n",
    "    concat_dense = Dense(16, kernel_initializer=initializer4, kernel_regularizer = regularizers.l2(0.001),\n",
    "                         bias_initializer=initializers.Zeros(),use_bias=True)(concat_dense)\n",
    "    concat_dense = Dropout(0.3)(concat_dense)\n",
    "    concat_dense = Dense(12, kernel_regularizer = regularizers.l2(0.001))(concat_dense)\n",
    "    \n",
    "    output_layer = Dense(2,activation=activations.sigmoid)(concat_dense)\n",
    "    model = models.Model(inputs=[inp, inp2, crepe_inp], outputs=[output_layer])\n",
    "    opt = optimizers.Adam(lr=0.00009, beta_1=0.9, beta_2=0.999, epsilon=1e-5, decay=0.0001, amsgrad=True)\n",
    "    model.compile(optimizer=opt, loss=losses.binary_crossentropy, metrics=['acc'])\n",
    "    model.summary()\n",
    "    from keras.utils import plot_model\n",
    "    plot_model(model, to_file='model.png')\n",
    "    \n",
    "    return model"
   ]
  },
  {
   "cell_type": "code",
   "execution_count": 462,
   "metadata": {},
   "outputs": [],
   "source": [
    "# If wanted, add class weighting\n",
    "total_len = len(y_train)\n",
    "class_weight = {0: total_len/len([x for x in y_train==0 if x]),\n",
    "                1: total_len/len([x for x in y_train==1 if x])}"
   ]
  },
  {
   "cell_type": "code",
   "execution_count": 463,
   "metadata": {},
   "outputs": [
    {
     "name": "stdout",
     "output_type": "stream",
     "text": [
      "__________________________________________________________________________________________________\n",
      "Layer (type)                    Output Shape         Param #     Connected to                     \n",
      "==================================================================================================\n",
      "input_183 (InputLayer)          (None, 70, 63, 1)    0                                            \n",
      "__________________________________________________________________________________________________\n",
      "input_184 (InputLayer)          (None, 70, 63, 1)    0                                            \n",
      "__________________________________________________________________________________________________\n",
      "leaky_re_lu_859 (LeakyReLU)     (None, 70, 63, 1)    0           input_183[0][0]                  \n",
      "__________________________________________________________________________________________________\n",
      "leaky_re_lu_865 (LeakyReLU)     (None, 70, 63, 1)    0           input_184[0][0]                  \n",
      "__________________________________________________________________________________________________\n",
      "conv2d_628 (Conv2D)             (None, 68, 61, 64)   640         leaky_re_lu_859[0][0]            \n",
      "__________________________________________________________________________________________________\n",
      "conv2d_633 (Conv2D)             (None, 68, 61, 32)   320         leaky_re_lu_865[0][0]            \n",
      "__________________________________________________________________________________________________\n",
      "dropout_1090 (Dropout)          (None, 68, 61, 64)   0           conv2d_628[0][0]                 \n",
      "__________________________________________________________________________________________________\n",
      "dropout_1098 (Dropout)          (None, 68, 61, 32)   0           conv2d_633[0][0]                 \n",
      "__________________________________________________________________________________________________\n",
      "max_pooling2d_504 (MaxPooling2D (None, 34, 30, 64)   0           dropout_1090[0][0]               \n",
      "__________________________________________________________________________________________________\n",
      "max_pooling2d_508 (MaxPooling2D (None, 34, 30, 32)   0           dropout_1098[0][0]               \n",
      "__________________________________________________________________________________________________\n",
      "leaky_re_lu_860 (LeakyReLU)     (None, 34, 30, 64)   0           max_pooling2d_504[0][0]          \n",
      "__________________________________________________________________________________________________\n",
      "leaky_re_lu_866 (LeakyReLU)     (None, 34, 30, 32)   0           max_pooling2d_508[0][0]          \n",
      "__________________________________________________________________________________________________\n",
      "conv2d_629 (Conv2D)             (None, 32, 28, 64)   36928       leaky_re_lu_860[0][0]            \n",
      "__________________________________________________________________________________________________\n",
      "conv2d_634 (Conv2D)             (None, 32, 28, 32)   9248        leaky_re_lu_866[0][0]            \n",
      "__________________________________________________________________________________________________\n",
      "leaky_re_lu_861 (LeakyReLU)     (None, 32, 28, 64)   0           conv2d_629[0][0]                 \n",
      "__________________________________________________________________________________________________\n",
      "leaky_re_lu_867 (LeakyReLU)     (None, 32, 28, 32)   0           conv2d_634[0][0]                 \n",
      "__________________________________________________________________________________________________\n",
      "dropout_1091 (Dropout)          (None, 32, 28, 64)   0           leaky_re_lu_861[0][0]            \n",
      "__________________________________________________________________________________________________\n",
      "dropout_1099 (Dropout)          (None, 32, 28, 32)   0           leaky_re_lu_867[0][0]            \n",
      "__________________________________________________________________________________________________\n",
      "max_pooling2d_505 (MaxPooling2D (None, 16, 14, 64)   0           dropout_1091[0][0]               \n",
      "__________________________________________________________________________________________________\n",
      "max_pooling2d_509 (MaxPooling2D (None, 16, 14, 32)   0           dropout_1099[0][0]               \n",
      "__________________________________________________________________________________________________\n",
      "conv2d_630 (Conv2D)             (None, 14, 12, 64)   36928       max_pooling2d_505[0][0]          \n",
      "__________________________________________________________________________________________________\n",
      "conv2d_635 (Conv2D)             (None, 14, 12, 32)   9248        max_pooling2d_509[0][0]          \n",
      "__________________________________________________________________________________________________\n",
      "leaky_re_lu_862 (LeakyReLU)     (None, 14, 12, 64)   0           conv2d_630[0][0]                 \n",
      "__________________________________________________________________________________________________\n",
      "leaky_re_lu_868 (LeakyReLU)     (None, 14, 12, 32)   0           conv2d_635[0][0]                 \n",
      "__________________________________________________________________________________________________\n",
      "dropout_1092 (Dropout)          (None, 14, 12, 64)   0           leaky_re_lu_862[0][0]            \n",
      "__________________________________________________________________________________________________\n",
      "dropout_1100 (Dropout)          (None, 14, 12, 32)   0           leaky_re_lu_868[0][0]            \n",
      "__________________________________________________________________________________________________\n",
      "max_pooling2d_506 (MaxPooling2D (None, 7, 6, 64)     0           dropout_1092[0][0]               \n",
      "__________________________________________________________________________________________________\n",
      "max_pooling2d_510 (MaxPooling2D (None, 7, 6, 32)     0           dropout_1100[0][0]               \n",
      "__________________________________________________________________________________________________\n",
      "conv2d_631 (Conv2D)             (None, 5, 4, 64)     36928       max_pooling2d_506[0][0]          \n",
      "__________________________________________________________________________________________________\n",
      "conv2d_636 (Conv2D)             (None, 5, 4, 32)     9248        max_pooling2d_510[0][0]          \n",
      "__________________________________________________________________________________________________\n",
      "leaky_re_lu_863 (LeakyReLU)     (None, 5, 4, 64)     0           conv2d_631[0][0]                 \n",
      "__________________________________________________________________________________________________\n",
      "leaky_re_lu_869 (LeakyReLU)     (None, 5, 4, 32)     0           conv2d_636[0][0]                 \n",
      "__________________________________________________________________________________________________\n",
      "dropout_1093 (Dropout)          (None, 5, 4, 64)     0           leaky_re_lu_863[0][0]            \n",
      "__________________________________________________________________________________________________\n",
      "dropout_1101 (Dropout)          (None, 5, 4, 32)     0           leaky_re_lu_869[0][0]            \n",
      "__________________________________________________________________________________________________\n",
      "conv2d_632 (Conv2D)             (None, 3, 2, 64)     36928       dropout_1093[0][0]               \n",
      "__________________________________________________________________________________________________\n",
      "conv2d_637 (Conv2D)             (None, 3, 2, 32)     9248        dropout_1101[0][0]               \n",
      "__________________________________________________________________________________________________\n",
      "leaky_re_lu_864 (LeakyReLU)     (None, 3, 2, 64)     0           conv2d_632[0][0]                 \n",
      "__________________________________________________________________________________________________\n",
      "leaky_re_lu_870 (LeakyReLU)     (None, 3, 2, 32)     0           conv2d_637[0][0]                 \n",
      "__________________________________________________________________________________________________\n",
      "dropout_1094 (Dropout)          (None, 3, 2, 64)     0           leaky_re_lu_864[0][0]            \n",
      "__________________________________________________________________________________________________\n",
      "dropout_1102 (Dropout)          (None, 3, 2, 32)     0           leaky_re_lu_870[0][0]            \n",
      "__________________________________________________________________________________________________\n",
      "max_pooling2d_507 (MaxPooling2D (None, 1, 1, 64)     0           dropout_1094[0][0]               \n",
      "__________________________________________________________________________________________________\n",
      "max_pooling2d_511 (MaxPooling2D (None, 1, 1, 32)     0           dropout_1102[0][0]               \n",
      "__________________________________________________________________________________________________\n",
      "dropout_1095 (Dropout)          (None, 1, 1, 64)     0           max_pooling2d_507[0][0]          \n",
      "__________________________________________________________________________________________________\n",
      "dropout_1103 (Dropout)          (None, 1, 1, 32)     0           max_pooling2d_511[0][0]          \n",
      "__________________________________________________________________________________________________\n",
      "flatten_120 (Flatten)           (None, 64)           0           dropout_1095[0][0]               \n",
      "__________________________________________________________________________________________________\n",
      "flatten_121 (Flatten)           (None, 32)           0           dropout_1103[0][0]               \n",
      "__________________________________________________________________________________________________\n",
      "dense_463 (Dense)               (None, 256)          16640       flatten_120[0][0]                \n",
      "__________________________________________________________________________________________________\n",
      "dense_465 (Dense)               (None, 256)          8448        flatten_121[0][0]                \n",
      "__________________________________________________________________________________________________\n",
      "input_185 (InputLayer)          (None, 11)           0                                            \n",
      "__________________________________________________________________________________________________\n",
      "dropout_1096 (Dropout)          (None, 256)          0           dense_463[0][0]                  \n",
      "__________________________________________________________________________________________________\n",
      "dropout_1104 (Dropout)          (None, 256)          0           dense_465[0][0]                  \n",
      "__________________________________________________________________________________________________\n",
      "leaky_re_lu_871 (LeakyReLU)     (None, 11)           0           input_185[0][0]                  \n",
      "__________________________________________________________________________________________________\n",
      "dense_464 (Dense)               (None, 128)          32896       dropout_1096[0][0]               \n",
      "__________________________________________________________________________________________________\n",
      "dense_466 (Dense)               (None, 34)           8738        dropout_1104[0][0]               \n",
      "__________________________________________________________________________________________________\n",
      "dense_467 (Dense)               (None, 24)           288         leaky_re_lu_871[0][0]            \n",
      "__________________________________________________________________________________________________\n",
      "dropout_1097 (Dropout)          (None, 128)          0           dense_464[0][0]                  \n",
      "__________________________________________________________________________________________________\n",
      "dropout_1105 (Dropout)          (None, 34)           0           dense_466[0][0]                  \n",
      "__________________________________________________________________________________________________\n",
      "dropout_1106 (Dropout)          (None, 24)           0           dense_467[0][0]                  \n",
      "__________________________________________________________________________________________________\n",
      "concatenate_57 (Concatenate)    (None, 186)          0           dropout_1097[0][0]               \n",
      "                                                                 dropout_1105[0][0]               \n",
      "                                                                 dropout_1106[0][0]               \n",
      "__________________________________________________________________________________________________\n",
      "leaky_re_lu_872 (LeakyReLU)     (None, 186)          0           concatenate_57[0][0]             \n",
      "__________________________________________________________________________________________________\n",
      "dense_468 (Dense)               (None, 16)           2992        leaky_re_lu_872[0][0]            \n",
      "__________________________________________________________________________________________________\n",
      "dropout_1107 (Dropout)          (None, 16)           0           dense_468[0][0]                  \n",
      "__________________________________________________________________________________________________\n",
      "dense_469 (Dense)               (None, 12)           204         dropout_1107[0][0]               \n",
      "__________________________________________________________________________________________________\n",
      "dense_470 (Dense)               (None, 2)            26          dense_469[0][0]                  \n",
      "==================================================================================================\n",
      "Total params: 255,896\n",
      "Trainable params: 255,896\n",
      "Non-trainable params: 0\n",
      "__________________________________________________________________________________________________\n"
     ]
    }
   ],
   "source": [
    "cq_crepe_model = get_model()"
   ]
  },
  {
   "cell_type": "code",
   "execution_count": 464,
   "metadata": {},
   "outputs": [],
   "source": [
    "mcp_save = ModelCheckpoint('best_machine_tooling_model.hdf5', save_best_only=True, monitor='val_acc', mode='max')\n"
   ]
  },
  {
   "cell_type": "code",
   "execution_count": 465,
   "metadata": {},
   "outputs": [],
   "source": [
    "reduce_lr = keras.callbacks.ReduceLROnPlateau(monitor='val_loss', factor=0.1,\n",
    "                              patience=10, min_lr=0.0000001)\n"
   ]
  },
  {
   "cell_type": "code",
   "execution_count": 466,
   "metadata": {},
   "outputs": [
    {
     "name": "stdout",
     "output_type": "stream",
     "text": [
      "Train on 435 samples, validate on 114 samples\n",
      "Epoch 1/300\n",
      "435/435 [==============================] - 45s 103ms/step - loss: 16.3280 - acc: 0.3667 - val_loss: 11.7081 - val_acc: 0.2763\n",
      "Epoch 2/300\n",
      "435/435 [==============================] - 2s 4ms/step - loss: 15.9926 - acc: 0.3805 - val_loss: 11.8399 - val_acc: 0.2763\n",
      "Epoch 3/300\n",
      "435/435 [==============================] - 2s 4ms/step - loss: 16.1763 - acc: 0.3770 - val_loss: 11.6803 - val_acc: 0.3026\n",
      "Epoch 4/300\n",
      "435/435 [==============================] - 2s 4ms/step - loss: 15.8251 - acc: 0.3828 - val_loss: 11.5250 - val_acc: 0.3026\n",
      "Epoch 5/300\n",
      "435/435 [==============================] - 2s 4ms/step - loss: 15.0482 - acc: 0.4069 - val_loss: 11.3065 - val_acc: 0.3289\n",
      "Epoch 6/300\n",
      "435/435 [==============================] - 2s 4ms/step - loss: 15.0530 - acc: 0.4057 - val_loss: 11.2682 - val_acc: 0.3421\n",
      "Epoch 7/300\n",
      "435/435 [==============================] - 2s 4ms/step - loss: 15.1348 - acc: 0.4000 - val_loss: 11.3977 - val_acc: 0.3158\n",
      "Epoch 8/300\n",
      "435/435 [==============================] - 2s 4ms/step - loss: 14.2328 - acc: 0.4483 - val_loss: 11.3179 - val_acc: 0.3158\n",
      "Epoch 9/300\n",
      "435/435 [==============================] - 2s 4ms/step - loss: 14.1443 - acc: 0.4379 - val_loss: 11.2648 - val_acc: 0.3421\n",
      "Epoch 10/300\n",
      "435/435 [==============================] - 2s 4ms/step - loss: 13.9182 - acc: 0.4517 - val_loss: 11.5236 - val_acc: 0.3026\n",
      "Epoch 11/300\n",
      "435/435 [==============================] - 2s 4ms/step - loss: 14.1484 - acc: 0.4506 - val_loss: 11.5320 - val_acc: 0.3158\n",
      "Epoch 12/300\n",
      "435/435 [==============================] - 2s 4ms/step - loss: 12.8486 - acc: 0.5126 - val_loss: 6.9188 - val_acc: 0.5526\n",
      "Epoch 13/300\n",
      "435/435 [==============================] - 2s 4ms/step - loss: 12.0127 - acc: 0.5586 - val_loss: 3.3456 - val_acc: 0.7500\n",
      "Epoch 14/300\n",
      "435/435 [==============================] - 2s 4ms/step - loss: 9.5339 - acc: 0.6575 - val_loss: 3.1544 - val_acc: 0.8289\n",
      "Epoch 15/300\n",
      "435/435 [==============================] - 2s 4ms/step - loss: 7.4164 - acc: 0.7425 - val_loss: 2.8831 - val_acc: 0.8421\n",
      "Epoch 16/300\n",
      "435/435 [==============================] - 2s 4ms/step - loss: 6.6027 - acc: 0.7839 - val_loss: 3.0194 - val_acc: 0.8553\n",
      "Epoch 17/300\n",
      "435/435 [==============================] - 2s 4ms/step - loss: 5.3743 - acc: 0.8310 - val_loss: 2.9264 - val_acc: 0.8553\n",
      "Epoch 18/300\n",
      "435/435 [==============================] - 2s 4ms/step - loss: 5.8810 - acc: 0.8115 - val_loss: 2.2277 - val_acc: 0.8816\n",
      "Epoch 19/300\n",
      "435/435 [==============================] - 2s 4ms/step - loss: 5.3702 - acc: 0.8322 - val_loss: 2.1105 - val_acc: 0.8947\n",
      "Epoch 20/300\n",
      "435/435 [==============================] - 2s 4ms/step - loss: 5.0894 - acc: 0.8483 - val_loss: 2.6015 - val_acc: 0.8816\n",
      "Epoch 21/300\n",
      "435/435 [==============================] - 2s 4ms/step - loss: 4.8986 - acc: 0.8563 - val_loss: 2.7026 - val_acc: 0.8553\n",
      "Epoch 22/300\n",
      "435/435 [==============================] - 2s 4ms/step - loss: 4.8218 - acc: 0.8529 - val_loss: 1.9495 - val_acc: 0.9079\n",
      "Epoch 23/300\n",
      "435/435 [==============================] - 2s 4ms/step - loss: 4.6678 - acc: 0.8552 - val_loss: 1.8414 - val_acc: 0.9211\n",
      "Epoch 24/300\n",
      "435/435 [==============================] - 2s 4ms/step - loss: 4.8693 - acc: 0.8506 - val_loss: 1.7941 - val_acc: 0.9211\n",
      "Epoch 25/300\n",
      "435/435 [==============================] - 2s 4ms/step - loss: 4.5255 - acc: 0.8644 - val_loss: 2.4750 - val_acc: 0.8816\n",
      "Epoch 26/300\n",
      "435/435 [==============================] - 2s 4ms/step - loss: 3.8855 - acc: 0.9000 - val_loss: 2.6004 - val_acc: 0.8684\n",
      "Epoch 27/300\n",
      "435/435 [==============================] - 2s 4ms/step - loss: 4.5058 - acc: 0.8759 - val_loss: 1.8554 - val_acc: 0.9211\n",
      "Epoch 28/300\n",
      "435/435 [==============================] - 2s 4ms/step - loss: 3.4538 - acc: 0.9172 - val_loss: 2.4088 - val_acc: 0.8816\n",
      "Epoch 29/300\n",
      "435/435 [==============================] - 2s 4ms/step - loss: 3.2712 - acc: 0.9241 - val_loss: 2.3467 - val_acc: 0.8816\n",
      "Epoch 30/300\n",
      "435/435 [==============================] - 2s 4ms/step - loss: 2.7700 - acc: 0.9402 - val_loss: 1.8080 - val_acc: 0.9211\n",
      "Epoch 31/300\n",
      "435/435 [==============================] - 2s 5ms/step - loss: 2.9635 - acc: 0.9345 - val_loss: 1.8768 - val_acc: 0.9079\n",
      "Epoch 32/300\n",
      "435/435 [==============================] - 2s 4ms/step - loss: 3.0645 - acc: 0.9218 - val_loss: 1.7531 - val_acc: 0.9342\n",
      "Epoch 33/300\n",
      "435/435 [==============================] - 2s 4ms/step - loss: 2.6222 - acc: 0.9425 - val_loss: 1.7534 - val_acc: 0.9342\n",
      "Epoch 34/300\n",
      "435/435 [==============================] - 2s 4ms/step - loss: 2.6012 - acc: 0.9448 - val_loss: 1.5413 - val_acc: 0.9474\n",
      "Epoch 35/300\n",
      "435/435 [==============================] - 2s 4ms/step - loss: 2.5648 - acc: 0.9494 - val_loss: 1.8690 - val_acc: 0.9079\n",
      "Epoch 36/300\n",
      "435/435 [==============================] - 2s 4ms/step - loss: 2.4200 - acc: 0.9586 - val_loss: 2.1441 - val_acc: 0.9079\n",
      "Epoch 37/300\n",
      "435/435 [==============================] - 2s 4ms/step - loss: 2.4964 - acc: 0.9529 - val_loss: 1.7525 - val_acc: 0.9342\n",
      "Epoch 38/300\n",
      "435/435 [==============================] - 2s 4ms/step - loss: 2.1162 - acc: 0.9621 - val_loss: 1.5402 - val_acc: 0.9474\n",
      "Epoch 39/300\n",
      "435/435 [==============================] - 2s 4ms/step - loss: 2.3638 - acc: 0.9529 - val_loss: 1.5399 - val_acc: 0.9474\n",
      "Epoch 40/300\n",
      "435/435 [==============================] - 2s 4ms/step - loss: 3.3545 - acc: 0.9000 - val_loss: 1.2299 - val_acc: 0.9605\n",
      "Epoch 41/300\n",
      "435/435 [==============================] - 2s 4ms/step - loss: 2.0435 - acc: 0.9563 - val_loss: 1.7540 - val_acc: 0.9342\n",
      "Epoch 42/300\n",
      "435/435 [==============================] - 2s 4ms/step - loss: 2.0370 - acc: 0.9690 - val_loss: 1.5417 - val_acc: 0.9474\n",
      "Epoch 43/300\n",
      "435/435 [==============================] - 2s 4ms/step - loss: 1.7185 - acc: 0.9690 - val_loss: 1.1221 - val_acc: 0.9737\n",
      "Epoch 44/300\n",
      "435/435 [==============================] - 2s 4ms/step - loss: 1.4990 - acc: 0.9747 - val_loss: 1.5413 - val_acc: 0.9474\n",
      "Epoch 45/300\n",
      "435/435 [==============================] - 2s 4ms/step - loss: 1.9210 - acc: 0.9678 - val_loss: 1.5407 - val_acc: 0.9474\n",
      "Epoch 46/300\n",
      "435/435 [==============================] - 2s 4ms/step - loss: 1.8803 - acc: 0.9678 - val_loss: 1.5403 - val_acc: 0.9474\n",
      "Epoch 47/300\n",
      "435/435 [==============================] - 2s 4ms/step - loss: 1.4495 - acc: 0.9770 - val_loss: 1.1213 - val_acc: 0.9737\n",
      "Epoch 48/300\n",
      "435/435 [==============================] - 2s 4ms/step - loss: 1.3955 - acc: 0.9724 - val_loss: 1.1211 - val_acc: 0.9737\n",
      "Epoch 49/300\n",
      "435/435 [==============================] - 2s 4ms/step - loss: 1.3586 - acc: 0.9816 - val_loss: 1.5403 - val_acc: 0.9474\n",
      "Epoch 50/300\n",
      "435/435 [==============================] - 2s 4ms/step - loss: 1.3075 - acc: 0.9828 - val_loss: 1.1209 - val_acc: 0.9737\n",
      "Epoch 51/300\n",
      "435/435 [==============================] - 2s 4ms/step - loss: 1.1968 - acc: 0.9805 - val_loss: 0.6978 - val_acc: 1.0000\n",
      "Epoch 52/300\n",
      "435/435 [==============================] - 2s 4ms/step - loss: 1.5877 - acc: 0.9644 - val_loss: 0.6977 - val_acc: 1.0000\n",
      "Epoch 53/300\n",
      "435/435 [==============================] - 2s 5ms/step - loss: 1.0278 - acc: 0.9897 - val_loss: 1.1215 - val_acc: 0.9737\n",
      "Epoch 54/300\n",
      "435/435 [==============================] - 2s 4ms/step - loss: 1.2244 - acc: 0.9885 - val_loss: 0.6972 - val_acc: 1.0000\n",
      "Epoch 55/300\n",
      "435/435 [==============================] - 2s 4ms/step - loss: 1.5898 - acc: 0.9632 - val_loss: 0.9099 - val_acc: 0.9868\n",
      "Epoch 56/300\n",
      "435/435 [==============================] - 2s 4ms/step - loss: 1.1369 - acc: 0.9816 - val_loss: 0.6977 - val_acc: 1.0000\n",
      "Epoch 57/300\n",
      "435/435 [==============================] - 2s 4ms/step - loss: 0.8887 - acc: 0.9943 - val_loss: 1.1216 - val_acc: 0.9737\n",
      "Epoch 58/300\n",
      "435/435 [==============================] - 2s 4ms/step - loss: 1.0289 - acc: 0.9920 - val_loss: 0.9472 - val_acc: 0.9737\n",
      "Epoch 59/300\n",
      "435/435 [==============================] - 2s 4ms/step - loss: 1.1982 - acc: 0.9782 - val_loss: 0.9095 - val_acc: 0.9868\n",
      "Epoch 60/300\n",
      "435/435 [==============================] - 2s 4ms/step - loss: 0.9203 - acc: 0.9908 - val_loss: 0.6971 - val_acc: 1.0000\n",
      "Epoch 61/300\n"
     ]
    },
    {
     "name": "stdout",
     "output_type": "stream",
     "text": [
      "435/435 [==============================] - 2s 4ms/step - loss: 1.0714 - acc: 0.9839 - val_loss: 0.6967 - val_acc: 1.0000\n",
      "Epoch 62/300\n",
      "435/435 [==============================] - 2s 4ms/step - loss: 0.9076 - acc: 0.9920 - val_loss: 1.1203 - val_acc: 0.9737\n",
      "Epoch 63/300\n",
      "435/435 [==============================] - 2s 4ms/step - loss: 1.0243 - acc: 0.9931 - val_loss: 1.1198 - val_acc: 0.9737\n",
      "Epoch 64/300\n",
      "435/435 [==============================] - 2s 4ms/step - loss: 0.9762 - acc: 0.9920 - val_loss: 0.6958 - val_acc: 1.0000\n",
      "Epoch 65/300\n",
      "435/435 [==============================] - 2s 4ms/step - loss: 1.3209 - acc: 0.9736 - val_loss: 0.8650 - val_acc: 0.9868\n",
      "Epoch 66/300\n",
      "435/435 [==============================] - 2s 4ms/step - loss: 1.0855 - acc: 0.9839 - val_loss: 0.6953 - val_acc: 1.0000\n",
      "Epoch 67/300\n",
      "435/435 [==============================] - 2s 4ms/step - loss: 1.0010 - acc: 0.9874 - val_loss: 0.6948 - val_acc: 1.0000\n",
      "Epoch 68/300\n",
      "435/435 [==============================] - 2s 4ms/step - loss: 0.9589 - acc: 0.9885 - val_loss: 0.6945 - val_acc: 1.0000\n",
      "Epoch 69/300\n",
      "435/435 [==============================] - 2s 4ms/step - loss: 0.8613 - acc: 0.9931 - val_loss: 0.6940 - val_acc: 1.0000\n",
      "Epoch 70/300\n",
      "435/435 [==============================] - 2s 4ms/step - loss: 1.0692 - acc: 0.9839 - val_loss: 0.9605 - val_acc: 0.9737\n",
      "Epoch 71/300\n",
      "435/435 [==============================] - 2s 4ms/step - loss: 0.9960 - acc: 0.9862 - val_loss: 0.6943 - val_acc: 1.0000\n",
      "Epoch 72/300\n",
      "435/435 [==============================] - 2s 4ms/step - loss: 0.7775 - acc: 0.9966 - val_loss: 0.6939 - val_acc: 1.0000\n",
      "Epoch 73/300\n",
      "435/435 [==============================] - 2s 4ms/step - loss: 0.6937 - acc: 1.0000 - val_loss: 0.6934 - val_acc: 1.0000\n",
      "Epoch 74/300\n",
      "435/435 [==============================] - 2s 4ms/step - loss: 0.6932 - acc: 1.0000 - val_loss: 0.6930 - val_acc: 1.0000\n",
      "Epoch 75/300\n",
      "435/435 [==============================] - 2s 4ms/step - loss: 0.6927 - acc: 1.0000 - val_loss: 0.6925 - val_acc: 1.0000\n",
      "Epoch 76/300\n",
      "435/435 [==============================] - 2s 4ms/step - loss: 0.7479 - acc: 0.9977 - val_loss: 0.6920 - val_acc: 1.0000\n",
      "Epoch 77/300\n",
      "435/435 [==============================] - 2s 4ms/step - loss: 0.6918 - acc: 1.0000 - val_loss: 0.6916 - val_acc: 1.0000\n",
      "Epoch 78/300\n",
      "435/435 [==============================] - 2s 4ms/step - loss: 0.7190 - acc: 0.9989 - val_loss: 0.6911 - val_acc: 1.0000\n",
      "Epoch 79/300\n",
      "435/435 [==============================] - 2s 4ms/step - loss: 0.6909 - acc: 1.0000 - val_loss: 0.6906 - val_acc: 1.0000\n",
      "Epoch 80/300\n",
      "435/435 [==============================] - 2s 4ms/step - loss: 0.7461 - acc: 0.9977 - val_loss: 0.6902 - val_acc: 1.0000\n",
      "Epoch 81/300\n",
      "435/435 [==============================] - 2s 4ms/step - loss: 0.7998 - acc: 0.9966 - val_loss: 0.6897 - val_acc: 1.0000\n",
      "Epoch 82/300\n",
      "435/435 [==============================] - 2s 4ms/step - loss: 0.7672 - acc: 0.9977 - val_loss: 0.6895 - val_acc: 1.0000\n",
      "Epoch 83/300\n",
      "435/435 [==============================] - 2s 4ms/step - loss: 0.9742 - acc: 0.9862 - val_loss: 0.6897 - val_acc: 1.0000\n",
      "Epoch 84/300\n",
      "435/435 [==============================] - 2s 4ms/step - loss: 0.7729 - acc: 0.9966 - val_loss: 0.6893 - val_acc: 1.0000\n",
      "Epoch 85/300\n",
      "435/435 [==============================] - 2s 4ms/step - loss: 0.7439 - acc: 0.9989 - val_loss: 0.6889 - val_acc: 1.0000\n",
      "Epoch 86/300\n",
      "435/435 [==============================] - 2s 4ms/step - loss: 0.7163 - acc: 0.9989 - val_loss: 0.6884 - val_acc: 1.0000\n",
      "Epoch 87/300\n",
      "435/435 [==============================] - 2s 4ms/step - loss: 0.6882 - acc: 1.0000 - val_loss: 0.6880 - val_acc: 1.0000\n",
      "Epoch 88/300\n",
      "435/435 [==============================] - 2s 4ms/step - loss: 0.7426 - acc: 0.9989 - val_loss: 0.6875 - val_acc: 1.0000\n",
      "Epoch 89/300\n",
      "435/435 [==============================] - 2s 4ms/step - loss: 0.7964 - acc: 0.9977 - val_loss: 0.6871 - val_acc: 1.0000\n",
      "Epoch 90/300\n",
      "435/435 [==============================] - 2s 4ms/step - loss: 0.7959 - acc: 0.9977 - val_loss: 0.6867 - val_acc: 1.0000\n",
      "Epoch 91/300\n",
      "435/435 [==============================] - 2s 4ms/step - loss: 0.7414 - acc: 0.9989 - val_loss: 0.6862 - val_acc: 1.0000\n",
      "Epoch 92/300\n",
      "435/435 [==============================] - 2s 4ms/step - loss: 1.5074 - acc: 0.9632 - val_loss: 1.1089 - val_acc: 0.9737\n",
      "Epoch 93/300\n",
      "435/435 [==============================] - 2s 4ms/step - loss: 0.9821 - acc: 0.9874 - val_loss: 0.6869 - val_acc: 1.0000\n",
      "Epoch 94/300\n",
      "435/435 [==============================] - 2s 4ms/step - loss: 0.6867 - acc: 1.0000 - val_loss: 0.6865 - val_acc: 1.0000\n",
      "Epoch 95/300\n",
      "435/435 [==============================] - 2s 5ms/step - loss: 0.6863 - acc: 1.0000 - val_loss: 0.6861 - val_acc: 1.0000\n",
      "Epoch 96/300\n",
      "435/435 [==============================] - 2s 4ms/step - loss: 0.7407 - acc: 0.9989 - val_loss: 0.6857 - val_acc: 1.0000\n",
      "Epoch 97/300\n",
      "435/435 [==============================] - 2s 4ms/step - loss: 0.8175 - acc: 0.9966 - val_loss: 0.6855 - val_acc: 1.0000\n",
      "Epoch 98/300\n",
      "435/435 [==============================] - 2s 4ms/step - loss: 0.6853 - acc: 1.0000 - val_loss: 0.6851 - val_acc: 1.0000\n",
      "Epoch 99/300\n",
      "435/435 [==============================] - 2s 4ms/step - loss: 0.7940 - acc: 0.9977 - val_loss: 0.6847 - val_acc: 1.0000\n",
      "Epoch 100/300\n",
      "435/435 [==============================] - 2s 4ms/step - loss: 0.6845 - acc: 1.0000 - val_loss: 0.6843 - val_acc: 1.0000\n",
      "Epoch 101/300\n",
      "435/435 [==============================] - 2s 4ms/step - loss: 0.6841 - acc: 1.0000 - val_loss: 0.6839 - val_acc: 1.0000\n",
      "Epoch 102/300\n",
      "435/435 [==============================] - 2s 4ms/step - loss: 0.7114 - acc: 0.9989 - val_loss: 0.6835 - val_acc: 1.0000\n",
      "Epoch 103/300\n",
      "435/435 [==============================] - 2s 4ms/step - loss: 0.7389 - acc: 0.9977 - val_loss: 0.6831 - val_acc: 1.0000\n",
      "Epoch 104/300\n",
      "435/435 [==============================] - 2s 4ms/step - loss: 0.7105 - acc: 0.9989 - val_loss: 0.6826 - val_acc: 1.0000\n",
      "Epoch 105/300\n",
      "435/435 [==============================] - 2s 4ms/step - loss: 0.7381 - acc: 0.9977 - val_loss: 0.6822 - val_acc: 1.0000\n",
      "Epoch 106/300\n",
      "435/435 [==============================] - 2s 4ms/step - loss: 0.7086 - acc: 0.9989 - val_loss: 0.6820 - val_acc: 1.0000\n",
      "Epoch 107/300\n",
      "435/435 [==============================] - 2s 4ms/step - loss: 0.6818 - acc: 1.0000 - val_loss: 0.6816 - val_acc: 1.0000\n",
      "Epoch 108/300\n",
      "435/435 [==============================] - 2s 4ms/step - loss: 0.6814 - acc: 1.0000 - val_loss: 0.6812 - val_acc: 1.0000\n",
      "Epoch 109/300\n",
      "435/435 [==============================] - 2s 4ms/step - loss: 0.6810 - acc: 1.0000 - val_loss: 0.6808 - val_acc: 1.0000\n",
      "Epoch 110/300\n",
      "435/435 [==============================] - 2s 4ms/step - loss: 0.6806 - acc: 1.0000 - val_loss: 0.6804 - val_acc: 1.0000\n",
      "Epoch 111/300\n",
      "435/435 [==============================] - 2s 4ms/step - loss: 0.7079 - acc: 0.9989 - val_loss: 0.6800 - val_acc: 1.0000\n",
      "Epoch 112/300\n",
      "435/435 [==============================] - 2s 4ms/step - loss: 0.7617 - acc: 0.9977 - val_loss: 0.6796 - val_acc: 1.0000\n",
      "Epoch 113/300\n",
      "435/435 [==============================] - 2s 4ms/step - loss: 0.6794 - acc: 1.0000 - val_loss: 0.6792 - val_acc: 1.0000\n",
      "Epoch 114/300\n",
      "435/435 [==============================] - 2s 4ms/step - loss: 0.6791 - acc: 1.0000 - val_loss: 0.6788 - val_acc: 1.0000\n",
      "Epoch 115/300\n",
      "435/435 [==============================] - 2s 4ms/step - loss: 0.7360 - acc: 0.9977 - val_loss: 0.6786 - val_acc: 1.0000\n",
      "Epoch 116/300\n",
      "435/435 [==============================] - 2s 4ms/step - loss: 0.7334 - acc: 0.9989 - val_loss: 0.6784 - val_acc: 1.0000\n",
      "Epoch 117/300\n",
      "435/435 [==============================] - 2s 4ms/step - loss: 0.8568 - acc: 0.9920 - val_loss: 0.6785 - val_acc: 1.0000\n",
      "Epoch 118/300\n",
      "435/435 [==============================] - 2s 4ms/step - loss: 0.8454 - acc: 0.9931 - val_loss: 0.6782 - val_acc: 1.0000\n",
      "Epoch 119/300\n",
      "435/435 [==============================] - 2s 4ms/step - loss: 0.8450 - acc: 0.9931 - val_loss: 0.6778 - val_acc: 1.0000\n",
      "Epoch 120/300\n",
      "435/435 [==============================] - 2s 4ms/step - loss: 0.9280 - acc: 0.9897 - val_loss: 0.6775 - val_acc: 1.0000\n",
      "Epoch 121/300\n",
      "435/435 [==============================] - 2s 4ms/step - loss: 0.8444 - acc: 0.9931 - val_loss: 0.6771 - val_acc: 1.0000\n",
      "Epoch 122/300\n"
     ]
    },
    {
     "name": "stdout",
     "output_type": "stream",
     "text": [
      "435/435 [==============================] - 2s 4ms/step - loss: 0.8439 - acc: 0.9931 - val_loss: 0.6767 - val_acc: 1.0000\n",
      "Epoch 123/300\n",
      "435/435 [==============================] - 2s 4ms/step - loss: 0.8435 - acc: 0.9931 - val_loss: 0.6763 - val_acc: 1.0000\n",
      "Epoch 124/300\n",
      "435/435 [==============================] - 2s 4ms/step - loss: 0.8988 - acc: 0.9908 - val_loss: 0.6760 - val_acc: 1.0000\n",
      "Epoch 125/300\n",
      "435/435 [==============================] - 2s 4ms/step - loss: 0.8716 - acc: 0.9920 - val_loss: 0.6756 - val_acc: 1.0000\n",
      "Epoch 126/300\n",
      "435/435 [==============================] - 2s 4ms/step - loss: 0.6755 - acc: 1.0000 - val_loss: 0.6753 - val_acc: 1.0000\n",
      "Epoch 127/300\n",
      "435/435 [==============================] - 2s 4ms/step - loss: 0.6752 - acc: 1.0000 - val_loss: 0.6750 - val_acc: 1.0000\n",
      "Epoch 128/300\n",
      "435/435 [==============================] - 2s 4ms/step - loss: 0.7665 - acc: 0.9977 - val_loss: 0.6748 - val_acc: 1.0000\n",
      "Epoch 129/300\n",
      "435/435 [==============================] - 2s 4ms/step - loss: 0.7753 - acc: 0.9954 - val_loss: 0.6747 - val_acc: 1.0000\n",
      "Epoch 130/300\n",
      "435/435 [==============================] - 2s 4ms/step - loss: 0.6745 - acc: 1.0000 - val_loss: 0.6743 - val_acc: 1.0000\n",
      "Epoch 131/300\n",
      "435/435 [==============================] - 2s 4ms/step - loss: 0.7019 - acc: 0.9989 - val_loss: 0.6740 - val_acc: 1.0000\n",
      "Epoch 132/300\n",
      "435/435 [==============================] - 2s 4ms/step - loss: 0.6738 - acc: 1.0000 - val_loss: 0.6736 - val_acc: 1.0000\n",
      "Epoch 133/300\n",
      "435/435 [==============================] - 2s 4ms/step - loss: 0.6735 - acc: 1.0000 - val_loss: 0.6733 - val_acc: 1.0000\n",
      "Epoch 134/300\n",
      "435/435 [==============================] - 2s 4ms/step - loss: 0.6731 - acc: 1.0000 - val_loss: 0.6729 - val_acc: 1.0000\n",
      "Epoch 135/300\n",
      "435/435 [==============================] - 2s 4ms/step - loss: 0.6728 - acc: 1.0000 - val_loss: 0.6726 - val_acc: 1.0000\n",
      "Epoch 136/300\n",
      "435/435 [==============================] - 2s 4ms/step - loss: 0.7001 - acc: 0.9989 - val_loss: 0.6722 - val_acc: 1.0000\n",
      "Epoch 137/300\n",
      "435/435 [==============================] - 2s 4ms/step - loss: 0.6997 - acc: 0.9989 - val_loss: 0.6719 - val_acc: 1.0000\n",
      "Epoch 138/300\n",
      "435/435 [==============================] - 2s 4ms/step - loss: 0.6717 - acc: 1.0000 - val_loss: 0.6715 - val_acc: 1.0000\n",
      "Epoch 139/300\n",
      "435/435 [==============================] - 2s 4ms/step - loss: 0.6714 - acc: 1.0000 - val_loss: 0.6712 - val_acc: 1.0000\n",
      "Epoch 140/300\n",
      "435/435 [==============================] - 2s 4ms/step - loss: 0.6710 - acc: 1.0000 - val_loss: 0.6708 - val_acc: 1.0000\n",
      "Epoch 141/300\n",
      "435/435 [==============================] - 2s 4ms/step - loss: 0.6707 - acc: 1.0000 - val_loss: 0.6705 - val_acc: 1.0000\n",
      "Epoch 142/300\n",
      "435/435 [==============================] - 2s 4ms/step - loss: 0.6703 - acc: 1.0000 - val_loss: 0.6702 - val_acc: 1.0000\n",
      "Epoch 143/300\n",
      "435/435 [==============================] - 2s 4ms/step - loss: 0.6700 - acc: 1.0000 - val_loss: 0.6698 - val_acc: 1.0000\n",
      "Epoch 144/300\n",
      "435/435 [==============================] - 2s 4ms/step - loss: 0.7253 - acc: 0.9977 - val_loss: 0.6695 - val_acc: 1.0000\n",
      "Epoch 145/300\n",
      "435/435 [==============================] - 2s 4ms/step - loss: 0.6693 - acc: 1.0000 - val_loss: 0.6691 - val_acc: 1.0000\n",
      "Epoch 146/300\n",
      "435/435 [==============================] - 2s 4ms/step - loss: 0.6967 - acc: 0.9989 - val_loss: 0.6688 - val_acc: 1.0000\n",
      "Epoch 147/300\n",
      "435/435 [==============================] - 2s 4ms/step - loss: 0.6687 - acc: 1.0000 - val_loss: 0.6685 - val_acc: 1.0000\n",
      "Epoch 148/300\n",
      "435/435 [==============================] - 2s 4ms/step - loss: 0.7231 - acc: 0.9989 - val_loss: 0.6681 - val_acc: 1.0000\n",
      "Epoch 149/300\n",
      "435/435 [==============================] - 2s 4ms/step - loss: 0.6680 - acc: 1.0000 - val_loss: 0.6678 - val_acc: 1.0000\n",
      "Epoch 150/300\n",
      "435/435 [==============================] - 2s 4ms/step - loss: 0.6677 - acc: 1.0000 - val_loss: 0.6675 - val_acc: 1.0000\n",
      "Epoch 151/300\n",
      "435/435 [==============================] - 2s 4ms/step - loss: 0.6673 - acc: 1.0000 - val_loss: 0.6671 - val_acc: 1.0000\n",
      "Epoch 152/300\n",
      "435/435 [==============================] - 2s 4ms/step - loss: 0.6670 - acc: 1.0000 - val_loss: 0.6668 - val_acc: 1.0000\n",
      "Epoch 153/300\n",
      "435/435 [==============================] - 2s 4ms/step - loss: 0.7223 - acc: 0.9977 - val_loss: 0.6665 - val_acc: 1.0000\n",
      "Epoch 154/300\n",
      "435/435 [==============================] - 2s 5ms/step - loss: 0.6663 - acc: 1.0000 - val_loss: 0.6662 - val_acc: 1.0000\n",
      "Epoch 155/300\n",
      "435/435 [==============================] - 2s 5ms/step - loss: 0.7217 - acc: 0.9977 - val_loss: 0.6658 - val_acc: 1.0000\n",
      "Epoch 156/300\n",
      "435/435 [==============================] - 2s 4ms/step - loss: 0.8581 - acc: 0.9943 - val_loss: 0.6655 - val_acc: 1.0000\n",
      "Epoch 157/300\n",
      "435/435 [==============================] - 2s 4ms/step - loss: 0.6654 - acc: 1.0000 - val_loss: 0.6652 - val_acc: 1.0000\n",
      "Epoch 158/300\n",
      "435/435 [==============================] - 2s 4ms/step - loss: 0.6651 - acc: 1.0000 - val_loss: 0.6649 - val_acc: 1.0000\n",
      "Epoch 159/300\n",
      "435/435 [==============================] - 2s 4ms/step - loss: 0.6647 - acc: 1.0000 - val_loss: 0.6646 - val_acc: 1.0000\n",
      "Epoch 160/300\n",
      "435/435 [==============================] - 2s 4ms/step - loss: 0.6644 - acc: 1.0000 - val_loss: 0.6643 - val_acc: 1.0000\n",
      "Epoch 161/300\n",
      "435/435 [==============================] - 2s 4ms/step - loss: 0.6641 - acc: 1.0000 - val_loss: 0.6639 - val_acc: 1.0000\n",
      "Epoch 162/300\n",
      "435/435 [==============================] - 2s 4ms/step - loss: 0.7195 - acc: 0.9977 - val_loss: 0.6636 - val_acc: 1.0000\n",
      "Epoch 163/300\n",
      "435/435 [==============================] - 2s 4ms/step - loss: 0.6635 - acc: 1.0000 - val_loss: 0.6633 - val_acc: 1.0000\n",
      "Epoch 164/300\n",
      "435/435 [==============================] - 2s 4ms/step - loss: 0.6736 - acc: 0.9989 - val_loss: 0.6631 - val_acc: 1.0000\n",
      "Epoch 165/300\n",
      "435/435 [==============================] - 2s 4ms/step - loss: 0.8020 - acc: 0.9943 - val_loss: 0.6629 - val_acc: 1.0000\n",
      "Epoch 166/300\n",
      "435/435 [==============================] - 2s 4ms/step - loss: 0.8298 - acc: 0.9931 - val_loss: 0.6626 - val_acc: 1.0000\n",
      "Epoch 167/300\n",
      "435/435 [==============================] - 2s 4ms/step - loss: 0.8295 - acc: 0.9931 - val_loss: 0.6623 - val_acc: 1.0000\n",
      "Epoch 168/300\n",
      "435/435 [==============================] - 2s 4ms/step - loss: 0.7939 - acc: 0.9943 - val_loss: 0.6622 - val_acc: 1.0000\n",
      "Epoch 169/300\n",
      "435/435 [==============================] - 2s 4ms/step - loss: 0.8291 - acc: 0.9931 - val_loss: 0.6620 - val_acc: 1.0000\n",
      "Epoch 170/300\n",
      "435/435 [==============================] - 2s 4ms/step - loss: 0.8009 - acc: 0.9943 - val_loss: 0.6617 - val_acc: 1.0000\n",
      "Epoch 171/300\n",
      "435/435 [==============================] - 2s 4ms/step - loss: 0.8285 - acc: 0.9931 - val_loss: 0.6614 - val_acc: 1.0000\n",
      "Epoch 172/300\n",
      "435/435 [==============================] - 2s 4ms/step - loss: 0.8282 - acc: 0.9931 - val_loss: 0.6611 - val_acc: 1.0000\n",
      "Epoch 173/300\n",
      "435/435 [==============================] - 2s 4ms/step - loss: 0.8279 - acc: 0.9931 - val_loss: 0.6608 - val_acc: 1.0000\n",
      "Epoch 174/300\n",
      "435/435 [==============================] - 2s 4ms/step - loss: 0.7997 - acc: 0.9943 - val_loss: 0.6605 - val_acc: 1.0000\n",
      "Epoch 175/300\n",
      "435/435 [==============================] - 2s 4ms/step - loss: 0.8273 - acc: 0.9931 - val_loss: 0.6602 - val_acc: 1.0000\n",
      "Epoch 176/300\n",
      "435/435 [==============================] - 2s 4ms/step - loss: 0.7714 - acc: 0.9954 - val_loss: 0.6599 - val_acc: 1.0000\n",
      "Epoch 177/300\n",
      "435/435 [==============================] - 2s 4ms/step - loss: 0.7711 - acc: 0.9954 - val_loss: 0.6596 - val_acc: 1.0000\n",
      "Epoch 178/300\n",
      "435/435 [==============================] - 2s 4ms/step - loss: 0.8264 - acc: 0.9931 - val_loss: 0.6593 - val_acc: 1.0000\n",
      "Epoch 179/300\n",
      "435/435 [==============================] - 2s 4ms/step - loss: 0.8261 - acc: 0.9931 - val_loss: 0.6590 - val_acc: 1.0000\n",
      "Epoch 180/300\n",
      "435/435 [==============================] - 2s 4ms/step - loss: 0.7702 - acc: 0.9954 - val_loss: 0.6587 - val_acc: 1.0000\n",
      "Epoch 181/300\n",
      "435/435 [==============================] - 2s 4ms/step - loss: 0.8256 - acc: 0.9931 - val_loss: 0.6584 - val_acc: 1.0000\n",
      "Epoch 182/300\n",
      "435/435 [==============================] - 2s 4ms/step - loss: 0.8253 - acc: 0.9931 - val_loss: 0.6581 - val_acc: 1.0000\n"
     ]
    },
    {
     "name": "stdout",
     "output_type": "stream",
     "text": [
      "Epoch 183/300\n",
      "435/435 [==============================] - 2s 4ms/step - loss: 0.8250 - acc: 0.9931 - val_loss: 0.6578 - val_acc: 1.0000\n",
      "Epoch 184/300\n",
      "435/435 [==============================] - 2s 4ms/step - loss: 0.8247 - acc: 0.9931 - val_loss: 0.6576 - val_acc: 1.0000\n",
      "Epoch 185/300\n",
      "435/435 [==============================] - 2s 4ms/step - loss: 0.6851 - acc: 0.9989 - val_loss: 0.6573 - val_acc: 1.0000\n",
      "Epoch 186/300\n",
      "435/435 [==============================] - 2s 4ms/step - loss: 0.7961 - acc: 0.9943 - val_loss: 0.6570 - val_acc: 1.0000\n",
      "Epoch 187/300\n",
      "435/435 [==============================] - 2s 4ms/step - loss: 0.7682 - acc: 0.9954 - val_loss: 0.6567 - val_acc: 1.0000\n",
      "Epoch 188/300\n",
      "435/435 [==============================] - 2s 4ms/step - loss: 0.8236 - acc: 0.9931 - val_loss: 0.6564 - val_acc: 1.0000\n",
      "Epoch 189/300\n",
      "435/435 [==============================] - 2s 4ms/step - loss: 0.8233 - acc: 0.9931 - val_loss: 0.6561 - val_acc: 1.0000\n",
      "Epoch 190/300\n",
      "435/435 [==============================] - 2s 4ms/step - loss: 0.7393 - acc: 0.9966 - val_loss: 0.6559 - val_acc: 1.0000\n",
      "Epoch 191/300\n",
      "435/435 [==============================] - 2s 4ms/step - loss: 0.8504 - acc: 0.9920 - val_loss: 0.6556 - val_acc: 1.0000\n",
      "Epoch 192/300\n",
      "435/435 [==============================] - 2s 4ms/step - loss: 0.7944 - acc: 0.9943 - val_loss: 0.6553 - val_acc: 1.0000\n",
      "Epoch 193/300\n",
      "435/435 [==============================] - 2s 4ms/step - loss: 0.8221 - acc: 0.9931 - val_loss: 0.6550 - val_acc: 1.0000\n",
      "Epoch 194/300\n",
      "435/435 [==============================] - 2s 4ms/step - loss: 0.7662 - acc: 0.9954 - val_loss: 0.6547 - val_acc: 1.0000\n",
      "Epoch 195/300\n",
      "435/435 [==============================] - 2s 4ms/step - loss: 0.7659 - acc: 0.9954 - val_loss: 0.6545 - val_acc: 1.0000\n",
      "Epoch 196/300\n",
      "435/435 [==============================] - 2s 4ms/step - loss: 0.7936 - acc: 0.9943 - val_loss: 0.6542 - val_acc: 1.0000\n",
      "Epoch 197/300\n",
      "435/435 [==============================] - 2s 4ms/step - loss: 0.7654 - acc: 0.9954 - val_loss: 0.6539 - val_acc: 1.0000\n",
      "Epoch 198/300\n",
      "435/435 [==============================] - 2s 4ms/step - loss: 0.7651 - acc: 0.9954 - val_loss: 0.6536 - val_acc: 1.0000\n",
      "Epoch 199/300\n",
      "435/435 [==============================] - 2s 4ms/step - loss: 0.8205 - acc: 0.9931 - val_loss: 0.6534 - val_acc: 1.0000\n",
      "Epoch 200/300\n",
      "435/435 [==============================] - 2s 4ms/step - loss: 0.7366 - acc: 0.9966 - val_loss: 0.6531 - val_acc: 1.0000\n",
      "Epoch 201/300\n",
      "435/435 [==============================] - 2s 4ms/step - loss: 0.8199 - acc: 0.9931 - val_loss: 0.6528 - val_acc: 1.0000\n",
      "Epoch 202/300\n",
      "435/435 [==============================] - 2s 4ms/step - loss: 0.7920 - acc: 0.9943 - val_loss: 0.6526 - val_acc: 1.0000\n",
      "Epoch 203/300\n",
      "435/435 [==============================] - 2s 4ms/step - loss: 0.8127 - acc: 0.9931 - val_loss: 0.6523 - val_acc: 1.0000\n",
      "Epoch 204/300\n",
      "435/435 [==============================] - 2s 4ms/step - loss: 0.8192 - acc: 0.9931 - val_loss: 0.6521 - val_acc: 1.0000\n",
      "Epoch 205/300\n",
      "435/435 [==============================] - 2s 4ms/step - loss: 0.7633 - acc: 0.9954 - val_loss: 0.6518 - val_acc: 1.0000\n",
      "Epoch 206/300\n",
      "435/435 [==============================] - 2s 4ms/step - loss: 0.7074 - acc: 0.9977 - val_loss: 0.6516 - val_acc: 1.0000\n",
      "Epoch 207/300\n",
      "435/435 [==============================] - 2s 4ms/step - loss: 0.7664 - acc: 0.9943 - val_loss: 0.6514 - val_acc: 1.0000\n",
      "Epoch 208/300\n",
      "435/435 [==============================] - 2s 4ms/step - loss: 0.7346 - acc: 0.9966 - val_loss: 0.6512 - val_acc: 1.0000\n",
      "Epoch 209/300\n",
      "435/435 [==============================] - 2s 4ms/step - loss: 0.7621 - acc: 0.9954 - val_loss: 0.6509 - val_acc: 1.0000\n",
      "Epoch 210/300\n",
      "435/435 [==============================] - 2s 4ms/step - loss: 0.7621 - acc: 0.9954 - val_loss: 0.6506 - val_acc: 1.0000\n",
      "Epoch 211/300\n",
      "435/435 [==============================] - 2s 4ms/step - loss: 0.7342 - acc: 0.9966 - val_loss: 0.6504 - val_acc: 1.0000\n",
      "Epoch 212/300\n",
      "435/435 [==============================] - 2s 4ms/step - loss: 0.7893 - acc: 0.9943 - val_loss: 0.6501 - val_acc: 1.0000\n",
      "Epoch 213/300\n",
      "435/435 [==============================] - 2s 4ms/step - loss: 0.7613 - acc: 0.9954 - val_loss: 0.6499 - val_acc: 1.0000\n",
      "Epoch 214/300\n",
      "435/435 [==============================] - 2s 4ms/step - loss: 0.7054 - acc: 0.9977 - val_loss: 0.6496 - val_acc: 1.0000\n",
      "Epoch 215/300\n",
      "435/435 [==============================] - 2s 4ms/step - loss: 0.7885 - acc: 0.9943 - val_loss: 0.6493 - val_acc: 1.0000\n",
      "Epoch 216/300\n",
      "435/435 [==============================] - 2s 4ms/step - loss: 0.7605 - acc: 0.9954 - val_loss: 0.6491 - val_acc: 1.0000\n",
      "Epoch 217/300\n",
      "435/435 [==============================] - 2s 4ms/step - loss: 0.7880 - acc: 0.9943 - val_loss: 0.6488 - val_acc: 1.0000\n",
      "Epoch 218/300\n",
      "435/435 [==============================] - 2s 4ms/step - loss: 0.7877 - acc: 0.9943 - val_loss: 0.6486 - val_acc: 1.0000\n",
      "Epoch 219/300\n",
      "435/435 [==============================] - 2s 4ms/step - loss: 0.8377 - acc: 0.9920 - val_loss: 0.6484 - val_acc: 1.0000\n",
      "Epoch 220/300\n",
      "435/435 [==============================] - 2s 4ms/step - loss: 0.8154 - acc: 0.9931 - val_loss: 0.6483 - val_acc: 1.0000\n",
      "Epoch 221/300\n",
      "435/435 [==============================] - 2s 4ms/step - loss: 0.6482 - acc: 1.0000 - val_loss: 0.6480 - val_acc: 1.0000\n",
      "Epoch 222/300\n",
      "435/435 [==============================] - 2s 4ms/step - loss: 0.7869 - acc: 0.9943 - val_loss: 0.6478 - val_acc: 1.0000\n",
      "Epoch 223/300\n",
      "435/435 [==============================] - 2s 4ms/step - loss: 0.7033 - acc: 0.9977 - val_loss: 0.6475 - val_acc: 1.0000\n",
      "Epoch 224/300\n",
      "435/435 [==============================] - 2s 4ms/step - loss: 0.6751 - acc: 0.9989 - val_loss: 0.6473 - val_acc: 1.0000\n",
      "Epoch 225/300\n",
      "435/435 [==============================] - 2s 4ms/step - loss: 0.7028 - acc: 0.9977 - val_loss: 0.6470 - val_acc: 1.0000\n",
      "Epoch 226/300\n",
      "435/435 [==============================] - 2s 4ms/step - loss: 0.7583 - acc: 0.9954 - val_loss: 0.6468 - val_acc: 1.0000\n",
      "Epoch 227/300\n",
      "435/435 [==============================] - 2s 4ms/step - loss: 0.7580 - acc: 0.9954 - val_loss: 0.6466 - val_acc: 1.0000\n",
      "Epoch 228/300\n",
      "435/435 [==============================] - 2s 4ms/step - loss: 0.6744 - acc: 0.9989 - val_loss: 0.6463 - val_acc: 1.0000\n",
      "Epoch 229/300\n",
      "435/435 [==============================] - 2s 4ms/step - loss: 0.6739 - acc: 0.9989 - val_loss: 0.6461 - val_acc: 1.0000\n",
      "Epoch 230/300\n",
      "435/435 [==============================] - 2s 4ms/step - loss: 0.6736 - acc: 0.9989 - val_loss: 0.6458 - val_acc: 1.0000\n",
      "Epoch 231/300\n",
      "435/435 [==============================] - 2s 4ms/step - loss: 0.7290 - acc: 0.9966 - val_loss: 0.6456 - val_acc: 1.0000\n",
      "Epoch 232/300\n",
      "435/435 [==============================] - 2s 4ms/step - loss: 0.7568 - acc: 0.9954 - val_loss: 0.6453 - val_acc: 1.0000\n",
      "Epoch 233/300\n",
      "435/435 [==============================] - 2s 4ms/step - loss: 0.7009 - acc: 0.9977 - val_loss: 0.6451 - val_acc: 1.0000\n",
      "Epoch 234/300\n",
      "435/435 [==============================] - 2s 4ms/step - loss: 0.7555 - acc: 0.9966 - val_loss: 0.6448 - val_acc: 1.0000\n",
      "Epoch 235/300\n",
      "435/435 [==============================] - 2s 4ms/step - loss: 0.6447 - acc: 1.0000 - val_loss: 0.6446 - val_acc: 1.0000\n",
      "Epoch 236/300\n",
      "435/435 [==============================] - 2s 4ms/step - loss: 0.7002 - acc: 0.9977 - val_loss: 0.6444 - val_acc: 1.0000\n",
      "Epoch 237/300\n",
      "435/435 [==============================] - 2s 4ms/step - loss: 0.6999 - acc: 0.9977 - val_loss: 0.6441 - val_acc: 1.0000\n",
      "Epoch 238/300\n",
      "435/435 [==============================] - 2s 4ms/step - loss: 0.6997 - acc: 0.9977 - val_loss: 0.6439 - val_acc: 1.0000\n",
      "Epoch 239/300\n",
      "435/435 [==============================] - 2s 4ms/step - loss: 0.6991 - acc: 0.9977 - val_loss: 0.6437 - val_acc: 1.0000\n",
      "Epoch 240/300\n",
      "435/435 [==============================] - 2s 4ms/step - loss: 0.6435 - acc: 1.0000 - val_loss: 0.6434 - val_acc: 1.0000\n",
      "Epoch 241/300\n",
      "435/435 [==============================] - 2s 4ms/step - loss: 0.7546 - acc: 0.9954 - val_loss: 0.6432 - val_acc: 1.0000\n",
      "Epoch 242/300\n",
      "435/435 [==============================] - 2s 4ms/step - loss: 0.6987 - acc: 0.9977 - val_loss: 0.6429 - val_acc: 1.0000\n",
      "Epoch 243/300\n"
     ]
    },
    {
     "name": "stdout",
     "output_type": "stream",
     "text": [
      "435/435 [==============================] - 2s 4ms/step - loss: 0.6428 - acc: 1.0000 - val_loss: 0.6427 - val_acc: 1.0000\n",
      "Epoch 244/300\n",
      "435/435 [==============================] - 2s 4ms/step - loss: 0.8096 - acc: 0.9931 - val_loss: 0.6425 - val_acc: 1.0000\n",
      "Epoch 245/300\n",
      "435/435 [==============================] - 2s 4ms/step - loss: 0.7257 - acc: 0.9966 - val_loss: 0.6422 - val_acc: 1.0000\n",
      "Epoch 246/300\n",
      "435/435 [==============================] - 2s 4ms/step - loss: 0.6978 - acc: 0.9977 - val_loss: 0.6420 - val_acc: 1.0000\n",
      "Epoch 247/300\n",
      "435/435 [==============================] - 2s 4ms/step - loss: 0.6976 - acc: 0.9977 - val_loss: 0.6418 - val_acc: 1.0000\n",
      "Epoch 248/300\n",
      "435/435 [==============================] - 2s 4ms/step - loss: 0.6973 - acc: 0.9977 - val_loss: 0.6415 - val_acc: 1.0000\n",
      "Epoch 249/300\n",
      "435/435 [==============================] - 2s 4ms/step - loss: 0.6691 - acc: 0.9989 - val_loss: 0.6413 - val_acc: 1.0000\n",
      "Epoch 250/300\n",
      "435/435 [==============================] - 2s 4ms/step - loss: 0.6969 - acc: 0.9977 - val_loss: 0.6411 - val_acc: 1.0000\n",
      "Epoch 251/300\n",
      "435/435 [==============================] - 2s 4ms/step - loss: 0.7509 - acc: 0.9966 - val_loss: 0.6409 - val_acc: 1.0000\n",
      "Epoch 252/300\n",
      "435/435 [==============================] - 2s 4ms/step - loss: 0.6964 - acc: 0.9977 - val_loss: 0.6406 - val_acc: 1.0000\n",
      "Epoch 253/300\n",
      "435/435 [==============================] - 2s 4ms/step - loss: 0.7795 - acc: 0.9943 - val_loss: 0.6404 - val_acc: 1.0000\n",
      "Epoch 254/300\n",
      "435/435 [==============================] - 2s 4ms/step - loss: 0.7516 - acc: 0.9954 - val_loss: 0.6402 - val_acc: 1.0000\n",
      "Epoch 255/300\n",
      "435/435 [==============================] - 2s 4ms/step - loss: 0.6401 - acc: 1.0000 - val_loss: 0.6400 - val_acc: 1.0000\n",
      "Epoch 256/300\n",
      "435/435 [==============================] - 2s 4ms/step - loss: 0.7512 - acc: 0.9954 - val_loss: 0.6397 - val_acc: 1.0000\n",
      "Epoch 257/300\n",
      "435/435 [==============================] - 2s 4ms/step - loss: 0.6673 - acc: 0.9989 - val_loss: 0.6395 - val_acc: 1.0000\n",
      "Epoch 258/300\n",
      "435/435 [==============================] - 2s 4ms/step - loss: 0.7507 - acc: 0.9954 - val_loss: 0.6393 - val_acc: 1.0000\n",
      "Epoch 259/300\n",
      "435/435 [==============================] - 2s 4ms/step - loss: 0.7505 - acc: 0.9954 - val_loss: 0.6391 - val_acc: 1.0000\n",
      "Epoch 260/300\n",
      "435/435 [==============================] - 2s 4ms/step - loss: 0.6666 - acc: 0.9989 - val_loss: 0.6388 - val_acc: 1.0000\n",
      "Epoch 261/300\n",
      "435/435 [==============================] - 2s 4ms/step - loss: 0.7224 - acc: 0.9966 - val_loss: 0.6386 - val_acc: 1.0000\n",
      "Epoch 262/300\n",
      "435/435 [==============================] - 2s 4ms/step - loss: 0.6942 - acc: 0.9977 - val_loss: 0.6384 - val_acc: 1.0000\n",
      "Epoch 263/300\n",
      "435/435 [==============================] - 2s 4ms/step - loss: 0.7219 - acc: 0.9966 - val_loss: 0.6382 - val_acc: 1.0000\n",
      "Epoch 264/300\n",
      "435/435 [==============================] - 2s 4ms/step - loss: 0.6937 - acc: 0.9977 - val_loss: 0.6380 - val_acc: 1.0000\n",
      "Epoch 265/300\n",
      "435/435 [==============================] - 2s 4ms/step - loss: 0.6655 - acc: 0.9989 - val_loss: 0.6377 - val_acc: 1.0000\n",
      "Epoch 266/300\n",
      "435/435 [==============================] - 2s 4ms/step - loss: 0.6933 - acc: 0.9977 - val_loss: 0.6375 - val_acc: 1.0000\n",
      "Epoch 267/300\n",
      "435/435 [==============================] - 2s 4ms/step - loss: 0.6931 - acc: 0.9977 - val_loss: 0.6373 - val_acc: 1.0000\n",
      "Epoch 268/300\n",
      "435/435 [==============================] - 2s 4ms/step - loss: 0.6929 - acc: 0.9977 - val_loss: 0.6371 - val_acc: 1.0000\n",
      "Epoch 269/300\n",
      "435/435 [==============================] - 2s 4ms/step - loss: 0.7483 - acc: 0.9954 - val_loss: 0.6369 - val_acc: 1.0000\n",
      "Epoch 270/300\n",
      "435/435 [==============================] - 2s 4ms/step - loss: 0.7481 - acc: 0.9954 - val_loss: 0.6366 - val_acc: 1.0000\n",
      "Epoch 271/300\n",
      "435/435 [==============================] - 2s 4ms/step - loss: 0.7202 - acc: 0.9966 - val_loss: 0.6364 - val_acc: 1.0000\n",
      "Epoch 272/300\n",
      "435/435 [==============================] - 2s 4ms/step - loss: 0.7197 - acc: 0.9966 - val_loss: 0.6362 - val_acc: 1.0000\n",
      "Epoch 273/300\n",
      "435/435 [==============================] - 2s 4ms/step - loss: 0.6361 - acc: 1.0000 - val_loss: 0.6360 - val_acc: 1.0000\n",
      "Epoch 274/300\n",
      "435/435 [==============================] - 2s 4ms/step - loss: 0.6359 - acc: 1.0000 - val_loss: 0.6358 - val_acc: 1.0000\n",
      "Epoch 275/300\n",
      "435/435 [==============================] - 2s 4ms/step - loss: 0.6914 - acc: 0.9977 - val_loss: 0.6356 - val_acc: 1.0000\n",
      "Epoch 276/300\n",
      "435/435 [==============================] - 2s 4ms/step - loss: 0.6355 - acc: 1.0000 - val_loss: 0.6354 - val_acc: 1.0000\n",
      "Epoch 277/300\n",
      "435/435 [==============================] - 2s 4ms/step - loss: 0.7189 - acc: 0.9966 - val_loss: 0.6352 - val_acc: 1.0000\n",
      "Epoch 278/300\n",
      "435/435 [==============================] - 2s 4ms/step - loss: 0.7741 - acc: 0.9943 - val_loss: 0.6349 - val_acc: 1.0000\n",
      "Epoch 279/300\n",
      "435/435 [==============================] - 2s 4ms/step - loss: 0.6905 - acc: 0.9977 - val_loss: 0.6347 - val_acc: 1.0000\n",
      "Epoch 280/300\n",
      "435/435 [==============================] - 2s 4ms/step - loss: 0.6626 - acc: 0.9989 - val_loss: 0.6345 - val_acc: 1.0000\n",
      "Epoch 281/300\n",
      "435/435 [==============================] - 2s 4ms/step - loss: 0.7458 - acc: 0.9954 - val_loss: 0.6343 - val_acc: 1.0000\n",
      "Epoch 282/300\n",
      "435/435 [==============================] - 2s 4ms/step - loss: 0.7455 - acc: 0.9954 - val_loss: 0.6341 - val_acc: 1.0000\n",
      "Epoch 283/300\n",
      "435/435 [==============================] - 2s 4ms/step - loss: 0.6620 - acc: 0.9989 - val_loss: 0.6339 - val_acc: 1.0000\n",
      "Epoch 284/300\n",
      "435/435 [==============================] - 2s 4ms/step - loss: 0.6895 - acc: 0.9977 - val_loss: 0.6337 - val_acc: 1.0000\n",
      "Epoch 285/300\n",
      "435/435 [==============================] - 2s 4ms/step - loss: 0.6893 - acc: 0.9977 - val_loss: 0.6335 - val_acc: 1.0000\n",
      "Epoch 286/300\n",
      "435/435 [==============================] - 2s 4ms/step - loss: 0.6334 - acc: 1.0000 - val_loss: 0.6333 - val_acc: 1.0000\n",
      "Epoch 287/300\n",
      "435/435 [==============================] - 2s 4ms/step - loss: 0.7445 - acc: 0.9954 - val_loss: 0.6331 - val_acc: 1.0000\n",
      "Epoch 288/300\n",
      "435/435 [==============================] - 2s 4ms/step - loss: 0.6607 - acc: 0.9989 - val_loss: 0.6329 - val_acc: 1.0000\n",
      "Epoch 289/300\n",
      "435/435 [==============================] - 2s 5ms/step - loss: 0.7164 - acc: 0.9966 - val_loss: 0.6327 - val_acc: 1.0000\n",
      "Epoch 290/300\n",
      "435/435 [==============================] - 2s 4ms/step - loss: 0.6882 - acc: 0.9977 - val_loss: 0.6325 - val_acc: 1.0000\n",
      "Epoch 291/300\n",
      "435/435 [==============================] - 2s 4ms/step - loss: 0.7717 - acc: 0.9943 - val_loss: 0.6323 - val_acc: 1.0000\n",
      "Epoch 292/300\n",
      "435/435 [==============================] - 2s 4ms/step - loss: 0.6322 - acc: 1.0000 - val_loss: 0.6321 - val_acc: 1.0000\n",
      "Epoch 293/300\n",
      "435/435 [==============================] - 2s 4ms/step - loss: 0.6320 - acc: 1.0000 - val_loss: 0.6319 - val_acc: 1.0000\n",
      "Epoch 294/300\n",
      "435/435 [==============================] - 2s 4ms/step - loss: 0.6874 - acc: 0.9977 - val_loss: 0.6317 - val_acc: 1.0000\n",
      "Epoch 295/300\n",
      "435/435 [==============================] - 2s 4ms/step - loss: 0.6872 - acc: 0.9977 - val_loss: 0.6315 - val_acc: 1.0000\n",
      "Epoch 296/300\n",
      "435/435 [==============================] - 2s 4ms/step - loss: 0.6870 - acc: 0.9977 - val_loss: 0.6313 - val_acc: 1.0000\n",
      "Epoch 297/300\n",
      "435/435 [==============================] - 2s 4ms/step - loss: 0.6312 - acc: 1.0000 - val_loss: 0.6311 - val_acc: 1.0000\n",
      "Epoch 298/300\n",
      "435/435 [==============================] - 2s 4ms/step - loss: 0.7143 - acc: 0.9966 - val_loss: 0.6309 - val_acc: 1.0000\n",
      "Epoch 299/300\n",
      "435/435 [==============================] - 2s 4ms/step - loss: 0.6864 - acc: 0.9977 - val_loss: 0.6307 - val_acc: 1.0000\n",
      "Epoch 300/300\n",
      "435/435 [==============================] - 2s 4ms/step - loss: 0.6862 - acc: 0.9977 - val_loss: 0.6305 - val_acc: 1.0000\n"
     ]
    }
   ],
   "source": [
    "history = cq_crepe_model.fit([train_cq_input, train_aug_cq_input, train_crepe_input],[to_categorical(y_train)], \n",
    "                         epochs=300,verbose=1, batch_size=18,\n",
    "                         validation_data=([test_cq_input, test_aug_cq_input,crepe_test_input], to_categorical(y_test)), \n",
    "                         callbacks=[reduce_lr], shuffle=True,\n",
    "                         class_weight=class_weight, \n",
    "                         sample_weight=None)"
   ]
  },
  {
   "cell_type": "code",
   "execution_count": 467,
   "metadata": {},
   "outputs": [],
   "source": [
    "# Save Model\n",
    "#cq_crepe_model.save('_Model_Machine_Tooling_12_3.h5')"
   ]
  },
  {
   "cell_type": "markdown",
   "metadata": {},
   "source": [
    "#### Graph the results"
   ]
  },
  {
   "cell_type": "code",
   "execution_count": 468,
   "metadata": {},
   "outputs": [
    {
     "data": {
      "image/png": "[encoded data removed]",
      "text/plain": [
       "<Figure size 800x550 with 1 Axes>"
      ]
     },
     "metadata": {},
     "output_type": "display_data"
    }
   ],
   "source": [
    "import matplotlib.pyplot as plt\n",
    "#Accuracy\n",
    "plt.plot(history.history['acc'])\n",
    "plt.plot(history.history['val_acc'])\n",
    "plt.title('model accuracy')\n",
    "plt.ylabel('accuracy')\n",
    "plt.xlabel('epoch')\n",
    "plt.legend(['train', 'validation'], loc='upper left')\n",
    "plt.show()\n"
   ]
  },
  {
   "cell_type": "code",
   "execution_count": 469,
   "metadata": {},
   "outputs": [
    {
     "data": {
      "image/png": "[encoded data removed]",
      "text/plain": [
       "<Figure size 800x550 with 1 Axes>"
      ]
     },
     "metadata": {},
     "output_type": "display_data"
    }
   ],
   "source": [
    "# \"Loss\"\n",
    "plt.clf()\n",
    "plt.plot(history.history['loss'])\n",
    "plt.plot(history.history['val_loss'])\n",
    "plt.title('model loss')\n",
    "plt.ylabel('loss')\n",
    "plt.xlabel('epoch')\n",
    "plt.legend(['train', 'validation'], loc='upper left')\n",
    "plt.show()"
   ]
  },
  {
   "cell_type": "code",
   "execution_count": 470,
   "metadata": {},
   "outputs": [
    {
     "name": "stdout",
     "output_type": "stream",
     "text": [
      "114/114 [==============================] - 0s 1ms/step\n"
     ]
    },
    {
     "data": {
      "text/plain": [
       "[0.6304644346237183, 1.0]"
      ]
     },
     "execution_count": 470,
     "metadata": {},
     "output_type": "execute_result"
    }
   ],
   "source": [
    "cq_crepe_model.evaluate([test_cq_input, test_aug_cq_input, crepe_test_input],y_test_labels)"
   ]
  },
  {
   "cell_type": "markdown",
   "metadata": {},
   "source": [
    "#### Confusion Matrix"
   ]
  },
  {
   "cell_type": "code",
   "execution_count": 471,
   "metadata": {
    "scrolled": true
   },
   "outputs": [
    {
     "data": {
      "image/png": "[encoded data removed]",
      "text/plain": [
       "<Figure size 800x550 with 2 Axes>"
      ]
     },
     "metadata": {},
     "output_type": "display_data"
    },
    {
     "name": "stdout",
     "output_type": "stream",
     "text": [
      "             precision    recall  f1-score   support\n",
      "\n",
      "        0.0       1.00      1.00      1.00        39\n",
      "        1.0       1.00      1.00      1.00        75\n",
      "\n",
      "avg / total       1.00      1.00      1.00       114\n",
      "\n"
     ]
    }
   ],
   "source": [
    "plt.style.use('default')\n",
    "#plt.margins(1)\n",
    "import matplotlib as mpl\n",
    "import importlib\n",
    "import matplotlib\n",
    "import seaborn as sns\n",
    "\n",
    "sns.set()\n",
    "plt.style.use('seaborn')    \n",
    "sns.set_context(\"paper\", rc={\"font.size\":8,\"axes.titlesize\":8,\"axes.labelsize\":5})   \n",
    "\n",
    "preds =np.argmax(cq_crepe_model.predict([test_cq_input, test_aug_cq_input, crepe_test_input]), axis=1)\n",
    "cm = confusion_matrix(y_test.tolist(), preds.tolist())\n",
    "\n",
    "sns.set(style=\"whitegrid\", font_scale=1.5) \n",
    "akws = {\"ha\": 'center',\"va\": 'center', 'size':7}\n",
    "ax = sns.heatmap(cm,  annot=True, fmt='d',annot_kws=akws)\n",
    "\n",
    "ax.set_title('Confusion Matrix - Machine Tooling Speed Diagnostics', fontsize=10)\n",
    "ax.xaxis.set_ticklabels(['Correct', 'Too Fast'], fontsize=8)\n",
    "ax.yaxis.set_ticklabels(['Correct', 'Too Fast'], fontsize=8)\n",
    "ax.set(xlabel='Predicted Class', ylabel='True Class')\n",
    "\n",
    "    \n",
    "plt.show()\n",
    "print(classification_report(y_test.tolist(), preds.tolist()))"
   ]
  },
  {
   "cell_type": "code",
   "execution_count": 472,
   "metadata": {},
   "outputs": [
    {
     "data": {
      "text/plain": [
       "array([[39,  0],\n",
       "       [ 0, 75]], dtype=int64)"
      ]
     },
     "execution_count": 472,
     "metadata": {},
     "output_type": "execute_result"
    }
   ],
   "source": [
    "cm"
   ]
  },
  {
   "cell_type": "markdown",
   "metadata": {},
   "source": [
    "# The End"
   ]
  },
  {
   "cell_type": "code",
   "execution_count": null,
   "metadata": {},
   "outputs": [],
   "source": []
  }
 ],
 "metadata": {
  "kernelspec": {
   "display_name": "Python [conda env:amlrealtimeai] *",
   "language": "python",
   "name": "conda-env-amlrealtimeai-py"
  },
  "language_info": {
   "codemirror_mode": {
    "name": "ipython",
    "version": 3
   },
   "file_extension": ".py",
   "mimetype": "text/x-python",
   "name": "python",
   "nbconvert_exporter": "python",
   "pygments_lexer": "ipython3",
   "version": "3.6.9"
  }
 },
 "nbformat": 4,
 "nbformat_minor": 2
}
